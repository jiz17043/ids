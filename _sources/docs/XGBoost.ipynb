{
 "cells": [
  {
   "cell_type": "markdown",
   "id": "cca1536f",
   "metadata": {},
   "source": [
    "## XGBoost"
   ]
  },
  {
   "cell_type": "markdown",
   "id": "7acd7f89",
   "metadata": {},
   "source": [
    "### What is XGBoost?"
   ]
  },
  {
   "cell_type": "markdown",
   "id": "2261b874",
   "metadata": {},
   "source": [
    "XGBoost (Extreme Gradient Boosting) belongs to a family of boosting algorithms and uses the gradient boosting (GBM) framework at its core. It is an optimized distributed gradient boosting library."
   ]
  },
  {
   "cell_type": "markdown",
   "id": "bf805802",
   "metadata": {},
   "source": [
    "### What is Boosting?"
   ]
  },
  {
   "cell_type": "markdown",
   "id": "f3d617f1",
   "metadata": {},
   "source": [
    "Boosting is a sequential technique which works on the principle of an ensemble. It combines a set of weak learners and delivers improved prediction accuracy. At any instant t, the model outcomes are weighed based on the outcomes of previous instant t-1. The outcomes predicted correctly are given a lower weight and the ones miss-classified are weighted higher. Note that a weak learner is one which is slightly better than random guessing. The basic idea behind boosting algorithms is building a weak model, making conclusions about the various feature importance and parameters, and then using those conclusions to build a new, stronger model and capitalize on the misclassification error of the previous model and try to reduce it. Now, let's come to XGBoost. To begin with, you should know about the default base learners of XGBoost: tree ensembles. The tree ensemble model is a set of classification and regression trees (CART). Trees are grown one after another ,and attempts to reduce the misclassification rate are made in subsequent iterations. Each tree gives a different prediction score depending on the data it sees and the scores of each individual tree are summed up to get the final score."
   ]
  },
  {
   "cell_type": "markdown",
   "id": "a7539ed3",
   "metadata": {},
   "source": [
    "### What makes XGBoost so popular?"
   ]
  },
  {
   "cell_type": "markdown",
   "id": "1eeda614",
   "metadata": {},
   "source": [
    "- Speed and performance : It is comparatively faster than other ensemble classifiers.\n",
    "\n",
    "- Core algorithm is parallelizable : It can use the power of multi-core computers. It is also parallelizable onto GPU’s and across networks of computers making it feasible to train on very large datasets as well.\n",
    "\n",
    "- Consistently outperforms other algorithm methods : It has shown better performance on a variety of machine learning benchmark datasets.\n",
    "\n",
    "- Wide variety of tuning parameters : XGBoost internally has parameters for cross-validation, regularization, user-defined objective functions, missing values, tree parameters, scikit-learn compatible API etc."
   ]
  },
  {
   "cell_type": "markdown",
   "id": "d027a3b3",
   "metadata": {},
   "source": [
    "We will be using the credit card fraud data as an example to see how XGBoost works."
   ]
  },
  {
   "cell_type": "markdown",
   "id": "b086179e",
   "metadata": {},
   "source": [
    "### Importing Packages"
   ]
  },
  {
   "cell_type": "markdown",
   "id": "eab9696c",
   "metadata": {},
   "source": [
    "We will be using the following packages: Pandas to manipulate data, NumPy to manipulate arrays, scikit-learn for spliting the data into train and test, building and evaluating the classification models, and xgboost to use the xgboost classifier model algorithm."
   ]
  },
  {
   "cell_type": "code",
   "execution_count": null,
   "id": "c58991cb",
   "metadata": {},
   "outputs": [],
   "source": [
    "import pandas as pd \n",
    "import numpy as np \n",
    "import matplotlib.pyplot as plt \n",
    "import itertools # advanced tools\n",
    "\n",
    "from sklearn.preprocessing import StandardScaler\n",
    "from sklearn.model_selection import train_test_split\n",
    "import xgboost as xgb\n",
    "\n",
    "from sklearn.metrics import accuracy_score \n",
    "from sklearn.metrics import f1_score\n",
    "from sklearn.metrics import mean_squared_error"
   ]
  },
  {
   "cell_type": "markdown",
   "id": "8898c1f2",
   "metadata": {},
   "source": [
    "### Importing Dataset"
   ]
  },
  {
   "cell_type": "markdown",
   "id": "2e69845e",
   "metadata": {},
   "source": [
    "The variables V1 to V28 in the data are the principal components obtained by PCA. Since the variable time does not help our modeling we are going to remove it from our data. The variable ‘Amount’ contains the total amount of money being transacted and the variable ‘Class’ contains the information whether the transaction is a fraudulent one or not."
   ]
  },
  {
   "cell_type": "code",
   "execution_count": null,
   "id": "fb769816",
   "metadata": {},
   "outputs": [],
   "source": [
    "data = pd.read_csv('../data/creditcard.csv')\n",
    "data.drop('Time', axis = 1, inplace = True)\n",
    "\n",
    "print(data.head())"
   ]
  },
  {
   "cell_type": "markdown",
   "id": "de282a4e",
   "metadata": {},
   "source": [
    "### Exploratory data analysis"
   ]
  },
  {
   "cell_type": "markdown",
   "id": "0929b8a7",
   "metadata": {},
   "source": [
    "Next we look at the number of fraudulent and non-fraudulent cases that are present in our dataset and also compute the percentage of fraudulent cases."
   ]
  },
  {
   "cell_type": "code",
   "execution_count": null,
   "id": "734cc7a6",
   "metadata": {},
   "outputs": [],
   "source": [
    "cases = len(data)\n",
    "nonfraud_count = len(data[data.Class == 0])\n",
    "fraud_count = len(data[data.Class == 1])\n",
    "fraud_percentage = round(fraud_count/nonfraud_count*100, 2)\n",
    "\n",
    "print('CASE COUNT')\n",
    "print('--------------------------------------------')\n",
    "print('Total number of cases are {}'.format(cases))\n",
    "print('Number of Non-fraud cases are {}'.format(nonfraud_count))\n",
    "print('Number of fraud cases are {}'.format(fraud_count))\n",
    "print('Percentage of fraud cases is {}'.format(fraud_percentage))\n",
    "print('--------------------------------------------')"
   ]
  },
  {
   "cell_type": "code",
   "execution_count": null,
   "id": "efd2cba1",
   "metadata": {},
   "outputs": [],
   "source": [
    "data.describe()"
   ]
  },
  {
   "cell_type": "markdown",
   "id": "0c556579",
   "metadata": {},
   "source": [
    "We can see that the values in the variable ‘Amount’ has a high variability in comparison to the other variables. In order to tackle this issue we are going to standardize this variable using the ‘StandardScaler’ method."
   ]
  },
  {
   "cell_type": "code",
   "execution_count": null,
   "id": "72a99bc5",
   "metadata": {},
   "outputs": [],
   "source": [
    "sc = StandardScaler()\n",
    "amount = data['Amount'].values\n",
    "\n",
    "data['Amount'] = sc.fit_transform(amount.reshape(-1, 1))\n",
    "\n",
    "print(data['Amount'].head(10))"
   ]
  },
  {
   "cell_type": "markdown",
   "id": "10176706",
   "metadata": {},
   "source": [
    "If your dataset has categorical features you may want to consider applying some encoding (like one-hot encoding) to such features before training the model using XGBoost. Also, XGBoost is capable of handling missing values internally so its not neccesary to address this issue before you fit the model."
   ]
  },
  {
   "cell_type": "markdown",
   "id": "a2ec0b4d",
   "metadata": {},
   "source": [
    "### Data Manipulation"
   ]
  },
  {
   "cell_type": "code",
   "execution_count": null,
   "id": "0b2b1e60",
   "metadata": {},
   "outputs": [],
   "source": [
    "X = data.drop('Class', axis = 1).values\n",
    "y = data['Class'].values"
   ]
  },
  {
   "cell_type": "markdown",
   "id": "deb98752",
   "metadata": {},
   "source": [
    "Now we will convert the dataset into an optimized data structure called Dmatrix that XGBoost supports and gives it acclaimed performance and efficiency gains."
   ]
  },
  {
   "cell_type": "code",
   "execution_count": null,
   "id": "d2fc3995",
   "metadata": {},
   "outputs": [],
   "source": [
    "data1 = xgb.DMatrix(data=X,label=y)"
   ]
  },
  {
   "cell_type": "code",
   "execution_count": null,
   "id": "27db8dfe",
   "metadata": {},
   "outputs": [],
   "source": [
    "X_train, X_test, y_train, y_test = train_test_split(X, y, test_size = 0.2, random_state = 0)\n",
    "\n",
    "print('X_train samples : ', X_train[:1])\n",
    "print('X_test samples : ', X_test[0:1])\n",
    "print('y_train samples : ', y_train[0:20])\n",
    "print('y_test samples : ', y_test[0:20])"
   ]
  },
  {
   "cell_type": "markdown",
   "id": "04487cae",
   "metadata": {},
   "source": [
    "### Model building"
   ]
  },
  {
   "cell_type": "markdown",
   "id": "ee270170",
   "metadata": {},
   "source": [
    "#### XGBoost hyperparamaters"
   ]
  },
  {
   "cell_type": "markdown",
   "id": "60896b84",
   "metadata": {},
   "source": [
    "The most common parameters in xgboost are:\n",
    "\n",
    "- learning_rate: step size shrinkage used to prevent overfitting. Range is [0,1]\n",
    "\n",
    "- max_depth: determines how deeply each tree is allowed to grow during any boosting round.\n",
    "\n",
    "- subsample: percentage of samples used per tree. Low value can lead to underfitting.\n",
    "\n",
    "- colsample_bytree: percentage of features used per tree. High value can lead to overfitting.\n",
    "\n",
    "- n_estimators: number of trees you want to build.\n",
    "\n",
    "- objective: determines the loss function to be used like reg:linear for regression problems, reg:logistic for classification problems with only decision, binary:logistic for classification problems with probability.\n",
    "\n",
    "XGBoost also supports regularization parameters to penalize models as they become more complex and reduce them to simple models.\n",
    "\n",
    "- gamma: controls whether a given node will split based on the expected reduction in loss after the split. A higher value leads to fewer splits. Supported only for tree-based learners.\n",
    "\n",
    "- alpha: L1 regularization on leaf weights. A large value leads to more regularization.\n",
    "\n",
    "- lambda: L2 regularization on leaf weights and is smoother than L1 regularization.\n",
    "\n",
    "It's also worth mentioning that though you are using trees as your base learners, you can also use XGBoost's relatively less popular linear base learners and one other tree learner known as dart. All you have to do is set the booster parameter to either gbtree (default),gblinear or dart."
   ]
  },
  {
   "cell_type": "markdown",
   "id": "a72a3e18",
   "metadata": {},
   "source": [
    "#### Model fitting"
   ]
  },
  {
   "cell_type": "code",
   "execution_count": null,
   "id": "cc6ce62d",
   "metadata": {},
   "outputs": [],
   "source": [
    "xg_reg = xgb.XGBClassifier(objective ='reg:logistic', colsample_bytree = 0.3, learning_rate = 0.1,max_depth = 5, alpha = 10, n_estimators = 10,use_label_encoder=False)"
   ]
  },
  {
   "cell_type": "markdown",
   "id": "7419a4fd",
   "metadata": {},
   "source": [
    "#### Model prediction"
   ]
  },
  {
   "cell_type": "code",
   "execution_count": null,
   "id": "fa06a9b8",
   "metadata": {},
   "outputs": [],
   "source": [
    "xg_reg.fit(X_train,y_train,eval_metric='error')\n",
    "\n",
    "preds = xg_reg.predict(X_test)"
   ]
  },
  {
   "cell_type": "markdown",
   "id": "0d39a3c4",
   "metadata": {},
   "source": [
    "#### Model validatoion"
   ]
  },
  {
   "cell_type": "code",
   "execution_count": null,
   "id": "6f9343f3",
   "metadata": {},
   "outputs": [],
   "source": [
    "rmse = np.sqrt(mean_squared_error(y_test, preds))\n",
    "print(\"RMSE: %f\" % (rmse))"
   ]
  },
  {
   "cell_type": "code",
   "execution_count": null,
   "id": "47ab77a7",
   "metadata": {},
   "outputs": [],
   "source": [
    "print('Accuracy score of the XGBoost model is {}'.format(accuracy_score(y_test, preds)))"
   ]
  },
  {
   "cell_type": "code",
   "execution_count": null,
   "id": "511f159b",
   "metadata": {},
   "outputs": [],
   "source": [
    "print('F1 score of the XGBoost model is {}'.format(f1_score(y_test, preds)))"
   ]
  },
  {
   "cell_type": "markdown",
   "id": "3510d578",
   "metadata": {},
   "source": [
    "Reference:\n",
    "- Credit Card Fraud Detection With Machine Learning in Python by Nikhil Adityan\n",
    "  https://medium.com/codex/credit-card-fraud-detection-with-machine-learning-in-python-ac7281991d87\n",
    "\n",
    "- Using XGBoost in Python\n",
    "  https://www.datacamp.com/community/tutorials/xgboost-in-python#what"
   ]
  }
 ],
 "metadata": {
  "jupytext": {
   "formats": "ipynb,md:myst",
   "text_representation": {
    "extension": ".md",
    "format_name": "myst",
    "format_version": 0.13,
    "jupytext_version": "1.10.3"
   }
  },
  "kernelspec": {
   "display_name": "Python 3 (ipykernel)",
   "language": "python",
   "name": "python3"
  },
  "source_map": [
   13,
   17,
   21,
   25,
   29,
   33,
   37,
   47,
   51,
   55,
   59,
   72,
   76,
   80,
   85,
   89,
   93,
   108,
   110,
   114,
   121,
   125,
   129,
   132,
   136,
   140,
   147,
   151,
   155,
   181,
   185,
   187,
   191,
   195,
   199,
   204,
   208,
   210
  ]
 },
 "nbformat": 4,
 "nbformat_minor": 5
}