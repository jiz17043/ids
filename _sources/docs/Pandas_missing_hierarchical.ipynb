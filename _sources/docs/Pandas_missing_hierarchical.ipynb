{
 "cells": [
  {
   "cell_type": "markdown",
   "id": "baeddc59",
   "metadata": {},
   "source": [
    "# Pandas: Missing Data and Hierarchical Indexing"
   ]
  },
  {
   "cell_type": "markdown",
   "id": "b80c9c61",
   "metadata": {},
   "source": [
    "## Missing Data"
   ]
  },
  {
   "cell_type": "markdown",
   "id": "ce53a4f1",
   "metadata": {},
   "source": [
    "The difference between data found in many tutorials and data in the real world is that\n",
    "real-world data is rarely clean and homogeneous. In particular, many interesting\n",
    "datasets will have some amount of data missing."
   ]
  },
  {
   "cell_type": "code",
   "execution_count": null,
   "id": "534412cf",
   "metadata": {},
   "outputs": [],
   "source": [
    "# Example 1 of missing data\n",
    "\n",
    "import numpy as np\n",
    "import pandas as pd\n",
    "\n",
    "data = np.array([1, None, 6, 8])\n",
    "data"
   ]
  },
  {
   "cell_type": "markdown",
   "id": "47763303",
   "metadata": {},
   "source": [
    "If we use functions like sum() or min() on an array if none is present then it will return an error."
   ]
  },
  {
   "cell_type": "code",
   "execution_count": null,
   "id": "7e59887e",
   "metadata": {},
   "outputs": [],
   "source": [
    "try:\n",
    "    data.sum()\n",
    "except TypeError as e:\n",
    "    print(type(e))\n",
    "    print(e)"
   ]
  },
  {
   "cell_type": "markdown",
   "id": "a4170c73",
   "metadata": {},
   "source": [
    "When a \"None\" value is present in an array, any arithmetic operation done on the array will always result in an error."
   ]
  },
  {
   "cell_type": "code",
   "execution_count": null,
   "id": "c6462dc2",
   "metadata": {},
   "outputs": [],
   "source": [
    "# Example 2 of missing data\n",
    "\n",
    "data1 = np.array([1, np.nan, 2, 6])\n",
    "3 + np.nan"
   ]
  },
  {
   "cell_type": "code",
   "execution_count": null,
   "id": "6cfb83d7",
   "metadata": {},
   "outputs": [],
   "source": [
    " 5 * np.nan"
   ]
  },
  {
   "cell_type": "markdown",
   "id": "ff80cd56",
   "metadata": {},
   "source": [
    "Regardless of the operation, the result of arithmetic with NaN will be another NaN."
   ]
  },
  {
   "cell_type": "code",
   "execution_count": null,
   "id": "6c3301f2",
   "metadata": {},
   "outputs": [],
   "source": [
    "# Detecting null values\n",
    "\n",
    "data = pd.Series([1, np.nan, 'example', None])\n",
    "data.isnull()"
   ]
  },
  {
   "cell_type": "code",
   "execution_count": null,
   "id": "ffcd905c",
   "metadata": {},
   "outputs": [],
   "source": [
    "data[data.notnull()]"
   ]
  },
  {
   "cell_type": "code",
   "execution_count": null,
   "id": "95abfe3f",
   "metadata": {},
   "outputs": [],
   "source": [
    "# Dropping null values\n",
    "\n",
    "data.dropna()"
   ]
  },
  {
   "cell_type": "code",
   "execution_count": null,
   "id": "0aaf9cef",
   "metadata": {},
   "outputs": [],
   "source": [
    "data2 = pd.DataFrame([[2, np.nan, 5],[4, 1, 7],[np.nan, 0, 3]])\n",
    "data2"
   ]
  },
  {
   "cell_type": "code",
   "execution_count": null,
   "id": "27bd7aa2",
   "metadata": {},
   "outputs": [],
   "source": [
    "data2.dropna()"
   ]
  },
  {
   "cell_type": "markdown",
   "id": "19247bfb",
   "metadata": {},
   "source": [
    "We cannot drop single values from a DataFrame; we can only drop full rows or full columns."
   ]
  },
  {
   "cell_type": "code",
   "execution_count": null,
   "id": "d729e9f1",
   "metadata": {},
   "outputs": [],
   "source": [
    "data2.dropna(axis='columns')"
   ]
  },
  {
   "cell_type": "code",
   "execution_count": null,
   "id": "4c633569",
   "metadata": {},
   "outputs": [],
   "source": [
    "data2[3] = np.nan\n",
    "data2"
   ]
  },
  {
   "cell_type": "code",
   "execution_count": null,
   "id": "7a212d66",
   "metadata": {},
   "outputs": [],
   "source": [
    "data2.dropna(axis='columns',how='all')"
   ]
  },
  {
   "cell_type": "code",
   "execution_count": null,
   "id": "bd10b67f",
   "metadata": {},
   "outputs": [],
   "source": [
    "data2.dropna(axis='rows',thresh=3)"
   ]
  },
  {
   "cell_type": "code",
   "execution_count": null,
   "id": "6abc1b64",
   "metadata": {},
   "outputs": [],
   "source": [
    "# Filling null values\n",
    "\n",
    "data = pd.Series([3, np.nan, 4, None], index=list('abcd'))\n",
    "data"
   ]
  },
  {
   "cell_type": "code",
   "execution_count": null,
   "id": "184ed3b0",
   "metadata": {},
   "outputs": [],
   "source": [
    "data.fillna(0)"
   ]
  },
  {
   "cell_type": "code",
   "execution_count": null,
   "id": "af30ad33",
   "metadata": {},
   "outputs": [],
   "source": [
    "#Forward fill\n",
    "\n",
    "data.fillna(method='ffill')"
   ]
  },
  {
   "cell_type": "code",
   "execution_count": null,
   "id": "9d64a138",
   "metadata": {},
   "outputs": [],
   "source": [
    "# Back-fill\n",
    "\n",
    "data.fillna(method='bfill')"
   ]
  },
  {
   "cell_type": "code",
   "execution_count": null,
   "id": "26c94515",
   "metadata": {},
   "outputs": [],
   "source": [
    "data2.fillna(method='ffill', axis=1)"
   ]
  },
  {
   "cell_type": "markdown",
   "id": "fd3fe03b",
   "metadata": {},
   "source": [
    "## Hierarchical Indexing"
   ]
  },
  {
   "cell_type": "markdown",
   "id": "585d15d8",
   "metadata": {},
   "source": [
    "It is useful to store higher-dimensional data indexed by more than one or two keys. It can be done using hierarchical indexing which incorporate multiple index levels within a single index. In this way, higher-dimensional data can be compactly represented within the familiar one-dimensional Series and two-dimensional DataFrame objects."
   ]
  },
  {
   "cell_type": "code",
   "execution_count": null,
   "id": "affa0a12",
   "metadata": {},
   "outputs": [],
   "source": [
    "# A Multiple Indexed Series\n",
    "\n",
    "index = [('California', 2000), ('California', 2015),('New York', 2000), ('New York', 2015),('Illinois', 2000), ('Illinois', 2015)] \n",
    "populations = [24343547, 54343326,18976457, 23557766,12736448, 76453456]\n",
    "pop = pd.Series(populations, index=index)\n",
    "pop"
   ]
  },
  {
   "cell_type": "code",
   "execution_count": null,
   "id": "b179a84e",
   "metadata": {},
   "outputs": [],
   "source": [
    " pop[('California', 2015):('Illinois', 2000)]"
   ]
  },
  {
   "cell_type": "code",
   "execution_count": null,
   "id": "b9176bd2",
   "metadata": {},
   "outputs": [],
   "source": [
    "# Selecting just data for year 2015\n",
    "\n",
    "pop[[i for i in pop.index if i[1] == 2015]]"
   ]
  },
  {
   "cell_type": "markdown",
   "id": "bebe186f",
   "metadata": {},
   "source": [
    "As similar operation can be done in a much more efficient way. Our tuple-based indexing is essentially a rudimentary multi-index, and the Pandas MultiIndex type gives us the type of operations we wish to have."
   ]
  },
  {
   "cell_type": "code",
   "execution_count": null,
   "id": "850a1932",
   "metadata": {},
   "outputs": [],
   "source": [
    "index = pd.MultiIndex.from_tuples(index)\n",
    "pop = pop.reindex(index)\n",
    "pop"
   ]
  },
  {
   "cell_type": "markdown",
   "id": "edebcf60",
   "metadata": {},
   "source": [
    "Here the first two columns of the Series representation show the multiple index values, while the third column shows the data. Notice that some entries are missing in the first column: in this multi-index representation, any blank entry indicates the same value as the line above it."
   ]
  },
  {
   "cell_type": "code",
   "execution_count": null,
   "id": "56af3c4f",
   "metadata": {},
   "outputs": [],
   "source": [
    "pop[:, 2015]"
   ]
  },
  {
   "cell_type": "markdown",
   "id": "e2e3a13c",
   "metadata": {},
   "source": [
    "This syntax is much more convenient than the previous method."
   ]
  },
  {
   "cell_type": "code",
   "execution_count": null,
   "id": "a6c50f30",
   "metadata": {},
   "outputs": [],
   "source": [
    "# Unstack\n",
    "\n",
    "pop1 = pop.unstack()\n",
    "pop1"
   ]
  },
  {
   "cell_type": "markdown",
   "id": "fc8b9ae8",
   "metadata": {},
   "source": [
    "The unstack() method will quickly convert a multiple indexed Series into a conventionally indexed DataFrame."
   ]
  },
  {
   "cell_type": "code",
   "execution_count": null,
   "id": "235918c8",
   "metadata": {},
   "outputs": [],
   "source": [
    "# Stack\n",
    "\n",
    "pop1.stack()"
   ]
  },
  {
   "cell_type": "markdown",
   "id": "6d63facc",
   "metadata": {},
   "source": [
    "Why hierarchical indexing?\n",
    "\n",
    "The reason is simple: just as we were able to use multi-indexing to represent two-dimensional data within a one-dimensional Series, we can also use it to represent data of three or more dimensions in a Series or DataFrame. Each extra level in a multi-index represents an extra dimension of data; taking advantage of this property gives us much more flexibility in the types of data we can represent. Concretely, we might want to add another column of demographic data for each state at each year with a MultiIndex this is as easy as adding another column to the DataFrame."
   ]
  },
  {
   "cell_type": "code",
   "execution_count": null,
   "id": "7d4c70c9",
   "metadata": {},
   "outputs": [],
   "source": [
    "pop1 = pd.DataFrame({'total': pop,'under18': [3123445, 1234567,2346257, 2461346,6434785, 9876544]})\n",
    "pop1"
   ]
  },
  {
   "cell_type": "code",
   "execution_count": null,
   "id": "3b23096f",
   "metadata": {},
   "outputs": [],
   "source": [
    "func = pop1['under18'] / pop1['total']\n",
    "func.unstack()"
   ]
  },
  {
   "cell_type": "markdown",
   "id": "b32d797a",
   "metadata": {},
   "source": [
    "All ufuncs and other functions used in pandas can be used in hierarchical indices too."
   ]
  },
  {
   "cell_type": "code",
   "execution_count": null,
   "id": "a87e2457",
   "metadata": {},
   "outputs": [],
   "source": [
    "# Constructing Multiple index series\n",
    "\n",
    "data3 = pd.DataFrame(np.random.rand(4, 2),index=[['a', 'b', 'b', 'b'], [1, 1, 2, 3]],columns=['data1', 'data2'])\n",
    "data3"
   ]
  },
  {
   "cell_type": "markdown",
   "id": "e484260e",
   "metadata": {},
   "source": [
    "Similarly, if you pass a dictionary with appropriate tuples as keys, Pandas will automatically recognize this and use a MultiIndex by default."
   ]
  },
  {
   "cell_type": "code",
   "execution_count": null,
   "id": "6099fc58",
   "metadata": {},
   "outputs": [],
   "source": [
    "data = {('California', 2000): 12345678,\n",
    " ('California', 2015): 23456789,\n",
    " ('Illinois', 2000): 34567890,\n",
    " ('Illinois', 2015): 45678901,\n",
    " ('New York', 2000): 56789012,\n",
    " ('New York', 2015): 67890123}\n",
    "pd.Series(data)"
   ]
  },
  {
   "cell_type": "code",
   "execution_count": null,
   "id": "4b33234c",
   "metadata": {},
   "outputs": [],
   "source": [
    "# MultiIndex level names\n",
    "\n",
    "pop.index.names = ['State', 'Year']\n",
    "pop"
   ]
  },
  {
   "cell_type": "code",
   "execution_count": null,
   "id": "ba3f9fb9",
   "metadata": {},
   "outputs": [],
   "source": [
    "# MultiIndex for Rows and columns\n",
    "\n",
    "index = pd.MultiIndex.from_product([[2010, 2011], [1, 2]],names=['Year', 'Visit'])\n",
    "columns = pd.MultiIndex.from_product([['A', 'B', 'C'], ['HR', 'Temp']],names=['Subject', 'Type'])\n",
    "data = np.round(np.random.randn(4, 6), 1)\n",
    "data[:, ::2] *= 10\n",
    "data += 30\n",
    "health = pd.DataFrame(data, index=index, columns=columns)\n",
    "health"
   ]
  },
  {
   "cell_type": "code",
   "execution_count": null,
   "id": "e4a9cc39",
   "metadata": {},
   "outputs": [],
   "source": [
    "health['B']"
   ]
  },
  {
   "cell_type": "markdown",
   "id": "cf32dbf0",
   "metadata": {},
   "source": [
    "## Indexing and Slicing a MultiIndex"
   ]
  },
  {
   "cell_type": "code",
   "execution_count": null,
   "id": "50466cf6",
   "metadata": {},
   "outputs": [],
   "source": [
    "# Multiple indexed Series\n",
    "\n",
    "pop['California', 2000]"
   ]
  },
  {
   "cell_type": "code",
   "execution_count": null,
   "id": "1fe8bede",
   "metadata": {},
   "outputs": [],
   "source": [
    " pop['California']"
   ]
  },
  {
   "cell_type": "code",
   "execution_count": null,
   "id": "8ca71ffe",
   "metadata": {},
   "outputs": [],
   "source": [
    "pop[pop > 22000000]"
   ]
  },
  {
   "cell_type": "code",
   "execution_count": null,
   "id": "4ad7e78e",
   "metadata": {},
   "outputs": [],
   "source": [
    " pop[['California', 'Illinois']]"
   ]
  },
  {
   "cell_type": "code",
   "execution_count": null,
   "id": "de9faba0",
   "metadata": {},
   "outputs": [],
   "source": [
    "# Multiple indexed dataframe\n",
    "\n",
    "health['A', 'HR']"
   ]
  },
  {
   "cell_type": "code",
   "execution_count": null,
   "id": "d58fa75e",
   "metadata": {},
   "outputs": [],
   "source": [
    "health.loc[:, ('A', 'HR')]"
   ]
  },
  {
   "cell_type": "code",
   "execution_count": null,
   "id": "56c261ac",
   "metadata": {},
   "outputs": [],
   "source": [
    "health.iloc[:2, :2]"
   ]
  },
  {
   "cell_type": "code",
   "execution_count": null,
   "id": "8086d590",
   "metadata": {},
   "outputs": [],
   "source": [
    "idx = pd.IndexSlice\n",
    "health.loc[idx[:, 1], idx[:, 'HR']]"
   ]
  },
  {
   "cell_type": "markdown",
   "id": "a5bc0c51",
   "metadata": {},
   "source": [
    "## Rearranging Multi indices"
   ]
  },
  {
   "cell_type": "code",
   "execution_count": null,
   "id": "6e3cdb9d",
   "metadata": {},
   "outputs": [],
   "source": [
    "# Sort\n",
    "\n",
    "index = pd.MultiIndex.from_product([['x', 'z', 'y'], [1, 2]])\n",
    "data = pd.Series(np.random.rand(6), index=index)\n",
    "data.index.names = ['char', 'int']\n",
    "data"
   ]
  },
  {
   "cell_type": "code",
   "execution_count": null,
   "id": "e7d6b525",
   "metadata": {},
   "outputs": [],
   "source": [
    "try:\n",
    "    data['x':'y']\n",
    "except KeyError as e:\n",
    "    print(type(e))\n",
    "    print(e)"
   ]
  },
  {
   "cell_type": "markdown",
   "id": "a63f14fe",
   "metadata": {},
   "source": [
    "Any function performed on an unsorted multiindex data will result in an error."
   ]
  },
  {
   "cell_type": "code",
   "execution_count": null,
   "id": "074d4a3e",
   "metadata": {},
   "outputs": [],
   "source": [
    "data = data.sort_index()\n",
    "data"
   ]
  },
  {
   "cell_type": "code",
   "execution_count": null,
   "id": "caa02353",
   "metadata": {},
   "outputs": [],
   "source": [
    "data['x':'y']"
   ]
  },
  {
   "cell_type": "code",
   "execution_count": null,
   "id": "bc5df117",
   "metadata": {},
   "outputs": [],
   "source": [
    "# Unstack\n",
    "\n",
    "pop.unstack(level=0)"
   ]
  },
  {
   "cell_type": "code",
   "execution_count": null,
   "id": "870048ec",
   "metadata": {},
   "outputs": [],
   "source": [
    "pop.unstack(level=1)"
   ]
  },
  {
   "cell_type": "code",
   "execution_count": null,
   "id": "70953647",
   "metadata": {},
   "outputs": [],
   "source": [
    "# Stack\n",
    "\n",
    "pop.unstack().stack()"
   ]
  },
  {
   "cell_type": "code",
   "execution_count": null,
   "id": "2d4bdcb4",
   "metadata": {},
   "outputs": [],
   "source": [
    "# Reset Index\n",
    "\n",
    "pop2 = pop.reset_index(name='population')\n",
    "pop2"
   ]
  },
  {
   "cell_type": "markdown",
   "id": "f153e569",
   "metadata": {},
   "source": [
    "Often when you are working with data in the real world, the raw input data looks like this and it’s useful to build a MultiIndex from the column values."
   ]
  },
  {
   "cell_type": "code",
   "execution_count": null,
   "id": "62b65e0c",
   "metadata": {},
   "outputs": [],
   "source": [
    "# Set Index\n",
    "\n",
    "pop2.set_index(['State', 'Year'])"
   ]
  },
  {
   "cell_type": "markdown",
   "id": "edc6169f",
   "metadata": {},
   "source": [
    "## Data Aggregation"
   ]
  },
  {
   "cell_type": "code",
   "execution_count": null,
   "id": "267c466c",
   "metadata": {},
   "outputs": [],
   "source": [
    "mean = health.groupby(level='Year').mean()\n",
    "mean"
   ]
  },
  {
   "cell_type": "code",
   "execution_count": null,
   "id": "d43e8917",
   "metadata": {},
   "outputs": [],
   "source": [
    "mean.groupby(axis=1, level='Type').mean()"
   ]
  }
 ],
 "metadata": {
  "jupytext": {
   "formats": "ipynb,md:myst",
   "text_representation": {
    "extension": ".md",
    "format_name": "myst",
    "format_version": 0.13,
    "jupytext_version": "1.10.3"
   }
  },
  "kernelspec": {
   "display_name": "Python 3 (ipykernel)",
   "language": "python",
   "name": "python3"
  },
  "source_map": [
   13,
   17,
   21,
   27,
   35,
   39,
   45,
   49,
   56,
   58,
   62,
   69,
   73,
   79,
   84,
   86,
   90,
   94,
   99,
   103,
   107,
   114,
   118,
   124,
   130,
   132,
   136,
   140,
   149,
   153,
   157,
   161,
   165,
   169,
   171,
   175,
   180,
   184,
   188,
   194,
   199,
   202,
   206,
   211,
   215,
   225,
   232,
   244,
   246,
   250,
   256,
   260,
   264,
   268,
   274,
   278,
   282,
   285,
   289,
   298,
   304,
   308,
   313,
   317,
   323,
   327,
   333,
   338,
   342,
   346,
   350,
   355
  ]
 },
 "nbformat": 4,
 "nbformat_minor": 5
}