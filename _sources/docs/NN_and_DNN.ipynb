{
 "cells": [
  {
   "cell_type": "markdown",
   "id": "6627ab63",
   "metadata": {},
   "source": [
    "# Neural Network and Deep Learning\n",
    "\n",
    "Neural Networks are described as a mathematical function that maps a given input to a desired output\n",
    "\n",
    "Neural Networks consist of the following components\n",
    "- An input layer, x\n",
    "- An arbitrary amount of hidden layers\n",
    "- An output layer, ŷ\n",
    "- A set of weights and biases between each layer, W and b\n",
    "- A choice of activation function for each hidden layer, σ. In this tutorial, we’ll use a Sigmoid activation function.\n",
    "\n",
    "<img alt=\"\" class=\"kq zh ei ev er fa v c\" width=\"300\" height=\"200\" role=\"presentation\" src=\"https://miro.medium.com/max/750/1*sX6T0Y4aa3ARh7IBS_sdqw.png\" srcset=\"https://miro.medium.com/max/414/1*sX6T0Y4aa3ARh7IBS_sdqw.png 276w, https://miro.medium.com/max/750/1*sX6T0Y4aa3ARh7IBS_sdqw.png 500w\" sizes=\"500px\" title=\"Architecture of a 2-layer Neural Network\" style=\"\"> (Image by James Loy)\n",
    "\n",
    "Each iteration of the training process consists of the following steps:\n",
    "- Calculating the predicted output ŷ, known as **feedforward**\n",
    "- Updating the weights and biases, known as **backpropagation**\n",
    "\n",
    "Our goal in training is to find the best set of weights and biases that minimizes the loss function.\n",
    "\n",
    "## Application\n",
    "\n",
    "**scikit-learn** is one library that has neural network. In addition,deep Learning libraries such as **TensorFlow and Keras** also could build neural networks.\n",
    "\n",
    "### Multi-layer Perceptron\n",
    "\n",
    "<img alt=\"\" width=\"300\" height=\"200\" src=\"https://scikit-learn.org/stable/_images/multilayerperceptron_network.png\" style=\"width: 100px; height: 100px;\" title=\"\"> (Image by Scikit-learn)\n",
    "\n",
    "#### [Mathematical Formulation](https://scikit-learn.org/stable/modules/neural_networks_supervised.html#mathematical-formulation)\n",
    "#### [Algorithms](https://scikit-learn.org/stable/modules/neural_networks_supervised.html#algorithms)\n",
    "#### [Choices of Loss Function](https://scikit-learn.org/stable/modules/sgd.html#mathematical-formulation)\n",
    "\n",
    "class sklearn.neural_network.MLPClassifier(hidden_layer_sizes=(100), activation='relu', *, solver='adam', alpha=0.0001, batch_size='auto', learning_rate='constant', learning_rate_init=0.001, power_t=0.5, max_iter=200, shuffle=True, random_state=None, tol=0.0001, verbose=False, warm_start=False, momentum=0.9, nesterovs_momentum=True, early_stopping=False, validation_fraction=0.1, beta_1=0.9, beta_2=0.999, epsilon=1e-08, n_iter_no_change=10, max_fun=15000) [details](https://scikit-learn.org/stable/modules/generated/sklearn.neural_network.MLPClassifier.html#sklearn-neural-network-mlpclassifier)"
   ]
  },
  {
   "cell_type": "code",
   "execution_count": null,
   "id": "88056c90",
   "metadata": {},
   "outputs": [],
   "source": [
    "from sklearn.datasets import load_iris\n",
    "from sklearn.neural_network import MLPClassifier\n",
    "from sklearn.model_selection import train_test_split\n",
    "from sklearn.preprocessing import StandardScaler\n",
    "import pandas as pd\n",
    "from sklearn.metrics import plot_confusion_matrix\n",
    "import matplotlib.pyplot as plt\n",
    "from sklearn.metrics import classification_report"
   ]
  },
  {
   "cell_type": "code",
   "execution_count": null,
   "id": "e00c0da8",
   "metadata": {},
   "outputs": [],
   "source": [
    "iris_data = load_iris()\n",
    "X = pd.DataFrame(iris_data.data, columns=iris_data.feature_names)\n",
    "y = iris_data.target"
   ]
  },
  {
   "cell_type": "code",
   "execution_count": null,
   "id": "5ec4d1ea",
   "metadata": {},
   "outputs": [],
   "source": [
    "X_train, X_test, y_train, y_test = train_test_split(X,y,random_state=1, test_size=0.2)\n",
    "sc_X = StandardScaler()\n",
    "X_trainscaled=sc_X.fit_transform(X_train)\n",
    "X_testscaled=sc_X.transform(X_test)"
   ]
  },
  {
   "cell_type": "code",
   "execution_count": null,
   "id": "9bacefed",
   "metadata": {},
   "outputs": [],
   "source": [
    "<!-- clf = MLPClassifier(hidden_layer_sizes=(256,128,64,32),activation=\"relu\",random_state=1).fit(X_trainscaled, y_train)\n",
    "y_pred=clf.predict(X_testscaled)\n",
    "print(clf.score(X_testscaled, y_test))\n",
    "print(classification_report(y_test,y_pred)) -->"
   ]
  },
  {
   "cell_type": "markdown",
   "id": "aaaf6548",
   "metadata": {},
   "source": [
    "    \n",
    "    \n",
    "\n",
    "### Deep learning\n",
    "\n",
    "There are many deep learning libraries out there, but the most popular ones are **TensorFlow, Keras, and PyTorch**.\n",
    "\n",
    "#### Relationship between ANN and DNN\n",
    "\n",
    "<img alt=\"\" class=\"v kh ki\" src=\"https://miro.medium.com/max/1500/1*cuTSPlTq0a_327iTPJyD-Q.png\" width=\"500\" height=\"750\" role=\"presentation\">\n",
    "\n",
    "A deep neural network (DNN) is an artificial neural network (ANN) with multiple layers between the input and output layers.\n",
    "\n",
    "Deep Neural Networks (DNNs)  \n",
    "Deep Neural Networks (DNNs) are typically Feed Forward Networks (FFNNs) in which data flows from the input layer to the output layer without going backward and the links between the layers are one way which is in the forward direction and they never touch a node again\n",
    "\n",
    "A multilayer perceptron (MLP) is a class of feedforward artificial neural network (ANN)\n",
    "\n",
    "Recurrent Neural Network (RNN)  \n",
    "A Recurrent Neural Network (RNN) addresses this issue which is a FFNN with a time twist.\n",
    "\n",
    "LSTMs are a special kind of RNN, capable of learning long-term dependencies which make RNN smart at remembering things that have happened in the past and finding patterns across time to make its next guesses make sense.\n",
    "\n",
    "Convolutional Neural Network (CNN, or ConvNet) is a class of deep neural networks which is most commonly applied to analyzing visual imagery.\n",
    "\n",
    "<img class=\"TitleImage\" src=\"https://pic2.zhimg.com/v2-f91e88cee5b0d44012a67da8853a8aa2_1440w.jpg?source=172ae18b\" alt=\"卷积神经网络（CNN）基础及经典模型介绍\" width=\"400\" height=\"400\" title=\"\" style=\"\"> (Image By Zhihu)\n",
    "\n",
    "[Details](https://keras.io/api/layers)  \n",
    "**Cov2d**:This layer creates a convolution kernel that is convolved with the layer input to produce a tensor of outputs.   \n",
    "**LeakyReLU**: Leaky version of a Rectified Linear Unit  \n",
    "**MaxPooling2D**: Downsamples the input along its spatial dimensions (height and width)  \n",
    "by taking the maximum value over an input window (of size defined by pool_size) for  \n",
    "each channel of the input. The window is shifted by strides along each dimension.  \n",
    "**Flatten**: Flattens the input. Does not affect the batch size.  \n",
    "**Dense**: implements the operation: output = activation(dot(input, kernel) + bias)  \n",
    "where activation is the element-wise activation function passed as the activation argument,  \n",
    "kernel is a weights matrix created by the layer, and bias is a bias vector created  \n",
    "by the layer (only applicable if use_bias is True). These are all attributes of Dense."
   ]
  },
  {
   "cell_type": "code",
   "execution_count": null,
   "id": "d9aff009",
   "metadata": {},
   "outputs": [],
   "source": [
    "# !pip install keras\n",
    "from keras.datasets import fashion_mnist\n",
    "(train_X,train_Y), (test_X,test_Y) = fashion_mnist.load_data()"
   ]
  },
  {
   "cell_type": "code",
   "execution_count": null,
   "id": "81940c80",
   "metadata": {},
   "outputs": [],
   "source": [
    "import numpy as np\n",
    "import pandas as pd\n",
    "from tensorflow.keras.utils import to_categorical\n",
    "import matplotlib.pyplot as plt\n",
    "%matplotlib inline\n",
    "from tensorflow import keras"
   ]
  },
  {
   "cell_type": "code",
   "execution_count": null,
   "id": "9decdbba",
   "metadata": {},
   "outputs": [],
   "source": [
    "<!-- print('Training data shape : ', train_X.shape, train_Y.shape)\n",
    "\n",
    "print('Testing data shape : ', test_X.shape, test_Y.shape) -->"
   ]
  },
  {
   "cell_type": "code",
   "execution_count": null,
   "id": "3aba16b6",
   "metadata": {},
   "outputs": [],
   "source": [
    "# Find the unique numbers from the train labels\n",
    "<!-- classes = np.unique(train_Y)\n",
    "nClasses = len(classes)\n",
    "print('Total number of outputs : ', nClasses)\n",
    "print('Output classes : ', classes) -->"
   ]
  },
  {
   "cell_type": "code",
   "execution_count": null,
   "id": "f8036c0c",
   "metadata": {},
   "outputs": [],
   "source": [
    "<!-- plt.figure(figsize=[5,5])\n",
    "\n",
    "# Display the first image in training data\n",
    "plt.subplot(121)\n",
    "plt.imshow(train_X[0,:,:], cmap='gray')\n",
    "plt.title(\"Ground Truth : {}\".format(train_Y[0]))\n",
    "\n",
    "# Display the first image in testing data\n",
    "plt.subplot(122)\n",
    "plt.imshow(test_X[0,:,:], cmap='gray')\n",
    "plt.title(\"Ground Truth : {}\".format(test_Y[0])) -->"
   ]
  },
  {
   "cell_type": "code",
   "execution_count": null,
   "id": "e61cffed",
   "metadata": {},
   "outputs": [],
   "source": [
    "<!-- train_X = train_X.reshape(-1, 28,28, 1) # to make a transform from 784 vectors to a 28*28 matrix\n",
    "test_X = test_X.reshape(-1, 28,28, 1) # why add 1 in the end ???\n",
    "train_X.shape, test_X.shape -->"
   ]
  },
  {
   "cell_type": "code",
   "execution_count": null,
   "id": "8891603a",
   "metadata": {},
   "outputs": [],
   "source": [
    "<!-- train_X = train_X.astype('float32') # scaling\n",
    "test_X = test_X.astype('float32')\n",
    "train_X = train_X / 255.\n",
    "test_X = test_X / 255. -->"
   ]
  },
  {
   "cell_type": "code",
   "execution_count": null,
   "id": "41dc086b",
   "metadata": {},
   "outputs": [],
   "source": [
    "<!-- # Change the labels from categorical to one-hot encoding\n",
    "train_Y_one_hot = to_categorical(train_Y)\n",
    "test_Y_one_hot = to_categorical(test_Y)\n",
    "\n",
    "# Display the change for category label using one-hot encoding\n",
    "print('Original label:', train_Y[0])\n",
    "print('After conversion to one-hot:', train_Y_one_hot[0]) -->"
   ]
  },
  {
   "cell_type": "code",
   "execution_count": null,
   "id": "73aa27f9",
   "metadata": {},
   "outputs": [],
   "source": [
    "<!-- from sklearn.model_selection import train_test_split\n",
    "train_X,valid_X,train_label,valid_label = train_test_split(train_X, train_Y_one_hot, test_size=0.2, random_state=13) -->"
   ]
  },
  {
   "cell_type": "code",
   "execution_count": null,
   "id": "5e20ed35",
   "metadata": {},
   "outputs": [],
   "source": [
    "<!-- train_X.shape,valid_X.shape,train_label.shape,valid_label.shape -->"
   ]
  },
  {
   "cell_type": "code",
   "execution_count": null,
   "id": "7347786b",
   "metadata": {},
   "outputs": [],
   "source": [
    "<!-- import keras\n",
    "from keras.models import Sequential,Input,Model\n",
    "from keras.layers import Dense, Dropout, Flatten\n",
    "from keras.layers import Conv2D, MaxPooling2D\n",
    "from keras.layers import BatchNormalization\n",
    "from keras.layers.advanced_activations import LeakyReLU\n",
    "import tensorflow as tf  -->"
   ]
  },
  {
   "cell_type": "code",
   "execution_count": null,
   "id": "ac0a8611",
   "metadata": {},
   "outputs": [],
   "source": [
    "<!-- batch_size = 64\n",
    "epochs = 20\n",
    "num_classes = 10 -->"
   ]
  },
  {
   "cell_type": "code",
   "execution_count": null,
   "id": "0e8af6b7",
   "metadata": {},
   "outputs": [],
   "source": [
    "<!-- fashion_model = Sequential()\n",
    "fashion_model.add(Conv2D(32, kernel_size=(3, 3),activation='linear',input_shape=(28,28,1),padding='same'))\n",
    "fashion_model.add(LeakyReLU(alpha=0.1))\n",
    "fashion_model.add(MaxPooling2D((2, 2),padding='same'))\n",
    "fashion_model.add(Conv2D(64, (3, 3), activation='linear',padding='same'))\n",
    "fashion_model.add(LeakyReLU(alpha=0.1))\n",
    "fashion_model.add(MaxPooling2D(pool_size=(2, 2),padding='same'))\n",
    "fashion_model.add(Conv2D(128, (3, 3), activation='linear',padding='same'))\n",
    "fashion_model.add(LeakyReLU(alpha=0.1))                  \n",
    "fashion_model.add(MaxPooling2D(pool_size=(2, 2),padding='same'))\n",
    "fashion_model.add(Flatten())\n",
    "fashion_model.add(Dense(128, activation='linear'))\n",
    "fashion_model.add(LeakyReLU(alpha=0.1))                  \n",
    "fashion_model.add(Dense(num_classes, activation='softmax')) -->"
   ]
  },
  {
   "cell_type": "code",
   "execution_count": null,
   "id": "7e752975",
   "metadata": {},
   "outputs": [],
   "source": [
    "<!-- fashion_model.compile(loss=keras.losses.categorical_crossentropy, optimizer=tf.keras.optimizers.Adam(),metrics=['accuracy']) -->"
   ]
  },
  {
   "cell_type": "code",
   "execution_count": null,
   "id": "7085406a",
   "metadata": {},
   "outputs": [],
   "source": [
    "<!-- fashion_model.summary() -->"
   ]
  },
  {
   "cell_type": "code",
   "execution_count": null,
   "id": "13974db6",
   "metadata": {},
   "outputs": [],
   "source": [
    "<!-- fashion_train = fashion_model.fit(train_X, train_label, batch_size=batch_size,epochs=epochs,verbose=1,validation_data=(valid_X, valid_label)) -->"
   ]
  },
  {
   "cell_type": "code",
   "execution_count": null,
   "id": "6972b5d5",
   "metadata": {},
   "outputs": [],
   "source": [
    "<!-- test_eval = fashion_model.evaluate(test_X, test_Y_one_hot, verbose=0)\n",
    "print('Test loss:', test_eval[0])\n",
    "print('Test accuracy:', test_eval[1]) -->"
   ]
  },
  {
   "cell_type": "code",
   "execution_count": null,
   "id": "aee4cdb7",
   "metadata": {},
   "outputs": [],
   "source": [
    "# accuracy = fashion_train.history['accuracy']\n",
    "# val_accuracy = fashion_train.history['val_accuracy']\n",
    "# loss = fashion_train.history['loss']\n",
    "# val_loss = fashion_train.history['val_loss']\n",
    "# epochs = range(len(accuracy))\n",
    "<!-- plt.plot(epochs, accuracy, 'bo', label='Training accuracy')\n",
    "plt.plot(epochs, val_accuracy, 'b', label='Validation accuracy')\n",
    "plt.title('Training and validation accuracy')\n",
    "plt.legend()\n",
    "plt.figure()\n",
    "plt.plot(epochs, loss, 'bo', label='Training loss')\n",
    "plt.plot(epochs, val_loss, 'b', label='Validation loss')\n",
    "plt.title('Training and validation loss')\n",
    "plt.legend()\n",
    "plt.show() -->"
   ]
  },
  {
   "cell_type": "code",
   "execution_count": null,
   "id": "ec5022b8",
   "metadata": {},
   "outputs": [],
   "source": [
    "#predicted_classes = fashion_model.predict(test_X)"
   ]
  },
  {
   "cell_type": "code",
   "execution_count": null,
   "id": "5781d6ea",
   "metadata": {},
   "outputs": [],
   "source": [
    "#predicted_classes = np.argmax(np.round(predicted_classes),axis=1)\n",
    "#predicted_classes.shape, test_Y.shape\n",
    "#correct = np.where(predicted_classes==test_Y)[0]\n",
    "#print (\"Found %d correct labels\" % len(correct))\n",
    "#for i, correct in enumerate(correct[:9]):\n",
    "#    plt.subplot(3,3,i+1)\n",
    "#    plt.imshow(test_X[correct].reshape(28,28), cmap='gray', interpolation='none')\n",
    "#    plt.title(\"Predicted {}, Class {}\".format(predicted_classes[correct], test_Y[correct]))\n",
    "#    plt.tight_layout()"
   ]
  },
  {
   "cell_type": "markdown",
   "id": "d76115bf",
   "metadata": {},
   "source": [
    "    \n",
    "\n",
    "\n",
    "#### Unsupervised Pre-trained Neural Networks\n",
    "\n",
    "##### Deep Generative Models\n",
    "\n",
    "Boltzmann Machines/Deep Belief Neural Networks/Generative Adversarial Networks\n",
    "\n",
    "##### Auto-encoder\n",
    "\n",
    "#### Extension\n",
    "\n",
    "Andrew Yan-Tak Ng   \n",
    "popular courses on Coursera are Ng's: Machine Learning (#1), AI for Everyone, (#5), Neural Networks and Deep Learning (#6)"
   ]
  }
 ],
 "metadata": {
  "jupytext": {
   "text_representation": {
    "extension": ".md",
    "format_name": "myst",
    "format_version": 0.13,
    "jupytext_version": "1.13.0"
   }
  },
  "kernelspec": {
   "display_name": "Python 3 (ipykernel)",
   "language": "python",
   "name": "python3"
  },
  "source_map": [
   12,
   48,
   60,
   67,
   75,
   80,
   122,
   129,
   139,
   148,
   159,
   177,
   188,
   196,
   209,
   215,
   225,
   236,
   243,
   261,
   266,
   273,
   280,
   289,
   310,
   315,
   325
  ]
 },
 "nbformat": 4,
 "nbformat_minor": 5
}