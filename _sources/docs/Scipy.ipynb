{
 "cells": [
  {
   "cell_type": "markdown",
   "id": "11b2aa2c",
   "metadata": {},
   "source": [
    "# Scipy\n",
    "\n",
    "SciPy is a collection of mathematical algorithms and convenience functions built on the NumPy extension of Python. It adds significant power to the interactive Python session by providing the user with high-level commands and classes for manipulating and visualizing data. With SciPy, an interactive Python session becomes a data-processing and system-prototyping environment. \n",
    "\n",
    "The additional benefit of basing SciPy on Python is that this also makes a powerful programming language available for use in developing sophisticated programs and specialized applications. Everything from parallel programming to web and data-base subroutines and classes have been made available to the Python programmer. All of this power is available in addition to the mathematical libraries in SciPy."
   ]
  },
  {
   "cell_type": "code",
   "execution_count": null,
   "id": "21a996ed",
   "metadata": {},
   "outputs": [],
   "source": [
    "#Importing stats from scipy package\n",
    "\n",
    "from scipy import stats\n",
    "import numpy as np"
   ]
  },
  {
   "cell_type": "markdown",
   "id": "4a050c59",
   "metadata": {},
   "source": [
    "## Discrete Distributions"
   ]
  },
  {
   "cell_type": "markdown",
   "id": "fa88a466",
   "metadata": {},
   "source": [
    "### Bernoulli"
   ]
  },
  {
   "cell_type": "code",
   "execution_count": null,
   "id": "053acafc",
   "metadata": {},
   "outputs": [],
   "source": [
    "from scipy.stats import bernoulli"
   ]
  },
  {
   "cell_type": "code",
   "execution_count": null,
   "id": "6f8f837e",
   "metadata": {},
   "outputs": [],
   "source": [
    "## Calculate the first four moments\n",
    "\n",
    "p = 0.6\n",
    "mean, var, skew, kurt = bernoulli.stats(p, moments='mvsk')\n",
    "print(mean, var, skew, kurt)"
   ]
  },
  {
   "cell_type": "code",
   "execution_count": null,
   "id": "763cc8cf",
   "metadata": {},
   "outputs": [],
   "source": [
    "## Probability mass function\n",
    "\n",
    "x = np.arange(bernoulli.ppf(0.99, p))\n",
    "bernoulli.pmf(x, p)"
   ]
  },
  {
   "cell_type": "markdown",
   "id": "821fd5f5",
   "metadata": {},
   "source": [
    "Where bernoulli.ppf is similar to \"qbern()\" function and bernoulli.pmf is similar to \"dbern()\" function in r."
   ]
  },
  {
   "cell_type": "code",
   "execution_count": null,
   "id": "1afce28e",
   "metadata": {},
   "outputs": [],
   "source": [
    "## Cummulative distribution function\n",
    "\n",
    "bernoulli.cdf(x, p)"
   ]
  },
  {
   "cell_type": "markdown",
   "id": "b610922d",
   "metadata": {},
   "source": [
    "Similar to \"pbern()\" function in r."
   ]
  },
  {
   "cell_type": "code",
   "execution_count": null,
   "id": "b9ac646b",
   "metadata": {},
   "outputs": [],
   "source": [
    "## Generate random numbers\n",
    "\n",
    "bernoulli.rvs(p, size=10)"
   ]
  },
  {
   "cell_type": "markdown",
   "id": "78fb0855",
   "metadata": {},
   "source": [
    "Similar to \"rbern()\" function in r."
   ]
  },
  {
   "cell_type": "markdown",
   "id": "d1ced5a3",
   "metadata": {},
   "source": [
    "### Betabinom"
   ]
  },
  {
   "cell_type": "code",
   "execution_count": null,
   "id": "95ce9357",
   "metadata": {},
   "outputs": [],
   "source": [
    "from scipy.stats import betabinom"
   ]
  },
  {
   "cell_type": "code",
   "execution_count": null,
   "id": "a6ea32f8",
   "metadata": {},
   "outputs": [],
   "source": [
    "## Calculate the first four moments\n",
    "\n",
    "n, a, b = 7, 1.7, 0.42\n",
    "mean, var, skew, kurt = betabinom.stats(n, a, b, moments='mvsk')\n",
    "print(mean, var, skew, kurt)"
   ]
  },
  {
   "cell_type": "code",
   "execution_count": null,
   "id": "8187ae4e",
   "metadata": {},
   "outputs": [],
   "source": [
    "## Probability mass function\n",
    "\n",
    "x = np.arange(betabinom.ppf(0.99, n, a, b))\n",
    "betabinom.pmf(x, n, a, b)"
   ]
  },
  {
   "cell_type": "markdown",
   "id": "10643725",
   "metadata": {},
   "source": [
    "Where betabinom.ppf is similar to \"qbb()\" function and betabinom.pmf is similar to \"dbb()\" function in r."
   ]
  },
  {
   "cell_type": "code",
   "execution_count": null,
   "id": "82050821",
   "metadata": {},
   "outputs": [],
   "source": [
    "## Cummulative distribution function\n",
    "\n",
    "betabinom.cdf(x, n, a, b)"
   ]
  },
  {
   "cell_type": "markdown",
   "id": "8c7735c5",
   "metadata": {},
   "source": [
    "Similar to \"pbb()\" function in r."
   ]
  },
  {
   "cell_type": "code",
   "execution_count": null,
   "id": "f70087fa",
   "metadata": {},
   "outputs": [],
   "source": [
    "## Generate random numbers\n",
    "\n",
    "betabinom.rvs(n, a, b, size=10)"
   ]
  },
  {
   "cell_type": "markdown",
   "id": "975f3fad",
   "metadata": {},
   "source": [
    "Similar to \"rbb()\" function in r."
   ]
  },
  {
   "cell_type": "markdown",
   "id": "1acdee98",
   "metadata": {},
   "source": [
    "### Binomial"
   ]
  },
  {
   "cell_type": "code",
   "execution_count": null,
   "id": "146b7f69",
   "metadata": {},
   "outputs": [],
   "source": [
    "from scipy.stats import binom"
   ]
  },
  {
   "cell_type": "code",
   "execution_count": null,
   "id": "a078a5d7",
   "metadata": {},
   "outputs": [],
   "source": [
    "## Calculate the first four moments\n",
    "\n",
    "n, p = 7, 0.7\n",
    "mean, var, skew, kurt = binom.stats(n, p, moments='mvsk')\n",
    "print(mean, var, skew, kurt)"
   ]
  },
  {
   "cell_type": "code",
   "execution_count": null,
   "id": "7bebb81b",
   "metadata": {},
   "outputs": [],
   "source": [
    "## Probability mass function\n",
    "\n",
    "x = np.arange(binom.ppf(0.99, n, p))\n",
    "binom.pmf(x, n, p)"
   ]
  },
  {
   "cell_type": "markdown",
   "id": "7dd05e28",
   "metadata": {},
   "source": [
    "Where binom.ppf is similar to \"qbinom()\" function and binom.pmf is similar to \"dbinom()\" function in r."
   ]
  },
  {
   "cell_type": "code",
   "execution_count": null,
   "id": "114b3e9b",
   "metadata": {},
   "outputs": [],
   "source": [
    "## Cummulative distribution function\n",
    "\n",
    "binom.cdf(x, n, p)"
   ]
  },
  {
   "cell_type": "markdown",
   "id": "7978296e",
   "metadata": {},
   "source": [
    "Similar to \"pbinom()\" function in r."
   ]
  },
  {
   "cell_type": "code",
   "execution_count": null,
   "id": "d2763936",
   "metadata": {},
   "outputs": [],
   "source": [
    "## Generate random numbers\n",
    "\n",
    "binom.rvs(n, p, size=10)"
   ]
  },
  {
   "cell_type": "markdown",
   "id": "e7fd887e",
   "metadata": {},
   "source": [
    "Similar to \"rbinom()\" function in r."
   ]
  },
  {
   "cell_type": "markdown",
   "id": "6610f48b",
   "metadata": {},
   "source": [
    "### Geometric"
   ]
  },
  {
   "cell_type": "code",
   "execution_count": null,
   "id": "88555459",
   "metadata": {},
   "outputs": [],
   "source": [
    "from scipy.stats import geom"
   ]
  },
  {
   "cell_type": "code",
   "execution_count": null,
   "id": "278e07f6",
   "metadata": {},
   "outputs": [],
   "source": [
    "## Calculate the first four moments\n",
    "\n",
    "p = 0.7\n",
    "mean, var, skew, kurt = geom.stats(p, moments='mvsk')\n",
    "print(mean, var, skew, kurt)"
   ]
  },
  {
   "cell_type": "code",
   "execution_count": null,
   "id": "eb1618c8",
   "metadata": {},
   "outputs": [],
   "source": [
    "## Probability mass function\n",
    "\n",
    "x = np.arange(geom.ppf(0.99, p))\n",
    "geom.pmf(x, p)"
   ]
  },
  {
   "cell_type": "markdown",
   "id": "9b77134a",
   "metadata": {},
   "source": [
    "Where geom.ppf is similar to \"qgeom()\" function and geom.pmf is similar to \"dgeom()\" function in r."
   ]
  },
  {
   "cell_type": "code",
   "execution_count": null,
   "id": "22332735",
   "metadata": {},
   "outputs": [],
   "source": [
    "## Cummulative distribution function\n",
    "\n",
    "geom.cdf(x, p)"
   ]
  },
  {
   "cell_type": "markdown",
   "id": "3dd0fff3",
   "metadata": {},
   "source": [
    "Similar to \"pgeom()\" function in r."
   ]
  },
  {
   "cell_type": "code",
   "execution_count": null,
   "id": "578a003b",
   "metadata": {},
   "outputs": [],
   "source": [
    "## Generate random numbers\n",
    "\n",
    "geom.rvs(p, size=10)"
   ]
  },
  {
   "cell_type": "markdown",
   "id": "4f3cba47",
   "metadata": {},
   "source": [
    "Similar to \"rgeom()\" function in r."
   ]
  },
  {
   "cell_type": "markdown",
   "id": "dca93df7",
   "metadata": {},
   "source": [
    "### Hypergeometric"
   ]
  },
  {
   "cell_type": "code",
   "execution_count": null,
   "id": "997edee9",
   "metadata": {},
   "outputs": [],
   "source": [
    "from scipy.stats import hypergeom"
   ]
  },
  {
   "cell_type": "code",
   "execution_count": null,
   "id": "0e7c38da",
   "metadata": {},
   "outputs": [],
   "source": [
    "## Calculate the first four moments\n",
    "\n",
    "M, n, N = 18, 3, 12\n",
    "mean, var, skew, kurt = hypergeom.stats(M, n, N, moments='mvsk')\n",
    "print(mean, var, skew, kurt)"
   ]
  },
  {
   "cell_type": "code",
   "execution_count": null,
   "id": "741c6f8e",
   "metadata": {},
   "outputs": [],
   "source": [
    "## Probability mass function\n",
    "\n",
    "x =  np.arange(hypergeom.ppf(0.99,M,n,N))\n",
    "hypergeom.pmf(x,M, n, N)"
   ]
  },
  {
   "cell_type": "markdown",
   "id": "f4fb701e",
   "metadata": {},
   "source": [
    "Where hypergeom.ppf is similar to \"qhyper()\" function and hypergeom.pmf is similar to \"dhyper()\" function in r."
   ]
  },
  {
   "cell_type": "code",
   "execution_count": null,
   "id": "8b43ceb0",
   "metadata": {},
   "outputs": [],
   "source": [
    "## Cummulative distribution function\n",
    "\n",
    "hypergeom.cdf(x, M, n, N)"
   ]
  },
  {
   "cell_type": "markdown",
   "id": "a95ba318",
   "metadata": {},
   "source": [
    "Similar to \"phyper()\" function in r."
   ]
  },
  {
   "cell_type": "code",
   "execution_count": null,
   "id": "684fb88f",
   "metadata": {},
   "outputs": [],
   "source": [
    "## Generate random numbers\n",
    "\n",
    "hypergeom.rvs(M, n, N, size=10)"
   ]
  },
  {
   "cell_type": "markdown",
   "id": "f8b63329",
   "metadata": {},
   "source": [
    "Similar to \"rhyper()\" function in r."
   ]
  },
  {
   "cell_type": "markdown",
   "id": "b421ac82",
   "metadata": {},
   "source": [
    "### Negative Binomial"
   ]
  },
  {
   "cell_type": "code",
   "execution_count": null,
   "id": "dff4f3ce",
   "metadata": {},
   "outputs": [],
   "source": [
    "from scipy.stats import nbinom"
   ]
  },
  {
   "cell_type": "code",
   "execution_count": null,
   "id": "16f28065",
   "metadata": {},
   "outputs": [],
   "source": [
    "## Calculate the first four moments\n",
    "\n",
    "n, p = 7, 0.7\n",
    "mean, var, skew, kurt = nbinom.stats(n, p, moments='mvsk')\n",
    "print(mean, var, skew, kurt)"
   ]
  },
  {
   "cell_type": "code",
   "execution_count": null,
   "id": "612963aa",
   "metadata": {},
   "outputs": [],
   "source": [
    "## Probability mass function\n",
    "\n",
    "x = np.arange(nbinom.ppf(0.99, n, p))\n",
    "nbinom.pmf(x, n, p)"
   ]
  },
  {
   "cell_type": "markdown",
   "id": "2ca3c2c8",
   "metadata": {},
   "source": [
    "Where nbinom.ppf is similar to \"qnbinom()\" function and nbinom.pmf is similar to \"dnbinom()\" function in r."
   ]
  },
  {
   "cell_type": "code",
   "execution_count": null,
   "id": "bc851c89",
   "metadata": {},
   "outputs": [],
   "source": [
    "## Cummulative distribution function\n",
    "\n",
    "nbinom.cdf(x, n, p)"
   ]
  },
  {
   "cell_type": "markdown",
   "id": "4c0f8712",
   "metadata": {},
   "source": [
    "Similar to \"pnbinom()\" function in r."
   ]
  },
  {
   "cell_type": "code",
   "execution_count": null,
   "id": "94d1a51e",
   "metadata": {},
   "outputs": [],
   "source": [
    "## Generate random numbers\n",
    "\n",
    "nbinom.rvs(n, p, size=10)"
   ]
  },
  {
   "cell_type": "markdown",
   "id": "6e1ea8a3",
   "metadata": {},
   "source": [
    "Similar to \"rnbinom()\" function in r."
   ]
  },
  {
   "cell_type": "markdown",
   "id": "73de7761",
   "metadata": {},
   "source": [
    "### Poisson"
   ]
  },
  {
   "cell_type": "code",
   "execution_count": null,
   "id": "68214bb1",
   "metadata": {},
   "outputs": [],
   "source": [
    "from scipy.stats import poisson"
   ]
  },
  {
   "cell_type": "code",
   "execution_count": null,
   "id": "a5f11217",
   "metadata": {},
   "outputs": [],
   "source": [
    "## Calculate the first four moments\n",
    "\n",
    "mu = 0.7\n",
    "mean, var, skew, kurt = poisson.stats(mu, moments='mvsk')\n",
    "print(mean, var, skew, kurt)"
   ]
  },
  {
   "cell_type": "code",
   "execution_count": null,
   "id": "576a1c53",
   "metadata": {},
   "outputs": [],
   "source": [
    "## Probability mass function\n",
    "\n",
    "x = np.arange(poisson.ppf(0.99, mu))\n",
    "poisson.pmf(x, mu)"
   ]
  },
  {
   "cell_type": "markdown",
   "id": "ff153054",
   "metadata": {},
   "source": [
    "Where poisson.ppf is similar to \"qpois()\" function and poisson.pmf is similar to \"dpois()\" function in r."
   ]
  },
  {
   "cell_type": "code",
   "execution_count": null,
   "id": "0e691b88",
   "metadata": {},
   "outputs": [],
   "source": [
    "## Cummulative distribution function\n",
    "\n",
    "poisson.cdf(x, mu)"
   ]
  },
  {
   "cell_type": "markdown",
   "id": "c048e726",
   "metadata": {},
   "source": [
    "Similar to \"ppois()\" function in r."
   ]
  },
  {
   "cell_type": "code",
   "execution_count": null,
   "id": "5fb92cc4",
   "metadata": {},
   "outputs": [],
   "source": [
    "## Generate random numbers\n",
    "\n",
    "poisson.rvs(mu, size=10)"
   ]
  },
  {
   "cell_type": "markdown",
   "id": "fe676776",
   "metadata": {},
   "source": [
    "Similar to \"rpois()\" function in r."
   ]
  },
  {
   "cell_type": "markdown",
   "id": "2fc8b4f6",
   "metadata": {},
   "source": [
    "### Uniform"
   ]
  },
  {
   "cell_type": "code",
   "execution_count": null,
   "id": "1bf3ce66",
   "metadata": {},
   "outputs": [],
   "source": [
    "from scipy.stats import randint"
   ]
  },
  {
   "cell_type": "code",
   "execution_count": null,
   "id": "341b8d48",
   "metadata": {},
   "outputs": [],
   "source": [
    "## Calculate the first four moments\n",
    "\n",
    "low, high = 5, 25\n",
    "mean, var, skew, kurt = randint.stats(low, high, moments='mvsk')\n",
    "print(mean, var, skew, kurt)"
   ]
  },
  {
   "cell_type": "code",
   "execution_count": null,
   "id": "eebf8c45",
   "metadata": {},
   "outputs": [],
   "source": [
    "## Probability mass function\n",
    "\n",
    "x = np.arange(randint.ppf(0.99, low, high))\n",
    "randint.pmf(x, low, high)"
   ]
  },
  {
   "cell_type": "markdown",
   "id": "00464ca9",
   "metadata": {},
   "source": [
    "Where randint.ppf is similar to \"qdunif()\" function and randint.pmf is similar to \"ddunif()\" function in r."
   ]
  },
  {
   "cell_type": "code",
   "execution_count": null,
   "id": "14e12825",
   "metadata": {},
   "outputs": [],
   "source": [
    "## Cummulative distribution function\n",
    "\n",
    "randint.cdf(x, low, high)"
   ]
  },
  {
   "cell_type": "markdown",
   "id": "1daa665c",
   "metadata": {},
   "source": [
    "Similar to \"pdunif()\" function in r."
   ]
  },
  {
   "cell_type": "code",
   "execution_count": null,
   "id": "a394d85b",
   "metadata": {},
   "outputs": [],
   "source": [
    "## Generate random numbers\n",
    "\n",
    "randint.rvs(low, high, size=10)"
   ]
  },
  {
   "cell_type": "markdown",
   "id": "142728e7",
   "metadata": {},
   "source": [
    "Similar to \"rdunif()\" function in r."
   ]
  },
  {
   "cell_type": "markdown",
   "id": "b99472eb",
   "metadata": {},
   "source": [
    "Few more distributions that are also supported in this package is:\n",
    "- Boltzmann (truncated Planck) Distribution\n",
    "- Planck (discrete exponential) Distribution\n",
    "- Fisher’s Noncentral Hypergeometric Distribution\n",
    "- Wallenius’ Noncentral Hypergeometric Distribution\n",
    "- Negative Hypergeometric Distribution\n",
    "- Zipf (Zeta) Distribution\n",
    "- Zipfian Distribution\n",
    "- Logarithmic (Log-Series, Series) Distribution\n",
    "- Discrete Laplacian Distribution\n",
    "- Yule-Simon Distribution"
   ]
  },
  {
   "cell_type": "markdown",
   "id": "6899eca5",
   "metadata": {},
   "source": [
    "## Continuous Distributions"
   ]
  },
  {
   "cell_type": "markdown",
   "id": "c3bafcaf",
   "metadata": {},
   "source": [
    "### Beta"
   ]
  },
  {
   "cell_type": "code",
   "execution_count": null,
   "id": "98232f3f",
   "metadata": {},
   "outputs": [],
   "source": [
    "from scipy.stats import beta"
   ]
  },
  {
   "cell_type": "code",
   "execution_count": null,
   "id": "d90e4ec5",
   "metadata": {},
   "outputs": [],
   "source": [
    "## Calculate the first four moments\n",
    "\n",
    "a, b = 1.76, 0.35\n",
    "mean, var, skew, kurt = beta.stats(a, b, moments='mvsk')\n",
    "print(mean, var, skew, kurt)"
   ]
  },
  {
   "cell_type": "code",
   "execution_count": null,
   "id": "b83dbf5c",
   "metadata": {},
   "outputs": [],
   "source": [
    "## Probability density function\n",
    "\n",
    "x = np.linspace(beta.ppf(0.99, a, b), 100)\n",
    "beta.pdf(x, a, b)"
   ]
  },
  {
   "cell_type": "markdown",
   "id": "571712e1",
   "metadata": {},
   "source": [
    "Where beta.ppf is similar to \"qbeta()\" function and beta.pmf is similar to \"dbeta()\" function in r."
   ]
  },
  {
   "cell_type": "code",
   "execution_count": null,
   "id": "1b2698e8",
   "metadata": {},
   "outputs": [],
   "source": [
    "## Cummulative distribution function\n",
    "\n",
    "beta.ppf([0.001, 0.5, 0.999], a, b)"
   ]
  },
  {
   "cell_type": "markdown",
   "id": "07c447cb",
   "metadata": {},
   "source": [
    "Similar to \"pbeta()\" function in r."
   ]
  },
  {
   "cell_type": "code",
   "execution_count": null,
   "id": "8552af52",
   "metadata": {},
   "outputs": [],
   "source": [
    "## Generate random numbers\n",
    "\n",
    "beta.rvs(a, b, size=10)"
   ]
  },
  {
   "cell_type": "markdown",
   "id": "7a4d2ee8",
   "metadata": {},
   "source": [
    "Similar to \"rbeta()\" function in r."
   ]
  },
  {
   "cell_type": "markdown",
   "id": "5ec4a16d",
   "metadata": {},
   "source": [
    "### Cauchy"
   ]
  },
  {
   "cell_type": "code",
   "execution_count": null,
   "id": "5916cc3c",
   "metadata": {},
   "outputs": [],
   "source": [
    "from scipy.stats import cauchy"
   ]
  },
  {
   "cell_type": "code",
   "execution_count": null,
   "id": "a7095b6f",
   "metadata": {},
   "outputs": [],
   "source": [
    "## Probability density function\n",
    "\n",
    "x = np.linspace(cauchy.ppf(0.99), 100)\n",
    "cauchy.pdf(x)"
   ]
  },
  {
   "cell_type": "markdown",
   "id": "59f5bc49",
   "metadata": {},
   "source": [
    "Where cauchy.ppf is similar to \"qcauchy()\" function and cauchy.pmf is similar to \"dcauchy()\" function in r."
   ]
  },
  {
   "cell_type": "code",
   "execution_count": null,
   "id": "b4c27fc6",
   "metadata": {},
   "outputs": [],
   "source": [
    "## Cummulative distribution function\n",
    "\n",
    "cauchy.ppf([0.01, 0.5, 0.999])"
   ]
  },
  {
   "cell_type": "markdown",
   "id": "33dfb0cc",
   "metadata": {},
   "source": [
    "Similar to \"pcauchy()\" function in r."
   ]
  },
  {
   "cell_type": "code",
   "execution_count": null,
   "id": "a692598b",
   "metadata": {},
   "outputs": [],
   "source": [
    "## Generate random numbers\n",
    "\n",
    "cauchy.rvs(size=10)"
   ]
  },
  {
   "cell_type": "markdown",
   "id": "9f62f9ad",
   "metadata": {},
   "source": [
    "Similar to \"rcauchy()\" function in r."
   ]
  },
  {
   "cell_type": "markdown",
   "id": "d9af10d9",
   "metadata": {},
   "source": [
    "### Chi square"
   ]
  },
  {
   "cell_type": "code",
   "execution_count": null,
   "id": "e23a5f69",
   "metadata": {},
   "outputs": [],
   "source": [
    "from scipy.stats import chi2"
   ]
  },
  {
   "cell_type": "code",
   "execution_count": null,
   "id": "b03df9dc",
   "metadata": {},
   "outputs": [],
   "source": [
    "## Calculate the first four moments\n",
    "\n",
    "df = 30\n",
    "mean, var, skew, kurt = chi2.stats(df, moments='mvsk')\n",
    "print(mean, var, skew, kurt)"
   ]
  },
  {
   "cell_type": "code",
   "execution_count": null,
   "id": "cf2c7c29",
   "metadata": {},
   "outputs": [],
   "source": [
    "## Probability density function\n",
    "\n",
    "x = np.linspace(chi2.ppf(0.99, df), 100)\n",
    "chi2.pdf(x, df)"
   ]
  },
  {
   "cell_type": "markdown",
   "id": "ccfcce7f",
   "metadata": {},
   "source": [
    "Where chi2.ppf is similar to \"qchisq()\" function and chi2.pmf is similar to \"dchisq()\" function in r."
   ]
  },
  {
   "cell_type": "code",
   "execution_count": null,
   "id": "d7fae219",
   "metadata": {},
   "outputs": [],
   "source": [
    "## Cummulative distribution function\n",
    "\n",
    "chi2.ppf([0.001, 0.5, 0.999], df)"
   ]
  },
  {
   "cell_type": "markdown",
   "id": "c23f5e8a",
   "metadata": {},
   "source": [
    "Similar to \"pchisq()\" function in r."
   ]
  },
  {
   "cell_type": "code",
   "execution_count": null,
   "id": "52e3705b",
   "metadata": {},
   "outputs": [],
   "source": [
    "## Generate random numbers\n",
    "\n",
    "chi2.rvs(df, size=10)"
   ]
  },
  {
   "cell_type": "markdown",
   "id": "c593f0c1",
   "metadata": {},
   "source": [
    "Similar to \"rchisq()\" function in r."
   ]
  },
  {
   "cell_type": "markdown",
   "id": "67750e87",
   "metadata": {},
   "source": [
    "### Exponential"
   ]
  },
  {
   "cell_type": "code",
   "execution_count": null,
   "id": "7b824d88",
   "metadata": {},
   "outputs": [],
   "source": [
    "from scipy.stats import expon"
   ]
  },
  {
   "cell_type": "code",
   "execution_count": null,
   "id": "0006c01f",
   "metadata": {},
   "outputs": [],
   "source": [
    "## Calculate the first four moments\n",
    "\n",
    "loc, scale = 16, 3\n",
    "mean, var, skew, kurt = expon.stats(loc, scale, moments='mvsk')\n",
    "print(mean, var, skew, kurt)"
   ]
  },
  {
   "cell_type": "code",
   "execution_count": null,
   "id": "97fe50a2",
   "metadata": {},
   "outputs": [],
   "source": [
    "## Probability density function\n",
    "\n",
    "x = np.linspace(expon.ppf(0.99), 100)\n",
    "expon.pdf(x,loc,scale)"
   ]
  },
  {
   "cell_type": "markdown",
   "id": "dee9aa66",
   "metadata": {},
   "source": [
    "Where expon.ppf is similar to \"qexp()\" function and expon.pmf is similar to \"dexp()\" function in r."
   ]
  },
  {
   "cell_type": "code",
   "execution_count": null,
   "id": "649a28e3",
   "metadata": {},
   "outputs": [],
   "source": [
    "## Cummulative distribution function\n",
    "\n",
    "expon.ppf([0.001, 0.5, 0.999],loc,scale)"
   ]
  },
  {
   "cell_type": "markdown",
   "id": "f7853396",
   "metadata": {},
   "source": [
    "Similar to \"pexp()\" function in r."
   ]
  },
  {
   "cell_type": "code",
   "execution_count": null,
   "id": "09ec5483",
   "metadata": {},
   "outputs": [],
   "source": [
    "## Generate random numbers\n",
    "\n",
    "expon.rvs(loc,scale,size=10)"
   ]
  },
  {
   "cell_type": "markdown",
   "id": "481c4c5d",
   "metadata": {},
   "source": [
    "Similar to \"rexp()\" function in r."
   ]
  },
  {
   "cell_type": "markdown",
   "id": "7a7adfce",
   "metadata": {},
   "source": [
    "### Gamma"
   ]
  },
  {
   "cell_type": "code",
   "execution_count": null,
   "id": "c99d4705",
   "metadata": {},
   "outputs": [],
   "source": [
    "from scipy.stats import gamma"
   ]
  },
  {
   "cell_type": "code",
   "execution_count": null,
   "id": "3c8024ca",
   "metadata": {},
   "outputs": [],
   "source": [
    "## Calculate the first four moments\n",
    "\n",
    "a, loc, scale = 5,0, 2\n",
    "mean, var, skew, kurt = gamma.stats(a,loc, scale, moments='mvsk')\n",
    "print(mean, var, skew, kurt)"
   ]
  },
  {
   "cell_type": "code",
   "execution_count": null,
   "id": "f8dab4ea",
   "metadata": {},
   "outputs": [],
   "source": [
    "## Probability density function\n",
    "\n",
    "x = np.linspace(gamma.ppf(0.99, a), 100)\n",
    "gamma.pdf(x, a,loc,scale)"
   ]
  },
  {
   "cell_type": "markdown",
   "id": "15afb9fa",
   "metadata": {},
   "source": [
    "Where gamma.ppf is similar to \"qgamma()\" function and gamma.pmf is similar to \"dgamma()\" function in r."
   ]
  },
  {
   "cell_type": "code",
   "execution_count": null,
   "id": "f157c627",
   "metadata": {},
   "outputs": [],
   "source": [
    "## Cummulative distribution function\n",
    "\n",
    "gamma.ppf([0.001, 0.5, 0.999], a,loc,scale)"
   ]
  },
  {
   "cell_type": "markdown",
   "id": "93658424",
   "metadata": {},
   "source": [
    "Similar to \"pgamma()\" function in r."
   ]
  },
  {
   "cell_type": "code",
   "execution_count": null,
   "id": "f475a87a",
   "metadata": {},
   "outputs": [],
   "source": [
    "## Generate random numbers\n",
    "\n",
    "gamma.rvs(scale,a, size=10)"
   ]
  },
  {
   "cell_type": "markdown",
   "id": "aa478a6d",
   "metadata": {},
   "source": [
    "Similar to \"rgamma()\" function in r."
   ]
  },
  {
   "cell_type": "markdown",
   "id": "08fc059c",
   "metadata": {},
   "source": [
    "### Laplace"
   ]
  },
  {
   "cell_type": "code",
   "execution_count": null,
   "id": "f3955cd3",
   "metadata": {},
   "outputs": [],
   "source": [
    "from scipy.stats import laplace"
   ]
  },
  {
   "cell_type": "code",
   "execution_count": null,
   "id": "95e5cd11",
   "metadata": {},
   "outputs": [],
   "source": [
    "## Calculate the first four moments\n",
    "\n",
    "loc, scale = 16, 3\n",
    "mean, var, skew, kurt = laplace.stats(loc, scale, moments='mvsk')\n",
    "print(mean, var, skew, kurt)"
   ]
  },
  {
   "cell_type": "code",
   "execution_count": null,
   "id": "0e05115a",
   "metadata": {},
   "outputs": [],
   "source": [
    "## Probability density function\n",
    "\n",
    "x = np.linspace(laplace.ppf(0.99), 100)\n",
    "laplace.pdf(x,loc,scale)"
   ]
  },
  {
   "cell_type": "markdown",
   "id": "1829d756",
   "metadata": {},
   "source": [
    "Where laplace.ppf is similar to \"qlaplace()\" function and laplace.pmf is similar to \"dlaplace()\" function in r."
   ]
  },
  {
   "cell_type": "code",
   "execution_count": null,
   "id": "b07c62e3",
   "metadata": {},
   "outputs": [],
   "source": [
    "## Cummulative distribution function\n",
    "\n",
    "laplace.ppf([0.001, 0.5, 0.999],loc,scale)"
   ]
  },
  {
   "cell_type": "markdown",
   "id": "ee63dfa9",
   "metadata": {},
   "source": [
    "Similar to \"plaplace()\" function in r."
   ]
  },
  {
   "cell_type": "code",
   "execution_count": null,
   "id": "cfdde4c1",
   "metadata": {},
   "outputs": [],
   "source": [
    "## Generate random numbers\n",
    "\n",
    "laplace.rvs(loc,scale,size=10)"
   ]
  },
  {
   "cell_type": "markdown",
   "id": "ff2bd68d",
   "metadata": {},
   "source": [
    "Similar to \"rlaplace()\" function in r."
   ]
  },
  {
   "cell_type": "markdown",
   "id": "3b989ae1",
   "metadata": {},
   "source": [
    "### Logistic"
   ]
  },
  {
   "cell_type": "code",
   "execution_count": null,
   "id": "5028fdf3",
   "metadata": {},
   "outputs": [],
   "source": [
    "from scipy.stats import logistic"
   ]
  },
  {
   "cell_type": "code",
   "execution_count": null,
   "id": "6d243778",
   "metadata": {},
   "outputs": [],
   "source": [
    "## Calculate the first four moments\n",
    "\n",
    "loc, scale = 16, 3\n",
    "mean, var, skew, kurt = logistic.stats(loc, scale, moments='mvsk')\n",
    "print(mean, var, skew, kurt)"
   ]
  },
  {
   "cell_type": "code",
   "execution_count": null,
   "id": "eee0911f",
   "metadata": {},
   "outputs": [],
   "source": [
    "## Probability density function\n",
    "\n",
    "x = np.linspace(logistic.ppf(0.99), 100)\n",
    "logistic.pdf(x,loc, scale)"
   ]
  },
  {
   "cell_type": "markdown",
   "id": "0c44fc3b",
   "metadata": {},
   "source": [
    "Where logistic.ppf is similar to \"qlogis()\" function and logistic.pmf is similar to \"dlogis()\" function in r."
   ]
  },
  {
   "cell_type": "code",
   "execution_count": null,
   "id": "8bcd2a86",
   "metadata": {},
   "outputs": [],
   "source": [
    "## Cummulative distribution function\n",
    "\n",
    "logistic.ppf([0.001, 0.5, 0.999],loc, scale)"
   ]
  },
  {
   "cell_type": "markdown",
   "id": "3b1ce1f9",
   "metadata": {},
   "source": [
    "Similar to \"plogis()\" function in r."
   ]
  },
  {
   "cell_type": "code",
   "execution_count": null,
   "id": "7daf87a3",
   "metadata": {},
   "outputs": [],
   "source": [
    "## Generate random numbers\n",
    "\n",
    "logistic.rvs(loc, scale,size=10)"
   ]
  },
  {
   "cell_type": "markdown",
   "id": "b59e4120",
   "metadata": {},
   "source": [
    "Similar to \"rlogis()\" function in r."
   ]
  },
  {
   "cell_type": "markdown",
   "id": "3fb9d2be",
   "metadata": {},
   "source": [
    "### Noncentral Chi-square"
   ]
  },
  {
   "cell_type": "code",
   "execution_count": null,
   "id": "70c098fd",
   "metadata": {},
   "outputs": [],
   "source": [
    "from scipy.stats import ncx2"
   ]
  },
  {
   "cell_type": "code",
   "execution_count": null,
   "id": "187eedec",
   "metadata": {},
   "outputs": [],
   "source": [
    "## Calculate the first four moments\n",
    "\n",
    "df, nc = 30, 0.88\n",
    "mean, var, skew, kurt = ncx2.stats(df, nc, moments='mvsk')\n",
    "print(mean, var, skew, kurt)"
   ]
  },
  {
   "cell_type": "code",
   "execution_count": null,
   "id": "8eddb1c1",
   "metadata": {},
   "outputs": [],
   "source": [
    "## Probability density function\n",
    "\n",
    "x = np.linspace(ncx2.ppf(0.99, df, nc), 100)\n",
    "ncx2.pdf(x, df, nc)"
   ]
  },
  {
   "cell_type": "code",
   "execution_count": null,
   "id": "67ebb92c",
   "metadata": {},
   "outputs": [],
   "source": [
    "## Cummulative distribution function\n",
    "\n",
    "ncx2.ppf([0.001, 0.5, 0.999], df, nc)"
   ]
  },
  {
   "cell_type": "code",
   "execution_count": null,
   "id": "4f8373b4",
   "metadata": {},
   "outputs": [],
   "source": [
    "## Generate random numbers\n",
    "\n",
    "ncx2.rvs(df, nc, size=10)"
   ]
  },
  {
   "cell_type": "markdown",
   "id": "540c1188",
   "metadata": {},
   "source": [
    "The corresponding r codes are same as the central chisquare."
   ]
  },
  {
   "cell_type": "markdown",
   "id": "21c0cb10",
   "metadata": {},
   "source": [
    "### Noncentral F"
   ]
  },
  {
   "cell_type": "code",
   "execution_count": null,
   "id": "bdefb19f",
   "metadata": {},
   "outputs": [],
   "source": [
    "from scipy.stats import ncf"
   ]
  },
  {
   "cell_type": "code",
   "execution_count": null,
   "id": "4fe952e3",
   "metadata": {},
   "outputs": [],
   "source": [
    "## Calculate the first four moments\n",
    "\n",
    "dfn, dfd, nc = 18, 23, 0.342\n",
    "mean, var, skew, kurt = ncf.stats(dfn, dfd, nc, moments='mvsk')\n",
    "print(mean, var, skew, kurt)"
   ]
  },
  {
   "cell_type": "code",
   "execution_count": null,
   "id": "1fd7fc86",
   "metadata": {},
   "outputs": [],
   "source": [
    "## Probability density function\n",
    "\n",
    "x = np.linspace(ncf.ppf(0.99, dfn, dfd, nc), 100)\n",
    "ncf.pdf(x, dfn, dfd, nc)"
   ]
  },
  {
   "cell_type": "code",
   "execution_count": null,
   "id": "1e287b47",
   "metadata": {},
   "outputs": [],
   "source": [
    "## Cummulative distribution function\n",
    "\n",
    "ncf.ppf([0.001, 0.5, 0.999], dfn, dfd, nc)"
   ]
  },
  {
   "cell_type": "code",
   "execution_count": null,
   "id": "a8846fa0",
   "metadata": {},
   "outputs": [],
   "source": [
    "## Generate random numbers\n",
    "\n",
    "ncf.rvs(dfn, dfd, nc, size=10)"
   ]
  },
  {
   "cell_type": "markdown",
   "id": "e4e6d03a",
   "metadata": {},
   "source": [
    "### Noncentral t"
   ]
  },
  {
   "cell_type": "code",
   "execution_count": null,
   "id": "eb4f8c8d",
   "metadata": {},
   "outputs": [],
   "source": [
    "from scipy.stats import nct"
   ]
  },
  {
   "cell_type": "code",
   "execution_count": null,
   "id": "29334b15",
   "metadata": {},
   "outputs": [],
   "source": [
    "## Calculate the first four moments\n",
    "\n",
    "df, nc = 22, 0.13\n",
    "mean, var, skew, kurt = nct.stats(df, nc, moments='mvsk')\n",
    "print(mean, var, skew, kurt)"
   ]
  },
  {
   "cell_type": "code",
   "execution_count": null,
   "id": "d9fb82bb",
   "metadata": {},
   "outputs": [],
   "source": [
    "## Probability density function\n",
    "\n",
    "x = np.linspace(nct.ppf(0.99, df, nc), 100)\n",
    "nct.pdf(x, df, nc)"
   ]
  },
  {
   "cell_type": "code",
   "execution_count": null,
   "id": "eee20d2e",
   "metadata": {},
   "outputs": [],
   "source": [
    "## Cummulative distribution function\n",
    "\n",
    "nct.ppf([0.001, 0.5, 0.999], df, nc)"
   ]
  },
  {
   "cell_type": "code",
   "execution_count": null,
   "id": "24d5a440",
   "metadata": {},
   "outputs": [],
   "source": [
    "## Generate random numbers\n",
    "\n",
    "nct.rvs(df, nc, size=10)"
   ]
  },
  {
   "cell_type": "markdown",
   "id": "de2b7556",
   "metadata": {},
   "source": [
    "### Normal"
   ]
  },
  {
   "cell_type": "code",
   "execution_count": null,
   "id": "431269fb",
   "metadata": {},
   "outputs": [],
   "source": [
    "from scipy.stats import norm"
   ]
  },
  {
   "cell_type": "code",
   "execution_count": null,
   "id": "0a341494",
   "metadata": {},
   "outputs": [],
   "source": [
    "## Calculate the first four moments\n",
    "\n",
    "loc, scale = 10,2.4\n",
    "mean, var, skew, kurt = norm.stats(loc,scale, moments='mvsk')\n",
    "print(mean, var, skew, kurt)"
   ]
  },
  {
   "cell_type": "code",
   "execution_count": null,
   "id": "d5cb6ca1",
   "metadata": {},
   "outputs": [],
   "source": [
    "## Probability density function\n",
    "\n",
    "x = np.linspace(norm.ppf(0.99), 100)\n",
    "norm.pdf(x,loc,scale)"
   ]
  },
  {
   "cell_type": "markdown",
   "id": "21322ad9",
   "metadata": {},
   "source": [
    "Where norm.ppf is similar to \"qnorm()\" function and norm.pmf is similar to \"dnorm()\" function in r."
   ]
  },
  {
   "cell_type": "code",
   "execution_count": null,
   "id": "80a2bcde",
   "metadata": {},
   "outputs": [],
   "source": [
    "## Cummulative distribution function\n",
    "\n",
    "norm.ppf([0.001, 0.5, 0.999],loc,scale)"
   ]
  },
  {
   "cell_type": "markdown",
   "id": "a96fd2c7",
   "metadata": {},
   "source": [
    "Similar to \"pnorm()\" function in r."
   ]
  },
  {
   "cell_type": "code",
   "execution_count": null,
   "id": "8bf15b69",
   "metadata": {},
   "outputs": [],
   "source": [
    "## Generate random numbers\n",
    "\n",
    "norm.rvs(size=10)"
   ]
  },
  {
   "cell_type": "markdown",
   "id": "47b8dda7",
   "metadata": {},
   "source": [
    "Similar to \"rnorm()\" function in r."
   ]
  },
  {
   "cell_type": "markdown",
   "id": "5e5bbeff",
   "metadata": {},
   "source": [
    "### Pareto"
   ]
  },
  {
   "cell_type": "code",
   "execution_count": null,
   "id": "ce2742ad",
   "metadata": {},
   "outputs": [],
   "source": [
    "from scipy.stats import pareto"
   ]
  },
  {
   "cell_type": "code",
   "execution_count": null,
   "id": "f4fa1dcb",
   "metadata": {},
   "outputs": [],
   "source": [
    "## Calculate the first four moments\n",
    "\n",
    "b = 5\n",
    "mean, var, skew, kurt = pareto.stats(b, moments='mvsk')\n",
    "print(mean, var, skew, kurt)"
   ]
  },
  {
   "cell_type": "code",
   "execution_count": null,
   "id": "9619bff9",
   "metadata": {},
   "outputs": [],
   "source": [
    "## Probability density function\n",
    "\n",
    "x = np.linspace(pareto.ppf(0.99, b), 100)\n",
    "pareto.pdf(x, b)"
   ]
  },
  {
   "cell_type": "markdown",
   "id": "66c6ee85",
   "metadata": {},
   "source": [
    "Where pareto.ppf is similar to \"qpareto()\" function and pareto.pmf is similar to \"dpareto()\" function in r."
   ]
  },
  {
   "cell_type": "code",
   "execution_count": null,
   "id": "4ad6d4c9",
   "metadata": {},
   "outputs": [],
   "source": [
    "## Cummulative distribution function\n",
    "\n",
    "pareto.ppf([0.001, 0.5, 0.999], b)"
   ]
  },
  {
   "cell_type": "markdown",
   "id": "e39b3e0d",
   "metadata": {},
   "source": [
    "Similar to \"ppareto()\" function in r."
   ]
  },
  {
   "cell_type": "code",
   "execution_count": null,
   "id": "aac8e5a6",
   "metadata": {},
   "outputs": [],
   "source": [
    "## Generate random numbers\n",
    "\n",
    "pareto.rvs(b, size=10)"
   ]
  },
  {
   "cell_type": "markdown",
   "id": "158a4844",
   "metadata": {},
   "source": [
    "Similar to \"rpareto()\" function in r."
   ]
  },
  {
   "cell_type": "markdown",
   "id": "74a50423",
   "metadata": {},
   "source": [
    "### Rayleigh"
   ]
  },
  {
   "cell_type": "code",
   "execution_count": null,
   "id": "bfb9df59",
   "metadata": {},
   "outputs": [],
   "source": [
    "from scipy.stats import rayleigh"
   ]
  },
  {
   "cell_type": "code",
   "execution_count": null,
   "id": "fcd272de",
   "metadata": {},
   "outputs": [],
   "source": [
    "## Calculate the first four moments\n",
    "\n",
    "loc, scale = 16, 3\n",
    "mean, var, skew, kurt = rayleigh.stats(loc, scale, moments='mvsk')\n",
    "print(mean, var, skew, kurt)"
   ]
  },
  {
   "cell_type": "code",
   "execution_count": null,
   "id": "c4edeeb0",
   "metadata": {},
   "outputs": [],
   "source": [
    "## Probability density function\n",
    "\n",
    "x = np.linspace(rayleigh.ppf(0.99), 100)\n",
    "rayleigh.pdf(x,loc, scale)"
   ]
  },
  {
   "cell_type": "markdown",
   "id": "22384111",
   "metadata": {},
   "source": [
    "Where rayleigh.ppf is similar to \"qrayleigh()\" function and rayleigh.pmf is similar to \"drayleigh()\" function in r."
   ]
  },
  {
   "cell_type": "code",
   "execution_count": null,
   "id": "20f6b307",
   "metadata": {},
   "outputs": [],
   "source": [
    "## Cummulative distribution function\n",
    "\n",
    "rayleigh.ppf([0.001, 0.5, 0.999],loc, scale)"
   ]
  },
  {
   "cell_type": "markdown",
   "id": "d046d0af",
   "metadata": {},
   "source": [
    "Similar to \"prayleigh()\" function in r."
   ]
  },
  {
   "cell_type": "code",
   "execution_count": null,
   "id": "be0d92da",
   "metadata": {},
   "outputs": [],
   "source": [
    "## Generate random numbers\n",
    "\n",
    "rayleigh.rvs(loc, scale,size=10)"
   ]
  },
  {
   "cell_type": "markdown",
   "id": "c058e030",
   "metadata": {},
   "source": [
    "Similar to \"rrayleigh()\" function in r."
   ]
  },
  {
   "cell_type": "markdown",
   "id": "aface0af",
   "metadata": {},
   "source": [
    "### Student t"
   ]
  },
  {
   "cell_type": "code",
   "execution_count": null,
   "id": "1e19e6ab",
   "metadata": {},
   "outputs": [],
   "source": [
    "from scipy.stats import t"
   ]
  },
  {
   "cell_type": "code",
   "execution_count": null,
   "id": "d83305bf",
   "metadata": {},
   "outputs": [],
   "source": [
    "## Calculate the first four moments\n",
    "\n",
    "df,loc,scale = 5, 12, 3 \n",
    "mean, var, skew, kurt = t.stats(df,loc,scale, moments='mvsk')\n",
    "print(mean, var, skew, kurt)"
   ]
  },
  {
   "cell_type": "code",
   "execution_count": null,
   "id": "cc750a9f",
   "metadata": {},
   "outputs": [],
   "source": [
    "## Probability density function\n",
    "\n",
    "x = np.linspace(t.ppf(0.99, df), 100)\n",
    "t.pdf(x, df,loc,scale)"
   ]
  },
  {
   "cell_type": "markdown",
   "id": "169f4de3",
   "metadata": {},
   "source": [
    "Where t.ppf is similar to \"qt()\" function and t.pmf is similar to \"dt()\" function in r."
   ]
  },
  {
   "cell_type": "code",
   "execution_count": null,
   "id": "01156ece",
   "metadata": {},
   "outputs": [],
   "source": [
    "## Cummulative distribution function\n",
    "\n",
    "t.ppf([0.001, 0.5, 0.999], df,loc,scale)"
   ]
  },
  {
   "cell_type": "markdown",
   "id": "87c4d5e1",
   "metadata": {},
   "source": [
    "Similar to \"pt()\" function in r."
   ]
  },
  {
   "cell_type": "code",
   "execution_count": null,
   "id": "139f1eb3",
   "metadata": {},
   "outputs": [],
   "source": [
    "## Generate random numbers\n",
    "\n",
    "t.rvs(df, size=10)"
   ]
  },
  {
   "cell_type": "markdown",
   "id": "e1f2328b",
   "metadata": {},
   "source": [
    "Similar to \"rt()\" function in r."
   ]
  },
  {
   "cell_type": "markdown",
   "id": "52cd5e88",
   "metadata": {},
   "source": [
    "### Uniform"
   ]
  },
  {
   "cell_type": "code",
   "execution_count": null,
   "id": "ec1b1590",
   "metadata": {},
   "outputs": [],
   "source": [
    "from scipy.stats import uniform"
   ]
  },
  {
   "cell_type": "code",
   "execution_count": null,
   "id": "c307df82",
   "metadata": {},
   "outputs": [],
   "source": [
    "## Calculate the first four moments\n",
    "\n",
    "loc,scale=5,2\n",
    "mean, var, skew, kurt = uniform.stats(loc,scale,moments='mvsk')\n",
    "print(mean, var, skew, kurt)"
   ]
  },
  {
   "cell_type": "code",
   "execution_count": null,
   "id": "a4bc4257",
   "metadata": {},
   "outputs": [],
   "source": [
    "## Probability density function\n",
    "\n",
    "x = np.linspace(uniform.ppf(0.99), 100)\n",
    "uniform.pdf(x,loc,scale)"
   ]
  },
  {
   "cell_type": "markdown",
   "id": "79efc214",
   "metadata": {},
   "source": [
    "Where uniform.ppf is similar to \"qunif()\" function and uniform.pmf is similar to \"dunif()\" function in r."
   ]
  },
  {
   "cell_type": "code",
   "execution_count": null,
   "id": "62b418ba",
   "metadata": {},
   "outputs": [],
   "source": [
    "## Cummulative distribution function\n",
    "\n",
    "uniform.ppf([0.001, 0.5, 0.999])"
   ]
  },
  {
   "cell_type": "markdown",
   "id": "3aea659a",
   "metadata": {},
   "source": [
    "Similar to \"punif()\" function in r."
   ]
  },
  {
   "cell_type": "code",
   "execution_count": null,
   "id": "dfb7fe7c",
   "metadata": {},
   "outputs": [],
   "source": [
    "## Generate random numbers\n",
    "\n",
    "uniform.rvs(size=10)"
   ]
  },
  {
   "cell_type": "markdown",
   "id": "d0268ace",
   "metadata": {},
   "source": [
    "Similar to \"runif()\" function in r."
   ]
  },
  {
   "cell_type": "markdown",
   "id": "1ccc3b88",
   "metadata": {},
   "source": [
    "Also there are several other continuous distributions under scipy.stats."
   ]
  }
 ],
 "metadata": {
  "jupytext": {
   "formats": "ipynb,md:myst",
   "text_representation": {
    "extension": ".md",
    "format_name": "myst",
    "format_version": 0.13,
    "jupytext_version": "1.10.3"
   }
  },
  "kernelspec": {
   "display_name": "Python 3 (ipykernel)",
   "language": "python",
   "name": "python3"
  },
  "source_map": [
   13,
   21,
   26,
   30,
   34,
   38,
   46,
   51,
   55,
   59,
   63,
   67,
   71,
   75,
   79,
   87,
   92,
   96,
   100,
   104,
   108,
   112,
   116,
   120,
   128,
   133,
   137,
   141,
   145,
   149,
   153,
   157,
   161,
   169,
   174,
   178,
   182,
   186,
   190,
   194,
   198,
   202,
   210,
   215,
   219,
   223,
   227,
   231,
   235,
   239,
   243,
   251,
   256,
   260,
   264,
   268,
   272,
   276,
   280,
   284,
   292,
   297,
   301,
   305,
   309,
   313,
   317,
   321,
   325,
   333,
   338,
   342,
   346,
   350,
   354,
   358,
   372,
   376,
   380,
   384,
   392,
   397,
   401,
   405,
   409,
   413,
   417,
   421,
   425,
   430,
   434,
   438,
   442,
   446,
   450,
   454,
   458,
   466,
   471,
   475,
   479,
   483,
   487,
   491,
   495,
   499,
   507,
   512,
   516,
   520,
   524,
   528,
   532,
   536,
   540,
   548,
   553,
   557,
   561,
   565,
   569,
   573,
   577,
   581,
   589,
   594,
   598,
   602,
   606,
   610,
   614,
   618,
   622,
   630,
   635,
   639,
   643,
   647,
   651,
   655,
   659,
   663,
   671,
   678,
   684,
   688,
   692,
   696,
   700,
   708,
   715,
   721,
   725,
   729,
   733,
   741,
   748,
   754,
   758,
   762,
   766,
   774,
   779,
   783,
   787,
   791,
   795,
   799,
   803,
   807,
   815,
   820,
   824,
   828,
   832,
   836,
   840,
   844,
   848,
   856,
   861,
   865,
   869,
   873,
   877,
   881,
   885,
   889,
   897,
   902,
   906,
   910,
   914,
   918,
   922,
   926,
   930,
   938,
   943,
   947,
   951,
   955,
   959,
   963
  ]
 },
 "nbformat": 4,
 "nbformat_minor": 5
}