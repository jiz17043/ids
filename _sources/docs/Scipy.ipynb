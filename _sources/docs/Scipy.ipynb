{
 "cells": [
  {
   "cell_type": "markdown",
   "id": "bb2c084a",
   "metadata": {},
   "source": [
    "# Scipy\n",
    "\n",
    "SciPy is a collection of mathematical algorithms and convenience functions built on the NumPy extension of Python. It adds significant power to the interactive Python session by providing the user with high-level commands and classes for manipulating and visualizing data. With SciPy, an interactive Python session becomes a data-processing and system-prototyping environment. \n",
    "\n",
    "The additional benefit of basing SciPy on Python is that this also makes a powerful programming language available for use in developing sophisticated programs and specialized applications. Everything from parallel programming to web and data-base subroutines and classes have been made available to the Python programmer. All of this power is available in addition to the mathematical libraries in SciPy."
   ]
  },
  {
   "cell_type": "code",
   "execution_count": null,
   "id": "0f18ab01",
   "metadata": {},
   "outputs": [],
   "source": [
    "#Importing stats from scipy package\n",
    "\n",
    "from scipy import stats\n",
    "import numpy as np"
   ]
  },
  {
   "cell_type": "markdown",
   "id": "c6a68002",
   "metadata": {},
   "source": [
    "## Discrete Distributions"
   ]
  },
  {
   "cell_type": "markdown",
   "id": "b38ca6ef",
   "metadata": {},
   "source": [
    "### Bernoulli"
   ]
  },
  {
   "cell_type": "code",
   "execution_count": null,
   "id": "c713636c",
   "metadata": {},
   "outputs": [],
   "source": [
    "from scipy.stats import bernoulli"
   ]
  },
  {
   "cell_type": "code",
   "execution_count": null,
   "id": "1cc5de87",
   "metadata": {},
   "outputs": [],
   "source": [
    "## Calculate the first four moments\n",
    "\n",
    "p = 0.6\n",
    "mean, var, skew, kurt = bernoulli.stats(p, moments='mvsk')\n",
    "print(mean, var, skew, kurt)"
   ]
  },
  {
   "cell_type": "code",
   "execution_count": null,
   "id": "0ad0f2a3",
   "metadata": {},
   "outputs": [],
   "source": [
    "## Probability mass function\n",
    "\n",
    "x = np.arange(bernoulli.ppf(0.99, p))\n",
    "bernoulli.pmf(x, p)"
   ]
  },
  {
   "cell_type": "markdown",
   "id": "e8cc8c7e",
   "metadata": {},
   "source": [
    "Where bernoulli.ppf is similar to \"qbern()\" function and bernoulli.pmf is similar to \"dbern()\" function in r."
   ]
  },
  {
   "cell_type": "code",
   "execution_count": null,
   "id": "b1c56f46",
   "metadata": {},
   "outputs": [],
   "source": [
    "## Cummulative distribution function\n",
    "\n",
    "bernoulli.cdf(x, p)"
   ]
  },
  {
   "cell_type": "markdown",
   "id": "987a3d39",
   "metadata": {},
   "source": [
    "Similar to \"pbern()\" function in r."
   ]
  },
  {
   "cell_type": "code",
   "execution_count": null,
   "id": "8236f1cb",
   "metadata": {},
   "outputs": [],
   "source": [
    "## Generate random numbers\n",
    "\n",
    "bernoulli.rvs(p, size=10)"
   ]
  },
  {
   "cell_type": "markdown",
   "id": "00ed03fd",
   "metadata": {},
   "source": [
    "Similar to \"rbern()\" function in r."
   ]
  },
  {
   "cell_type": "markdown",
   "id": "66f65962",
   "metadata": {},
   "source": [
    "### Betabinom"
   ]
  },
  {
   "cell_type": "code",
   "execution_count": null,
   "id": "baecea67",
   "metadata": {},
   "outputs": [],
   "source": [
    "from scipy.stats import betabinom"
   ]
  },
  {
   "cell_type": "code",
   "execution_count": null,
   "id": "d63fcbc0",
   "metadata": {},
   "outputs": [],
   "source": [
    "## Calculate the first four moments\n",
    "\n",
    "n, a, b = 7, 1.7, 0.42\n",
    "mean, var, skew, kurt = betabinom.stats(n, a, b, moments='mvsk')\n",
    "print(mean, var, skew, kurt)"
   ]
  },
  {
   "cell_type": "code",
   "execution_count": null,
   "id": "c9cbd0cf",
   "metadata": {},
   "outputs": [],
   "source": [
    "## Probability mass function\n",
    "\n",
    "x = np.arange(betabinom.ppf(0.99, n, a, b))\n",
    "betabinom.pmf(x, n, a, b)"
   ]
  },
  {
   "cell_type": "markdown",
   "id": "24187bfb",
   "metadata": {},
   "source": [
    "Where betabinom.ppf is similar to \"qbb()\" function and betabinom.pmf is similar to \"dbb()\" function in r."
   ]
  },
  {
   "cell_type": "code",
   "execution_count": null,
   "id": "bb267ee9",
   "metadata": {},
   "outputs": [],
   "source": [
    "## Cummulative distribution function\n",
    "\n",
    "betabinom.cdf(x, n, a, b)"
   ]
  },
  {
   "cell_type": "markdown",
   "id": "6868c0a0",
   "metadata": {},
   "source": [
    "Similar to \"pbb()\" function in r."
   ]
  },
  {
   "cell_type": "code",
   "execution_count": null,
   "id": "2df8d146",
   "metadata": {},
   "outputs": [],
   "source": [
    "## Generate random numbers\n",
    "\n",
    "betabinom.rvs(n, a, b, size=10)"
   ]
  },
  {
   "cell_type": "markdown",
   "id": "d20f3f45",
   "metadata": {},
   "source": [
    "Similar to \"rbb()\" function in r."
   ]
  },
  {
   "cell_type": "markdown",
   "id": "6feac58e",
   "metadata": {},
   "source": [
    "### Binomial"
   ]
  },
  {
   "cell_type": "code",
   "execution_count": null,
   "id": "cac0957e",
   "metadata": {},
   "outputs": [],
   "source": [
    "from scipy.stats import binom"
   ]
  },
  {
   "cell_type": "code",
   "execution_count": null,
   "id": "d7784581",
   "metadata": {},
   "outputs": [],
   "source": [
    "## Calculate the first four moments\n",
    "\n",
    "n, p = 7, 0.7\n",
    "mean, var, skew, kurt = binom.stats(n, p, moments='mvsk')\n",
    "print(mean, var, skew, kurt)"
   ]
  },
  {
   "cell_type": "code",
   "execution_count": null,
   "id": "3fee0b9a",
   "metadata": {},
   "outputs": [],
   "source": [
    "## Probability mass function\n",
    "\n",
    "x = np.arange(binom.ppf(0.99, n, p))\n",
    "binom.pmf(x, n, p)"
   ]
  },
  {
   "cell_type": "markdown",
   "id": "26bc5f42",
   "metadata": {},
   "source": [
    "Where binom.ppf is similar to \"qbinom()\" function and binom.pmf is similar to \"dbinom()\" function in r."
   ]
  },
  {
   "cell_type": "code",
   "execution_count": null,
   "id": "614c4e24",
   "metadata": {},
   "outputs": [],
   "source": [
    "## Cummulative distribution function\n",
    "\n",
    "binom.cdf(x, n, p)"
   ]
  },
  {
   "cell_type": "markdown",
   "id": "a951e9ba",
   "metadata": {},
   "source": [
    "Similar to \"pbinom()\" function in r."
   ]
  },
  {
   "cell_type": "code",
   "execution_count": null,
   "id": "5f29cae1",
   "metadata": {},
   "outputs": [],
   "source": [
    "## Generate random numbers\n",
    "\n",
    "binom.rvs(n, p, size=10)"
   ]
  },
  {
   "cell_type": "markdown",
   "id": "923cc3f4",
   "metadata": {},
   "source": [
    "Similar to \"rbinom()\" function in r."
   ]
  },
  {
   "cell_type": "markdown",
   "id": "a5143b6a",
   "metadata": {},
   "source": [
    "### Geometric"
   ]
  },
  {
   "cell_type": "code",
   "execution_count": null,
   "id": "204ed093",
   "metadata": {},
   "outputs": [],
   "source": [
    "from scipy.stats import geom"
   ]
  },
  {
   "cell_type": "code",
   "execution_count": null,
   "id": "3e8c399e",
   "metadata": {},
   "outputs": [],
   "source": [
    "## Calculate the first four moments\n",
    "\n",
    "p = 0.7\n",
    "mean, var, skew, kurt = geom.stats(p, moments='mvsk')\n",
    "print(mean, var, skew, kurt)"
   ]
  },
  {
   "cell_type": "code",
   "execution_count": null,
   "id": "1fc747af",
   "metadata": {},
   "outputs": [],
   "source": [
    "## Probability mass function\n",
    "\n",
    "x = np.arange(geom.ppf(0.99, p))\n",
    "geom.pmf(x, p)"
   ]
  },
  {
   "cell_type": "markdown",
   "id": "5b79ec87",
   "metadata": {},
   "source": [
    "Where geom.ppf is similar to \"qgeom()\" function and geom.pmf is similar to \"dgeom()\" function in r."
   ]
  },
  {
   "cell_type": "code",
   "execution_count": null,
   "id": "f33a11e7",
   "metadata": {},
   "outputs": [],
   "source": [
    "## Cummulative distribution function\n",
    "\n",
    "geom.cdf(x, p)"
   ]
  },
  {
   "cell_type": "markdown",
   "id": "ad558941",
   "metadata": {},
   "source": [
    "Similar to \"pgeom()\" function in r."
   ]
  },
  {
   "cell_type": "code",
   "execution_count": null,
   "id": "a409f594",
   "metadata": {},
   "outputs": [],
   "source": [
    "## Generate random numbers\n",
    "\n",
    "geom.rvs(p, size=10)"
   ]
  },
  {
   "cell_type": "markdown",
   "id": "96e3ceeb",
   "metadata": {},
   "source": [
    "Similar to \"rgeom()\" function in r."
   ]
  },
  {
   "cell_type": "markdown",
   "id": "8995a05c",
   "metadata": {},
   "source": [
    "### Hypergeometric"
   ]
  },
  {
   "cell_type": "code",
   "execution_count": null,
   "id": "66cbf49c",
   "metadata": {},
   "outputs": [],
   "source": [
    "from scipy.stats import hypergeom"
   ]
  },
  {
   "cell_type": "code",
   "execution_count": null,
   "id": "e2a4b01a",
   "metadata": {},
   "outputs": [],
   "source": [
    "## Calculate the first four moments\n",
    "\n",
    "M, n, N = 18, 3, 12\n",
    "mean, var, skew, kurt = hypergeom.stats(M, n, N, moments='mvsk')\n",
    "print(mean, var, skew, kurt)"
   ]
  },
  {
   "cell_type": "code",
   "execution_count": null,
   "id": "b2a36a7c",
   "metadata": {},
   "outputs": [],
   "source": [
    "## Probability mass function\n",
    "\n",
    "x =  np.arange(hypergeom.ppf(0.99,M,n,N))\n",
    "hypergeom.pmf(x,M, n, N)"
   ]
  },
  {
   "cell_type": "markdown",
   "id": "44b1f4eb",
   "metadata": {},
   "source": [
    "Where hypergeom.ppf is similar to \"qhyper()\" function and hypergeom.pmf is similar to \"dhyper()\" function in r."
   ]
  },
  {
   "cell_type": "code",
   "execution_count": null,
   "id": "43d9f43b",
   "metadata": {},
   "outputs": [],
   "source": [
    "## Cummulative distribution function\n",
    "\n",
    "hypergeom.cdf(x, M, n, N)"
   ]
  },
  {
   "cell_type": "markdown",
   "id": "f868b20a",
   "metadata": {},
   "source": [
    "Similar to \"phyper()\" function in r."
   ]
  },
  {
   "cell_type": "code",
   "execution_count": null,
   "id": "fdda7082",
   "metadata": {},
   "outputs": [],
   "source": [
    "## Generate random numbers\n",
    "\n",
    "hypergeom.rvs(M, n, N, size=10)"
   ]
  },
  {
   "cell_type": "markdown",
   "id": "39941be4",
   "metadata": {},
   "source": [
    "Similar to \"rhyper()\" function in r."
   ]
  },
  {
   "cell_type": "markdown",
   "id": "ec1b4b11",
   "metadata": {},
   "source": [
    "### Negative Binomial"
   ]
  },
  {
   "cell_type": "code",
   "execution_count": null,
   "id": "3f153135",
   "metadata": {},
   "outputs": [],
   "source": [
    "from scipy.stats import nbinom"
   ]
  },
  {
   "cell_type": "code",
   "execution_count": null,
   "id": "4f2e94ad",
   "metadata": {},
   "outputs": [],
   "source": [
    "## Calculate the first four moments\n",
    "\n",
    "n, p = 7, 0.7\n",
    "mean, var, skew, kurt = nbinom.stats(n, p, moments='mvsk')\n",
    "print(mean, var, skew, kurt)"
   ]
  },
  {
   "cell_type": "code",
   "execution_count": null,
   "id": "14e8eddb",
   "metadata": {},
   "outputs": [],
   "source": [
    "## Probability mass function\n",
    "\n",
    "x = np.arange(nbinom.ppf(0.99, n, p))\n",
    "nbinom.pmf(x, n, p)"
   ]
  },
  {
   "cell_type": "markdown",
   "id": "3b94fd8a",
   "metadata": {},
   "source": [
    "Where nbinom.ppf is similar to \"qnbinom()\" function and nbinom.pmf is similar to \"dnbinom()\" function in r."
   ]
  },
  {
   "cell_type": "code",
   "execution_count": null,
   "id": "29a5f8c8",
   "metadata": {},
   "outputs": [],
   "source": [
    "## Cummulative distribution function\n",
    "\n",
    "nbinom.cdf(x, n, p)"
   ]
  },
  {
   "cell_type": "markdown",
   "id": "e670d718",
   "metadata": {},
   "source": [
    "Similar to \"pnbinom()\" function in r."
   ]
  },
  {
   "cell_type": "code",
   "execution_count": null,
   "id": "b7fbf22a",
   "metadata": {},
   "outputs": [],
   "source": [
    "## Generate random numbers\n",
    "\n",
    "nbinom.rvs(n, p, size=10)"
   ]
  },
  {
   "cell_type": "markdown",
   "id": "cec7928d",
   "metadata": {},
   "source": [
    "Similar to \"rnbinom()\" function in r."
   ]
  },
  {
   "cell_type": "markdown",
   "id": "a3278388",
   "metadata": {},
   "source": [
    "### Poisson"
   ]
  },
  {
   "cell_type": "code",
   "execution_count": null,
   "id": "9e4a1d1b",
   "metadata": {},
   "outputs": [],
   "source": [
    "from scipy.stats import poisson"
   ]
  },
  {
   "cell_type": "code",
   "execution_count": null,
   "id": "37648272",
   "metadata": {},
   "outputs": [],
   "source": [
    "## Calculate the first four moments\n",
    "\n",
    "mu = 0.7\n",
    "mean, var, skew, kurt = poisson.stats(mu, moments='mvsk')\n",
    "print(mean, var, skew, kurt)"
   ]
  },
  {
   "cell_type": "code",
   "execution_count": null,
   "id": "bd07f5b9",
   "metadata": {},
   "outputs": [],
   "source": [
    "## Probability mass function\n",
    "\n",
    "x = np.arange(poisson.ppf(0.99, mu))\n",
    "poisson.pmf(x, mu)"
   ]
  },
  {
   "cell_type": "markdown",
   "id": "86dd3958",
   "metadata": {},
   "source": [
    "Where poisson.ppf is similar to \"qpois()\" function and poisson.pmf is similar to \"dpois()\" function in r."
   ]
  },
  {
   "cell_type": "code",
   "execution_count": null,
   "id": "6adf431d",
   "metadata": {},
   "outputs": [],
   "source": [
    "## Cummulative distribution function\n",
    "\n",
    "poisson.cdf(x, mu)"
   ]
  },
  {
   "cell_type": "markdown",
   "id": "bb0bfd5e",
   "metadata": {},
   "source": [
    "Similar to \"ppois()\" function in r."
   ]
  },
  {
   "cell_type": "code",
   "execution_count": null,
   "id": "fcc082c5",
   "metadata": {},
   "outputs": [],
   "source": [
    "## Generate random numbers\n",
    "\n",
    "poisson.rvs(mu, size=10)"
   ]
  },
  {
   "cell_type": "markdown",
   "id": "109c0d2e",
   "metadata": {},
   "source": [
    "Similar to \"rpois()\" function in r."
   ]
  },
  {
   "cell_type": "markdown",
   "id": "0c548424",
   "metadata": {},
   "source": [
    "### Uniform"
   ]
  },
  {
   "cell_type": "code",
   "execution_count": null,
   "id": "c022f420",
   "metadata": {},
   "outputs": [],
   "source": [
    "from scipy.stats import randint"
   ]
  },
  {
   "cell_type": "code",
   "execution_count": null,
   "id": "3ea6b8d7",
   "metadata": {},
   "outputs": [],
   "source": [
    "## Calculate the first four moments\n",
    "\n",
    "low, high = 5, 25\n",
    "mean, var, skew, kurt = randint.stats(low, high, moments='mvsk')\n",
    "print(mean, var, skew, kurt)"
   ]
  },
  {
   "cell_type": "code",
   "execution_count": null,
   "id": "bacd02bf",
   "metadata": {},
   "outputs": [],
   "source": [
    "## Probability mass function\n",
    "\n",
    "x = np.arange(randint.ppf(0.99, low, high))\n",
    "randint.pmf(x, low, high)"
   ]
  },
  {
   "cell_type": "markdown",
   "id": "4de2f76b",
   "metadata": {},
   "source": [
    "Where randint.ppf is similar to \"qdunif()\" function and randint.pmf is similar to \"ddunif()\" function in r."
   ]
  },
  {
   "cell_type": "code",
   "execution_count": null,
   "id": "fab0b8b9",
   "metadata": {},
   "outputs": [],
   "source": [
    "## Cummulative distribution function\n",
    "\n",
    "randint.cdf(x, low, high)"
   ]
  },
  {
   "cell_type": "markdown",
   "id": "e8267faf",
   "metadata": {},
   "source": [
    "Similar to \"pdunif()\" function in r."
   ]
  },
  {
   "cell_type": "code",
   "execution_count": null,
   "id": "3c3bcf7a",
   "metadata": {},
   "outputs": [],
   "source": [
    "## Generate random numbers\n",
    "\n",
    "randint.rvs(low, high, size=10)"
   ]
  },
  {
   "cell_type": "markdown",
   "id": "73410b1b",
   "metadata": {},
   "source": [
    "Similar to \"rdunif()\" function in r."
   ]
  },
  {
   "cell_type": "markdown",
   "id": "563c53d6",
   "metadata": {},
   "source": [
    "Few more distributions that are also supported in this package is:\n",
    "- Boltzmann (truncated Planck) Distribution\n",
    "- Planck (discrete exponential) Distribution\n",
    "- Fisher’s Noncentral Hypergeometric Distribution\n",
    "- Wallenius’ Noncentral Hypergeometric Distribution\n",
    "- Negative Hypergeometric Distribution\n",
    "- Zipf (Zeta) Distribution\n",
    "- Zipfian Distribution\n",
    "- Logarithmic (Log-Series, Series) Distribution\n",
    "- Discrete Laplacian Distribution\n",
    "- Yule-Simon Distribution"
   ]
  },
  {
   "cell_type": "markdown",
   "id": "d06a23e7",
   "metadata": {},
   "source": [
    "## Continuous Distributions"
   ]
  },
  {
   "cell_type": "markdown",
   "id": "5e09dfa5",
   "metadata": {},
   "source": [
    "### Beta"
   ]
  },
  {
   "cell_type": "code",
   "execution_count": null,
   "id": "54751188",
   "metadata": {},
   "outputs": [],
   "source": [
    "from scipy.stats import beta"
   ]
  },
  {
   "cell_type": "code",
   "execution_count": null,
   "id": "99e326d3",
   "metadata": {},
   "outputs": [],
   "source": [
    "## Calculate the first four moments\n",
    "\n",
    "a, b = 1.76, 0.35\n",
    "mean, var, skew, kurt = beta.stats(a, b, moments='mvsk')\n",
    "print(mean, var, skew, kurt)"
   ]
  },
  {
   "cell_type": "code",
   "execution_count": null,
   "id": "f9c4a24d",
   "metadata": {},
   "outputs": [],
   "source": [
    "## Probability density function\n",
    "\n",
    "x = np.linspace(beta.ppf(0.99, a, b), 100)\n",
    "beta.pdf(x, a, b)"
   ]
  },
  {
   "cell_type": "markdown",
   "id": "d0e032b8",
   "metadata": {},
   "source": [
    "Where beta.ppf is similar to \"qbeta()\" function and beta.pmf is similar to \"dbeta()\" function in r."
   ]
  },
  {
   "cell_type": "code",
   "execution_count": null,
   "id": "37a29f86",
   "metadata": {},
   "outputs": [],
   "source": [
    "## Cummulative distribution function\n",
    "\n",
    "beta.ppf([0.001, 0.5, 0.999], a, b)"
   ]
  },
  {
   "cell_type": "markdown",
   "id": "77064b4c",
   "metadata": {},
   "source": [
    "Similar to \"pbeta()\" function in r."
   ]
  },
  {
   "cell_type": "code",
   "execution_count": null,
   "id": "c080a17d",
   "metadata": {},
   "outputs": [],
   "source": [
    "## Generate random numbers\n",
    "\n",
    "beta.rvs(a, b, size=10)"
   ]
  },
  {
   "cell_type": "markdown",
   "id": "7158db37",
   "metadata": {},
   "source": [
    "Similar to \"rbeta()\" function in r."
   ]
  },
  {
   "cell_type": "markdown",
   "id": "c98edd08",
   "metadata": {},
   "source": [
    "### Cauchy"
   ]
  },
  {
   "cell_type": "code",
   "execution_count": null,
   "id": "4207f080",
   "metadata": {},
   "outputs": [],
   "source": [
    "from scipy.stats import cauchy"
   ]
  },
  {
   "cell_type": "code",
   "execution_count": null,
   "id": "139a192e",
   "metadata": {},
   "outputs": [],
   "source": [
    "## Probability density function\n",
    "\n",
    "x = np.linspace(cauchy.ppf(0.99), 100)\n",
    "cauchy.pdf(x)"
   ]
  },
  {
   "cell_type": "markdown",
   "id": "913c556e",
   "metadata": {},
   "source": [
    "Where cauchy.ppf is similar to \"qcauchy()\" function and cauchy.pmf is similar to \"dcauchy()\" function in r."
   ]
  },
  {
   "cell_type": "code",
   "execution_count": null,
   "id": "c9bf641a",
   "metadata": {},
   "outputs": [],
   "source": [
    "## Cummulative distribution function\n",
    "\n",
    "cauchy.ppf([0.01, 0.5, 0.999])"
   ]
  },
  {
   "cell_type": "markdown",
   "id": "63658a14",
   "metadata": {},
   "source": [
    "Similar to \"pcauchy()\" function in r."
   ]
  },
  {
   "cell_type": "code",
   "execution_count": null,
   "id": "6872a7df",
   "metadata": {},
   "outputs": [],
   "source": [
    "## Generate random numbers\n",
    "\n",
    "cauchy.rvs(size=10)"
   ]
  },
  {
   "cell_type": "markdown",
   "id": "fea64e4f",
   "metadata": {},
   "source": [
    "Similar to \"rcauchy()\" function in r."
   ]
  },
  {
   "cell_type": "markdown",
   "id": "a8a2af4c",
   "metadata": {},
   "source": [
    "### Chi square"
   ]
  },
  {
   "cell_type": "code",
   "execution_count": null,
   "id": "85698fdb",
   "metadata": {},
   "outputs": [],
   "source": [
    "from scipy.stats import chi2"
   ]
  },
  {
   "cell_type": "code",
   "execution_count": null,
   "id": "4796ce07",
   "metadata": {},
   "outputs": [],
   "source": [
    "## Calculate the first four moments\n",
    "\n",
    "df = 30\n",
    "mean, var, skew, kurt = chi2.stats(df, moments='mvsk')\n",
    "print(mean, var, skew, kurt)"
   ]
  },
  {
   "cell_type": "code",
   "execution_count": null,
   "id": "3f8587ff",
   "metadata": {},
   "outputs": [],
   "source": [
    "## Probability density function\n",
    "\n",
    "x = np.linspace(chi2.ppf(0.99, df), 100)\n",
    "chi2.pdf(x, df)"
   ]
  },
  {
   "cell_type": "markdown",
   "id": "04827f2c",
   "metadata": {},
   "source": [
    "Where chi2.ppf is similar to \"qchisq()\" function and chi2.pmf is similar to \"dchisq()\" function in r."
   ]
  },
  {
   "cell_type": "code",
   "execution_count": null,
   "id": "3d13b2c6",
   "metadata": {},
   "outputs": [],
   "source": [
    "## Cummulative distribution function\n",
    "\n",
    "chi2.ppf([0.001, 0.5, 0.999], df)"
   ]
  },
  {
   "cell_type": "markdown",
   "id": "5ad186f6",
   "metadata": {},
   "source": [
    "Similar to \"pchisq()\" function in r."
   ]
  },
  {
   "cell_type": "code",
   "execution_count": null,
   "id": "7ea4623d",
   "metadata": {},
   "outputs": [],
   "source": [
    "## Generate random numbers\n",
    "\n",
    "chi2.rvs(df, size=10)"
   ]
  },
  {
   "cell_type": "markdown",
   "id": "123dce24",
   "metadata": {},
   "source": [
    "Similar to \"rchisq()\" function in r."
   ]
  },
  {
   "cell_type": "markdown",
   "id": "3e3716b9",
   "metadata": {},
   "source": [
    "### Exponential"
   ]
  },
  {
   "cell_type": "code",
   "execution_count": null,
   "id": "351abec2",
   "metadata": {},
   "outputs": [],
   "source": [
    "from scipy.stats import expon"
   ]
  },
  {
   "cell_type": "code",
   "execution_count": null,
   "id": "06d012d7",
   "metadata": {},
   "outputs": [],
   "source": [
    "## Calculate the first four moments\n",
    "\n",
    "loc, scale = 16, 3\n",
    "mean, var, skew, kurt = expon.stats(loc, scale, moments='mvsk')\n",
    "print(mean, var, skew, kurt)"
   ]
  },
  {
   "cell_type": "code",
   "execution_count": null,
   "id": "96440922",
   "metadata": {},
   "outputs": [],
   "source": [
    "## Probability density function\n",
    "\n",
    "x = np.linspace(expon.ppf(0.99), 100)\n",
    "expon.pdf(x,loc,scale)"
   ]
  },
  {
   "cell_type": "markdown",
   "id": "45500ea8",
   "metadata": {},
   "source": [
    "Where expon.ppf is similar to \"qexp()\" function and expon.pmf is similar to \"dexp()\" function in r."
   ]
  },
  {
   "cell_type": "code",
   "execution_count": null,
   "id": "f3323dd7",
   "metadata": {},
   "outputs": [],
   "source": [
    "## Cummulative distribution function\n",
    "\n",
    "expon.ppf([0.001, 0.5, 0.999],loc,scale)"
   ]
  },
  {
   "cell_type": "markdown",
   "id": "30f10ca2",
   "metadata": {},
   "source": [
    "Similar to \"pexp()\" function in r."
   ]
  },
  {
   "cell_type": "code",
   "execution_count": null,
   "id": "4971f430",
   "metadata": {},
   "outputs": [],
   "source": [
    "## Generate random numbers\n",
    "\n",
    "expon.rvs(loc,scale,size=10)"
   ]
  },
  {
   "cell_type": "markdown",
   "id": "1e416f39",
   "metadata": {},
   "source": [
    "Similar to \"rexp()\" function in r."
   ]
  },
  {
   "cell_type": "markdown",
   "id": "932ef3a8",
   "metadata": {},
   "source": [
    "### Gamma"
   ]
  },
  {
   "cell_type": "code",
   "execution_count": null,
   "id": "f800850c",
   "metadata": {},
   "outputs": [],
   "source": [
    "from scipy.stats import gamma"
   ]
  },
  {
   "cell_type": "code",
   "execution_count": null,
   "id": "22d0257d",
   "metadata": {},
   "outputs": [],
   "source": [
    "## Calculate the first four moments\n",
    "\n",
    "a, loc, scale = 5,0, 2\n",
    "mean, var, skew, kurt = gamma.stats(a,loc, scale, moments='mvsk')\n",
    "print(mean, var, skew, kurt)"
   ]
  },
  {
   "cell_type": "code",
   "execution_count": null,
   "id": "1c3d52e8",
   "metadata": {},
   "outputs": [],
   "source": [
    "## Probability density function\n",
    "\n",
    "x = np.linspace(gamma.ppf(0.99, a), 100)\n",
    "gamma.pdf(x, a,loc,scale)"
   ]
  },
  {
   "cell_type": "markdown",
   "id": "249066b5",
   "metadata": {},
   "source": [
    "Where gamma.ppf is similar to \"qgamma()\" function and gamma.pmf is similar to \"dgamma()\" function in r."
   ]
  },
  {
   "cell_type": "code",
   "execution_count": null,
   "id": "3e507746",
   "metadata": {},
   "outputs": [],
   "source": [
    "## Cummulative distribution function\n",
    "\n",
    "gamma.ppf([0.001, 0.5, 0.999], a,loc,scale)"
   ]
  },
  {
   "cell_type": "markdown",
   "id": "6ebafec7",
   "metadata": {},
   "source": [
    "Similar to \"pgamma()\" function in r."
   ]
  },
  {
   "cell_type": "code",
   "execution_count": null,
   "id": "74a67256",
   "metadata": {},
   "outputs": [],
   "source": [
    "## Generate random numbers\n",
    "\n",
    "gamma.rvs(scale,a, size=10)"
   ]
  },
  {
   "cell_type": "markdown",
   "id": "3359129a",
   "metadata": {},
   "source": [
    "Similar to \"rgamma()\" function in r."
   ]
  },
  {
   "cell_type": "markdown",
   "id": "04e05090",
   "metadata": {},
   "source": [
    "### Laplace"
   ]
  },
  {
   "cell_type": "code",
   "execution_count": null,
   "id": "310dad55",
   "metadata": {},
   "outputs": [],
   "source": [
    "from scipy.stats import laplace"
   ]
  },
  {
   "cell_type": "code",
   "execution_count": null,
   "id": "1f66bdcf",
   "metadata": {},
   "outputs": [],
   "source": [
    "## Calculate the first four moments\n",
    "\n",
    "loc, scale = 16, 3\n",
    "mean, var, skew, kurt = laplace.stats(loc, scale, moments='mvsk')\n",
    "print(mean, var, skew, kurt)"
   ]
  },
  {
   "cell_type": "code",
   "execution_count": null,
   "id": "910b02de",
   "metadata": {},
   "outputs": [],
   "source": [
    "## Probability density function\n",
    "\n",
    "x = np.linspace(laplace.ppf(0.99), 100)\n",
    "laplace.pdf(x,loc,scale)"
   ]
  },
  {
   "cell_type": "markdown",
   "id": "ccab084f",
   "metadata": {},
   "source": [
    "Where laplace.ppf is similar to \"qlaplace()\" function and laplace.pmf is similar to \"dlaplace()\" function in r."
   ]
  },
  {
   "cell_type": "code",
   "execution_count": null,
   "id": "40e6be6a",
   "metadata": {},
   "outputs": [],
   "source": [
    "## Cummulative distribution function\n",
    "\n",
    "laplace.ppf([0.001, 0.5, 0.999],loc,scale)"
   ]
  },
  {
   "cell_type": "markdown",
   "id": "7ddaa795",
   "metadata": {},
   "source": [
    "Similar to \"plaplace()\" function in r."
   ]
  },
  {
   "cell_type": "code",
   "execution_count": null,
   "id": "11df0909",
   "metadata": {},
   "outputs": [],
   "source": [
    "## Generate random numbers\n",
    "\n",
    "laplace.rvs(loc,scale,size=10)"
   ]
  },
  {
   "cell_type": "markdown",
   "id": "99e8dad1",
   "metadata": {},
   "source": [
    "Similar to \"rlaplace()\" function in r."
   ]
  },
  {
   "cell_type": "markdown",
   "id": "5ab3960d",
   "metadata": {},
   "source": [
    "### Logistic"
   ]
  },
  {
   "cell_type": "code",
   "execution_count": null,
   "id": "728010b6",
   "metadata": {},
   "outputs": [],
   "source": [
    "from scipy.stats import logistic"
   ]
  },
  {
   "cell_type": "code",
   "execution_count": null,
   "id": "1c75e7d9",
   "metadata": {},
   "outputs": [],
   "source": [
    "## Calculate the first four moments\n",
    "\n",
    "loc, scale = 16, 3\n",
    "mean, var, skew, kurt = logistic.stats(loc, scale, moments='mvsk')\n",
    "print(mean, var, skew, kurt)"
   ]
  },
  {
   "cell_type": "code",
   "execution_count": null,
   "id": "3c4a4a64",
   "metadata": {},
   "outputs": [],
   "source": [
    "## Probability density function\n",
    "\n",
    "x = np.linspace(logistic.ppf(0.99), 100)\n",
    "logistic.pdf(x,loc, scale)"
   ]
  },
  {
   "cell_type": "markdown",
   "id": "7e801f88",
   "metadata": {},
   "source": [
    "Where logistic.ppf is similar to \"qlogis()\" function and logistic.pmf is similar to \"dlogis()\" function in r."
   ]
  },
  {
   "cell_type": "code",
   "execution_count": null,
   "id": "2fe8bf1d",
   "metadata": {},
   "outputs": [],
   "source": [
    "## Cummulative distribution function\n",
    "\n",
    "logistic.ppf([0.001, 0.5, 0.999],loc, scale)"
   ]
  },
  {
   "cell_type": "markdown",
   "id": "b7973bf7",
   "metadata": {},
   "source": [
    "Similar to \"plogis()\" function in r."
   ]
  },
  {
   "cell_type": "code",
   "execution_count": null,
   "id": "5b4d0772",
   "metadata": {},
   "outputs": [],
   "source": [
    "## Generate random numbers\n",
    "\n",
    "logistic.rvs(loc, scale,size=10)"
   ]
  },
  {
   "cell_type": "markdown",
   "id": "7b83cf4b",
   "metadata": {},
   "source": [
    "Similar to \"rlogis()\" function in r."
   ]
  },
  {
   "cell_type": "markdown",
   "id": "354bb348",
   "metadata": {},
   "source": [
    "### Noncentral Chi-square"
   ]
  },
  {
   "cell_type": "code",
   "execution_count": null,
   "id": "5346548c",
   "metadata": {},
   "outputs": [],
   "source": [
    "from scipy.stats import ncx2"
   ]
  },
  {
   "cell_type": "code",
   "execution_count": null,
   "id": "5de2eb52",
   "metadata": {},
   "outputs": [],
   "source": [
    "## Calculate the first four moments\n",
    "\n",
    "df, nc = 30, 0.88\n",
    "mean, var, skew, kurt = ncx2.stats(df, nc, moments='mvsk')\n",
    "print(mean, var, skew, kurt)"
   ]
  },
  {
   "cell_type": "code",
   "execution_count": null,
   "id": "bbf39c3c",
   "metadata": {},
   "outputs": [],
   "source": [
    "## Probability density function\n",
    "\n",
    "x = np.linspace(ncx2.ppf(0.99, df, nc), 100)\n",
    "ncx2.pdf(x, df, nc)"
   ]
  },
  {
   "cell_type": "code",
   "execution_count": null,
   "id": "4a40a8e1",
   "metadata": {},
   "outputs": [],
   "source": [
    "## Cummulative distribution function\n",
    "\n",
    "ncx2.ppf([0.001, 0.5, 0.999], df, nc)"
   ]
  },
  {
   "cell_type": "code",
   "execution_count": null,
   "id": "27dc29ea",
   "metadata": {},
   "outputs": [],
   "source": [
    "## Generate random numbers\n",
    "\n",
    "ncx2.rvs(df, nc, size=10)"
   ]
  },
  {
   "cell_type": "markdown",
   "id": "d9674cd0",
   "metadata": {},
   "source": [
    "The corresponding r codes are same as the central chisquare."
   ]
  },
  {
   "cell_type": "markdown",
   "id": "302cbecc",
   "metadata": {},
   "source": [
    "### Noncentral F"
   ]
  },
  {
   "cell_type": "code",
   "execution_count": null,
   "id": "fffa6c25",
   "metadata": {},
   "outputs": [],
   "source": [
    "from scipy.stats import ncf"
   ]
  },
  {
   "cell_type": "code",
   "execution_count": null,
   "id": "cce7d4cc",
   "metadata": {},
   "outputs": [],
   "source": [
    "## Calculate the first four moments\n",
    "\n",
    "dfn, dfd, nc = 18, 23, 0.342\n",
    "mean, var, skew, kurt = ncf.stats(dfn, dfd, nc, moments='mvsk')\n",
    "print(mean, var, skew, kurt)"
   ]
  },
  {
   "cell_type": "code",
   "execution_count": null,
   "id": "f677e4e9",
   "metadata": {},
   "outputs": [],
   "source": [
    "## Probability density function\n",
    "\n",
    "x = np.linspace(ncf.ppf(0.99, dfn, dfd, nc), 100)\n",
    "ncf.pdf(x, dfn, dfd, nc)"
   ]
  },
  {
   "cell_type": "code",
   "execution_count": null,
   "id": "7e92dac7",
   "metadata": {},
   "outputs": [],
   "source": [
    "## Cummulative distribution function\n",
    "\n",
    "ncf.ppf([0.001, 0.5, 0.999], dfn, dfd, nc)"
   ]
  },
  {
   "cell_type": "code",
   "execution_count": null,
   "id": "539069fe",
   "metadata": {},
   "outputs": [],
   "source": [
    "## Generate random numbers\n",
    "\n",
    "ncf.rvs(dfn, dfd, nc, size=10)"
   ]
  },
  {
   "cell_type": "markdown",
   "id": "2e5d7189",
   "metadata": {},
   "source": [
    "### Noncentral t"
   ]
  },
  {
   "cell_type": "code",
   "execution_count": null,
   "id": "5a00d8d2",
   "metadata": {},
   "outputs": [],
   "source": [
    "from scipy.stats import nct"
   ]
  },
  {
   "cell_type": "code",
   "execution_count": null,
   "id": "28c2a805",
   "metadata": {},
   "outputs": [],
   "source": [
    "## Calculate the first four moments\n",
    "\n",
    "df, nc = 22, 0.13\n",
    "mean, var, skew, kurt = nct.stats(df, nc, moments='mvsk')\n",
    "print(mean, var, skew, kurt)"
   ]
  },
  {
   "cell_type": "code",
   "execution_count": null,
   "id": "8329c8ec",
   "metadata": {},
   "outputs": [],
   "source": [
    "## Probability density function\n",
    "\n",
    "x = np.linspace(nct.ppf(0.99, df, nc), 100)\n",
    "nct.pdf(x, df, nc)"
   ]
  },
  {
   "cell_type": "code",
   "execution_count": null,
   "id": "09f8ea75",
   "metadata": {},
   "outputs": [],
   "source": [
    "## Cummulative distribution function\n",
    "\n",
    "nct.ppf([0.001, 0.5, 0.999], df, nc)"
   ]
  },
  {
   "cell_type": "code",
   "execution_count": null,
   "id": "6b3f3324",
   "metadata": {},
   "outputs": [],
   "source": [
    "## Generate random numbers\n",
    "\n",
    "nct.rvs(df, nc, size=10)"
   ]
  },
  {
   "cell_type": "markdown",
   "id": "a41c4cf4",
   "metadata": {},
   "source": [
    "### Normal"
   ]
  },
  {
   "cell_type": "code",
   "execution_count": null,
   "id": "a5c928b6",
   "metadata": {},
   "outputs": [],
   "source": [
    "from scipy.stats import norm"
   ]
  },
  {
   "cell_type": "code",
   "execution_count": null,
   "id": "ff71d491",
   "metadata": {},
   "outputs": [],
   "source": [
    "## Calculate the first four moments\n",
    "\n",
    "loc, scale = 10,2.4\n",
    "mean, var, skew, kurt = norm.stats(loc,scale, moments='mvsk')\n",
    "print(mean, var, skew, kurt)"
   ]
  },
  {
   "cell_type": "code",
   "execution_count": null,
   "id": "1e264d61",
   "metadata": {},
   "outputs": [],
   "source": [
    "## Probability density function\n",
    "\n",
    "x = np.linspace(norm.ppf(0.99), 100)\n",
    "norm.pdf(x,loc,scale)"
   ]
  },
  {
   "cell_type": "markdown",
   "id": "4d9c6be7",
   "metadata": {},
   "source": [
    "Where norm.ppf is similar to \"qnorm()\" function and norm.pmf is similar to \"dnorm()\" function in r."
   ]
  },
  {
   "cell_type": "code",
   "execution_count": null,
   "id": "1c925e65",
   "metadata": {},
   "outputs": [],
   "source": [
    "## Cummulative distribution function\n",
    "\n",
    "norm.ppf([0.001, 0.5, 0.999],loc,scale)"
   ]
  },
  {
   "cell_type": "markdown",
   "id": "f2eef2dd",
   "metadata": {},
   "source": [
    "Similar to \"pnorm()\" function in r."
   ]
  },
  {
   "cell_type": "code",
   "execution_count": null,
   "id": "dcca2c91",
   "metadata": {},
   "outputs": [],
   "source": [
    "## Generate random numbers\n",
    "\n",
    "norm.rvs(size=10)"
   ]
  },
  {
   "cell_type": "markdown",
   "id": "a1504b96",
   "metadata": {},
   "source": [
    "Similar to \"rnorm()\" function in r."
   ]
  },
  {
   "cell_type": "markdown",
   "id": "e3878033",
   "metadata": {},
   "source": [
    "### Pareto"
   ]
  },
  {
   "cell_type": "code",
   "execution_count": null,
   "id": "ca3ca716",
   "metadata": {},
   "outputs": [],
   "source": [
    "from scipy.stats import pareto"
   ]
  },
  {
   "cell_type": "code",
   "execution_count": null,
   "id": "ea90cb8c",
   "metadata": {},
   "outputs": [],
   "source": [
    "## Calculate the first four moments\n",
    "\n",
    "b = 5\n",
    "mean, var, skew, kurt = pareto.stats(b, moments='mvsk')\n",
    "print(mean, var, skew, kurt)"
   ]
  },
  {
   "cell_type": "code",
   "execution_count": null,
   "id": "3b00c90f",
   "metadata": {},
   "outputs": [],
   "source": [
    "## Probability density function\n",
    "\n",
    "x = np.linspace(pareto.ppf(0.99, b), 100)\n",
    "pareto.pdf(x, b)"
   ]
  },
  {
   "cell_type": "markdown",
   "id": "c464deba",
   "metadata": {},
   "source": [
    "Where pareto.ppf is similar to \"qpareto()\" function and pareto.pmf is similar to \"dpareto()\" function in r."
   ]
  },
  {
   "cell_type": "code",
   "execution_count": null,
   "id": "daa57f18",
   "metadata": {},
   "outputs": [],
   "source": [
    "## Cummulative distribution function\n",
    "\n",
    "pareto.ppf([0.001, 0.5, 0.999], b)"
   ]
  },
  {
   "cell_type": "markdown",
   "id": "a19af961",
   "metadata": {},
   "source": [
    "Similar to \"ppareto()\" function in r."
   ]
  },
  {
   "cell_type": "code",
   "execution_count": null,
   "id": "82572bb2",
   "metadata": {},
   "outputs": [],
   "source": [
    "## Generate random numbers\n",
    "\n",
    "pareto.rvs(b, size=10)"
   ]
  },
  {
   "cell_type": "markdown",
   "id": "a4de1132",
   "metadata": {},
   "source": [
    "Similar to \"rpareto()\" function in r."
   ]
  },
  {
   "cell_type": "markdown",
   "id": "40761a2f",
   "metadata": {},
   "source": [
    "### Rayleigh"
   ]
  },
  {
   "cell_type": "code",
   "execution_count": null,
   "id": "b9d4e109",
   "metadata": {},
   "outputs": [],
   "source": [
    "from scipy.stats import rayleigh"
   ]
  },
  {
   "cell_type": "code",
   "execution_count": null,
   "id": "391d5e8a",
   "metadata": {},
   "outputs": [],
   "source": [
    "## Calculate the first four moments\n",
    "\n",
    "loc, scale = 16, 3\n",
    "mean, var, skew, kurt = rayleigh.stats(loc, scale, moments='mvsk')\n",
    "print(mean, var, skew, kurt)"
   ]
  },
  {
   "cell_type": "code",
   "execution_count": null,
   "id": "d60cdeda",
   "metadata": {},
   "outputs": [],
   "source": [
    "## Probability density function\n",
    "\n",
    "x = np.linspace(rayleigh.ppf(0.99), 100)\n",
    "rayleigh.pdf(x,loc, scale)"
   ]
  },
  {
   "cell_type": "markdown",
   "id": "0625a551",
   "metadata": {},
   "source": [
    "Where rayleigh.ppf is similar to \"qrayleigh()\" function and rayleigh.pmf is similar to \"drayleigh()\" function in r."
   ]
  },
  {
   "cell_type": "code",
   "execution_count": null,
   "id": "dd3efcba",
   "metadata": {},
   "outputs": [],
   "source": [
    "## Cummulative distribution function\n",
    "\n",
    "rayleigh.ppf([0.001, 0.5, 0.999],loc, scale)"
   ]
  },
  {
   "cell_type": "markdown",
   "id": "7740e04a",
   "metadata": {},
   "source": [
    "Similar to \"prayleigh()\" function in r."
   ]
  },
  {
   "cell_type": "code",
   "execution_count": null,
   "id": "19567b09",
   "metadata": {},
   "outputs": [],
   "source": [
    "## Generate random numbers\n",
    "\n",
    "rayleigh.rvs(loc, scale,size=10)"
   ]
  },
  {
   "cell_type": "markdown",
   "id": "e0cbf055",
   "metadata": {},
   "source": [
    "Similar to \"rrayleigh()\" function in r."
   ]
  },
  {
   "cell_type": "markdown",
   "id": "c7d1c8c7",
   "metadata": {},
   "source": [
    "### Student t"
   ]
  },
  {
   "cell_type": "code",
   "execution_count": null,
   "id": "b856d81b",
   "metadata": {},
   "outputs": [],
   "source": [
    "from scipy.stats import t"
   ]
  },
  {
   "cell_type": "code",
   "execution_count": null,
   "id": "67de5dbd",
   "metadata": {},
   "outputs": [],
   "source": [
    "## Calculate the first four moments\n",
    "\n",
    "df,loc,scale = 5, 12, 3 \n",
    "mean, var, skew, kurt = t.stats(df,loc,scale, moments='mvsk')\n",
    "print(mean, var, skew, kurt)"
   ]
  },
  {
   "cell_type": "code",
   "execution_count": null,
   "id": "98bb16e9",
   "metadata": {},
   "outputs": [],
   "source": [
    "## Probability density function\n",
    "\n",
    "x = np.linspace(t.ppf(0.99, df), 100)\n",
    "t.pdf(x, df,loc,scale)"
   ]
  },
  {
   "cell_type": "markdown",
   "id": "7d984e8d",
   "metadata": {},
   "source": [
    "Where t.ppf is similar to \"qt()\" function and t.pmf is similar to \"dt()\" function in r."
   ]
  },
  {
   "cell_type": "code",
   "execution_count": null,
   "id": "559f7442",
   "metadata": {},
   "outputs": [],
   "source": [
    "## Cummulative distribution function\n",
    "\n",
    "t.ppf([0.001, 0.5, 0.999], df,loc,scale)"
   ]
  },
  {
   "cell_type": "markdown",
   "id": "601b0f33",
   "metadata": {},
   "source": [
    "Similar to \"pt()\" function in r."
   ]
  },
  {
   "cell_type": "code",
   "execution_count": null,
   "id": "04f03e98",
   "metadata": {},
   "outputs": [],
   "source": [
    "## Generate random numbers\n",
    "\n",
    "t.rvs(df, size=10)"
   ]
  },
  {
   "cell_type": "markdown",
   "id": "6b6dfd3e",
   "metadata": {},
   "source": [
    "Similar to \"rt()\" function in r."
   ]
  },
  {
   "cell_type": "markdown",
   "id": "81c45efb",
   "metadata": {},
   "source": [
    "### Uniform"
   ]
  },
  {
   "cell_type": "code",
   "execution_count": null,
   "id": "e94206c8",
   "metadata": {},
   "outputs": [],
   "source": [
    "from scipy.stats import uniform"
   ]
  },
  {
   "cell_type": "code",
   "execution_count": null,
   "id": "de087934",
   "metadata": {},
   "outputs": [],
   "source": [
    "## Calculate the first four moments\n",
    "\n",
    "loc,scale=5,2\n",
    "mean, var, skew, kurt = uniform.stats(loc,scale,moments='mvsk')\n",
    "print(mean, var, skew, kurt)"
   ]
  },
  {
   "cell_type": "code",
   "execution_count": null,
   "id": "6e2c0297",
   "metadata": {},
   "outputs": [],
   "source": [
    "## Probability density function\n",
    "\n",
    "x = np.linspace(uniform.ppf(0.99), 100)\n",
    "uniform.pdf(x,loc,scale)"
   ]
  },
  {
   "cell_type": "markdown",
   "id": "17029cec",
   "metadata": {},
   "source": [
    "Where uniform.ppf is similar to \"qunif()\" function and uniform.pmf is similar to \"dunif()\" function in r."
   ]
  },
  {
   "cell_type": "code",
   "execution_count": null,
   "id": "a792ef4d",
   "metadata": {},
   "outputs": [],
   "source": [
    "## Cummulative distribution function\n",
    "\n",
    "uniform.ppf([0.001, 0.5, 0.999])"
   ]
  },
  {
   "cell_type": "markdown",
   "id": "c5af4962",
   "metadata": {},
   "source": [
    "Similar to \"punif()\" function in r."
   ]
  },
  {
   "cell_type": "code",
   "execution_count": null,
   "id": "ab914e99",
   "metadata": {},
   "outputs": [],
   "source": [
    "## Generate random numbers\n",
    "\n",
    "uniform.rvs(size=10)"
   ]
  },
  {
   "cell_type": "markdown",
   "id": "3f29904d",
   "metadata": {},
   "source": [
    "Similar to \"runif()\" function in r."
   ]
  },
  {
   "cell_type": "markdown",
   "id": "a1ebfd37",
   "metadata": {},
   "source": [
    "Also there are several other continuous distributions under scipy.stats."
   ]
  }
 ],
 "metadata": {
  "jupytext": {
   "formats": "ipynb,md:myst",
   "text_representation": {
    "extension": ".md",
    "format_name": "myst",
    "format_version": 0.13,
    "jupytext_version": "1.10.3"
   }
  },
  "kernelspec": {
   "display_name": "Python 3 (ipykernel)",
   "language": "python",
   "name": "python3"
  },
  "source_map": [
   13,
   21,
   26,
   30,
   34,
   38,
   46,
   51,
   55,
   59,
   63,
   67,
   71,
   75,
   79,
   87,
   92,
   96,
   100,
   104,
   108,
   112,
   116,
   120,
   128,
   133,
   137,
   141,
   145,
   149,
   153,
   157,
   161,
   169,
   174,
   178,
   182,
   186,
   190,
   194,
   198,
   202,
   210,
   215,
   219,
   223,
   227,
   231,
   235,
   239,
   243,
   251,
   256,
   260,
   264,
   268,
   272,
   276,
   280,
   284,
   292,
   297,
   301,
   305,
   309,
   313,
   317,
   321,
   325,
   333,
   338,
   342,
   346,
   350,
   354,
   358,
   372,
   376,
   380,
   384,
   392,
   397,
   401,
   405,
   409,
   413,
   417,
   421,
   425,
   430,
   434,
   438,
   442,
   446,
   450,
   454,
   458,
   466,
   471,
   475,
   479,
   483,
   487,
   491,
   495,
   499,
   507,
   512,
   516,
   520,
   524,
   528,
   532,
   536,
   540,
   548,
   553,
   557,
   561,
   565,
   569,
   573,
   577,
   581,
   589,
   594,
   598,
   602,
   606,
   610,
   614,
   618,
   622,
   630,
   635,
   639,
   643,
   647,
   651,
   655,
   659,
   663,
   671,
   678,
   684,
   688,
   692,
   696,
   700,
   708,
   715,
   721,
   725,
   729,
   733,
   741,
   748,
   754,
   758,
   762,
   766,
   774,
   779,
   783,
   787,
   791,
   795,
   799,
   803,
   807,
   815,
   820,
   824,
   828,
   832,
   836,
   840,
   844,
   848,
   856,
   861,
   865,
   869,
   873,
   877,
   881,
   885,
   889,
   897,
   902,
   906,
   910,
   914,
   918,
   922,
   926,
   930,
   938,
   943,
   947,
   951,
   955,
   959,
   963
  ]
 },
 "nbformat": 4,
 "nbformat_minor": 5
}