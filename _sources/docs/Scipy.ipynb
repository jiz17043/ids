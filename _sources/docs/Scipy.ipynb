{
 "cells": [
  {
   "cell_type": "markdown",
   "id": "b8aaf2ca",
   "metadata": {},
   "source": [
    "# Scipy\n",
    "\n",
    "SciPy is a collection of mathematical algorithms and convenience functions built on the NumPy extension of Python. It adds significant power to the interactive Python session by providing the user with high-level commands and classes for manipulating and visualizing data. With SciPy, an interactive Python session becomes a data-processing and system-prototyping environment. \n",
    "\n",
    "The additional benefit of basing SciPy on Python is that this also makes a powerful programming language available for use in developing sophisticated programs and specialized applications. Everything from parallel programming to web and data-base subroutines and classes have been made available to the Python programmer. All of this power is available in addition to the mathematical libraries in SciPy."
   ]
  },
  {
   "cell_type": "code",
   "execution_count": null,
   "id": "1b5d3f68",
   "metadata": {},
   "outputs": [],
   "source": [
    "#Importing stats from scipy package\n",
    "\n",
    "from scipy import stats\n",
    "import numpy as np"
   ]
  },
  {
   "cell_type": "markdown",
   "id": "488af1ae",
   "metadata": {},
   "source": [
    "## Discrete Distributions"
   ]
  },
  {
   "cell_type": "markdown",
   "id": "521d705f",
   "metadata": {},
   "source": [
    "### Bernoulli"
   ]
  },
  {
   "cell_type": "code",
   "execution_count": null,
   "id": "d91c0b01",
   "metadata": {},
   "outputs": [],
   "source": [
    "from scipy.stats import bernoulli"
   ]
  },
  {
   "cell_type": "code",
   "execution_count": null,
   "id": "f63ea082",
   "metadata": {},
   "outputs": [],
   "source": [
    "## Calculate the first four moments\n",
    "\n",
    "p = 0.6\n",
    "mean, var, skew, kurt = bernoulli.stats(p, moments='mvsk')\n",
    "print(mean, var, skew, kurt)"
   ]
  },
  {
   "cell_type": "code",
   "execution_count": null,
   "id": "e78f27cc",
   "metadata": {},
   "outputs": [],
   "source": [
    "## Probability mass function\n",
    "\n",
    "x = np.arange(bernoulli.ppf(0.99, p))\n",
    "bernoulli.pmf(x, p)"
   ]
  },
  {
   "cell_type": "markdown",
   "id": "bb9bdbc9",
   "metadata": {},
   "source": [
    "Where bernoulli.ppf is similar to \"qbern()\" function and bernoulli.pmf is similar to \"dbern()\" function in r."
   ]
  },
  {
   "cell_type": "code",
   "execution_count": null,
   "id": "149e2e9a",
   "metadata": {},
   "outputs": [],
   "source": [
    "## Cummulative distribution function\n",
    "\n",
    "bernoulli.cdf(x, p)"
   ]
  },
  {
   "cell_type": "markdown",
   "id": "3e1a8140",
   "metadata": {},
   "source": [
    "Similar to \"pbern()\" function in r."
   ]
  },
  {
   "cell_type": "code",
   "execution_count": null,
   "id": "4f8390a1",
   "metadata": {},
   "outputs": [],
   "source": [
    "## Generate random numbers\n",
    "\n",
    "bernoulli.rvs(p, size=10)"
   ]
  },
  {
   "cell_type": "markdown",
   "id": "f2c57da9",
   "metadata": {},
   "source": [
    "Similar to \"rbern()\" function in r."
   ]
  },
  {
   "cell_type": "markdown",
   "id": "9b07e0f7",
   "metadata": {},
   "source": [
    "### Betabinom"
   ]
  },
  {
   "cell_type": "code",
   "execution_count": null,
   "id": "2d7396c1",
   "metadata": {},
   "outputs": [],
   "source": [
    "from scipy.stats import betabinom"
   ]
  },
  {
   "cell_type": "code",
   "execution_count": null,
   "id": "0396040c",
   "metadata": {},
   "outputs": [],
   "source": [
    "## Calculate the first four moments\n",
    "\n",
    "n, a, b = 7, 1.7, 0.42\n",
    "mean, var, skew, kurt = betabinom.stats(n, a, b, moments='mvsk')\n",
    "print(mean, var, skew, kurt)"
   ]
  },
  {
   "cell_type": "code",
   "execution_count": null,
   "id": "a27c33a2",
   "metadata": {},
   "outputs": [],
   "source": [
    "## Probability mass function\n",
    "\n",
    "x = np.arange(betabinom.ppf(0.99, n, a, b))\n",
    "betabinom.pmf(x, n, a, b)"
   ]
  },
  {
   "cell_type": "markdown",
   "id": "565d598a",
   "metadata": {},
   "source": [
    "Where betabinom.ppf is similar to \"qbb()\" function and betabinom.pmf is similar to \"dbb()\" function in r."
   ]
  },
  {
   "cell_type": "code",
   "execution_count": null,
   "id": "89d4f9f5",
   "metadata": {},
   "outputs": [],
   "source": [
    "## Cummulative distribution function\n",
    "\n",
    "betabinom.cdf(x, n, a, b)"
   ]
  },
  {
   "cell_type": "markdown",
   "id": "e3ba49cf",
   "metadata": {},
   "source": [
    "Similar to \"pbb()\" function in r."
   ]
  },
  {
   "cell_type": "code",
   "execution_count": null,
   "id": "b5760083",
   "metadata": {},
   "outputs": [],
   "source": [
    "## Generate random numbers\n",
    "\n",
    "betabinom.rvs(n, a, b, size=10)"
   ]
  },
  {
   "cell_type": "markdown",
   "id": "b8a6695b",
   "metadata": {},
   "source": [
    "Similar to \"rbb()\" function in r."
   ]
  },
  {
   "cell_type": "markdown",
   "id": "32cb018e",
   "metadata": {},
   "source": [
    "### Binomial"
   ]
  },
  {
   "cell_type": "code",
   "execution_count": null,
   "id": "abb2ec74",
   "metadata": {},
   "outputs": [],
   "source": [
    "from scipy.stats import binom"
   ]
  },
  {
   "cell_type": "code",
   "execution_count": null,
   "id": "e5693cbd",
   "metadata": {},
   "outputs": [],
   "source": [
    "## Calculate the first four moments\n",
    "\n",
    "n, p = 7, 0.7\n",
    "mean, var, skew, kurt = binom.stats(n, p, moments='mvsk')\n",
    "print(mean, var, skew, kurt)"
   ]
  },
  {
   "cell_type": "code",
   "execution_count": null,
   "id": "5c10ea52",
   "metadata": {},
   "outputs": [],
   "source": [
    "## Probability mass function\n",
    "\n",
    "x = np.arange(binom.ppf(0.99, n, p))\n",
    "binom.pmf(x, n, p)"
   ]
  },
  {
   "cell_type": "markdown",
   "id": "ca185210",
   "metadata": {},
   "source": [
    "Where binom.ppf is similar to \"qbinom()\" function and binom.pmf is similar to \"dbinom()\" function in r."
   ]
  },
  {
   "cell_type": "code",
   "execution_count": null,
   "id": "8c7d41f8",
   "metadata": {},
   "outputs": [],
   "source": [
    "## Cummulative distribution function\n",
    "\n",
    "binom.cdf(x, n, p)"
   ]
  },
  {
   "cell_type": "markdown",
   "id": "81175e5e",
   "metadata": {},
   "source": [
    "Similar to \"pbinom()\" function in r."
   ]
  },
  {
   "cell_type": "code",
   "execution_count": null,
   "id": "85797d0a",
   "metadata": {},
   "outputs": [],
   "source": [
    "## Generate random numbers\n",
    "\n",
    "binom.rvs(n, p, size=10)"
   ]
  },
  {
   "cell_type": "markdown",
   "id": "4007e364",
   "metadata": {},
   "source": [
    "Similar to \"rbinom()\" function in r."
   ]
  },
  {
   "cell_type": "markdown",
   "id": "c2052d73",
   "metadata": {},
   "source": [
    "### Geometric"
   ]
  },
  {
   "cell_type": "code",
   "execution_count": null,
   "id": "1bc9601e",
   "metadata": {},
   "outputs": [],
   "source": [
    "from scipy.stats import geom"
   ]
  },
  {
   "cell_type": "code",
   "execution_count": null,
   "id": "75b92a82",
   "metadata": {},
   "outputs": [],
   "source": [
    "## Calculate the first four moments\n",
    "\n",
    "p = 0.7\n",
    "mean, var, skew, kurt = geom.stats(p, moments='mvsk')\n",
    "print(mean, var, skew, kurt)"
   ]
  },
  {
   "cell_type": "code",
   "execution_count": null,
   "id": "627e5bbb",
   "metadata": {},
   "outputs": [],
   "source": [
    "## Probability mass function\n",
    "\n",
    "x = np.arange(geom.ppf(0.99, p))\n",
    "geom.pmf(x, p)"
   ]
  },
  {
   "cell_type": "markdown",
   "id": "e1d7360d",
   "metadata": {},
   "source": [
    "Where geom.ppf is similar to \"qgeom()\" function and geom.pmf is similar to \"dgeom()\" function in r."
   ]
  },
  {
   "cell_type": "code",
   "execution_count": null,
   "id": "724fdb56",
   "metadata": {},
   "outputs": [],
   "source": [
    "## Cummulative distribution function\n",
    "\n",
    "geom.cdf(x, p)"
   ]
  },
  {
   "cell_type": "markdown",
   "id": "0b7fac3f",
   "metadata": {},
   "source": [
    "Similar to \"pgeom()\" function in r."
   ]
  },
  {
   "cell_type": "code",
   "execution_count": null,
   "id": "e7ac1776",
   "metadata": {},
   "outputs": [],
   "source": [
    "## Generate random numbers\n",
    "\n",
    "geom.rvs(p, size=10)"
   ]
  },
  {
   "cell_type": "markdown",
   "id": "95250d0e",
   "metadata": {},
   "source": [
    "Similar to \"rgeom()\" function in r."
   ]
  },
  {
   "cell_type": "markdown",
   "id": "a60e2f4c",
   "metadata": {},
   "source": [
    "### Hypergeometric"
   ]
  },
  {
   "cell_type": "code",
   "execution_count": null,
   "id": "3f131e65",
   "metadata": {},
   "outputs": [],
   "source": [
    "from scipy.stats import hypergeom"
   ]
  },
  {
   "cell_type": "code",
   "execution_count": null,
   "id": "822c35fd",
   "metadata": {},
   "outputs": [],
   "source": [
    "## Calculate the first four moments\n",
    "\n",
    "M, n, N = 18, 3, 12\n",
    "mean, var, skew, kurt = hypergeom.stats(M, n, N, moments='mvsk')\n",
    "print(mean, var, skew, kurt)"
   ]
  },
  {
   "cell_type": "code",
   "execution_count": null,
   "id": "11f2e755",
   "metadata": {},
   "outputs": [],
   "source": [
    "## Probability mass function\n",
    "\n",
    "x =  np.arange(hypergeom.ppf(0.99,M,n,N))\n",
    "hypergeom.pmf(x,M, n, N)"
   ]
  },
  {
   "cell_type": "markdown",
   "id": "781f6883",
   "metadata": {},
   "source": [
    "Where hypergeom.ppf is similar to \"qhyper()\" function and hypergeom.pmf is similar to \"dhyper()\" function in r."
   ]
  },
  {
   "cell_type": "code",
   "execution_count": null,
   "id": "8b5e55ce",
   "metadata": {},
   "outputs": [],
   "source": [
    "## Cummulative distribution function\n",
    "\n",
    "hypergeom.cdf(x, M, n, N)"
   ]
  },
  {
   "cell_type": "markdown",
   "id": "1d9f33a2",
   "metadata": {},
   "source": [
    "Similar to \"phyper()\" function in r."
   ]
  },
  {
   "cell_type": "code",
   "execution_count": null,
   "id": "8dfa6efc",
   "metadata": {},
   "outputs": [],
   "source": [
    "## Generate random numbers\n",
    "\n",
    "hypergeom.rvs(M, n, N, size=10)"
   ]
  },
  {
   "cell_type": "markdown",
   "id": "df2252f4",
   "metadata": {},
   "source": [
    "Similar to \"rhyper()\" function in r."
   ]
  },
  {
   "cell_type": "markdown",
   "id": "bd97f2ee",
   "metadata": {},
   "source": [
    "### Negative Binomial"
   ]
  },
  {
   "cell_type": "code",
   "execution_count": null,
   "id": "a7d62a08",
   "metadata": {},
   "outputs": [],
   "source": [
    "from scipy.stats import nbinom"
   ]
  },
  {
   "cell_type": "code",
   "execution_count": null,
   "id": "2a9269f0",
   "metadata": {},
   "outputs": [],
   "source": [
    "## Calculate the first four moments\n",
    "\n",
    "n, p = 7, 0.7\n",
    "mean, var, skew, kurt = nbinom.stats(n, p, moments='mvsk')\n",
    "print(mean, var, skew, kurt)"
   ]
  },
  {
   "cell_type": "code",
   "execution_count": null,
   "id": "054f6bc6",
   "metadata": {},
   "outputs": [],
   "source": [
    "## Probability mass function\n",
    "\n",
    "x = np.arange(nbinom.ppf(0.99, n, p))\n",
    "nbinom.pmf(x, n, p)"
   ]
  },
  {
   "cell_type": "markdown",
   "id": "f1afb831",
   "metadata": {},
   "source": [
    "Where nbinom.ppf is similar to \"qnbinom()\" function and nbinom.pmf is similar to \"dnbinom()\" function in r."
   ]
  },
  {
   "cell_type": "code",
   "execution_count": null,
   "id": "4b49fc71",
   "metadata": {},
   "outputs": [],
   "source": [
    "## Cummulative distribution function\n",
    "\n",
    "nbinom.cdf(x, n, p)"
   ]
  },
  {
   "cell_type": "markdown",
   "id": "2b023dca",
   "metadata": {},
   "source": [
    "Similar to \"pnbinom()\" function in r."
   ]
  },
  {
   "cell_type": "code",
   "execution_count": null,
   "id": "da6314fe",
   "metadata": {},
   "outputs": [],
   "source": [
    "## Generate random numbers\n",
    "\n",
    "nbinom.rvs(n, p, size=10)"
   ]
  },
  {
   "cell_type": "markdown",
   "id": "168e247d",
   "metadata": {},
   "source": [
    "Similar to \"rnbinom()\" function in r."
   ]
  },
  {
   "cell_type": "markdown",
   "id": "734a16b0",
   "metadata": {},
   "source": [
    "### Poisson"
   ]
  },
  {
   "cell_type": "code",
   "execution_count": null,
   "id": "223813f9",
   "metadata": {},
   "outputs": [],
   "source": [
    "from scipy.stats import poisson"
   ]
  },
  {
   "cell_type": "code",
   "execution_count": null,
   "id": "77ad80e0",
   "metadata": {},
   "outputs": [],
   "source": [
    "## Calculate the first four moments\n",
    "\n",
    "mu = 0.7\n",
    "mean, var, skew, kurt = poisson.stats(mu, moments='mvsk')\n",
    "print(mean, var, skew, kurt)"
   ]
  },
  {
   "cell_type": "code",
   "execution_count": null,
   "id": "7ddfeafc",
   "metadata": {},
   "outputs": [],
   "source": [
    "## Probability mass function\n",
    "\n",
    "x = np.arange(poisson.ppf(0.99, mu))\n",
    "poisson.pmf(x, mu)"
   ]
  },
  {
   "cell_type": "markdown",
   "id": "ccc3cfa1",
   "metadata": {},
   "source": [
    "Where poisson.ppf is similar to \"qpois()\" function and poisson.pmf is similar to \"dpois()\" function in r."
   ]
  },
  {
   "cell_type": "code",
   "execution_count": null,
   "id": "037fbc6c",
   "metadata": {},
   "outputs": [],
   "source": [
    "## Cummulative distribution function\n",
    "\n",
    "poisson.cdf(x, mu)"
   ]
  },
  {
   "cell_type": "markdown",
   "id": "6171ebd7",
   "metadata": {},
   "source": [
    "Similar to \"ppois()\" function in r."
   ]
  },
  {
   "cell_type": "code",
   "execution_count": null,
   "id": "90eeb278",
   "metadata": {},
   "outputs": [],
   "source": [
    "## Generate random numbers\n",
    "\n",
    "poisson.rvs(mu, size=10)"
   ]
  },
  {
   "cell_type": "markdown",
   "id": "85f12ba6",
   "metadata": {},
   "source": [
    "Similar to \"rpois()\" function in r."
   ]
  },
  {
   "cell_type": "markdown",
   "id": "f5bc3a79",
   "metadata": {},
   "source": [
    "### Uniform"
   ]
  },
  {
   "cell_type": "code",
   "execution_count": null,
   "id": "9efa02cf",
   "metadata": {},
   "outputs": [],
   "source": [
    "from scipy.stats import randint"
   ]
  },
  {
   "cell_type": "code",
   "execution_count": null,
   "id": "aade9ba6",
   "metadata": {},
   "outputs": [],
   "source": [
    "## Calculate the first four moments\n",
    "\n",
    "low, high = 5, 25\n",
    "mean, var, skew, kurt = randint.stats(low, high, moments='mvsk')\n",
    "print(mean, var, skew, kurt)"
   ]
  },
  {
   "cell_type": "code",
   "execution_count": null,
   "id": "db17cb20",
   "metadata": {},
   "outputs": [],
   "source": [
    "## Probability mass function\n",
    "\n",
    "x = np.arange(randint.ppf(0.99, low, high))\n",
    "randint.pmf(x, low, high)"
   ]
  },
  {
   "cell_type": "markdown",
   "id": "ea25291b",
   "metadata": {},
   "source": [
    "Where randint.ppf is similar to \"qdunif()\" function and randint.pmf is similar to \"ddunif()\" function in r."
   ]
  },
  {
   "cell_type": "code",
   "execution_count": null,
   "id": "db304e19",
   "metadata": {},
   "outputs": [],
   "source": [
    "## Cummulative distribution function\n",
    "\n",
    "randint.cdf(x, low, high)"
   ]
  },
  {
   "cell_type": "markdown",
   "id": "571cc8e5",
   "metadata": {},
   "source": [
    "Similar to \"pdunif()\" function in r."
   ]
  },
  {
   "cell_type": "code",
   "execution_count": null,
   "id": "1f721c5f",
   "metadata": {},
   "outputs": [],
   "source": [
    "## Generate random numbers\n",
    "\n",
    "randint.rvs(low, high, size=10)"
   ]
  },
  {
   "cell_type": "markdown",
   "id": "1c09691b",
   "metadata": {},
   "source": [
    "Similar to \"rdunif()\" function in r."
   ]
  },
  {
   "cell_type": "markdown",
   "id": "6ae4e055",
   "metadata": {},
   "source": [
    "Few more distributions that are also supported in this package is:\n",
    "- Boltzmann (truncated Planck) Distribution\n",
    "- Planck (discrete exponential) Distribution\n",
    "- Fisher’s Noncentral Hypergeometric Distribution\n",
    "- Wallenius’ Noncentral Hypergeometric Distribution\n",
    "- Negative Hypergeometric Distribution\n",
    "- Zipf (Zeta) Distribution\n",
    "- Zipfian Distribution\n",
    "- Logarithmic (Log-Series, Series) Distribution\n",
    "- Discrete Laplacian Distribution\n",
    "- Yule-Simon Distribution"
   ]
  },
  {
   "cell_type": "markdown",
   "id": "1835cb76",
   "metadata": {},
   "source": [
    "## Continuous Distributions"
   ]
  },
  {
   "cell_type": "markdown",
   "id": "8e431ecc",
   "metadata": {},
   "source": [
    "### Beta"
   ]
  },
  {
   "cell_type": "code",
   "execution_count": null,
   "id": "6a44b6a4",
   "metadata": {},
   "outputs": [],
   "source": [
    "from scipy.stats import beta"
   ]
  },
  {
   "cell_type": "code",
   "execution_count": null,
   "id": "a0eab373",
   "metadata": {},
   "outputs": [],
   "source": [
    "## Calculate the first four moments\n",
    "\n",
    "a, b = 1.76, 0.35\n",
    "mean, var, skew, kurt = beta.stats(a, b, moments='mvsk')\n",
    "print(mean, var, skew, kurt)"
   ]
  },
  {
   "cell_type": "code",
   "execution_count": null,
   "id": "cae0d2c5",
   "metadata": {},
   "outputs": [],
   "source": [
    "## Probability density function\n",
    "\n",
    "x = np.linspace(beta.ppf(0.99, a, b), 100)\n",
    "beta.pdf(x, a, b)"
   ]
  },
  {
   "cell_type": "markdown",
   "id": "fd9823f1",
   "metadata": {},
   "source": [
    "Where beta.ppf is similar to \"qbeta()\" function and beta.pmf is similar to \"dbeta()\" function in r."
   ]
  },
  {
   "cell_type": "code",
   "execution_count": null,
   "id": "6d1a02e4",
   "metadata": {},
   "outputs": [],
   "source": [
    "## Cummulative distribution function\n",
    "\n",
    "beta.ppf([0.001, 0.5, 0.999], a, b)"
   ]
  },
  {
   "cell_type": "markdown",
   "id": "a45966fb",
   "metadata": {},
   "source": [
    "Similar to \"pbeta()\" function in r."
   ]
  },
  {
   "cell_type": "code",
   "execution_count": null,
   "id": "4e037da7",
   "metadata": {},
   "outputs": [],
   "source": [
    "## Generate random numbers\n",
    "\n",
    "beta.rvs(a, b, size=10)"
   ]
  },
  {
   "cell_type": "markdown",
   "id": "03f37f32",
   "metadata": {},
   "source": [
    "Similar to \"rbeta()\" function in r."
   ]
  },
  {
   "cell_type": "markdown",
   "id": "5a2b143b",
   "metadata": {},
   "source": [
    "### Cauchy"
   ]
  },
  {
   "cell_type": "code",
   "execution_count": null,
   "id": "4ef1155c",
   "metadata": {},
   "outputs": [],
   "source": [
    "from scipy.stats import cauchy"
   ]
  },
  {
   "cell_type": "code",
   "execution_count": null,
   "id": "91952f6f",
   "metadata": {},
   "outputs": [],
   "source": [
    "## Probability density function\n",
    "\n",
    "x = np.linspace(cauchy.ppf(0.99), 100)\n",
    "cauchy.pdf(x)"
   ]
  },
  {
   "cell_type": "markdown",
   "id": "44778630",
   "metadata": {},
   "source": [
    "Where cauchy.ppf is similar to \"qcauchy()\" function and cauchy.pmf is similar to \"dcauchy()\" function in r."
   ]
  },
  {
   "cell_type": "code",
   "execution_count": null,
   "id": "085ac9c4",
   "metadata": {},
   "outputs": [],
   "source": [
    "## Cummulative distribution function\n",
    "\n",
    "cauchy.ppf([0.01, 0.5, 0.999])"
   ]
  },
  {
   "cell_type": "markdown",
   "id": "b2544759",
   "metadata": {},
   "source": [
    "Similar to \"pcauchy()\" function in r."
   ]
  },
  {
   "cell_type": "code",
   "execution_count": null,
   "id": "5e65a496",
   "metadata": {},
   "outputs": [],
   "source": [
    "## Generate random numbers\n",
    "\n",
    "cauchy.rvs(size=10)"
   ]
  },
  {
   "cell_type": "markdown",
   "id": "770bb123",
   "metadata": {},
   "source": [
    "Similar to \"rcauchy()\" function in r."
   ]
  },
  {
   "cell_type": "markdown",
   "id": "c9eb55f8",
   "metadata": {},
   "source": [
    "### Chi square"
   ]
  },
  {
   "cell_type": "code",
   "execution_count": null,
   "id": "d28eed73",
   "metadata": {},
   "outputs": [],
   "source": [
    "from scipy.stats import chi2"
   ]
  },
  {
   "cell_type": "code",
   "execution_count": null,
   "id": "838a299d",
   "metadata": {},
   "outputs": [],
   "source": [
    "## Calculate the first four moments\n",
    "\n",
    "df = 30\n",
    "mean, var, skew, kurt = chi2.stats(df, moments='mvsk')\n",
    "print(mean, var, skew, kurt)"
   ]
  },
  {
   "cell_type": "code",
   "execution_count": null,
   "id": "d664fa2d",
   "metadata": {},
   "outputs": [],
   "source": [
    "## Probability density function\n",
    "\n",
    "x = np.linspace(chi2.ppf(0.99, df), 100)\n",
    "chi2.pdf(x, df)"
   ]
  },
  {
   "cell_type": "markdown",
   "id": "e2d6c87b",
   "metadata": {},
   "source": [
    "Where chi2.ppf is similar to \"qchisq()\" function and chi2.pmf is similar to \"dchisq()\" function in r."
   ]
  },
  {
   "cell_type": "code",
   "execution_count": null,
   "id": "3ed8eddf",
   "metadata": {},
   "outputs": [],
   "source": [
    "## Cummulative distribution function\n",
    "\n",
    "chi2.ppf([0.001, 0.5, 0.999], df)"
   ]
  },
  {
   "cell_type": "markdown",
   "id": "7b47a52f",
   "metadata": {},
   "source": [
    "Similar to \"pchisq()\" function in r."
   ]
  },
  {
   "cell_type": "code",
   "execution_count": null,
   "id": "2d7ed006",
   "metadata": {},
   "outputs": [],
   "source": [
    "## Generate random numbers\n",
    "\n",
    "chi2.rvs(df, size=10)"
   ]
  },
  {
   "cell_type": "markdown",
   "id": "0b8f63c0",
   "metadata": {},
   "source": [
    "Similar to \"rchisq()\" function in r."
   ]
  },
  {
   "cell_type": "markdown",
   "id": "c3a4d035",
   "metadata": {},
   "source": [
    "### Exponential"
   ]
  },
  {
   "cell_type": "code",
   "execution_count": null,
   "id": "8c22f39a",
   "metadata": {},
   "outputs": [],
   "source": [
    "from scipy.stats import expon"
   ]
  },
  {
   "cell_type": "code",
   "execution_count": null,
   "id": "d329dfb9",
   "metadata": {},
   "outputs": [],
   "source": [
    "## Calculate the first four moments\n",
    "\n",
    "loc, scale = 16, 3\n",
    "mean, var, skew, kurt = expon.stats(loc, scale, moments='mvsk')\n",
    "print(mean, var, skew, kurt)"
   ]
  },
  {
   "cell_type": "code",
   "execution_count": null,
   "id": "8efdd565",
   "metadata": {},
   "outputs": [],
   "source": [
    "## Probability density function\n",
    "\n",
    "x = np.linspace(expon.ppf(0.99), 100)\n",
    "expon.pdf(x,loc,scale)"
   ]
  },
  {
   "cell_type": "markdown",
   "id": "d474f564",
   "metadata": {},
   "source": [
    "Where expon.ppf is similar to \"qexp()\" function and expon.pmf is similar to \"dexp()\" function in r."
   ]
  },
  {
   "cell_type": "code",
   "execution_count": null,
   "id": "7ea5b21c",
   "metadata": {},
   "outputs": [],
   "source": [
    "## Cummulative distribution function\n",
    "\n",
    "expon.ppf([0.001, 0.5, 0.999],loc,scale)"
   ]
  },
  {
   "cell_type": "markdown",
   "id": "db5b2ca3",
   "metadata": {},
   "source": [
    "Similar to \"pexp()\" function in r."
   ]
  },
  {
   "cell_type": "code",
   "execution_count": null,
   "id": "7e36bb79",
   "metadata": {},
   "outputs": [],
   "source": [
    "## Generate random numbers\n",
    "\n",
    "expon.rvs(loc,scale,size=10)"
   ]
  },
  {
   "cell_type": "markdown",
   "id": "7a870b7f",
   "metadata": {},
   "source": [
    "Similar to \"rexp()\" function in r."
   ]
  },
  {
   "cell_type": "markdown",
   "id": "5f61cd13",
   "metadata": {},
   "source": [
    "### Gamma"
   ]
  },
  {
   "cell_type": "code",
   "execution_count": null,
   "id": "63b1e862",
   "metadata": {},
   "outputs": [],
   "source": [
    "from scipy.stats import gamma"
   ]
  },
  {
   "cell_type": "code",
   "execution_count": null,
   "id": "fb29d5fc",
   "metadata": {},
   "outputs": [],
   "source": [
    "## Calculate the first four moments\n",
    "\n",
    "a, loc, scale = 5,0, 2\n",
    "mean, var, skew, kurt = gamma.stats(a,loc, scale, moments='mvsk')\n",
    "print(mean, var, skew, kurt)"
   ]
  },
  {
   "cell_type": "code",
   "execution_count": null,
   "id": "6b9fad10",
   "metadata": {},
   "outputs": [],
   "source": [
    "## Probability density function\n",
    "\n",
    "x = np.linspace(gamma.ppf(0.99, a), 100)\n",
    "gamma.pdf(x, a,loc,scale)"
   ]
  },
  {
   "cell_type": "markdown",
   "id": "c8b1b111",
   "metadata": {},
   "source": [
    "Where gamma.ppf is similar to \"qgamma()\" function and gamma.pmf is similar to \"dgamma()\" function in r."
   ]
  },
  {
   "cell_type": "code",
   "execution_count": null,
   "id": "b8599c5c",
   "metadata": {},
   "outputs": [],
   "source": [
    "## Cummulative distribution function\n",
    "\n",
    "gamma.ppf([0.001, 0.5, 0.999], a,loc,scale)"
   ]
  },
  {
   "cell_type": "markdown",
   "id": "aac4005f",
   "metadata": {},
   "source": [
    "Similar to \"pgamma()\" function in r."
   ]
  },
  {
   "cell_type": "code",
   "execution_count": null,
   "id": "bb0e6301",
   "metadata": {},
   "outputs": [],
   "source": [
    "## Generate random numbers\n",
    "\n",
    "gamma.rvs(scale,a, size=10)"
   ]
  },
  {
   "cell_type": "markdown",
   "id": "264a3e01",
   "metadata": {},
   "source": [
    "Similar to \"rgamma()\" function in r."
   ]
  },
  {
   "cell_type": "markdown",
   "id": "73255c03",
   "metadata": {},
   "source": [
    "### Laplace"
   ]
  },
  {
   "cell_type": "code",
   "execution_count": null,
   "id": "cc06363b",
   "metadata": {},
   "outputs": [],
   "source": [
    "from scipy.stats import laplace"
   ]
  },
  {
   "cell_type": "code",
   "execution_count": null,
   "id": "f71c0165",
   "metadata": {},
   "outputs": [],
   "source": [
    "## Calculate the first four moments\n",
    "\n",
    "loc, scale = 16, 3\n",
    "mean, var, skew, kurt = laplace.stats(loc, scale, moments='mvsk')\n",
    "print(mean, var, skew, kurt)"
   ]
  },
  {
   "cell_type": "code",
   "execution_count": null,
   "id": "bc9db049",
   "metadata": {},
   "outputs": [],
   "source": [
    "## Probability density function\n",
    "\n",
    "x = np.linspace(laplace.ppf(0.99), 100)\n",
    "laplace.pdf(x,loc,scale)"
   ]
  },
  {
   "cell_type": "markdown",
   "id": "45d47f35",
   "metadata": {},
   "source": [
    "Where laplace.ppf is similar to \"qlaplace()\" function and laplace.pmf is similar to \"dlaplace()\" function in r."
   ]
  },
  {
   "cell_type": "code",
   "execution_count": null,
   "id": "8662e684",
   "metadata": {},
   "outputs": [],
   "source": [
    "## Cummulative distribution function\n",
    "\n",
    "laplace.ppf([0.001, 0.5, 0.999],loc,scale)"
   ]
  },
  {
   "cell_type": "markdown",
   "id": "c60f150a",
   "metadata": {},
   "source": [
    "Similar to \"plaplace()\" function in r."
   ]
  },
  {
   "cell_type": "code",
   "execution_count": null,
   "id": "93560829",
   "metadata": {},
   "outputs": [],
   "source": [
    "## Generate random numbers\n",
    "\n",
    "laplace.rvs(loc,scale,size=10)"
   ]
  },
  {
   "cell_type": "markdown",
   "id": "8def8512",
   "metadata": {},
   "source": [
    "Similar to \"rlaplace()\" function in r."
   ]
  },
  {
   "cell_type": "markdown",
   "id": "91761616",
   "metadata": {},
   "source": [
    "### Logistic"
   ]
  },
  {
   "cell_type": "code",
   "execution_count": null,
   "id": "a64ac741",
   "metadata": {},
   "outputs": [],
   "source": [
    "from scipy.stats import logistic"
   ]
  },
  {
   "cell_type": "code",
   "execution_count": null,
   "id": "098c952c",
   "metadata": {},
   "outputs": [],
   "source": [
    "## Calculate the first four moments\n",
    "\n",
    "loc, scale = 16, 3\n",
    "mean, var, skew, kurt = logistic.stats(loc, scale, moments='mvsk')\n",
    "print(mean, var, skew, kurt)"
   ]
  },
  {
   "cell_type": "code",
   "execution_count": null,
   "id": "916fcb11",
   "metadata": {},
   "outputs": [],
   "source": [
    "## Probability density function\n",
    "\n",
    "x = np.linspace(logistic.ppf(0.99), 100)\n",
    "logistic.pdf(x,loc, scale)"
   ]
  },
  {
   "cell_type": "markdown",
   "id": "95a95ce5",
   "metadata": {},
   "source": [
    "Where logistic.ppf is similar to \"qlogis()\" function and logistic.pmf is similar to \"dlogis()\" function in r."
   ]
  },
  {
   "cell_type": "code",
   "execution_count": null,
   "id": "3c2ce87d",
   "metadata": {},
   "outputs": [],
   "source": [
    "## Cummulative distribution function\n",
    "\n",
    "logistic.ppf([0.001, 0.5, 0.999],loc, scale)"
   ]
  },
  {
   "cell_type": "markdown",
   "id": "55a2b867",
   "metadata": {},
   "source": [
    "Similar to \"plogis()\" function in r."
   ]
  },
  {
   "cell_type": "code",
   "execution_count": null,
   "id": "1b9b0990",
   "metadata": {},
   "outputs": [],
   "source": [
    "## Generate random numbers\n",
    "\n",
    "logistic.rvs(loc, scale,size=10)"
   ]
  },
  {
   "cell_type": "markdown",
   "id": "c3aa0fe2",
   "metadata": {},
   "source": [
    "Similar to \"rlogis()\" function in r."
   ]
  },
  {
   "cell_type": "markdown",
   "id": "107413e6",
   "metadata": {},
   "source": [
    "### Noncentral Chi-square"
   ]
  },
  {
   "cell_type": "code",
   "execution_count": null,
   "id": "8cf30540",
   "metadata": {},
   "outputs": [],
   "source": [
    "from scipy.stats import ncx2"
   ]
  },
  {
   "cell_type": "code",
   "execution_count": null,
   "id": "f77c4f21",
   "metadata": {},
   "outputs": [],
   "source": [
    "## Calculate the first four moments\n",
    "\n",
    "df, nc = 30, 0.88\n",
    "mean, var, skew, kurt = ncx2.stats(df, nc, moments='mvsk')\n",
    "print(mean, var, skew, kurt)"
   ]
  },
  {
   "cell_type": "code",
   "execution_count": null,
   "id": "ebde3447",
   "metadata": {},
   "outputs": [],
   "source": [
    "## Probability density function\n",
    "\n",
    "x = np.linspace(ncx2.ppf(0.99, df, nc), 100)\n",
    "ncx2.pdf(x, df, nc)"
   ]
  },
  {
   "cell_type": "code",
   "execution_count": null,
   "id": "bcf3fe8e",
   "metadata": {},
   "outputs": [],
   "source": [
    "## Cummulative distribution function\n",
    "\n",
    "ncx2.ppf([0.001, 0.5, 0.999], df, nc)"
   ]
  },
  {
   "cell_type": "code",
   "execution_count": null,
   "id": "eba8bec7",
   "metadata": {},
   "outputs": [],
   "source": [
    "## Generate random numbers\n",
    "\n",
    "ncx2.rvs(df, nc, size=10)"
   ]
  },
  {
   "cell_type": "markdown",
   "id": "e808df10",
   "metadata": {},
   "source": [
    "The corresponding r codes are same as the central chisquare."
   ]
  },
  {
   "cell_type": "markdown",
   "id": "bb03f3a1",
   "metadata": {},
   "source": [
    "### Noncentral F"
   ]
  },
  {
   "cell_type": "code",
   "execution_count": null,
   "id": "f2e9f901",
   "metadata": {},
   "outputs": [],
   "source": [
    "from scipy.stats import ncf"
   ]
  },
  {
   "cell_type": "code",
   "execution_count": null,
   "id": "8373060e",
   "metadata": {},
   "outputs": [],
   "source": [
    "## Calculate the first four moments\n",
    "\n",
    "dfn, dfd, nc = 18, 23, 0.342\n",
    "mean, var, skew, kurt = ncf.stats(dfn, dfd, nc, moments='mvsk')\n",
    "print(mean, var, skew, kurt)"
   ]
  },
  {
   "cell_type": "code",
   "execution_count": null,
   "id": "2862af4f",
   "metadata": {},
   "outputs": [],
   "source": [
    "## Probability density function\n",
    "\n",
    "x = np.linspace(ncf.ppf(0.99, dfn, dfd, nc), 100)\n",
    "ncf.pdf(x, dfn, dfd, nc)"
   ]
  },
  {
   "cell_type": "code",
   "execution_count": null,
   "id": "dc31c17b",
   "metadata": {},
   "outputs": [],
   "source": [
    "## Cummulative distribution function\n",
    "\n",
    "ncf.ppf([0.001, 0.5, 0.999], dfn, dfd, nc)"
   ]
  },
  {
   "cell_type": "code",
   "execution_count": null,
   "id": "997d50c8",
   "metadata": {},
   "outputs": [],
   "source": [
    "## Generate random numbers\n",
    "\n",
    "ncf.rvs(dfn, dfd, nc, size=10)"
   ]
  },
  {
   "cell_type": "markdown",
   "id": "fd126118",
   "metadata": {},
   "source": [
    "### Noncentral t"
   ]
  },
  {
   "cell_type": "code",
   "execution_count": null,
   "id": "344e894d",
   "metadata": {},
   "outputs": [],
   "source": [
    "from scipy.stats import nct"
   ]
  },
  {
   "cell_type": "code",
   "execution_count": null,
   "id": "158b9775",
   "metadata": {},
   "outputs": [],
   "source": [
    "## Calculate the first four moments\n",
    "\n",
    "df, nc = 22, 0.13\n",
    "mean, var, skew, kurt = nct.stats(df, nc, moments='mvsk')\n",
    "print(mean, var, skew, kurt)"
   ]
  },
  {
   "cell_type": "code",
   "execution_count": null,
   "id": "e94bc523",
   "metadata": {},
   "outputs": [],
   "source": [
    "## Probability density function\n",
    "\n",
    "x = np.linspace(nct.ppf(0.99, df, nc), 100)\n",
    "nct.pdf(x, df, nc)"
   ]
  },
  {
   "cell_type": "code",
   "execution_count": null,
   "id": "988233ca",
   "metadata": {},
   "outputs": [],
   "source": [
    "## Cummulative distribution function\n",
    "\n",
    "nct.ppf([0.001, 0.5, 0.999], df, nc)"
   ]
  },
  {
   "cell_type": "code",
   "execution_count": null,
   "id": "c0dc76e2",
   "metadata": {},
   "outputs": [],
   "source": [
    "## Generate random numbers\n",
    "\n",
    "nct.rvs(df, nc, size=10)"
   ]
  },
  {
   "cell_type": "markdown",
   "id": "4abc92ef",
   "metadata": {},
   "source": [
    "### Normal"
   ]
  },
  {
   "cell_type": "code",
   "execution_count": null,
   "id": "5e6eba1e",
   "metadata": {},
   "outputs": [],
   "source": [
    "from scipy.stats import norm"
   ]
  },
  {
   "cell_type": "code",
   "execution_count": null,
   "id": "f73659ef",
   "metadata": {},
   "outputs": [],
   "source": [
    "## Calculate the first four moments\n",
    "\n",
    "loc, scale = 10,2.4\n",
    "mean, var, skew, kurt = norm.stats(loc,scale, moments='mvsk')\n",
    "print(mean, var, skew, kurt)"
   ]
  },
  {
   "cell_type": "code",
   "execution_count": null,
   "id": "ee053b1b",
   "metadata": {},
   "outputs": [],
   "source": [
    "## Probability density function\n",
    "\n",
    "x = np.linspace(norm.ppf(0.99), 100)\n",
    "norm.pdf(x,loc,scale)"
   ]
  },
  {
   "cell_type": "markdown",
   "id": "22e08ff0",
   "metadata": {},
   "source": [
    "Where norm.ppf is similar to \"qnorm()\" function and norm.pmf is similar to \"dnorm()\" function in r."
   ]
  },
  {
   "cell_type": "code",
   "execution_count": null,
   "id": "534dfc61",
   "metadata": {},
   "outputs": [],
   "source": [
    "## Cummulative distribution function\n",
    "\n",
    "norm.ppf([0.001, 0.5, 0.999],loc,scale)"
   ]
  },
  {
   "cell_type": "markdown",
   "id": "f9dada5d",
   "metadata": {},
   "source": [
    "Similar to \"pnorm()\" function in r."
   ]
  },
  {
   "cell_type": "code",
   "execution_count": null,
   "id": "8966230c",
   "metadata": {},
   "outputs": [],
   "source": [
    "## Generate random numbers\n",
    "\n",
    "norm.rvs(size=10)"
   ]
  },
  {
   "cell_type": "markdown",
   "id": "f1a334fc",
   "metadata": {},
   "source": [
    "Similar to \"rnorm()\" function in r."
   ]
  },
  {
   "cell_type": "markdown",
   "id": "a39f8af1",
   "metadata": {},
   "source": [
    "### Pareto"
   ]
  },
  {
   "cell_type": "code",
   "execution_count": null,
   "id": "bb041f09",
   "metadata": {},
   "outputs": [],
   "source": [
    "from scipy.stats import pareto"
   ]
  },
  {
   "cell_type": "code",
   "execution_count": null,
   "id": "d5e79fb9",
   "metadata": {},
   "outputs": [],
   "source": [
    "## Calculate the first four moments\n",
    "\n",
    "b = 5\n",
    "mean, var, skew, kurt = pareto.stats(b, moments='mvsk')\n",
    "print(mean, var, skew, kurt)"
   ]
  },
  {
   "cell_type": "code",
   "execution_count": null,
   "id": "8883376b",
   "metadata": {},
   "outputs": [],
   "source": [
    "## Probability density function\n",
    "\n",
    "x = np.linspace(pareto.ppf(0.99, b), 100)\n",
    "pareto.pdf(x, b)"
   ]
  },
  {
   "cell_type": "markdown",
   "id": "2966355f",
   "metadata": {},
   "source": [
    "Where pareto.ppf is similar to \"qpareto()\" function and pareto.pmf is similar to \"dpareto()\" function in r."
   ]
  },
  {
   "cell_type": "code",
   "execution_count": null,
   "id": "08ed1453",
   "metadata": {},
   "outputs": [],
   "source": [
    "## Cummulative distribution function\n",
    "\n",
    "pareto.ppf([0.001, 0.5, 0.999], b)"
   ]
  },
  {
   "cell_type": "markdown",
   "id": "7edb6c9d",
   "metadata": {},
   "source": [
    "Similar to \"ppareto()\" function in r."
   ]
  },
  {
   "cell_type": "code",
   "execution_count": null,
   "id": "4c1bf49d",
   "metadata": {},
   "outputs": [],
   "source": [
    "## Generate random numbers\n",
    "\n",
    "pareto.rvs(b, size=10)"
   ]
  },
  {
   "cell_type": "markdown",
   "id": "1d4b4e8f",
   "metadata": {},
   "source": [
    "Similar to \"rpareto()\" function in r."
   ]
  },
  {
   "cell_type": "markdown",
   "id": "74b5c2ad",
   "metadata": {},
   "source": [
    "### Rayleigh"
   ]
  },
  {
   "cell_type": "code",
   "execution_count": null,
   "id": "0f6212aa",
   "metadata": {},
   "outputs": [],
   "source": [
    "from scipy.stats import rayleigh"
   ]
  },
  {
   "cell_type": "code",
   "execution_count": null,
   "id": "9acc022a",
   "metadata": {},
   "outputs": [],
   "source": [
    "## Calculate the first four moments\n",
    "\n",
    "loc, scale = 16, 3\n",
    "mean, var, skew, kurt = rayleigh.stats(loc, scale, moments='mvsk')\n",
    "print(mean, var, skew, kurt)"
   ]
  },
  {
   "cell_type": "code",
   "execution_count": null,
   "id": "f0e8ae0a",
   "metadata": {},
   "outputs": [],
   "source": [
    "## Probability density function\n",
    "\n",
    "x = np.linspace(rayleigh.ppf(0.99), 100)\n",
    "rayleigh.pdf(x,loc, scale)"
   ]
  },
  {
   "cell_type": "markdown",
   "id": "16087236",
   "metadata": {},
   "source": [
    "Where rayleigh.ppf is similar to \"qrayleigh()\" function and rayleigh.pmf is similar to \"drayleigh()\" function in r."
   ]
  },
  {
   "cell_type": "code",
   "execution_count": null,
   "id": "0bb70721",
   "metadata": {},
   "outputs": [],
   "source": [
    "## Cummulative distribution function\n",
    "\n",
    "rayleigh.ppf([0.001, 0.5, 0.999],loc, scale)"
   ]
  },
  {
   "cell_type": "markdown",
   "id": "895b4b93",
   "metadata": {},
   "source": [
    "Similar to \"prayleigh()\" function in r."
   ]
  },
  {
   "cell_type": "code",
   "execution_count": null,
   "id": "7cf7a91d",
   "metadata": {},
   "outputs": [],
   "source": [
    "## Generate random numbers\n",
    "\n",
    "rayleigh.rvs(loc, scale,size=10)"
   ]
  },
  {
   "cell_type": "markdown",
   "id": "b26f8d52",
   "metadata": {},
   "source": [
    "Similar to \"rrayleigh()\" function in r."
   ]
  },
  {
   "cell_type": "markdown",
   "id": "3b4c3ce9",
   "metadata": {},
   "source": [
    "### Student t"
   ]
  },
  {
   "cell_type": "code",
   "execution_count": null,
   "id": "2ca8243d",
   "metadata": {},
   "outputs": [],
   "source": [
    "from scipy.stats import t"
   ]
  },
  {
   "cell_type": "code",
   "execution_count": null,
   "id": "ac41fa9c",
   "metadata": {},
   "outputs": [],
   "source": [
    "## Calculate the first four moments\n",
    "\n",
    "df,loc,scale = 5, 12, 3 \n",
    "mean, var, skew, kurt = t.stats(df,loc,scale, moments='mvsk')\n",
    "print(mean, var, skew, kurt)"
   ]
  },
  {
   "cell_type": "code",
   "execution_count": null,
   "id": "b9b34f84",
   "metadata": {},
   "outputs": [],
   "source": [
    "## Probability density function\n",
    "\n",
    "x = np.linspace(t.ppf(0.99, df), 100)\n",
    "t.pdf(x, df,loc,scale)"
   ]
  },
  {
   "cell_type": "markdown",
   "id": "7de6405a",
   "metadata": {},
   "source": [
    "Where t.ppf is similar to \"qt()\" function and t.pmf is similar to \"dt()\" function in r."
   ]
  },
  {
   "cell_type": "code",
   "execution_count": null,
   "id": "bb6fccdd",
   "metadata": {},
   "outputs": [],
   "source": [
    "## Cummulative distribution function\n",
    "\n",
    "t.ppf([0.001, 0.5, 0.999], df,loc,scale)"
   ]
  },
  {
   "cell_type": "markdown",
   "id": "ff2f356e",
   "metadata": {},
   "source": [
    "Similar to \"pt()\" function in r."
   ]
  },
  {
   "cell_type": "code",
   "execution_count": null,
   "id": "1a95367c",
   "metadata": {},
   "outputs": [],
   "source": [
    "## Generate random numbers\n",
    "\n",
    "t.rvs(df, size=10)"
   ]
  },
  {
   "cell_type": "markdown",
   "id": "ead3132e",
   "metadata": {},
   "source": [
    "Similar to \"rt()\" function in r."
   ]
  },
  {
   "cell_type": "markdown",
   "id": "f853dd9d",
   "metadata": {},
   "source": [
    "### Uniform"
   ]
  },
  {
   "cell_type": "code",
   "execution_count": null,
   "id": "8b704662",
   "metadata": {},
   "outputs": [],
   "source": [
    "from scipy.stats import uniform"
   ]
  },
  {
   "cell_type": "code",
   "execution_count": null,
   "id": "643828be",
   "metadata": {},
   "outputs": [],
   "source": [
    "## Calculate the first four moments\n",
    "\n",
    "loc,scale=5,2\n",
    "mean, var, skew, kurt = uniform.stats(loc,scale,moments='mvsk')\n",
    "print(mean, var, skew, kurt)"
   ]
  },
  {
   "cell_type": "code",
   "execution_count": null,
   "id": "fce731af",
   "metadata": {},
   "outputs": [],
   "source": [
    "## Probability density function\n",
    "\n",
    "x = np.linspace(uniform.ppf(0.99), 100)\n",
    "uniform.pdf(x,loc,scale)"
   ]
  },
  {
   "cell_type": "markdown",
   "id": "8403640f",
   "metadata": {},
   "source": [
    "Where uniform.ppf is similar to \"qunif()\" function and uniform.pmf is similar to \"dunif()\" function in r."
   ]
  },
  {
   "cell_type": "code",
   "execution_count": null,
   "id": "3b48e5c8",
   "metadata": {},
   "outputs": [],
   "source": [
    "## Cummulative distribution function\n",
    "\n",
    "uniform.ppf([0.001, 0.5, 0.999])"
   ]
  },
  {
   "cell_type": "markdown",
   "id": "df011d37",
   "metadata": {},
   "source": [
    "Similar to \"punif()\" function in r."
   ]
  },
  {
   "cell_type": "code",
   "execution_count": null,
   "id": "dd73815f",
   "metadata": {},
   "outputs": [],
   "source": [
    "## Generate random numbers\n",
    "\n",
    "uniform.rvs(size=10)"
   ]
  },
  {
   "cell_type": "markdown",
   "id": "913499cb",
   "metadata": {},
   "source": [
    "Similar to \"runif()\" function in r."
   ]
  },
  {
   "cell_type": "markdown",
   "id": "e816ea3b",
   "metadata": {},
   "source": [
    "Also there are several other continuous distributions under scipy.stats."
   ]
  }
 ],
 "metadata": {
  "jupytext": {
   "formats": "ipynb,md:myst",
   "text_representation": {
    "extension": ".md",
    "format_name": "myst",
    "format_version": 0.13,
    "jupytext_version": "1.10.3"
   }
  },
  "kernelspec": {
   "display_name": "Python 3 (ipykernel)",
   "language": "python",
   "name": "python3"
  },
  "source_map": [
   13,
   21,
   26,
   30,
   34,
   38,
   46,
   51,
   55,
   59,
   63,
   67,
   71,
   75,
   79,
   87,
   92,
   96,
   100,
   104,
   108,
   112,
   116,
   120,
   128,
   133,
   137,
   141,
   145,
   149,
   153,
   157,
   161,
   169,
   174,
   178,
   182,
   186,
   190,
   194,
   198,
   202,
   210,
   215,
   219,
   223,
   227,
   231,
   235,
   239,
   243,
   251,
   256,
   260,
   264,
   268,
   272,
   276,
   280,
   284,
   292,
   297,
   301,
   305,
   309,
   313,
   317,
   321,
   325,
   333,
   338,
   342,
   346,
   350,
   354,
   358,
   372,
   376,
   380,
   384,
   392,
   397,
   401,
   405,
   409,
   413,
   417,
   421,
   425,
   430,
   434,
   438,
   442,
   446,
   450,
   454,
   458,
   466,
   471,
   475,
   479,
   483,
   487,
   491,
   495,
   499,
   507,
   512,
   516,
   520,
   524,
   528,
   532,
   536,
   540,
   548,
   553,
   557,
   561,
   565,
   569,
   573,
   577,
   581,
   589,
   594,
   598,
   602,
   606,
   610,
   614,
   618,
   622,
   630,
   635,
   639,
   643,
   647,
   651,
   655,
   659,
   663,
   671,
   678,
   684,
   688,
   692,
   696,
   700,
   708,
   715,
   721,
   725,
   729,
   733,
   741,
   748,
   754,
   758,
   762,
   766,
   774,
   779,
   783,
   787,
   791,
   795,
   799,
   803,
   807,
   815,
   820,
   824,
   828,
   832,
   836,
   840,
   844,
   848,
   856,
   861,
   865,
   869,
   873,
   877,
   881,
   885,
   889,
   897,
   902,
   906,
   910,
   914,
   918,
   922,
   926,
   930,
   938,
   943,
   947,
   951,
   955,
   959,
   963
  ]
 },
 "nbformat": 4,
 "nbformat_minor": 5
}