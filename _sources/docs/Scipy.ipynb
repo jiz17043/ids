{
 "cells": [
  {
   "cell_type": "markdown",
   "id": "752a76eb",
   "metadata": {},
   "source": [
    "# Scipy\n",
    "\n",
    "SciPy is a collection of mathematical algorithms and convenience functions built on the NumPy extension of Python. It adds significant power to the interactive Python session by providing the user with high-level commands and classes for manipulating and visualizing data. With SciPy, an interactive Python session becomes a data-processing and system-prototyping environment. \n",
    "\n",
    "The additional benefit of basing SciPy on Python is that this also makes a powerful programming language available for use in developing sophisticated programs and specialized applications. Everything from parallel programming to web and data-base subroutines and classes have been made available to the Python programmer. All of this power is available in addition to the mathematical libraries in SciPy."
   ]
  },
  {
   "cell_type": "code",
   "execution_count": null,
   "id": "584d04e3",
   "metadata": {},
   "outputs": [],
   "source": [
    "#Importing stats from scipy package\n",
    "\n",
    "from scipy import stats\n",
    "import numpy as np"
   ]
  },
  {
   "cell_type": "markdown",
   "id": "a9e9a57b",
   "metadata": {},
   "source": [
    "## Discrete Distributions"
   ]
  },
  {
   "cell_type": "markdown",
   "id": "593d0361",
   "metadata": {},
   "source": [
    "### Bernoulli"
   ]
  },
  {
   "cell_type": "code",
   "execution_count": null,
   "id": "efd12603",
   "metadata": {},
   "outputs": [],
   "source": [
    "from scipy.stats import bernoulli"
   ]
  },
  {
   "cell_type": "code",
   "execution_count": null,
   "id": "4a46ff86",
   "metadata": {},
   "outputs": [],
   "source": [
    "## Calculate the first four moments\n",
    "\n",
    "p = 0.6\n",
    "mean, var, skew, kurt = bernoulli.stats(p, moments='mvsk')\n",
    "print(mean, var, skew, kurt)"
   ]
  },
  {
   "cell_type": "code",
   "execution_count": null,
   "id": "72db2c1b",
   "metadata": {},
   "outputs": [],
   "source": [
    "## Probability mass function\n",
    "\n",
    "x = np.arange(bernoulli.ppf(0.99, p))\n",
    "bernoulli.pmf(x, p)"
   ]
  },
  {
   "cell_type": "markdown",
   "id": "80c00ee1",
   "metadata": {},
   "source": [
    "Where bernoulli.ppf is similar to \"qbern()\" function and bernoulli.pmf is similar to \"dbern()\" function in r."
   ]
  },
  {
   "cell_type": "code",
   "execution_count": null,
   "id": "f12e8212",
   "metadata": {},
   "outputs": [],
   "source": [
    "## Cummulative distribution function\n",
    "\n",
    "bernoulli.cdf(x, p)"
   ]
  },
  {
   "cell_type": "markdown",
   "id": "ef67c97f",
   "metadata": {},
   "source": [
    "Similar to \"pbern()\" function in r."
   ]
  },
  {
   "cell_type": "code",
   "execution_count": null,
   "id": "3cfc006c",
   "metadata": {},
   "outputs": [],
   "source": [
    "## Generate random numbers\n",
    "\n",
    "bernoulli.rvs(p, size=10)"
   ]
  },
  {
   "cell_type": "markdown",
   "id": "8e0bb589",
   "metadata": {},
   "source": [
    "Similar to \"rbern()\" function in r."
   ]
  },
  {
   "cell_type": "markdown",
   "id": "8fbc3718",
   "metadata": {},
   "source": [
    "### Betabinom"
   ]
  },
  {
   "cell_type": "code",
   "execution_count": null,
   "id": "b8763f1d",
   "metadata": {},
   "outputs": [],
   "source": [
    "from scipy.stats import betabinom"
   ]
  },
  {
   "cell_type": "code",
   "execution_count": null,
   "id": "3af3d978",
   "metadata": {},
   "outputs": [],
   "source": [
    "## Calculate the first four moments\n",
    "\n",
    "n, a, b = 7, 1.7, 0.42\n",
    "mean, var, skew, kurt = betabinom.stats(n, a, b, moments='mvsk')\n",
    "print(mean, var, skew, kurt)"
   ]
  },
  {
   "cell_type": "code",
   "execution_count": null,
   "id": "4d3dd496",
   "metadata": {},
   "outputs": [],
   "source": [
    "## Probability mass function\n",
    "\n",
    "x = np.arange(betabinom.ppf(0.99, n, a, b))\n",
    "betabinom.pmf(x, n, a, b)"
   ]
  },
  {
   "cell_type": "markdown",
   "id": "bbf67bea",
   "metadata": {},
   "source": [
    "Where betabinom.ppf is similar to \"qbb()\" function and betabinom.pmf is similar to \"dbb()\" function in r."
   ]
  },
  {
   "cell_type": "code",
   "execution_count": null,
   "id": "d93e4e56",
   "metadata": {},
   "outputs": [],
   "source": [
    "## Cummulative distribution function\n",
    "\n",
    "betabinom.cdf(x, n, a, b)"
   ]
  },
  {
   "cell_type": "markdown",
   "id": "070ae350",
   "metadata": {},
   "source": [
    "Similar to \"pbb()\" function in r."
   ]
  },
  {
   "cell_type": "code",
   "execution_count": null,
   "id": "98240522",
   "metadata": {},
   "outputs": [],
   "source": [
    "## Generate random numbers\n",
    "\n",
    "betabinom.rvs(n, a, b, size=10)"
   ]
  },
  {
   "cell_type": "markdown",
   "id": "a1d0f94e",
   "metadata": {},
   "source": [
    "Similar to \"rbb()\" function in r."
   ]
  },
  {
   "cell_type": "markdown",
   "id": "bf0fa382",
   "metadata": {},
   "source": [
    "### Binomial"
   ]
  },
  {
   "cell_type": "code",
   "execution_count": null,
   "id": "de85a48f",
   "metadata": {},
   "outputs": [],
   "source": [
    "from scipy.stats import binom"
   ]
  },
  {
   "cell_type": "code",
   "execution_count": null,
   "id": "f87c8365",
   "metadata": {},
   "outputs": [],
   "source": [
    "## Calculate the first four moments\n",
    "\n",
    "n, p = 7, 0.7\n",
    "mean, var, skew, kurt = binom.stats(n, p, moments='mvsk')\n",
    "print(mean, var, skew, kurt)"
   ]
  },
  {
   "cell_type": "code",
   "execution_count": null,
   "id": "212dca5c",
   "metadata": {},
   "outputs": [],
   "source": [
    "## Probability mass function\n",
    "\n",
    "x = np.arange(binom.ppf(0.99, n, p))\n",
    "binom.pmf(x, n, p)"
   ]
  },
  {
   "cell_type": "markdown",
   "id": "33c21bb3",
   "metadata": {},
   "source": [
    "Where binom.ppf is similar to \"qbinom()\" function and binom.pmf is similar to \"dbinom()\" function in r."
   ]
  },
  {
   "cell_type": "code",
   "execution_count": null,
   "id": "2c402798",
   "metadata": {},
   "outputs": [],
   "source": [
    "## Cummulative distribution function\n",
    "\n",
    "binom.cdf(x, n, p)"
   ]
  },
  {
   "cell_type": "markdown",
   "id": "18664b02",
   "metadata": {},
   "source": [
    "Similar to \"pbinom()\" function in r."
   ]
  },
  {
   "cell_type": "code",
   "execution_count": null,
   "id": "f8606ab4",
   "metadata": {},
   "outputs": [],
   "source": [
    "## Generate random numbers\n",
    "\n",
    "binom.rvs(n, p, size=10)"
   ]
  },
  {
   "cell_type": "markdown",
   "id": "d2fa90da",
   "metadata": {},
   "source": [
    "Similar to \"rbinom()\" function in r."
   ]
  },
  {
   "cell_type": "markdown",
   "id": "67980f9e",
   "metadata": {},
   "source": [
    "### Geometric"
   ]
  },
  {
   "cell_type": "code",
   "execution_count": null,
   "id": "5949babd",
   "metadata": {},
   "outputs": [],
   "source": [
    "from scipy.stats import geom"
   ]
  },
  {
   "cell_type": "code",
   "execution_count": null,
   "id": "3f1279ba",
   "metadata": {},
   "outputs": [],
   "source": [
    "## Calculate the first four moments\n",
    "\n",
    "p = 0.7\n",
    "mean, var, skew, kurt = geom.stats(p, moments='mvsk')\n",
    "print(mean, var, skew, kurt)"
   ]
  },
  {
   "cell_type": "code",
   "execution_count": null,
   "id": "0bba8666",
   "metadata": {},
   "outputs": [],
   "source": [
    "## Probability mass function\n",
    "\n",
    "x = np.arange(geom.ppf(0.99, p))\n",
    "geom.pmf(x, p)"
   ]
  },
  {
   "cell_type": "markdown",
   "id": "3fa1f282",
   "metadata": {},
   "source": [
    "Where geom.ppf is similar to \"qgeom()\" function and geom.pmf is similar to \"dgeom()\" function in r."
   ]
  },
  {
   "cell_type": "code",
   "execution_count": null,
   "id": "f31a363f",
   "metadata": {},
   "outputs": [],
   "source": [
    "## Cummulative distribution function\n",
    "\n",
    "geom.cdf(x, p)"
   ]
  },
  {
   "cell_type": "markdown",
   "id": "6a112f6c",
   "metadata": {},
   "source": [
    "Similar to \"pgeom()\" function in r."
   ]
  },
  {
   "cell_type": "code",
   "execution_count": null,
   "id": "4d1ebc81",
   "metadata": {},
   "outputs": [],
   "source": [
    "## Generate random numbers\n",
    "\n",
    "geom.rvs(p, size=10)"
   ]
  },
  {
   "cell_type": "markdown",
   "id": "c6a9d7eb",
   "metadata": {},
   "source": [
    "Similar to \"rgeom()\" function in r."
   ]
  },
  {
   "cell_type": "markdown",
   "id": "6e97f4bb",
   "metadata": {},
   "source": [
    "### Hypergeometric"
   ]
  },
  {
   "cell_type": "code",
   "execution_count": null,
   "id": "384b9e00",
   "metadata": {},
   "outputs": [],
   "source": [
    "from scipy.stats import hypergeom"
   ]
  },
  {
   "cell_type": "code",
   "execution_count": null,
   "id": "89b04d20",
   "metadata": {},
   "outputs": [],
   "source": [
    "## Calculate the first four moments\n",
    "\n",
    "M, n, N = 18, 3, 12\n",
    "mean, var, skew, kurt = hypergeom.stats(M, n, N, moments='mvsk')\n",
    "print(mean, var, skew, kurt)"
   ]
  },
  {
   "cell_type": "code",
   "execution_count": null,
   "id": "7826be69",
   "metadata": {},
   "outputs": [],
   "source": [
    "## Probability mass function\n",
    "\n",
    "x =  np.arange(hypergeom.ppf(0.99,M,n,N))\n",
    "hypergeom.pmf(x,M, n, N)"
   ]
  },
  {
   "cell_type": "markdown",
   "id": "ade96fc0",
   "metadata": {},
   "source": [
    "Where hypergeom.ppf is similar to \"qhyper()\" function and hypergeom.pmf is similar to \"dhyper()\" function in r."
   ]
  },
  {
   "cell_type": "code",
   "execution_count": null,
   "id": "8e04ebeb",
   "metadata": {},
   "outputs": [],
   "source": [
    "## Cummulative distribution function\n",
    "\n",
    "hypergeom.cdf(x, M, n, N)"
   ]
  },
  {
   "cell_type": "markdown",
   "id": "3efd26d8",
   "metadata": {},
   "source": [
    "Similar to \"phyper()\" function in r."
   ]
  },
  {
   "cell_type": "code",
   "execution_count": null,
   "id": "db717d7d",
   "metadata": {},
   "outputs": [],
   "source": [
    "## Generate random numbers\n",
    "\n",
    "hypergeom.rvs(M, n, N, size=10)"
   ]
  },
  {
   "cell_type": "markdown",
   "id": "74e0dfc7",
   "metadata": {},
   "source": [
    "Similar to \"rhyper()\" function in r."
   ]
  },
  {
   "cell_type": "markdown",
   "id": "c3bf630a",
   "metadata": {},
   "source": [
    "### Negative Binomial"
   ]
  },
  {
   "cell_type": "code",
   "execution_count": null,
   "id": "898f6cbe",
   "metadata": {},
   "outputs": [],
   "source": [
    "from scipy.stats import nbinom"
   ]
  },
  {
   "cell_type": "code",
   "execution_count": null,
   "id": "b51f231e",
   "metadata": {},
   "outputs": [],
   "source": [
    "## Calculate the first four moments\n",
    "\n",
    "n, p = 7, 0.7\n",
    "mean, var, skew, kurt = nbinom.stats(n, p, moments='mvsk')\n",
    "print(mean, var, skew, kurt)"
   ]
  },
  {
   "cell_type": "code",
   "execution_count": null,
   "id": "ad532b0c",
   "metadata": {},
   "outputs": [],
   "source": [
    "## Probability mass function\n",
    "\n",
    "x = np.arange(nbinom.ppf(0.99, n, p))\n",
    "nbinom.pmf(x, n, p)"
   ]
  },
  {
   "cell_type": "markdown",
   "id": "7dad3c84",
   "metadata": {},
   "source": [
    "Where nbinom.ppf is similar to \"qnbinom()\" function and nbinom.pmf is similar to \"dnbinom()\" function in r."
   ]
  },
  {
   "cell_type": "code",
   "execution_count": null,
   "id": "ca8799c7",
   "metadata": {},
   "outputs": [],
   "source": [
    "## Cummulative distribution function\n",
    "\n",
    "nbinom.cdf(x, n, p)"
   ]
  },
  {
   "cell_type": "markdown",
   "id": "4e3f0835",
   "metadata": {},
   "source": [
    "Similar to \"pnbinom()\" function in r."
   ]
  },
  {
   "cell_type": "code",
   "execution_count": null,
   "id": "8b41b90b",
   "metadata": {},
   "outputs": [],
   "source": [
    "## Generate random numbers\n",
    "\n",
    "nbinom.rvs(n, p, size=10)"
   ]
  },
  {
   "cell_type": "markdown",
   "id": "e5ab2abc",
   "metadata": {},
   "source": [
    "Similar to \"rnbinom()\" function in r."
   ]
  },
  {
   "cell_type": "markdown",
   "id": "6b70b09c",
   "metadata": {},
   "source": [
    "### Poisson"
   ]
  },
  {
   "cell_type": "code",
   "execution_count": null,
   "id": "6ca898cd",
   "metadata": {},
   "outputs": [],
   "source": [
    "from scipy.stats import poisson"
   ]
  },
  {
   "cell_type": "code",
   "execution_count": null,
   "id": "5d9e6033",
   "metadata": {},
   "outputs": [],
   "source": [
    "## Calculate the first four moments\n",
    "\n",
    "mu = 0.7\n",
    "mean, var, skew, kurt = poisson.stats(mu, moments='mvsk')\n",
    "print(mean, var, skew, kurt)"
   ]
  },
  {
   "cell_type": "code",
   "execution_count": null,
   "id": "10adc4ec",
   "metadata": {},
   "outputs": [],
   "source": [
    "## Probability mass function\n",
    "\n",
    "x = np.arange(poisson.ppf(0.99, mu))\n",
    "poisson.pmf(x, mu)"
   ]
  },
  {
   "cell_type": "markdown",
   "id": "557a00f9",
   "metadata": {},
   "source": [
    "Where poisson.ppf is similar to \"qpois()\" function and poisson.pmf is similar to \"dpois()\" function in r."
   ]
  },
  {
   "cell_type": "code",
   "execution_count": null,
   "id": "180fbaf2",
   "metadata": {},
   "outputs": [],
   "source": [
    "## Cummulative distribution function\n",
    "\n",
    "poisson.cdf(x, mu)"
   ]
  },
  {
   "cell_type": "markdown",
   "id": "d2c14c0f",
   "metadata": {},
   "source": [
    "Similar to \"ppois()\" function in r."
   ]
  },
  {
   "cell_type": "code",
   "execution_count": null,
   "id": "57581e94",
   "metadata": {},
   "outputs": [],
   "source": [
    "## Generate random numbers\n",
    "\n",
    "poisson.rvs(mu, size=10)"
   ]
  },
  {
   "cell_type": "markdown",
   "id": "95c0d7bb",
   "metadata": {},
   "source": [
    "Similar to \"rpois()\" function in r."
   ]
  },
  {
   "cell_type": "markdown",
   "id": "3f3e296f",
   "metadata": {},
   "source": [
    "### Uniform"
   ]
  },
  {
   "cell_type": "code",
   "execution_count": null,
   "id": "b3a46e7b",
   "metadata": {},
   "outputs": [],
   "source": [
    "from scipy.stats import randint"
   ]
  },
  {
   "cell_type": "code",
   "execution_count": null,
   "id": "07008fd1",
   "metadata": {},
   "outputs": [],
   "source": [
    "## Calculate the first four moments\n",
    "\n",
    "low, high = 5, 25\n",
    "mean, var, skew, kurt = randint.stats(low, high, moments='mvsk')\n",
    "print(mean, var, skew, kurt)"
   ]
  },
  {
   "cell_type": "code",
   "execution_count": null,
   "id": "d052b217",
   "metadata": {},
   "outputs": [],
   "source": [
    "## Probability mass function\n",
    "\n",
    "x = np.arange(randint.ppf(0.99, low, high))\n",
    "randint.pmf(x, low, high)"
   ]
  },
  {
   "cell_type": "markdown",
   "id": "6c170f78",
   "metadata": {},
   "source": [
    "Where randint.ppf is similar to \"qdunif()\" function and randint.pmf is similar to \"ddunif()\" function in r."
   ]
  },
  {
   "cell_type": "code",
   "execution_count": null,
   "id": "703c06ef",
   "metadata": {},
   "outputs": [],
   "source": [
    "## Cummulative distribution function\n",
    "\n",
    "randint.cdf(x, low, high)"
   ]
  },
  {
   "cell_type": "markdown",
   "id": "5fd62ddd",
   "metadata": {},
   "source": [
    "Similar to \"pdunif()\" function in r."
   ]
  },
  {
   "cell_type": "code",
   "execution_count": null,
   "id": "78fd6923",
   "metadata": {},
   "outputs": [],
   "source": [
    "## Generate random numbers\n",
    "\n",
    "randint.rvs(low, high, size=10)"
   ]
  },
  {
   "cell_type": "markdown",
   "id": "19b3052f",
   "metadata": {},
   "source": [
    "Similar to \"rdunif()\" function in r."
   ]
  },
  {
   "cell_type": "markdown",
   "id": "08695476",
   "metadata": {},
   "source": [
    "Few more distributions that are also supported in this package is:\n",
    "- Boltzmann (truncated Planck) Distribution\n",
    "- Planck (discrete exponential) Distribution\n",
    "- Fisher’s Noncentral Hypergeometric Distribution\n",
    "- Wallenius’ Noncentral Hypergeometric Distribution\n",
    "- Negative Hypergeometric Distribution\n",
    "- Zipf (Zeta) Distribution\n",
    "- Zipfian Distribution\n",
    "- Logarithmic (Log-Series, Series) Distribution\n",
    "- Discrete Laplacian Distribution\n",
    "- Yule-Simon Distribution"
   ]
  },
  {
   "cell_type": "markdown",
   "id": "ee1cce41",
   "metadata": {},
   "source": [
    "## Continuous Distributions"
   ]
  },
  {
   "cell_type": "markdown",
   "id": "288bda1e",
   "metadata": {},
   "source": [
    "### Beta"
   ]
  },
  {
   "cell_type": "code",
   "execution_count": null,
   "id": "98b41d58",
   "metadata": {},
   "outputs": [],
   "source": [
    "from scipy.stats import beta"
   ]
  },
  {
   "cell_type": "code",
   "execution_count": null,
   "id": "eed84569",
   "metadata": {},
   "outputs": [],
   "source": [
    "## Calculate the first four moments\n",
    "\n",
    "a, b = 1.76, 0.35\n",
    "mean, var, skew, kurt = beta.stats(a, b, moments='mvsk')\n",
    "print(mean, var, skew, kurt)"
   ]
  },
  {
   "cell_type": "code",
   "execution_count": null,
   "id": "34482c2c",
   "metadata": {},
   "outputs": [],
   "source": [
    "## Probability density function\n",
    "\n",
    "x = np.linspace(beta.ppf(0.99, a, b), 100)\n",
    "beta.pdf(x, a, b)"
   ]
  },
  {
   "cell_type": "markdown",
   "id": "2f778a08",
   "metadata": {},
   "source": [
    "Where beta.ppf is similar to \"qbeta()\" function and beta.pmf is similar to \"dbeta()\" function in r."
   ]
  },
  {
   "cell_type": "code",
   "execution_count": null,
   "id": "2f54debf",
   "metadata": {},
   "outputs": [],
   "source": [
    "## Cummulative distribution function\n",
    "\n",
    "beta.ppf([0.001, 0.5, 0.999], a, b)"
   ]
  },
  {
   "cell_type": "markdown",
   "id": "334bb8b3",
   "metadata": {},
   "source": [
    "Similar to \"pbeta()\" function in r."
   ]
  },
  {
   "cell_type": "code",
   "execution_count": null,
   "id": "569e5367",
   "metadata": {},
   "outputs": [],
   "source": [
    "## Generate random numbers\n",
    "\n",
    "beta.rvs(a, b, size=10)"
   ]
  },
  {
   "cell_type": "markdown",
   "id": "d391d8e5",
   "metadata": {},
   "source": [
    "Similar to \"rbeta()\" function in r."
   ]
  },
  {
   "cell_type": "markdown",
   "id": "55679e69",
   "metadata": {},
   "source": [
    "### Cauchy"
   ]
  },
  {
   "cell_type": "code",
   "execution_count": null,
   "id": "b083d75d",
   "metadata": {},
   "outputs": [],
   "source": [
    "from scipy.stats import cauchy"
   ]
  },
  {
   "cell_type": "code",
   "execution_count": null,
   "id": "d6231d7d",
   "metadata": {},
   "outputs": [],
   "source": [
    "## Probability density function\n",
    "\n",
    "x = np.linspace(cauchy.ppf(0.99), 100)\n",
    "cauchy.pdf(x)"
   ]
  },
  {
   "cell_type": "markdown",
   "id": "383af900",
   "metadata": {},
   "source": [
    "Where cauchy.ppf is similar to \"qcauchy()\" function and cauchy.pmf is similar to \"dcauchy()\" function in r."
   ]
  },
  {
   "cell_type": "code",
   "execution_count": null,
   "id": "56fda04e",
   "metadata": {},
   "outputs": [],
   "source": [
    "## Cummulative distribution function\n",
    "\n",
    "cauchy.ppf([0.01, 0.5, 0.999])"
   ]
  },
  {
   "cell_type": "markdown",
   "id": "584713be",
   "metadata": {},
   "source": [
    "Similar to \"pcauchy()\" function in r."
   ]
  },
  {
   "cell_type": "code",
   "execution_count": null,
   "id": "902a2a92",
   "metadata": {},
   "outputs": [],
   "source": [
    "## Generate random numbers\n",
    "\n",
    "cauchy.rvs(size=10)"
   ]
  },
  {
   "cell_type": "markdown",
   "id": "81e05a6d",
   "metadata": {},
   "source": [
    "Similar to \"rcauchy()\" function in r."
   ]
  },
  {
   "cell_type": "markdown",
   "id": "e9925a82",
   "metadata": {},
   "source": [
    "### Chi square"
   ]
  },
  {
   "cell_type": "code",
   "execution_count": null,
   "id": "6559e38b",
   "metadata": {},
   "outputs": [],
   "source": [
    "from scipy.stats import chi2"
   ]
  },
  {
   "cell_type": "code",
   "execution_count": null,
   "id": "7a317c7a",
   "metadata": {},
   "outputs": [],
   "source": [
    "## Calculate the first four moments\n",
    "\n",
    "df = 30\n",
    "mean, var, skew, kurt = chi2.stats(df, moments='mvsk')\n",
    "print(mean, var, skew, kurt)"
   ]
  },
  {
   "cell_type": "code",
   "execution_count": null,
   "id": "34109845",
   "metadata": {},
   "outputs": [],
   "source": [
    "## Probability density function\n",
    "\n",
    "x = np.linspace(chi2.ppf(0.99, df), 100)\n",
    "chi2.pdf(x, df)"
   ]
  },
  {
   "cell_type": "markdown",
   "id": "81ec0e58",
   "metadata": {},
   "source": [
    "Where chi2.ppf is similar to \"qchisq()\" function and chi2.pmf is similar to \"dchisq()\" function in r."
   ]
  },
  {
   "cell_type": "code",
   "execution_count": null,
   "id": "35ea3579",
   "metadata": {},
   "outputs": [],
   "source": [
    "## Cummulative distribution function\n",
    "\n",
    "chi2.ppf([0.001, 0.5, 0.999], df)"
   ]
  },
  {
   "cell_type": "markdown",
   "id": "9a48eba9",
   "metadata": {},
   "source": [
    "Similar to \"pchisq()\" function in r."
   ]
  },
  {
   "cell_type": "code",
   "execution_count": null,
   "id": "8c3c5b8e",
   "metadata": {},
   "outputs": [],
   "source": [
    "## Generate random numbers\n",
    "\n",
    "chi2.rvs(df, size=10)"
   ]
  },
  {
   "cell_type": "markdown",
   "id": "985f70ea",
   "metadata": {},
   "source": [
    "Similar to \"rchisq()\" function in r."
   ]
  },
  {
   "cell_type": "markdown",
   "id": "04496219",
   "metadata": {},
   "source": [
    "### Exponential"
   ]
  },
  {
   "cell_type": "code",
   "execution_count": null,
   "id": "f0f004b4",
   "metadata": {},
   "outputs": [],
   "source": [
    "from scipy.stats import expon"
   ]
  },
  {
   "cell_type": "code",
   "execution_count": null,
   "id": "8851fe8f",
   "metadata": {},
   "outputs": [],
   "source": [
    "## Calculate the first four moments\n",
    "\n",
    "loc, scale = 16, 3\n",
    "mean, var, skew, kurt = expon.stats(loc, scale, moments='mvsk')\n",
    "print(mean, var, skew, kurt)"
   ]
  },
  {
   "cell_type": "code",
   "execution_count": null,
   "id": "04be6f0e",
   "metadata": {},
   "outputs": [],
   "source": [
    "## Probability density function\n",
    "\n",
    "x = np.linspace(expon.ppf(0.99), 100)\n",
    "expon.pdf(x,loc,scale)"
   ]
  },
  {
   "cell_type": "markdown",
   "id": "38bb71a8",
   "metadata": {},
   "source": [
    "Where expon.ppf is similar to \"qexp()\" function and expon.pmf is similar to \"dexp()\" function in r."
   ]
  },
  {
   "cell_type": "code",
   "execution_count": null,
   "id": "710c9373",
   "metadata": {},
   "outputs": [],
   "source": [
    "## Cummulative distribution function\n",
    "\n",
    "expon.ppf([0.001, 0.5, 0.999],loc,scale)"
   ]
  },
  {
   "cell_type": "markdown",
   "id": "3bf9c1a2",
   "metadata": {},
   "source": [
    "Similar to \"pexp()\" function in r."
   ]
  },
  {
   "cell_type": "code",
   "execution_count": null,
   "id": "dfbec30f",
   "metadata": {},
   "outputs": [],
   "source": [
    "## Generate random numbers\n",
    "\n",
    "expon.rvs(loc,scale,size=10)"
   ]
  },
  {
   "cell_type": "markdown",
   "id": "f57645fe",
   "metadata": {},
   "source": [
    "Similar to \"rexp()\" function in r."
   ]
  },
  {
   "cell_type": "markdown",
   "id": "4f0dd977",
   "metadata": {},
   "source": [
    "### Gamma"
   ]
  },
  {
   "cell_type": "code",
   "execution_count": null,
   "id": "634cedfe",
   "metadata": {},
   "outputs": [],
   "source": [
    "from scipy.stats import gamma"
   ]
  },
  {
   "cell_type": "code",
   "execution_count": null,
   "id": "a65d01ba",
   "metadata": {},
   "outputs": [],
   "source": [
    "## Calculate the first four moments\n",
    "\n",
    "a, loc, scale = 5,0, 2\n",
    "mean, var, skew, kurt = gamma.stats(a,loc, scale, moments='mvsk')\n",
    "print(mean, var, skew, kurt)"
   ]
  },
  {
   "cell_type": "code",
   "execution_count": null,
   "id": "7eacfd06",
   "metadata": {},
   "outputs": [],
   "source": [
    "## Probability density function\n",
    "\n",
    "x = np.linspace(gamma.ppf(0.99, a), 100)\n",
    "gamma.pdf(x, a,loc,scale)"
   ]
  },
  {
   "cell_type": "markdown",
   "id": "583962de",
   "metadata": {},
   "source": [
    "Where gamma.ppf is similar to \"qgamma()\" function and gamma.pmf is similar to \"dgamma()\" function in r."
   ]
  },
  {
   "cell_type": "code",
   "execution_count": null,
   "id": "d8860673",
   "metadata": {},
   "outputs": [],
   "source": [
    "## Cummulative distribution function\n",
    "\n",
    "gamma.ppf([0.001, 0.5, 0.999], a,loc,scale)"
   ]
  },
  {
   "cell_type": "markdown",
   "id": "43c99204",
   "metadata": {},
   "source": [
    "Similar to \"pgamma()\" function in r."
   ]
  },
  {
   "cell_type": "code",
   "execution_count": null,
   "id": "be01224d",
   "metadata": {},
   "outputs": [],
   "source": [
    "## Generate random numbers\n",
    "\n",
    "gamma.rvs(scale,a, size=10)"
   ]
  },
  {
   "cell_type": "markdown",
   "id": "644c86c1",
   "metadata": {},
   "source": [
    "Similar to \"rgamma()\" function in r."
   ]
  },
  {
   "cell_type": "markdown",
   "id": "4a51a234",
   "metadata": {},
   "source": [
    "### Laplace"
   ]
  },
  {
   "cell_type": "code",
   "execution_count": null,
   "id": "764edf69",
   "metadata": {},
   "outputs": [],
   "source": [
    "from scipy.stats import laplace"
   ]
  },
  {
   "cell_type": "code",
   "execution_count": null,
   "id": "28c3f73d",
   "metadata": {},
   "outputs": [],
   "source": [
    "## Calculate the first four moments\n",
    "\n",
    "loc, scale = 16, 3\n",
    "mean, var, skew, kurt = laplace.stats(loc, scale, moments='mvsk')\n",
    "print(mean, var, skew, kurt)"
   ]
  },
  {
   "cell_type": "code",
   "execution_count": null,
   "id": "ea2d0e61",
   "metadata": {},
   "outputs": [],
   "source": [
    "## Probability density function\n",
    "\n",
    "x = np.linspace(laplace.ppf(0.99), 100)\n",
    "laplace.pdf(x,loc,scale)"
   ]
  },
  {
   "cell_type": "markdown",
   "id": "97e3784c",
   "metadata": {},
   "source": [
    "Where laplace.ppf is similar to \"qlaplace()\" function and laplace.pmf is similar to \"dlaplace()\" function in r."
   ]
  },
  {
   "cell_type": "code",
   "execution_count": null,
   "id": "1c02ca68",
   "metadata": {},
   "outputs": [],
   "source": [
    "## Cummulative distribution function\n",
    "\n",
    "laplace.ppf([0.001, 0.5, 0.999],loc,scale)"
   ]
  },
  {
   "cell_type": "markdown",
   "id": "d876651d",
   "metadata": {},
   "source": [
    "Similar to \"plaplace()\" function in r."
   ]
  },
  {
   "cell_type": "code",
   "execution_count": null,
   "id": "bdb4ddd9",
   "metadata": {},
   "outputs": [],
   "source": [
    "## Generate random numbers\n",
    "\n",
    "laplace.rvs(loc,scale,size=10)"
   ]
  },
  {
   "cell_type": "markdown",
   "id": "24190e55",
   "metadata": {},
   "source": [
    "Similar to \"rlaplace()\" function in r."
   ]
  },
  {
   "cell_type": "markdown",
   "id": "a112ff20",
   "metadata": {},
   "source": [
    "### Logistic"
   ]
  },
  {
   "cell_type": "code",
   "execution_count": null,
   "id": "3b151f43",
   "metadata": {},
   "outputs": [],
   "source": [
    "from scipy.stats import logistic"
   ]
  },
  {
   "cell_type": "code",
   "execution_count": null,
   "id": "aa592064",
   "metadata": {},
   "outputs": [],
   "source": [
    "## Calculate the first four moments\n",
    "\n",
    "loc, scale = 16, 3\n",
    "mean, var, skew, kurt = logistic.stats(loc, scale, moments='mvsk')\n",
    "print(mean, var, skew, kurt)"
   ]
  },
  {
   "cell_type": "code",
   "execution_count": null,
   "id": "6d4db1a7",
   "metadata": {},
   "outputs": [],
   "source": [
    "## Probability density function\n",
    "\n",
    "x = np.linspace(logistic.ppf(0.99), 100)\n",
    "logistic.pdf(x,loc, scale)"
   ]
  },
  {
   "cell_type": "markdown",
   "id": "19b049f8",
   "metadata": {},
   "source": [
    "Where logistic.ppf is similar to \"qlogis()\" function and logistic.pmf is similar to \"dlogis()\" function in r."
   ]
  },
  {
   "cell_type": "code",
   "execution_count": null,
   "id": "8e45f9f1",
   "metadata": {},
   "outputs": [],
   "source": [
    "## Cummulative distribution function\n",
    "\n",
    "logistic.ppf([0.001, 0.5, 0.999],loc, scale)"
   ]
  },
  {
   "cell_type": "markdown",
   "id": "7b671946",
   "metadata": {},
   "source": [
    "Similar to \"plogis()\" function in r."
   ]
  },
  {
   "cell_type": "code",
   "execution_count": null,
   "id": "99379216",
   "metadata": {},
   "outputs": [],
   "source": [
    "## Generate random numbers\n",
    "\n",
    "logistic.rvs(loc, scale,size=10)"
   ]
  },
  {
   "cell_type": "markdown",
   "id": "025a6677",
   "metadata": {},
   "source": [
    "Similar to \"rlogis()\" function in r."
   ]
  },
  {
   "cell_type": "markdown",
   "id": "e8e45d5a",
   "metadata": {},
   "source": [
    "### Noncentral Chi-square"
   ]
  },
  {
   "cell_type": "code",
   "execution_count": null,
   "id": "b23cf7e1",
   "metadata": {},
   "outputs": [],
   "source": [
    "from scipy.stats import ncx2"
   ]
  },
  {
   "cell_type": "code",
   "execution_count": null,
   "id": "ff089677",
   "metadata": {},
   "outputs": [],
   "source": [
    "## Calculate the first four moments\n",
    "\n",
    "df, nc = 30, 0.88\n",
    "mean, var, skew, kurt = ncx2.stats(df, nc, moments='mvsk')\n",
    "print(mean, var, skew, kurt)"
   ]
  },
  {
   "cell_type": "code",
   "execution_count": null,
   "id": "1d93ad00",
   "metadata": {},
   "outputs": [],
   "source": [
    "## Probability density function\n",
    "\n",
    "x = np.linspace(ncx2.ppf(0.99, df, nc), 100)\n",
    "ncx2.pdf(x, df, nc)"
   ]
  },
  {
   "cell_type": "code",
   "execution_count": null,
   "id": "27c261ce",
   "metadata": {},
   "outputs": [],
   "source": [
    "## Cummulative distribution function\n",
    "\n",
    "ncx2.ppf([0.001, 0.5, 0.999], df, nc)"
   ]
  },
  {
   "cell_type": "code",
   "execution_count": null,
   "id": "d912f785",
   "metadata": {},
   "outputs": [],
   "source": [
    "## Generate random numbers\n",
    "\n",
    "ncx2.rvs(df, nc, size=10)"
   ]
  },
  {
   "cell_type": "markdown",
   "id": "e909dfea",
   "metadata": {},
   "source": [
    "The corresponding r codes are same as the central chisquare."
   ]
  },
  {
   "cell_type": "markdown",
   "id": "62b4b2a2",
   "metadata": {},
   "source": [
    "### Noncentral F"
   ]
  },
  {
   "cell_type": "code",
   "execution_count": null,
   "id": "7f643682",
   "metadata": {},
   "outputs": [],
   "source": [
    "from scipy.stats import ncf"
   ]
  },
  {
   "cell_type": "code",
   "execution_count": null,
   "id": "a3643336",
   "metadata": {},
   "outputs": [],
   "source": [
    "## Calculate the first four moments\n",
    "\n",
    "dfn, dfd, nc = 18, 23, 0.342\n",
    "mean, var, skew, kurt = ncf.stats(dfn, dfd, nc, moments='mvsk')\n",
    "print(mean, var, skew, kurt)"
   ]
  },
  {
   "cell_type": "code",
   "execution_count": null,
   "id": "c71912e0",
   "metadata": {},
   "outputs": [],
   "source": [
    "## Probability density function\n",
    "\n",
    "x = np.linspace(ncf.ppf(0.99, dfn, dfd, nc), 100)\n",
    "ncf.pdf(x, dfn, dfd, nc)"
   ]
  },
  {
   "cell_type": "code",
   "execution_count": null,
   "id": "66ef30c8",
   "metadata": {},
   "outputs": [],
   "source": [
    "## Cummulative distribution function\n",
    "\n",
    "ncf.ppf([0.001, 0.5, 0.999], dfn, dfd, nc)"
   ]
  },
  {
   "cell_type": "code",
   "execution_count": null,
   "id": "7a2ff205",
   "metadata": {},
   "outputs": [],
   "source": [
    "## Generate random numbers\n",
    "\n",
    "ncf.rvs(dfn, dfd, nc, size=10)"
   ]
  },
  {
   "cell_type": "markdown",
   "id": "01ea552f",
   "metadata": {},
   "source": [
    "### Noncentral t"
   ]
  },
  {
   "cell_type": "code",
   "execution_count": null,
   "id": "50887e17",
   "metadata": {},
   "outputs": [],
   "source": [
    "from scipy.stats import nct"
   ]
  },
  {
   "cell_type": "code",
   "execution_count": null,
   "id": "59dc80ef",
   "metadata": {},
   "outputs": [],
   "source": [
    "## Calculate the first four moments\n",
    "\n",
    "df, nc = 22, 0.13\n",
    "mean, var, skew, kurt = nct.stats(df, nc, moments='mvsk')\n",
    "print(mean, var, skew, kurt)"
   ]
  },
  {
   "cell_type": "code",
   "execution_count": null,
   "id": "e6b8da4d",
   "metadata": {},
   "outputs": [],
   "source": [
    "## Probability density function\n",
    "\n",
    "x = np.linspace(nct.ppf(0.99, df, nc), 100)\n",
    "nct.pdf(x, df, nc)"
   ]
  },
  {
   "cell_type": "code",
   "execution_count": null,
   "id": "816af9cc",
   "metadata": {},
   "outputs": [],
   "source": [
    "## Cummulative distribution function\n",
    "\n",
    "nct.ppf([0.001, 0.5, 0.999], df, nc)"
   ]
  },
  {
   "cell_type": "code",
   "execution_count": null,
   "id": "c8c6b2ba",
   "metadata": {},
   "outputs": [],
   "source": [
    "## Generate random numbers\n",
    "\n",
    "nct.rvs(df, nc, size=10)"
   ]
  },
  {
   "cell_type": "markdown",
   "id": "7ebaf74d",
   "metadata": {},
   "source": [
    "### Normal"
   ]
  },
  {
   "cell_type": "code",
   "execution_count": null,
   "id": "c1abda6d",
   "metadata": {},
   "outputs": [],
   "source": [
    "from scipy.stats import norm"
   ]
  },
  {
   "cell_type": "code",
   "execution_count": null,
   "id": "844c2335",
   "metadata": {},
   "outputs": [],
   "source": [
    "## Calculate the first four moments\n",
    "\n",
    "loc, scale = 10,2.4\n",
    "mean, var, skew, kurt = norm.stats(loc,scale, moments='mvsk')\n",
    "print(mean, var, skew, kurt)"
   ]
  },
  {
   "cell_type": "code",
   "execution_count": null,
   "id": "16c33db2",
   "metadata": {},
   "outputs": [],
   "source": [
    "## Probability density function\n",
    "\n",
    "x = np.linspace(norm.ppf(0.99), 100)\n",
    "norm.pdf(x,loc,scale)"
   ]
  },
  {
   "cell_type": "markdown",
   "id": "1ba12f73",
   "metadata": {},
   "source": [
    "Where norm.ppf is similar to \"qnorm()\" function and norm.pmf is similar to \"dnorm()\" function in r."
   ]
  },
  {
   "cell_type": "code",
   "execution_count": null,
   "id": "571ed4af",
   "metadata": {},
   "outputs": [],
   "source": [
    "## Cummulative distribution function\n",
    "\n",
    "norm.ppf([0.001, 0.5, 0.999],loc,scale)"
   ]
  },
  {
   "cell_type": "markdown",
   "id": "870b54ef",
   "metadata": {},
   "source": [
    "Similar to \"pnorm()\" function in r."
   ]
  },
  {
   "cell_type": "code",
   "execution_count": null,
   "id": "62392389",
   "metadata": {},
   "outputs": [],
   "source": [
    "## Generate random numbers\n",
    "\n",
    "norm.rvs(size=10)"
   ]
  },
  {
   "cell_type": "markdown",
   "id": "a54ec311",
   "metadata": {},
   "source": [
    "Similar to \"rnorm()\" function in r."
   ]
  },
  {
   "cell_type": "markdown",
   "id": "7239b4cb",
   "metadata": {},
   "source": [
    "### Pareto"
   ]
  },
  {
   "cell_type": "code",
   "execution_count": null,
   "id": "87c37e75",
   "metadata": {},
   "outputs": [],
   "source": [
    "from scipy.stats import pareto"
   ]
  },
  {
   "cell_type": "code",
   "execution_count": null,
   "id": "7255f3bc",
   "metadata": {},
   "outputs": [],
   "source": [
    "## Calculate the first four moments\n",
    "\n",
    "b = 5\n",
    "mean, var, skew, kurt = pareto.stats(b, moments='mvsk')\n",
    "print(mean, var, skew, kurt)"
   ]
  },
  {
   "cell_type": "code",
   "execution_count": null,
   "id": "956ed25f",
   "metadata": {},
   "outputs": [],
   "source": [
    "## Probability density function\n",
    "\n",
    "x = np.linspace(pareto.ppf(0.99, b), 100)\n",
    "pareto.pdf(x, b)"
   ]
  },
  {
   "cell_type": "markdown",
   "id": "fa5fb9ae",
   "metadata": {},
   "source": [
    "Where pareto.ppf is similar to \"qpareto()\" function and pareto.pmf is similar to \"dpareto()\" function in r."
   ]
  },
  {
   "cell_type": "code",
   "execution_count": null,
   "id": "b6a01199",
   "metadata": {},
   "outputs": [],
   "source": [
    "## Cummulative distribution function\n",
    "\n",
    "pareto.ppf([0.001, 0.5, 0.999], b)"
   ]
  },
  {
   "cell_type": "markdown",
   "id": "3aae1f0d",
   "metadata": {},
   "source": [
    "Similar to \"ppareto()\" function in r."
   ]
  },
  {
   "cell_type": "code",
   "execution_count": null,
   "id": "760bf1bb",
   "metadata": {},
   "outputs": [],
   "source": [
    "## Generate random numbers\n",
    "\n",
    "pareto.rvs(b, size=10)"
   ]
  },
  {
   "cell_type": "markdown",
   "id": "e890154a",
   "metadata": {},
   "source": [
    "Similar to \"rpareto()\" function in r."
   ]
  },
  {
   "cell_type": "markdown",
   "id": "03cacd01",
   "metadata": {},
   "source": [
    "### Rayleigh"
   ]
  },
  {
   "cell_type": "code",
   "execution_count": null,
   "id": "e23dbb4e",
   "metadata": {},
   "outputs": [],
   "source": [
    "from scipy.stats import rayleigh"
   ]
  },
  {
   "cell_type": "code",
   "execution_count": null,
   "id": "43971992",
   "metadata": {},
   "outputs": [],
   "source": [
    "## Calculate the first four moments\n",
    "\n",
    "loc, scale = 16, 3\n",
    "mean, var, skew, kurt = rayleigh.stats(loc, scale, moments='mvsk')\n",
    "print(mean, var, skew, kurt)"
   ]
  },
  {
   "cell_type": "code",
   "execution_count": null,
   "id": "638fa4c9",
   "metadata": {},
   "outputs": [],
   "source": [
    "## Probability density function\n",
    "\n",
    "x = np.linspace(rayleigh.ppf(0.99), 100)\n",
    "rayleigh.pdf(x,loc, scale)"
   ]
  },
  {
   "cell_type": "markdown",
   "id": "8c18e85b",
   "metadata": {},
   "source": [
    "Where rayleigh.ppf is similar to \"qrayleigh()\" function and rayleigh.pmf is similar to \"drayleigh()\" function in r."
   ]
  },
  {
   "cell_type": "code",
   "execution_count": null,
   "id": "3e9ea40e",
   "metadata": {},
   "outputs": [],
   "source": [
    "## Cummulative distribution function\n",
    "\n",
    "rayleigh.ppf([0.001, 0.5, 0.999],loc, scale)"
   ]
  },
  {
   "cell_type": "markdown",
   "id": "b10c7c8f",
   "metadata": {},
   "source": [
    "Similar to \"prayleigh()\" function in r."
   ]
  },
  {
   "cell_type": "code",
   "execution_count": null,
   "id": "710060b3",
   "metadata": {},
   "outputs": [],
   "source": [
    "## Generate random numbers\n",
    "\n",
    "rayleigh.rvs(loc, scale,size=10)"
   ]
  },
  {
   "cell_type": "markdown",
   "id": "a2424378",
   "metadata": {},
   "source": [
    "Similar to \"rrayleigh()\" function in r."
   ]
  },
  {
   "cell_type": "markdown",
   "id": "b2d8aeb4",
   "metadata": {},
   "source": [
    "### Student t"
   ]
  },
  {
   "cell_type": "code",
   "execution_count": null,
   "id": "efa58ced",
   "metadata": {},
   "outputs": [],
   "source": [
    "from scipy.stats import t"
   ]
  },
  {
   "cell_type": "code",
   "execution_count": null,
   "id": "a45f15e6",
   "metadata": {},
   "outputs": [],
   "source": [
    "## Calculate the first four moments\n",
    "\n",
    "df,loc,scale = 5, 12, 3 \n",
    "mean, var, skew, kurt = t.stats(df,loc,scale, moments='mvsk')\n",
    "print(mean, var, skew, kurt)"
   ]
  },
  {
   "cell_type": "code",
   "execution_count": null,
   "id": "ddd95a83",
   "metadata": {},
   "outputs": [],
   "source": [
    "## Probability density function\n",
    "\n",
    "x = np.linspace(t.ppf(0.99, df), 100)\n",
    "t.pdf(x, df,loc,scale)"
   ]
  },
  {
   "cell_type": "markdown",
   "id": "80ecd03e",
   "metadata": {},
   "source": [
    "Where t.ppf is similar to \"qt()\" function and t.pmf is similar to \"dt()\" function in r."
   ]
  },
  {
   "cell_type": "code",
   "execution_count": null,
   "id": "0b6fb6ca",
   "metadata": {},
   "outputs": [],
   "source": [
    "## Cummulative distribution function\n",
    "\n",
    "t.ppf([0.001, 0.5, 0.999], df,loc,scale)"
   ]
  },
  {
   "cell_type": "markdown",
   "id": "8e282e7a",
   "metadata": {},
   "source": [
    "Similar to \"pt()\" function in r."
   ]
  },
  {
   "cell_type": "code",
   "execution_count": null,
   "id": "9c8fce99",
   "metadata": {},
   "outputs": [],
   "source": [
    "## Generate random numbers\n",
    "\n",
    "t.rvs(df, size=10)"
   ]
  },
  {
   "cell_type": "markdown",
   "id": "2749326b",
   "metadata": {},
   "source": [
    "Similar to \"rt()\" function in r."
   ]
  },
  {
   "cell_type": "markdown",
   "id": "2005e861",
   "metadata": {},
   "source": [
    "### Uniform"
   ]
  },
  {
   "cell_type": "code",
   "execution_count": null,
   "id": "d98b7295",
   "metadata": {},
   "outputs": [],
   "source": [
    "from scipy.stats import uniform"
   ]
  },
  {
   "cell_type": "code",
   "execution_count": null,
   "id": "868a6ef3",
   "metadata": {},
   "outputs": [],
   "source": [
    "## Calculate the first four moments\n",
    "\n",
    "loc,scale=5,2\n",
    "mean, var, skew, kurt = uniform.stats(loc,scale,moments='mvsk')\n",
    "print(mean, var, skew, kurt)"
   ]
  },
  {
   "cell_type": "code",
   "execution_count": null,
   "id": "e7c1d75c",
   "metadata": {},
   "outputs": [],
   "source": [
    "## Probability density function\n",
    "\n",
    "x = np.linspace(uniform.ppf(0.99), 100)\n",
    "uniform.pdf(x,loc,scale)"
   ]
  },
  {
   "cell_type": "markdown",
   "id": "8c86650f",
   "metadata": {},
   "source": [
    "Where uniform.ppf is similar to \"qunif()\" function and uniform.pmf is similar to \"dunif()\" function in r."
   ]
  },
  {
   "cell_type": "code",
   "execution_count": null,
   "id": "b0cbad7c",
   "metadata": {},
   "outputs": [],
   "source": [
    "## Cummulative distribution function\n",
    "\n",
    "uniform.ppf([0.001, 0.5, 0.999])"
   ]
  },
  {
   "cell_type": "markdown",
   "id": "d55c384f",
   "metadata": {},
   "source": [
    "Similar to \"punif()\" function in r."
   ]
  },
  {
   "cell_type": "code",
   "execution_count": null,
   "id": "eb8acf5d",
   "metadata": {},
   "outputs": [],
   "source": [
    "## Generate random numbers\n",
    "\n",
    "uniform.rvs(size=10)"
   ]
  },
  {
   "cell_type": "markdown",
   "id": "9dd796a2",
   "metadata": {},
   "source": [
    "Similar to \"runif()\" function in r."
   ]
  },
  {
   "cell_type": "markdown",
   "id": "c73db053",
   "metadata": {},
   "source": [
    "Also there are several other continuous distributions under scipy.stats."
   ]
  }
 ],
 "metadata": {
  "jupytext": {
   "formats": "ipynb,md:myst",
   "text_representation": {
    "extension": ".md",
    "format_name": "myst",
    "format_version": 0.13,
    "jupytext_version": "1.10.3"
   }
  },
  "kernelspec": {
   "display_name": "Python 3 (ipykernel)",
   "language": "python",
   "name": "python3"
  },
  "source_map": [
   13,
   21,
   26,
   30,
   34,
   38,
   46,
   51,
   55,
   59,
   63,
   67,
   71,
   75,
   79,
   87,
   92,
   96,
   100,
   104,
   108,
   112,
   116,
   120,
   128,
   133,
   137,
   141,
   145,
   149,
   153,
   157,
   161,
   169,
   174,
   178,
   182,
   186,
   190,
   194,
   198,
   202,
   210,
   215,
   219,
   223,
   227,
   231,
   235,
   239,
   243,
   251,
   256,
   260,
   264,
   268,
   272,
   276,
   280,
   284,
   292,
   297,
   301,
   305,
   309,
   313,
   317,
   321,
   325,
   333,
   338,
   342,
   346,
   350,
   354,
   358,
   372,
   376,
   380,
   384,
   392,
   397,
   401,
   405,
   409,
   413,
   417,
   421,
   425,
   430,
   434,
   438,
   442,
   446,
   450,
   454,
   458,
   466,
   471,
   475,
   479,
   483,
   487,
   491,
   495,
   499,
   507,
   512,
   516,
   520,
   524,
   528,
   532,
   536,
   540,
   548,
   553,
   557,
   561,
   565,
   569,
   573,
   577,
   581,
   589,
   594,
   598,
   602,
   606,
   610,
   614,
   618,
   622,
   630,
   635,
   639,
   643,
   647,
   651,
   655,
   659,
   663,
   671,
   678,
   684,
   688,
   692,
   696,
   700,
   708,
   715,
   721,
   725,
   729,
   733,
   741,
   748,
   754,
   758,
   762,
   766,
   774,
   779,
   783,
   787,
   791,
   795,
   799,
   803,
   807,
   815,
   820,
   824,
   828,
   832,
   836,
   840,
   844,
   848,
   856,
   861,
   865,
   869,
   873,
   877,
   881,
   885,
   889,
   897,
   902,
   906,
   910,
   914,
   918,
   922,
   926,
   930,
   938,
   943,
   947,
   951,
   955,
   959,
   963
  ]
 },
 "nbformat": 4,
 "nbformat_minor": 5
}