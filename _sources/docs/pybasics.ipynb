{
 "cells": [
  {
   "cell_type": "markdown",
   "id": "39e3b180",
   "metadata": {},
   "source": [
    "<!-- (about_py)= -->\n",
    "\n",
    "# Python for R Users\n",
    "\n",
    "[Workshop by Mango\n",
    "Solutions](https://github.com/MangoTheCat/python-for-r-users-workshop)\n",
    "\n",
    "- Jupyter notebook keyboard shortcuts\n",
    "- Models, packages, and libraries\n",
    "- Getting help\n",
    "\n",
    "## Reading data and manipulations"
   ]
  },
  {
   "cell_type": "code",
   "execution_count": null,
   "id": "36159f80",
   "metadata": {},
   "outputs": [],
   "source": [
    "import pandas as pd\n",
    "pd.set_option(\"display.width\", 80)\n",
    "\n",
    "mtcars = pd.read_csv(\"../data/mtcars.csv\", index_col = 0)\n",
    "mtcars.head(5)\n",
    "mtcars[['mpg', 'wt']]"
   ]
  },
  {
   "cell_type": "markdown",
   "id": "4107f0a9",
   "metadata": {},
   "source": [
    "## Writing a function\n",
    "\n",
    "Consider the Fibonacci Sequence\n",
    "$1, 1, 2, 3, 5, 8, 13, 21, 34, ...$.\n",
    "The next number is found by adding up the two numbers before it.\n",
    "We are going to use 3 ways to solve the problems.\n",
    "\n",
    "1. Recurisive solution;"
   ]
  },
  {
   "cell_type": "code",
   "execution_count": null,
   "id": "64ec4abd",
   "metadata": {},
   "outputs": [],
   "source": [
    "def fib_rs(n):\n",
    "    if (n==1 or n==2):\n",
    "        return 1\n",
    "    else:\n",
    "        return fib_rs(n - 1) + fib_rs(n - 2)\n",
    "\n",
    "%timeit fib_rs(10)"
   ]
  },
  {
   "cell_type": "markdown",
   "id": "bfccb67b",
   "metadata": {},
   "source": [
    "1. Dynamic programming memoization;"
   ]
  },
  {
   "cell_type": "code",
   "execution_count": null,
   "id": "278d4d75",
   "metadata": {},
   "outputs": [],
   "source": [
    "def fib_dm_helper(n,mem):\n",
    "    if mem[n] is not None:\n",
    "        return mem[n]\n",
    "    elif (n==1 or n==2):\n",
    "        result = 1\n",
    "    else:\n",
    "        result = fib_dm_helper(n - 1, mem) + fib_dm_helper(n - 2, mem)\n",
    "    mem[n]=result\n",
    "    return result\n",
    "\n",
    "def fib_dm(n):\n",
    "    mem=[None]*(n+1)\n",
    "    return fib_dm_helper(n, mem)\n",
    "\n",
    "%timeit fib_dm(10)"
   ]
  },
  {
   "cell_type": "markdown",
   "id": "bb9a1b8f",
   "metadata": {},
   "source": [
    "1. Dynamic programming bottom-up."
   ]
  },
  {
   "cell_type": "code",
   "execution_count": null,
   "id": "1ddb4298",
   "metadata": {},
   "outputs": [],
   "source": [
    "def fib_dbu(n):\n",
    "    mem=[None]*(n+1)\n",
    "    mem[1]=1;\n",
    "    mem[2]=1;\n",
    "    for i in range(3,n+1):\n",
    "        mem[i] = mem[i-1] + mem[i-2]\n",
    "    return mem[n]\n",
    "\t\n",
    "\n",
    "%timeit fib_dbu(500)"
   ]
  },
  {
   "cell_type": "markdown",
   "id": "95db2724",
   "metadata": {},
   "source": [
    "## Variables versus Objects\n",
    "See materials and exercises of Dr. Eubank's [PDS site](https://www.practicaldatascience.org/html/index.html).\n",
    "\n",
    "\n",
    "## Visualization\n",
    "Change the default plot format to `svg` for high quality display."
   ]
  },
  {
   "cell_type": "code",
   "execution_count": null,
   "id": "8a0c9e56",
   "metadata": {},
   "outputs": [],
   "source": [
    "%config InlineBackend.figure_formats = ['svg']\n",
    "\n",
    "import seaborn as sns\n",
    "%matplotlib inline\n",
    "\n",
    "sns.set_theme(style=\"darkgrid\")\n",
    "df = sns.load_dataset(\"penguins\")\n",
    "fig = sns.displot(\n",
    "    df, x=\"flipper_length_mm\", col=\"species\", row=\"sex\",\n",
    "    binwidth=3, height=3, facet_kws=dict(margin_titles=True)\n",
    ")"
   ]
  },
  {
   "cell_type": "markdown",
   "id": "3ac9791c",
   "metadata": {},
   "source": [
    "Let's see some plots using the `mtcars` example."
   ]
  },
  {
   "cell_type": "code",
   "execution_count": null,
   "id": "963f3251",
   "metadata": {},
   "outputs": [],
   "source": [
    "sns.lmplot(x = \"mpg\", y = \"wt\", data = mtcars)\n",
    "sns.displot(mtcars, x = \"mpg\", col = \"gear\", binwidth = 3, height = 3)"
   ]
  },
  {
   "cell_type": "code",
   "execution_count": null,
   "id": "49b060e7",
   "metadata": {},
   "outputs": [],
   "source": [
    "sns.lmplot(x = \"mpg\", y = \"wt\", hue = \"gear\", data = mtcars)"
   ]
  },
  {
   "cell_type": "code",
   "execution_count": null,
   "id": "e4f00400",
   "metadata": {},
   "outputs": [],
   "source": [
    "sns.lmplot(x = \"mpg\", y = \"wt\", col = \"gear\", data = mtcars)"
   ]
  },
  {
   "cell_type": "markdown",
   "id": "51920f8b",
   "metadata": {},
   "source": [
    "## Numbers in Computer\n",
    "\n",
    "Pitfall one: Integer overflow\n",
    "\n",
    "We my encounter the Overflow problem when dealing with integers when using Numpy and Pandas in Python."
   ]
  },
  {
   "cell_type": "code",
   "execution_count": null,
   "id": "14951b2c",
   "metadata": {},
   "outputs": [],
   "source": [
    "import numpy as np\n",
    "x = np.array(2**63 -1 , dtype='int')\n",
    "x\n",
    "# This should be the largest number numpy can display, with the default integer size being 64 bits in most computers.\n",
    "\n",
    "y = np.array(x + 1, dtype='int')\n",
    "y\n",
    "# Because of the overflow, when we add 1 to this number, it becomes negative!"
   ]
  },
  {
   "cell_type": "markdown",
   "id": "5d339712",
   "metadata": {},
   "source": [
    "For vanilla Python, the overflow errors are checked and more digits are allocated when needed, at the cost of being slow."
   ]
  },
  {
   "cell_type": "code",
   "execution_count": null,
   "id": "9679d4dd",
   "metadata": {},
   "outputs": [],
   "source": [
    "2**63 * 1000 # this number is 1000 times largger than the prior number, but still displayed perfectly without any overflows"
   ]
  },
  {
   "cell_type": "markdown",
   "id": "49f704d3",
   "metadata": {},
   "source": [
    "Pitfall two: floating point numbers' impresicion\n",
    "\n",
    "Because our computers use binary to store information, some simple numbers in decimal are not represented and replaced by a rounded approximation."
   ]
  },
  {
   "cell_type": "code",
   "execution_count": null,
   "id": "8008cb10",
   "metadata": {},
   "outputs": [],
   "source": [
    "0.1 + 0.1 + 0.1 == 0.3\n",
    "\n",
    "0.3 - 0.2\n",
    "\n",
    "import decimal\n",
    "decimal.Decimal(0.1) # this is the true decimal value of the binary approximation stored for 0.1"
   ]
  },
  {
   "cell_type": "markdown",
   "id": "7cb7e3aa",
   "metadata": {},
   "source": [
    "Pitfall three: trade-off between size and presicion\n",
    "\n",
    "To represent a floating points number, a 64-bit computer typically uses 1 bit to strore the sign, 52 bits to store the mantissa and 11 bits to store the exponent. Because the mantissa bits are limited, it can not represent a floating point that's both very big and very precise. Most computers can represent all integers up to 2^53, after that it starts skipping numbers."
   ]
  },
  {
   "cell_type": "code",
   "execution_count": null,
   "id": "09e89dc5",
   "metadata": {},
   "outputs": [],
   "source": [
    "2.1**53 +1 == 2.1**53\n",
    "\n",
    "# Find a number larger than 2 to the 53rd"
   ]
  },
  {
   "cell_type": "code",
   "execution_count": null,
   "id": "3644428e",
   "metadata": {},
   "outputs": [],
   "source": [
    "x = 2.1**53\n",
    "for i in range(1000000):\n",
    "    x = x+1\n",
    "x == 2.1**53\n",
    "\n",
    "# we add 1 to x by 1000000 times, but it still equal to its initial value, 2.1**53, because this number is too big that computer can't handle it with precision like add 1."
   ]
  },
  {
   "cell_type": "markdown",
   "id": "15c71e24",
   "metadata": {},
   "source": [
    "For floating points, we can find the smallest value we can get by calling machine epsilon. It is formally defined as the difference between 1 and the next largest floating point number."
   ]
  },
  {
   "cell_type": "code",
   "execution_count": null,
   "id": "a72fc29b",
   "metadata": {},
   "outputs": [],
   "source": [
    "float_epsilon = np.finfo(float).eps\n",
    "print(float_epsilon)"
   ]
  },
  {
   "cell_type": "markdown",
   "id": "4e1b3e68",
   "metadata": {},
   "source": [
    "## Scope of Variables\n",
    "\n",
    "Not all variables can be accessed from anywhere in a program. \n",
    " \n",
    "The part of a program where a variable is accessible is called its **scope**. \n",
    " \n",
    "Four types of variable scope (LEGB rule): Local -> Enclosing -> Global -> Built-in.\n",
    "\n",
    "\n",
    "### Initializing Variables\n",
    "\n",
    "A variable is a label or a name given to a certain location in memory.\n",
    "\n",
    "Python Initializing rules:\n",
    "* contain only letters, numbers and underscore \"_\"\n",
    "* can not start with numbers\n",
    "* can not be a keyword\n",
    "\n",
    "Difference In R:\n",
    "* can allow dot \".\"\n",
    "* can only start with alphabet"
   ]
  },
  {
   "cell_type": "code",
   "execution_count": null,
   "id": "697aac09",
   "metadata": {},
   "outputs": [],
   "source": [
    "# No spaces are allowed in the variable\n",
    "\n",
    "age of driver = 46"
   ]
  },
  {
   "cell_type": "markdown",
   "id": "4e0bef21",
   "metadata": {},
   "source": [
    "      File \"<ipython-input-1-2a2f77c0b400>\", line 2\n",
    "        first string value = \"First string\"\n",
    "              ^\n",
    "    SyntaxError: invalid syntax"
   ]
  },
  {
   "cell_type": "code",
   "execution_count": null,
   "id": "9c49f4ad",
   "metadata": {},
   "outputs": [],
   "source": [
    "# Cannot start with a number\n",
    "\n",
    "2018revenue = 14829"
   ]
  },
  {
   "cell_type": "markdown",
   "id": "48d3f5c1",
   "metadata": {},
   "source": [
    "      File \"<ipython-input-2-79b210888e10>\", line 2\n",
    "        1st_string_value = \"First String\"\n",
    "         ^\n",
    "    SyntaxError: invalid syntax"
   ]
  },
  {
   "cell_type": "code",
   "execution_count": null,
   "id": "239797f7",
   "metadata": {},
   "outputs": [],
   "source": [
    "# Cannot be a keyword\n",
    "\n",
    "class = ['low','high']"
   ]
  },
  {
   "cell_type": "markdown",
   "id": "f5c3b503",
   "metadata": {},
   "source": [
    "      File \"<ipython-input-31-ae3e7ffa3e52>\", line 3\n",
    "        class = ['low','high']\n",
    "              ^\n",
    "    SyntaxError: invalid syntax"
   ]
  },
  {
   "cell_type": "code",
   "execution_count": null,
   "id": "8662a572",
   "metadata": {},
   "outputs": [],
   "source": [
    "## Cannot contain .\n",
    "\n",
    "age.of.driver = 46"
   ]
  },
  {
   "cell_type": "markdown",
   "id": "a9894a39",
   "metadata": {},
   "source": [
    "    ---------------------------------------------------------------------------\n",
    "\n",
    "    NameError                                 Traceback (most recent call last)\n",
    "\n",
    "    <ipython-input-34-e9b3b1e0022f> in <module>\n",
    "    ----> 1 age.of.driver = 46\n",
    "    \n",
    "\n",
    "    NameError: name 'age' is not defined"
   ]
  },
  {
   "cell_type": "code",
   "execution_count": null,
   "id": "aece4055",
   "metadata": {},
   "outputs": [],
   "source": [
    "## Can start with underscore\n",
    "\n",
    "_age_of_driver = 46\n",
    "\n",
    "print(_age_of_driver)"
   ]
  },
  {
   "cell_type": "markdown",
   "id": "6d027bd9",
   "metadata": {},
   "source": [
    "    46\n",
    "\n",
    "\n",
    "### Local scope\n",
    "\n",
    "A variable created inside a function belongs to the local scope of that function,<br />\n",
    "and can only be used inside that function.\n",
    "\n",
    "It is accessible from the point at which it is defined until the end of the function <br />\n",
    "and exists for as long as the function is executing"
   ]
  },
  {
   "cell_type": "code",
   "execution_count": null,
   "id": "439fc5f3",
   "metadata": {},
   "outputs": [],
   "source": [
    "## local scope can be called inside the function\n",
    "\n",
    "def print_number():\n",
    "    first_num = 1\n",
    "    # Print statement 1\n",
    "    print(\"The first number defined is: \", first_num)\n",
    "\n",
    "print_number()"
   ]
  },
  {
   "cell_type": "markdown",
   "id": "f9e770ec",
   "metadata": {},
   "source": [
    "    The first number defined is:  1"
   ]
  },
  {
   "cell_type": "code",
   "execution_count": null,
   "id": "114b8de5",
   "metadata": {},
   "outputs": [],
   "source": [
    "# Print statement 2\n",
    "print(\"The first number defined is: \", first_num)"
   ]
  },
  {
   "cell_type": "markdown",
   "id": "8e52138c",
   "metadata": {},
   "source": [
    "    ---------------------------------------------------------------------------\n",
    "\n",
    "    NameError                                 Traceback (most recent call last)\n",
    "\n",
    "    <ipython-input-5-9c1ccaa4c706> in <module>\n",
    "          1 # Print statement 2\n",
    "    ----> 2 print(\"The first number defined is: \", first_num)\n",
    "    \n",
    "\n",
    "    NameError: name 'first_num' is not defined\n",
    "\n",
    "\n",
    "### Enclosing scope: function inside function\n",
    "\n",
    "When dealing with nested function,\n",
    "variable defined inside inner function cannot be reached from outer function."
   ]
  },
  {
   "cell_type": "code",
   "execution_count": null,
   "id": "abf7f16c",
   "metadata": {},
   "outputs": [],
   "source": [
    "def outer():\n",
    "    first_num = 1\n",
    "    def inner():\n",
    "        second_num = 2\n",
    "        # Print statement 1 - Scope: Inner\n",
    "        print(\"first_num from outer: \", first_num)\n",
    "        # Print statement 2 - Scope: Inner\n",
    "        print(\"second_num from inner: \", second_num)\n",
    "    inner()\n",
    "    # Print statement 3 - Scope: Outer\n",
    "    print(\"second_num from inner: \", second_num)\n",
    "\n",
    "outer()"
   ]
  },
  {
   "cell_type": "markdown",
   "id": "0dc99f35",
   "metadata": {},
   "source": [
    "    first_num from outer:  1\n",
    "    second_num from inner:  2\n",
    "\n",
    "\n",
    "\n",
    "    ---------------------------------------------------------------------------\n",
    "\n",
    "    NameError                                 Traceback (most recent call last)\n",
    "\n",
    "    <ipython-input-7-1c430167b600> in <module>\n",
    "         11     print(\"second_num from inner: \", second_num)\n",
    "         12 \n",
    "    ---> 13 outer()\n",
    "    \n",
    "\n",
    "    <ipython-input-7-1c430167b600> in outer()\n",
    "          9     inner()\n",
    "         10     # Print statement 3 - Scope: Outer\n",
    "    ---> 11     print(\"second_num from inner: \", second_num)\n",
    "         12 \n",
    "         13 outer()\n",
    "\n",
    "\n",
    "    NameError: name 'second_num' is not defined\n",
    "\n",
    "\n",
    "This is an enclosing scope. Outer's variables have a larger scope <br />\n",
    "and can be accessed from the enclosed function inner().\n",
    "\n",
    "### Gloabal scope\n",
    "\n",
    "Whenever a variable is defined outside any function, it becomes a global variable\n",
    "\n",
    "Global variables are available from within any scope, global and local."
   ]
  },
  {
   "cell_type": "code",
   "execution_count": null,
   "id": "d0c3e9e0",
   "metadata": {},
   "outputs": [],
   "source": [
    "mascot = \"Huskies!\"\n",
    "\n",
    "def chant():\n",
    "    uni = \"UConn!\"\n",
    "    print(uni, mascot)\n",
    "\n",
    "chant()"
   ]
  },
  {
   "cell_type": "markdown",
   "id": "2c3173dc",
   "metadata": {},
   "source": [
    "    UConn! Huskies!\n",
    "\n",
    "\n",
    "### Built-in scope\n",
    "\n",
    "All the special reserved keywords fall under this scope.\n",
    "\n",
    "We can call the keywords anywhere within our program without having to define them before use."
   ]
  },
  {
   "cell_type": "code",
   "execution_count": null,
   "id": "7d181b82",
   "metadata": {},
   "outputs": [],
   "source": [
    "help(\"keywords\")"
   ]
  },
  {
   "cell_type": "markdown",
   "id": "e9f758cf",
   "metadata": {},
   "source": [
    "    \n",
    "    Here is a list of the Python keywords.  Enter any keyword to get more help.\n",
    "    \n",
    "    False               class               from                or\n",
    "    None                continue            global              pass\n",
    "    True                def                 if                  raise\n",
    "    and                 del                 import              return\n",
    "    as                  elif                in                  try\n",
    "    assert              else                is                  while\n",
    "    async               except              lambda              with\n",
    "    await               finally             nonlocal            yield\n",
    "    break               for                 not                 \n",
    "    \n",
    "\n",
    "\n",
    "### LEGB Rule\n",
    "\n",
    "LEGB (Local -> Enclosing -> Global -> Built-in) <br />\n",
    "is the logic followed by a Python interpreter when it is executing your program."
   ]
  },
  {
   "cell_type": "code",
   "execution_count": null,
   "id": "7ac03398",
   "metadata": {},
   "outputs": [],
   "source": [
    "from IPython.display import Image\n",
    "Image(\"legb.png\")"
   ]
  },
  {
   "cell_type": "code",
   "execution_count": null,
   "id": "faade81c",
   "metadata": {},
   "outputs": [],
   "source": []
  },
  {
   "cell_type": "code",
   "execution_count": null,
   "id": "27439dd6",
   "metadata": {},
   "outputs": [],
   "source": [
    "## Example to introduce Global keywords\n",
    "\n",
    "mascot = \"Huskies!\"\n",
    "\n",
    "# change the value of mascot\n",
    "def change_mascot(new_mascot):\n",
    "    mascot = new_mascot\n",
    "\n",
    "def chant():\n",
    "    uni = \"UConn!\"\n",
    "    print(uni, mascot)\n",
    "\n",
    "change_mascot(\"Bulldogs!\")\n",
    "\n",
    "chant()"
   ]
  },
  {
   "cell_type": "markdown",
   "id": "0cb15731",
   "metadata": {},
   "source": [
    "    UConn! Huskies!\n",
    "\n",
    "\n",
    "Doesn't change?\n",
    "\n",
    "This is because when we set the new value for mascot, <br />\n",
    "it created a new local variable mascot in the scope of change_mascot(). \n",
    "\n",
    "It did not change anything for the global scope. \n",
    "\n",
    "This is where the global keyword comes in handy.\n",
    "\n",
    "### Global keywords\n",
    "\n",
    "With global, you're telling Python to use the globally defined variable <br />\n",
    "instead of locally creating one.<br />\n",
    "To use the keyword, simply type 'global',\n",
    "in front of the variable name."
   ]
  },
  {
   "cell_type": "code",
   "execution_count": null,
   "id": "7f7f5c3e",
   "metadata": {},
   "outputs": [],
   "source": [
    "mascot = \"Huskies!\"\n",
    "\n",
    "\n",
    "# change the value of mascot\n",
    "def change_mascot(new_mascot):\n",
    "    global mascot\n",
    "    mascot = new_mascot\n",
    "\n",
    "def chant():\n",
    "    uni = \"UConn!\"\n",
    "    print(uni, mascot)\n",
    "\n",
    "change_mascot(\"Bulldogs!\")\n",
    "\n",
    "chant()"
   ]
  },
  {
   "cell_type": "markdown",
   "id": "788646c5",
   "metadata": {},
   "source": [
    "    UConn! Huskies!\n",
    "\n",
    "\n",
    "In R, using **Super Assignment(<<-)** instead of **regular assignment(<-)** <br />\n",
    "can help make a global variable from local scope"
   ]
  },
  {
   "cell_type": "code",
   "execution_count": null,
   "id": "b8deb4ca",
   "metadata": {},
   "outputs": [],
   "source": []
  },
  {
   "cell_type": "code",
   "execution_count": null,
   "id": "170f7d57",
   "metadata": {},
   "outputs": [],
   "source": [
    "## Example to introduce Nonlocal keywords\n",
    "\n",
    "def outer():\n",
    "    a = 0\n",
    "    def inner():\n",
    "        a = 2 # change the first_num from 0 to 2\n",
    "        b = 1 # generate a new variable b\n",
    "        print(\"b =\", b)\n",
    "    inner()\n",
    "    print(\"a =\", a)\n",
    "\n",
    "outer()"
   ]
  },
  {
   "cell_type": "markdown",
   "id": "da1bd90c",
   "metadata": {},
   "source": [
    "    b = 1\n",
    "    a = 0\n",
    "\n",
    "\n",
    "We expect the value of a is updated to 2 instead of 0,\n",
    "but failed because the modify take place in inner function.\n",
    "\n",
    "To move the updates of a from\n",
    "\n",
    "### Nonlocal Keywords\n",
    "\n",
    "The nonlocal keyword is useful in nested functions. \n",
    "\n",
    "Nonlocal keyword works similar to the global, <br />\n",
    "but rather than global, <br />\n",
    "this keyword declares a variable to point to <br />\n",
    "the variable of outside enclosing function, in case of nested functions."
   ]
  },
  {
   "cell_type": "code",
   "execution_count": null,
   "id": "8f145a56",
   "metadata": {},
   "outputs": [],
   "source": [
    "def outer():\n",
    "    first_num = 1\n",
    "    def inner():\n",
    "        nonlocal first_num #\n",
    "        first_num = 0 # change the second_num from 1 to 0\n",
    "        second_num = 1\n",
    "        print(\"inner - second_num is: \", second_num)\n",
    "    inner()\n",
    "    print(\"outer - first_num is: \", first_num)\n",
    "\n",
    "outer()"
   ]
  },
  {
   "cell_type": "markdown",
   "id": "cc0a11ef",
   "metadata": {},
   "source": [
    "    inner - second_num is:  1\n",
    "    outer - first_num is:  0\n",
    "\n",
    "\n",
    "### Summary\n",
    "\n",
    "* Four types of scope\n",
    "    + Local\n",
    "    + Enclosing\n",
    "    + Global\n",
    "    + Build-in\n",
    "    \n",
    "* Two ways to change the scope of a variable inside function\n",
    "    + Global keywords\n",
    "    + Nonlocal keywords\n",
    "\n",
    "\n",
    "\n",
    "\n",
    "\n",
    "\n",
    "\n",
    "## Example: Google recruiting problem\n",
    "Find the first 10-digit prime found in consecutive digits of $e$.\n",
    "\n",
    "- Get the list of digits of $e$\n",
    "- Write functions to achieve our goals(can be a loop, running over the list)\n",
    "- Try to make it more efficient!\n",
    "\n",
    "### Export $e$\n",
    "\n",
    "If you try to export $e$ using the format command in Python, you will\n",
    "not get the precise $e$ value due to the double type data's feature!"
   ]
  },
  {
   "cell_type": "code",
   "execution_count": null,
   "id": "bd6432dc",
   "metadata": {},
   "outputs": [],
   "source": [
    "import math\n",
    "print(\"%0.10f\" % math.e)\n",
    "print(\"%0.20f\" % math.e)"
   ]
  },
  {
   "cell_type": "markdown",
   "id": "db737903",
   "metadata": {},
   "source": [
    "The digits after 16 positions of $e$ are wrong, compare this to the\n",
    "$e$ value export by \"decimal\"."
   ]
  },
  {
   "cell_type": "code",
   "execution_count": null,
   "id": "ed00c617",
   "metadata": {},
   "outputs": [],
   "source": [
    "import operator # ?\n",
    "import decimal  # for what?\n",
    "\n",
    "## set the required digits\n",
    "decimal.getcontext().prec = 150\n",
    "e_decimal = decimal.Decimal(1).exp().to_eng_string()[2:]\n",
    "print(e_decimal)"
   ]
  },
  {
   "cell_type": "markdown",
   "id": "0031259b",
   "metadata": {},
   "source": [
    "Besides the \"decimal\" module, we have lazy ways to find $e$ from\n",
    "an existed list. For example, the website\n",
    "https://apod.nasa.gov/htmltest/gifcity/e.2mil provides a list of $e$."
   ]
  },
  {
   "cell_type": "code",
   "execution_count": null,
   "id": "3d5eaefb",
   "metadata": {},
   "outputs": [],
   "source": [
    "import requests\n",
    "# get text from the website\n",
    "reply = requests.get('https://apod.nasa.gov/htmltest/gifcity/e.2mil').text\n",
    "\n",
    "# remove the space in the lines\n",
    "line_strip=[line.strip() for line in reply.split('\\n')]\n",
    "\n",
    "# connect all the digital lines\n",
    "e=''.join([LINE for LINE in line_strip if LINE and LINE[0].isdigit()])\n",
    "print(e[:20:])"
   ]
  },
  {
   "cell_type": "markdown",
   "id": "4b8dc413",
   "metadata": {},
   "source": [
    "### Write functions to check whether a number is a prime\n",
    "Here the most basic and bruteforce way is used. Check all the factors\n",
    "less than $\\sqrt n+1$ for all the odd numbers $n$.\n",
    "\n",
    "We have many powerful algorithms to achieve this if we need to check\n",
    "for very large numbers. For this problem, this method is efficcient\n",
    "enough."
   ]
  },
  {
   "cell_type": "code",
   "execution_count": null,
   "id": "05e0f5fc",
   "metadata": {},
   "outputs": [],
   "source": [
    "%%time\n",
    "def is_prime(n):\n",
    "    if n% 2 == 0:\n",
    "        return False\n",
    "    for i in range(3, int(n**0.5)+1,2):\n",
    "        if n% i == 0:\n",
    "            return False\n",
    "    else:\n",
    "        return True\n",
    "    \n",
    "\n",
    "i = 0\n",
    "se = e.replace('.','')\n",
    "while True:\n",
    "    number = se[i:i+10]\n",
    "    if is_prime(int(number)):\n",
    "        print(number)\n",
    "        break\n",
    "    i+= 1"
   ]
  },
  {
   "cell_type": "markdown",
   "id": "e3fb9669",
   "metadata": {},
   "source": [
    "## Error and Debugging\n",
    "Resource: Python Data Science Handbook\n",
    "\n",
    "Code development and data analysis always require a bit of trial and error, and IPython contains tools to streamline this process. \n",
    "\n",
    "### Error"
   ]
  },
  {
   "cell_type": "code",
   "execution_count": null,
   "id": "08fcce5d",
   "metadata": {},
   "outputs": [],
   "source": [
    "def func1(a, b):\n",
    "    return a / b\n",
    "\n",
    "def func2(x):\n",
    "    a = x\n",
    "    b = x + 1\n",
    "    return func1(a, b)"
   ]
  },
  {
   "cell_type": "code",
   "execution_count": null,
   "id": "27b7dbfa",
   "metadata": {},
   "outputs": [],
   "source": [
    "try:\n",
    "    func2(-1)\n",
    "except Exception as e:\n",
    "    print(e)"
   ]
  },
  {
   "cell_type": "markdown",
   "id": "5770c923",
   "metadata": {},
   "source": [
    "Calling func2 results in an error, and reading the printed trace lets us see exactly what happened.By default, this trace includes several lines showing the context of each step that led to the error.\n",
    "\n",
    "### Debugging\n",
    "\n",
    "The standard Python tool for interactive debugging is pdb, the Python debugger. This debugger lets the user step through the code line by line in order to see what might be causing a more difficult error. The IPython-enhanced version of this is ipdb, the IPython debugger."
   ]
  },
  {
   "cell_type": "code",
   "execution_count": null,
   "id": "e72e383f",
   "metadata": {},
   "outputs": [],
   "source": [
    "%debug"
   ]
  },
  {
   "cell_type": "markdown",
   "id": "b3e4afd1",
   "metadata": {},
   "source": [
    "The interactive debugger allows much more than this, though–we can even step up and down through the stack and explore the values of variables there\n",
    "\n",
    "### Partial list of debugging commands\n",
    "There are many more available commands for interactive debugging than we've listed here; the following table contains a description of some of the more common and useful ones:\n",
    "\n",
    "**Command\tDescription**\n",
    "\n",
    "**list**\tShow the current location in the file  \n",
    "**h(elp)**\tShow a list of commands, or find help on a specific command  \n",
    "**q(uit)**\tQuit the debugger and the program  \n",
    "**c(ontinue)**\tQuit the debugger, continue in the program  \n",
    "**n(ext)**\tGo to the next step of the program  \n",
    "**(enter)**\tRepeat the previous command  \n",
    "**p(rint)**\tPrint variables  \n",
    "**s(tep)**\tStep into a subroutine  \n",
    "**r(eturn)**\tReturn out of a subroutine"
   ]
  },
  {
   "cell_type": "markdown",
   "id": "74ce9036",
   "metadata": {},
   "source": [
    "## General Resources\n",
    "Popular textbooks on Python programming include\n",
    "{cite}`guttag2016introduction` and {cite}`hill2016learning`.\n",
    "\n",
    "\n",
    "\n",
    "Python is either the dominant player or a major player in\n",
    "\n",
    "-   [machine learning and data science](http://scikit-learn.org/stable/)\n",
    "-   [astronomy](http://www.astropy.org/)\n",
    "-   [artificial intelligence](https://wiki.python.org/moin/PythonForArtificialIntelligence)\n",
    "-   [chemistry](http://chemlab.github.io/chemlab/)\n",
    "-   [computational biology](http://biopython.org/wiki/Main_Page)\n",
    "-   [meteorology](https://pypi.org/project/meteorology/)\n",
    "\n",
    "\n",
    "## Exercises\n",
    "\n",
    "1. Write a function to demonstrate the Monty Hall problem through\n",
    "   simulation. The function takes two arguments `ndoors` and\n",
    "   `ntrials`, representing the number of doors in the experiment and\n",
    "   the number of trails in a simulation, respectively. The function\n",
    "   should return the proportion of wins for both the switch and\n",
    "   no-switch strategy. Apply your function with 3 doors and 5 doors,\n",
    "   both with 1000 trials.\n",
    "\n",
    "1. Write a function to do a Monte Carlo approximation of $\\pi$. The\n",
    "   function takes a Monte Carlo sample size `n` as input, and returns\n",
    "   a point estimate of $\\pi$ and a 95% confidence interval. Apply your\n",
    "   function with sample size 1000, 2000, 4000, and 8000. Comment on\n",
    "   the results.\n",
    "\n",
    "1. Find the first 10-digit prime number occurring in consecutive\n",
    "   digits of $e$. This was a\n",
    "   [Google recruiting ad](http://mathworld.wolfram.com/news/2004-10-13/google/).\n",
    "\n",
    "1. Write a function to obtain the MLE of the parameters of a gamma\n",
    "   distribution with a random sample. The input is the random sample\n",
    "   vector, and the output is the MLE. For shape parameter $\\alpha$ and\n",
    "   scale parameter $\\beta$, generate a random sample of size $n$, and\n",
    "   then use your function to obtain the MLE. Conduct a simulation\n",
    "   study with $\\alpha = \\beta = 2$ for sample size \n",
    "   $n \\in \\{50, 100, 200\\}$. Do 1000 replicates and summarize your\n",
    "   results.\n",
    "\n",
    "1. Continue with the gamma MLE. Add the standard error of the MLE into\n",
    "   the output of your function. Repeat the simulation study and check\n",
    "   whether your standard errors match the empirical standard error\n",
    "   from the 1000 replicates.\n",
    "\n",
    "1. Consider a telecommunication service company. To simplify the\n",
    "   setting, suppose that the starting points of new customers are\n",
    "   uniformly distributed over time. Suppose that a customer stays\n",
    "   with the company for a duration of gamma distribution with shape\n",
    "   `alpha` and scale `sigma`. The company hires a data scientist to\n",
    "   estimate the distribution of the duration of the customer's\n",
    "   stay. The data scientist decides to include in the sample all\n",
    "   customers who are with the company at time `t`. Write a function to\n",
    "   conduct a simulation study. For each replicate, the function\n",
    "   generates `n` customers and select those that are active at time\n",
    "   `t` to form a sample; returns the mean and standard deviation of\n",
    "   the durations in the sample. Repeat the experiment 1000 times for\n",
    "   various values of `alpha`, `sigma`, `n`, and `t`. Discuss\n",
    "   your findings.\n",
    "\n",
    "1. Continue with the telecommunication service company. Suppose now\n",
    "   that the data scientists decides to include in the sample all\n",
    "   custermers that are active during a time interval from `t0` to\n",
    "   `t1`. Modify your function and carry out the simulation\n",
    "   study. Discuss your findings."
   ]
  }
 ],
 "metadata": {
  "jupytext": {
   "text_representation": {
    "extension": ".md",
    "format_name": "myst",
    "format_version": 0.13,
    "jupytext_version": "1.10.3"
   }
  },
  "kernelspec": {
   "display_name": "Python 3 (ipykernel)",
   "language": "python",
   "name": "python3"
  },
  "source_map": [
   12,
   27,
   34,
   45,
   53,
   57,
   73,
   77,
   88,
   97,
   109,
   113,
   118,
   122,
   124,
   132,
   141,
   145,
   147,
   153,
   160,
   166,
   172,
   179,
   183,
   186,
   211,
   215,
   226,
   230,
   241,
   245,
   256,
   260,
   275,
   281,
   295,
   304,
   310,
   313,
   334,
   348,
   386,
   394,
   406,
   408,
   431,
   445,
   450,
   466,
   488,
   504,
   513,
   518,
   531,
   552,
   564,
   600,
   604,
   609,
   617,
   623,
   634,
   644,
   664,
   673,
   683,
   688,
   696,
   698,
   717
  ]
 },
 "nbformat": 4,
 "nbformat_minor": 5
}