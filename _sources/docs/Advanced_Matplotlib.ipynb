{
 "cells": [
  {
   "cell_type": "markdown",
   "id": "212a5052",
   "metadata": {},
   "source": [
    "## Advanced Matplotlib"
   ]
  },
  {
   "cell_type": "markdown",
   "id": "9b4774e0",
   "metadata": {},
   "source": [
    "### Customizing Ticks"
   ]
  },
  {
   "cell_type": "markdown",
   "id": "ef97499f",
   "metadata": {},
   "source": [
    "Matplotlib’s default tick locators and formatters are designed to be generally sufficient in many situations, \n",
    "but are not suitable for every plot."
   ]
  },
  {
   "cell_type": "code",
   "execution_count": null,
   "id": "5936ff27",
   "metadata": {},
   "outputs": [],
   "source": [
    "%matplotlib inline\n",
    "import matplotlib.pyplot as plt\n",
    "plt.style.use('seaborn-whitegrid')\n",
    "import numpy as np"
   ]
  },
  {
   "cell_type": "markdown",
   "id": "bcc8d5c9",
   "metadata": {},
   "source": [
    "#### Hiding Ticks or Lables"
   ]
  },
  {
   "cell_type": "code",
   "execution_count": null,
   "id": "57a373d1",
   "metadata": {},
   "outputs": [],
   "source": [
    "ax = plt.axes()\n",
    "ax.plot(np.random.rand(100))\n",
    "ax.yaxis.set_major_locator(plt.NullLocator())\n",
    "ax.xaxis.set_major_formatter(plt.NullFormatter())"
   ]
  },
  {
   "cell_type": "code",
   "execution_count": null,
   "id": "091b6eeb",
   "metadata": {},
   "outputs": [],
   "source": [
    "fig, ax = plt.subplots(4, 4, figsize=(4, 4))\n",
    "fig.subplots_adjust(hspace=0, wspace=0)\n",
    "from sklearn.datasets import fetch_olivetti_faces\n",
    "faces = fetch_olivetti_faces().images\n",
    "for i in range(4):\n",
    "    for j in range(4):\n",
    "        ax[i, j].xaxis.set_major_locator(plt.NullLocator())\n",
    "        ax[i, j].yaxis.set_major_locator(plt.NullLocator())\n",
    "        ax[i, j].imshow(faces[10 * i + j], cmap=\"bone\")"
   ]
  },
  {
   "cell_type": "markdown",
   "id": "fdb9a9c1",
   "metadata": {},
   "source": [
    "#### Reducing or Increasing the Number of Ticks"
   ]
  },
  {
   "cell_type": "code",
   "execution_count": null,
   "id": "73b0ea2c",
   "metadata": {},
   "outputs": [],
   "source": [
    "fig, ax = plt.subplots(4, 4, sharex=True, sharey=True)"
   ]
  },
  {
   "cell_type": "code",
   "execution_count": null,
   "id": "e4e08269",
   "metadata": {},
   "outputs": [],
   "source": [
    "for axi in ax.flat:\n",
    "    axi.xaxis.set_major_locator(plt.MaxNLocator(5))\n",
    "    axi.yaxis.set_major_locator(plt.MaxNLocator(5))\n",
    "fig"
   ]
  },
  {
   "cell_type": "markdown",
   "id": "1f08e0b8",
   "metadata": {},
   "source": [
    "#### Fancy Tick Formats"
   ]
  },
  {
   "cell_type": "code",
   "execution_count": null,
   "id": "0c758d63",
   "metadata": {},
   "outputs": [],
   "source": [
    "# Plot a sine and cosine curve\n",
    "fig, ax = plt.subplots()\n",
    "x = np.linspace(0, 3 * np.pi, 2000)\n",
    "ax.plot(x, np.sin(x), lw=3, label='Sine')\n",
    "ax.plot(x, np.cos(x), lw=3, label='Cosine')\n",
    "# Set up grid, legend, and limits\n",
    "ax.grid(True)\n",
    "ax.legend(frameon=False)\n",
    "ax.axis('equal')\n",
    "ax.set_xlim(0, 3 * np.pi)"
   ]
  },
  {
   "cell_type": "code",
   "execution_count": null,
   "id": "ad2ce58c",
   "metadata": {},
   "outputs": [],
   "source": [
    "ax.xaxis.set_major_locator(plt.MultipleLocator(np.pi / 2))\n",
    "ax.xaxis.set_minor_locator(plt.MultipleLocator(np.pi / 4))\n",
    "fig"
   ]
  },
  {
   "cell_type": "code",
   "execution_count": null,
   "id": "2a21a358",
   "metadata": {},
   "outputs": [],
   "source": [
    "def format_func(value, tick_number):\n",
    "    N = int(np.round(2 * value / np.pi))\n",
    "    if N == 0:\n",
    "        return \"0\"\n",
    "    elif N == 1:\n",
    "        return r\"$\\pi/2$\"\n",
    "    elif N == 2:\n",
    "        return r\"$\\pi$\"\n",
    "    elif N % 2 > 0:\n",
    "        return r\"${0}\\pi/2$\".format(N)\n",
    "    else:\n",
    "        return r\"${0}\\pi$\".format(N // 2)\n",
    "ax.xaxis.set_major_formatter(plt.FuncFormatter(format_func))\n",
    "fig"
   ]
  },
  {
   "cell_type": "markdown",
   "id": "3ea7d01b",
   "metadata": {},
   "source": [
    "### Customizing Matplotlib: Configurations and Stylesheets"
   ]
  },
  {
   "cell_type": "markdown",
   "id": "f8e01cbc",
   "metadata": {},
   "source": [
    "#### Stylesheets"
   ]
  },
  {
   "cell_type": "code",
   "execution_count": null,
   "id": "11a30975",
   "metadata": {},
   "outputs": [],
   "source": [
    "plt.style.available[:5]"
   ]
  },
  {
   "cell_type": "code",
   "execution_count": null,
   "id": "b2525d3b",
   "metadata": {},
   "outputs": [],
   "source": [
    "plt.style.use('classic')\n",
    "def hist_and_lines():\n",
    "    np.random.seed(0)\n",
    "fig, ax = plt.subplots(1, 2, figsize=(15, 5))\n",
    "ax[0].hist(np.random.randn(1000))\n",
    "for i in range(3):\n",
    "    ax[1].plot(np.random.rand(20))\n",
    "    ax[1].legend(['x', 'y', 'z'], loc='lower left')"
   ]
  },
  {
   "cell_type": "markdown",
   "id": "00e7df33",
   "metadata": {},
   "source": [
    "### Three-Dimensional Plotting in Matplotlib"
   ]
  },
  {
   "cell_type": "code",
   "execution_count": null,
   "id": "c2992c1a",
   "metadata": {},
   "outputs": [],
   "source": [
    "from mpl_toolkits import mplot3d\n",
    "%matplotlib inline\n",
    "import numpy as np\n",
    "import matplotlib.pyplot as plt\n",
    "fig = plt.figure()\n",
    "ax = plt.axes(projection='3d')"
   ]
  },
  {
   "cell_type": "markdown",
   "id": "c14ca820",
   "metadata": {},
   "source": [
    "#### Three-Dimensional Points and Lines"
   ]
  },
  {
   "cell_type": "code",
   "execution_count": null,
   "id": "4e936fd2",
   "metadata": {},
   "outputs": [],
   "source": [
    "ax = plt.axes(projection='3d')\n",
    "# Data for a three-dimensional line\n",
    "zline = np.linspace(0, 25, 2000)\n",
    "xline = np.sin(zline)\n",
    "yline = np.cos(zline)\n",
    "ax.plot3D(xline, yline, zline, 'gray')\n",
    "# Data for three-dimensional scattered points\n",
    "zdata = 15 * np.random.random(200)\n",
    "xdata = np.sin(zdata) + 0.1 * np.random.randn(200)\n",
    "ydata = np.cos(zdata) + 0.1 * np.random.randn(200)\n",
    "ax.scatter3D(xdata, ydata, zdata, c=zdata, cmap='Greens')"
   ]
  },
  {
   "cell_type": "markdown",
   "id": "378a88fc",
   "metadata": {},
   "source": [
    "#### Three-Dimensional Contour Plots"
   ]
  },
  {
   "cell_type": "code",
   "execution_count": null,
   "id": "01e53266",
   "metadata": {},
   "outputs": [],
   "source": [
    "def f(x, y):\n",
    "    return np.sin(np.sqrt(x ** 2 + y ** 2))\n",
    "x = np.linspace(-6, 6, 50)\n",
    "y = np.linspace(-6, 6, 50)\n",
    "X, Y = np.meshgrid(x, y)\n",
    "Z = f(X, Y)\n",
    "\n",
    "fig = plt.figure()\n",
    "ax = plt.axes(projection='3d')\n",
    "ax.contour3D(X, Y, Z, 100, cmap='binary')\n",
    "ax.set_xlabel('x')\n",
    "ax.set_ylabel('y')\n",
    "ax.set_zlabel('z')"
   ]
  },
  {
   "cell_type": "code",
   "execution_count": null,
   "id": "39c769e9",
   "metadata": {},
   "outputs": [],
   "source": [
    "ax.view_init(50, 10)\n",
    "fig"
   ]
  },
  {
   "cell_type": "markdown",
   "id": "8788e23a",
   "metadata": {},
   "source": [
    "#### Wireframes Plots"
   ]
  },
  {
   "cell_type": "code",
   "execution_count": null,
   "id": "e80f4f32",
   "metadata": {},
   "outputs": [],
   "source": [
    "fig = plt.figure()\n",
    "ax = plt.axes(projection='3d')\n",
    "ax.plot_wireframe(X, Y, Z, color='black')\n",
    "ax.set_title('wireframe')"
   ]
  },
  {
   "cell_type": "markdown",
   "id": "2f261bed",
   "metadata": {},
   "source": [
    "#### Surface Plots"
   ]
  },
  {
   "cell_type": "code",
   "execution_count": null,
   "id": "e011f315",
   "metadata": {},
   "outputs": [],
   "source": [
    "ax = plt.axes(projection='3d')\n",
    "ax.plot_surface(X, Y, Z, rstride=1, cstride=1,\n",
    "cmap='viridis', edgecolor='none')\n",
    "ax.set_title('surface')"
   ]
  },
  {
   "cell_type": "markdown",
   "id": "2aa81d83",
   "metadata": {},
   "source": [
    "#### Surface Triangulations"
   ]
  },
  {
   "cell_type": "code",
   "execution_count": null,
   "id": "66825656",
   "metadata": {},
   "outputs": [],
   "source": [
    "theta = 2 * np.pi * np.random.random(3000)\n",
    "r = 6 * np.random.random(3000)\n",
    "x = np.ravel(r * np.sin(theta))\n",
    "y = np.ravel(r * np.cos(theta))\n",
    "z = f(x, y)\n",
    "ax = plt.axes(projection='3d')\n",
    "ax.scatter(x, y, z, c=z, cmap='viridis', linewidth=0.5)"
   ]
  },
  {
   "cell_type": "code",
   "execution_count": null,
   "id": "c2cbbf05",
   "metadata": {},
   "outputs": [],
   "source": [
    "ax = plt.axes(projection='3d')\n",
    "ax.plot_trisurf(x, y, z,\n",
    "cmap='viridis', edgecolor='none')"
   ]
  },
  {
   "cell_type": "markdown",
   "id": "33a3aaf8",
   "metadata": {},
   "source": [
    "### Geographic Data with Basemap"
   ]
  },
  {
   "cell_type": "markdown",
   "id": "3c226c83",
   "metadata": {},
   "source": [
    "Use this in order to download the package"
   ]
  },
  {
   "cell_type": "code",
   "execution_count": null,
   "id": "76b8b11d",
   "metadata": {},
   "outputs": [],
   "source": [
    "#conda install -c conda-forge basemap-data-hires=1.0.8.dev0\n",
    "#or\n",
    "#conda install basemap"
   ]
  },
  {
   "cell_type": "code",
   "execution_count": null,
   "id": "cee2ce44",
   "metadata": {},
   "outputs": [],
   "source": [
    "import os\n",
    "os.environ['PROJ_LIB'] = r'C:\\Users\\astro\\Anaconda3\\pkgs\\proj4-5.2.0-ha925a31_1\\Library\\share'"
   ]
  },
  {
   "cell_type": "code",
   "execution_count": null,
   "id": "ab21f631",
   "metadata": {},
   "outputs": [],
   "source": [
    "%matplotlib inline\n",
    "import numpy as np\n",
    "import matplotlib.pyplot as plt\n",
    "from mpl_toolkits.basemap import Basemap"
   ]
  },
  {
   "cell_type": "code",
   "execution_count": null,
   "id": "2d46cb81",
   "metadata": {},
   "outputs": [],
   "source": [
    "fig = plt.figure(figsize=(8, 8))\n",
    "m = Basemap(projection='lcc', resolution=None,width=8E6, height=8E6,lat_0=45, lon_0=-100,)\n",
    "m.etopo(scale=0.5, alpha=0.5)\n",
    "# Map (long, lat) to (x, y) for plotting\n",
    "x, y = m(-72.3, 41.8)\n",
    "plt.plot(x, y, 'ok', markersize=5)\n",
    "plt.text(x, y, 'UConn', fontsize=12)"
   ]
  },
  {
   "cell_type": "markdown",
   "id": "2af7c1e7",
   "metadata": {},
   "source": [
    "#### Map Projections"
   ]
  },
  {
   "cell_type": "code",
   "execution_count": null,
   "id": "33eecf54",
   "metadata": {},
   "outputs": [],
   "source": [
    "from itertools import chain\n",
    "def draw_map(m, scale=0.2):\n",
    "    m.shadedrelief(scale=scale)\n",
    "    lats = m.drawparallels(np.linspace(-90, 90, 13))\n",
    "    lons = m.drawmeridians(np.linspace(-180, 180, 13))\n",
    "    lat_lines = chain(*(tup[1][0] for tup in lats.items()))\n",
    "    lon_lines = chain(*(tup[1][0] for tup in lons.items()))\n",
    "    all_lines = chain(lat_lines, lon_lines)\n",
    "\n",
    "    for line in all_lines:\n",
    "        line.set(linestyle='-', alpha=0.3, color='w')"
   ]
  },
  {
   "cell_type": "code",
   "execution_count": null,
   "id": "28c9c89f",
   "metadata": {},
   "outputs": [],
   "source": [
    "## Cylindrical projections\n",
    "\n",
    "fig = plt.figure(figsize=(8, 6), edgecolor='w')\n",
    "m = Basemap(projection='cyl', resolution=None,llcrnrlat=-90, urcrnrlat=90,llcrnrlon=-180, urcrnrlon=180, )\n",
    "draw_map(m)"
   ]
  },
  {
   "cell_type": "markdown",
   "id": "b49f95da",
   "metadata": {},
   "source": [
    "More types of projections can be found here: https://matplotlib.org/basemap/users/mapsetup.html"
   ]
  },
  {
   "cell_type": "markdown",
   "id": "ac06aa4e",
   "metadata": {},
   "source": [
    "#### Drawing a Map Background"
   ]
  },
  {
   "cell_type": "code",
   "execution_count": null,
   "id": "27d9673c",
   "metadata": {},
   "outputs": [],
   "source": [
    "fig, ax = plt.subplots(1, 2, figsize=(12, 8))\n",
    "for i, res in enumerate(['l', 'h']):\n",
    "    m = Basemap(projection='gnom', lat_0=57.3, lon_0=-6.2,\n",
    "    width=90000, height=120000, resolution=res, ax=ax[i])\n",
    "    m.fillcontinents(color=\"#FFDDCC\", lake_color='#DDEEFF')\n",
    "    m.drawmapboundary(fill_color=\"#DDEEFF\")\n",
    "    m.drawcoastlines()\n",
    "    ax[i].set_title(\"resolution='{0}'\".format(res))"
   ]
  },
  {
   "cell_type": "markdown",
   "id": "718b0719",
   "metadata": {},
   "source": [
    "Left side is low resolution and right side is high resolution images."
   ]
  },
  {
   "cell_type": "markdown",
   "id": "2199b465",
   "metadata": {},
   "source": [
    "References:\n",
    "    \n",
    "[1] Jake VanderPlas, Python Data Science Handbook\n",
    "\n",
    "[2] Matplotlib Basemap Toolkit documentation, https://matplotlib.org/basemap/"
   ]
  }
 ],
 "metadata": {
  "jupytext": {
   "formats": "ipynb,md:myst",
   "text_representation": {
    "extension": ".md",
    "format_name": "myst",
    "format_version": 0.13,
    "jupytext_version": "1.10.3"
   }
  },
  "kernelspec": {
   "display_name": "Python 3 (ipykernel)",
   "language": "python",
   "name": "python3"
  },
  "source_map": [
   13,
   17,
   21,
   26,
   31,
   35,
   42,
   52,
   56,
   60,
   65,
   69,
   82,
   88,
   103,
   107,
   111,
   115,
   124,
   128,
   135,
   139,
   151,
   155,
   171,
   174,
   178,
   183,
   187,
   192,
   196,
   206,
   210,
   214,
   218,
   224,
   229,
   236,
   244,
   248,
   262,
   268,
   272,
   276,
   285,
   289
  ]
 },
 "nbformat": 4,
 "nbformat_minor": 5
}