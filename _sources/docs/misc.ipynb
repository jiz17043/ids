{
 "cells": [
  {
   "cell_type": "markdown",
   "id": "cd9f6ecf",
   "metadata": {},
   "source": [
    "# Miscellaneous learnings\n",
    "\n",
    "## Hidden Code:"
   ]
  },
  {
   "cell_type": "code",
   "execution_count": null,
   "id": "825d8a18",
   "metadata": {},
   "outputs": [],
   "source": [
    "#@hidden\n",
    "from IPython.display import HTML, Image\n",
    "\n",
    "HTML('''<script>\n",
    "code_show=true; \n",
    "function code_toggle() {\n",
    " if (code_show){\n",
    " $('.cm-comment:contains(@hidden)').closest('div.input').hide();\n",
    " } else {\n",
    " $('.cm-comment:contains(@hidden)').closest('div.input').show();\n",
    " }\n",
    " code_show = !code_show\n",
    "} \n",
    "$( document ).ready(code_toggle);\n",
    "</script>\n",
    "The raw code for the following figures related code\n",
    "is by default hidden. This can be used to give\n",
    "quizzes whereby the raw dataset is hidden but a plot \n",
    "is shown or so on. To toggle on/off the raw code, \n",
    "<a href=\"javascript:code_toggle()\">click here to \n",
    "toggle for raw hidden code</a>.''')"
   ]
  },
  {
   "cell_type": "markdown",
   "id": "8753894e",
   "metadata": {},
   "source": [
    "## Running bash in ipynb"
   ]
  },
  {
   "cell_type": "code",
   "execution_count": null,
   "id": "ea848f4b",
   "metadata": {},
   "outputs": [],
   "source": [
    "## copy a file\n",
    "# !cp myscript.py myscript2.py"
   ]
  },
  {
   "cell_type": "code",
   "execution_count": null,
   "id": "d4fb7b94",
   "metadata": {},
   "outputs": [],
   "source": [
    "## run timeit on python\n",
    "!python -m timeit -r 20 '\"-\".join(str(n) for n in range(100))'\n",
    "## r does repetition\n",
    "## The output suggests there were 20000 loops, repeated 20 \n",
    "## times for accuracy, and \n",
    "\n",
    "# \"-\".join(str(n) for n in range(100))"
   ]
  },
  {
   "cell_type": "code",
   "execution_count": null,
   "id": "86e3424e",
   "metadata": {},
   "outputs": [],
   "source": [
    "## install python modules\n",
    "# !pip install pstats "
   ]
  },
  {
   "cell_type": "markdown",
   "id": "5a5831f0",
   "metadata": {},
   "source": [
    "## Save a file dynamically into a .py or .R file from jupyter notebook (Magic Save)"
   ]
  },
  {
   "cell_type": "code",
   "execution_count": null,
   "id": "780815cd",
   "metadata": {},
   "outputs": [],
   "source": [
    "# %save -a example.py -n 28   ## change 28 to respective line number"
   ]
  },
  {
   "cell_type": "markdown",
   "id": "341a2663",
   "metadata": {},
   "source": [
    "## Convert .ipynb to .md file\n",
    "\n",
    "Here FORMAT could be `Markdown`, `html`, `pdf`, `tex`, `slides`\n",
    "\n",
    "```{note}\n",
    "Keep in mind that this does not convert to MyST Markdown\n",
    "```"
   ]
  },
  {
   "cell_type": "code",
   "execution_count": null,
   "id": "635a0b39",
   "metadata": {},
   "outputs": [],
   "source": [
    "# jupyter nbconvert --to FORMAT notebook.ipynb"
   ]
  },
  {
   "cell_type": "markdown",
   "id": "0f66586e",
   "metadata": {},
   "source": [
    "## Guppy & Objgraph (memory profiling misc.)\n",
    "\n",
    "There are number of ways to profile an entire Python application. Most python\n",
    "way is Guppy. You can take a snapshot of the heap before and after a critical\n",
    "process. Then compare the total memory and pinpoint possible memory spikes\n",
    "involved within common objects. Well, but apparently it works with Python 2."
   ]
  },
  {
   "cell_type": "code",
   "execution_count": null,
   "id": "0575d447",
   "metadata": {},
   "outputs": [],
   "source": [
    "# !pip3 install objgraph\n",
    "import objgraph\n",
    "objgraph.show_most_common_types()   ## overview of the objects in memory"
   ]
  },
  {
   "cell_type": "code",
   "execution_count": null,
   "id": "aded7942",
   "metadata": {},
   "outputs": [],
   "source": [
    "class MyBigFatObject(object):\n",
    "    pass\n",
    "\n",
    "def computate_something(_cache={}):\n",
    "    _cache[42] = dict(foo=MyBigFatObject(),\n",
    "                      bar=MyBigFatObject())\n",
    "    # a very explicit and easy-to-find \"leak\" but oh well\n",
    "    x = MyBigFatObject() # this one doesn't leak"
   ]
  },
  {
   "cell_type": "code",
   "execution_count": null,
   "id": "1462baec",
   "metadata": {},
   "outputs": [],
   "source": [
    "objgraph.show_growth(limit=3) \n",
    "computate_something()\n",
    "objgraph.show_growth() "
   ]
  },
  {
   "cell_type": "markdown",
   "id": "749929e6",
   "metadata": {},
   "source": [
    "It’s easy to see `MyBigFatObject` instances that appeared and were not freed. So,\n",
    "we can trace the reference chain back."
   ]
  }
 ],
 "metadata": {
  "jupytext": {
   "text_representation": {
    "extension": ".md",
    "format_name": "myst",
    "format_version": 0.13,
    "jupytext_version": "1.10.3"
   }
  },
  "kernelspec": {
   "display_name": "Python 3 (ipykernel)",
   "language": "python",
   "name": "python3"
  },
  "source_map": [
   12,
   18,
   40,
   44,
   49,
   59,
   62,
   66,
   68,
   78,
   80,
   89,
   95,
   106,
   110
  ]
 },
 "nbformat": 4,
 "nbformat_minor": 5
}