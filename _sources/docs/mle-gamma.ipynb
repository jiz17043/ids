{
 "cells": [
  {
   "cell_type": "markdown",
   "id": "a7a7a07a",
   "metadata": {},
   "source": [
    "# Gamma MLE Simulation Study\n",
    "\n",
    "First, we define the negative loglikelihood function give the gamma parameters `theta` and data vector `x`."
   ]
  },
  {
   "cell_type": "code",
   "execution_count": null,
   "id": "c51f4d68",
   "metadata": {},
   "outputs": [],
   "source": [
    "import numpy as np\n",
    "from scipy.stats import gamma\n",
    "from scipy.optimize import minimize\n",
    "\n",
    "def nllk_gamma(theta, x):\n",
    "    return(- np.sum(gamma.logpdf(x, a = theta[0], scale = theta[1])))"
   ]
  },
  {
   "cell_type": "markdown",
   "id": "0d9cde9b",
   "metadata": {},
   "source": [
    "Let's test it out."
   ]
  },
  {
   "cell_type": "code",
   "execution_count": null,
   "id": "8e39efbc",
   "metadata": {},
   "outputs": [],
   "source": [
    "n = 100\n",
    "theta = [2., 2.]\n",
    "x = gamma.rvs(a = theta[0], scale = theta[1], size = n)\n",
    "\n",
    "nllk_gamma(theta, x)"
   ]
  },
  {
   "cell_type": "markdown",
   "id": "6a887596",
   "metadata": {},
   "source": [
    "Now let's write a function to find the MLE by minimizing the negative loglikelihood function."
   ]
  },
  {
   "cell_type": "code",
   "execution_count": null,
   "id": "1ad28f81",
   "metadata": {},
   "outputs": [],
   "source": [
    "def mle_gamma(x):\n",
    "    ## moment estimator as initial value\n",
    "    m = x.mean()\n",
    "    v = x.var()\n",
    "    init = np.array([m * m / v, v / m])\n",
    "    ## optimize\n",
    "    fit = minimize(\n",
    "        nllk_gamma,\n",
    "        x0  = init,\n",
    "        args = (x),\n",
    "        method = \"BFGS\")\n",
    "    mle = fit.x                         # MLE\n",
    "    se = np.sqrt(np.diag(fit.hess_inv)) # standard error\n",
    "    return mle, se"
   ]
  },
  {
   "cell_type": "markdown",
   "id": "003de421",
   "metadata": {},
   "source": [
    "Let's see if this works."
   ]
  },
  {
   "cell_type": "code",
   "execution_count": null,
   "id": "6866dce0",
   "metadata": {},
   "outputs": [],
   "source": [
    "mle, se = mle_gamma(x)"
   ]
  },
  {
   "cell_type": "code",
   "execution_count": null,
   "id": "1188187a",
   "metadata": {},
   "outputs": [],
   "source": [
    "mle"
   ]
  },
  {
   "cell_type": "code",
   "execution_count": null,
   "id": "b93614a0",
   "metadata": {},
   "outputs": [],
   "source": [
    "se"
   ]
  },
  {
   "cell_type": "markdown",
   "id": "a34f7465",
   "metadata": {},
   "source": [
    "Now we can design a simulation study with number of replications `nrep`, true parameter vector `theta`, and sample size `n`."
   ]
  },
  {
   "cell_type": "code",
   "execution_count": null,
   "id": "784a3f3e",
   "metadata": {},
   "outputs": [],
   "source": [
    "def mysim(nrep, theta, n):\n",
    "    mle = np.empty((nrep, len(theta)))\n",
    "    se  = np.empty((nrep, len(theta)))\n",
    "    for i in range(nrep):\n",
    "        x = gamma.rvs(a = theta[0], scale = theta[1], size = n)\n",
    "        mle[i,], se[i,] = mle_gamma(x)\n",
    "    return {'mle': mle, 'se': se}"
   ]
  },
  {
   "cell_type": "markdown",
   "id": "5df7c023",
   "metadata": {},
   "source": [
    "It works as expected:"
   ]
  },
  {
   "cell_type": "code",
   "execution_count": null,
   "id": "a6e63f57",
   "metadata": {},
   "outputs": [],
   "source": [
    "sim = mysim(5, theta, 100)"
   ]
  },
  {
   "cell_type": "code",
   "execution_count": null,
   "id": "e8dd16cb",
   "metadata": {},
   "outputs": [],
   "source": [
    "sim"
   ]
  },
  {
   "cell_type": "markdown",
   "id": "6ce4677a",
   "metadata": {},
   "source": [
    "To summarize the results of a simulation study, we investigate: 1) whether the mean of the estimates match the true parameters; and 2) whether the mean of the standard errors match the empirical standard errors."
   ]
  },
  {
   "cell_type": "code",
   "execution_count": null,
   "id": "7de8b601",
   "metadata": {},
   "outputs": [],
   "source": [
    "def sumsim(sim):\n",
    "    avg = sim['mle'].mean(axis = 0)\n",
    "    ase = sim['se'].mean(axis = 0)\n",
    "    ese = sim['mle'].std(axis = 0)\n",
    "    return [avg, ase, ese]"
   ]
  },
  {
   "cell_type": "code",
   "execution_count": null,
   "id": "91e99eae",
   "metadata": {},
   "outputs": [],
   "source": [
    "sumsim(sim)"
   ]
  },
  {
   "cell_type": "markdown",
   "id": "60735c9a",
   "metadata": {},
   "source": [
    "We are ready to perform a few simulation studies and summarize the results."
   ]
  },
  {
   "cell_type": "code",
   "execution_count": null,
   "id": "e21b6582",
   "metadata": {},
   "outputs": [],
   "source": [
    "nrep = 1000\n",
    "sim_50 = mysim(nrep, theta, 50)\n",
    "sumsim(sim_50)"
   ]
  },
  {
   "cell_type": "code",
   "execution_count": null,
   "id": "e5def6e3",
   "metadata": {},
   "outputs": [],
   "source": [
    "sim_100 = mysim(nrep, theta, 100)\n",
    "sumsim(sim_100)"
   ]
  },
  {
   "cell_type": "code",
   "execution_count": null,
   "id": "a4710bdc",
   "metadata": {},
   "outputs": [],
   "source": [
    "sim_200 = mysim(nrep, theta, 200)\n",
    "sumsim(sim_200)"
   ]
  },
  {
   "cell_type": "markdown",
   "id": "fc6ac557",
   "metadata": {},
   "source": [
    "The results suggest that the MLEs recover the true parameter values and that the standard errors of the MLEs mathch their empirical standard errors. The agreement improves as sample size increases."
   ]
  },
  {
   "cell_type": "code",
   "execution_count": null,
   "id": "d4d60cf9",
   "metadata": {},
   "outputs": [],
   "source": []
  }
 ],
 "metadata": {
  "jupytext": {
   "text_representation": {
    "extension": ".md",
    "format_name": "myst",
    "format_version": 0.13,
    "jupytext_version": "1.10.3"
   }
  },
  "kernelspec": {
   "display_name": "Python 3 (ipykernel)",
   "language": "python",
   "name": "python3"
  },
  "source_map": [
   12,
   18,
   25,
   29,
   35,
   39,
   54,
   58,
   62,
   66,
   68,
   72,
   80,
   84,
   88,
   90,
   94,
   102,
   104,
   108,
   114,
   119,
   122,
   126
  ]
 },
 "nbformat": 4,
 "nbformat_minor": 5
}