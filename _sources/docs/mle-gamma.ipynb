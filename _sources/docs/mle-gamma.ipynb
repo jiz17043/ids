{
 "cells": [
  {
   "cell_type": "markdown",
   "id": "29c5ad21",
   "metadata": {},
   "source": [
    "# Gamma MLE Simulation Study\n",
    "\n",
    "First, we define the negative loglikelihood function give the gamma parameters `theta` and data vector `x`."
   ]
  },
  {
   "cell_type": "code",
   "execution_count": null,
   "id": "d6a7ebd3",
   "metadata": {},
   "outputs": [],
   "source": [
    "import numpy as np\n",
    "from scipy.stats import gamma\n",
    "from scipy.optimize import minimize\n",
    "\n",
    "def nllk_gamma(theta, x):\n",
    "    return(- np.sum(gamma.logpdf(x, a = theta[0], scale = theta[1])))"
   ]
  },
  {
   "cell_type": "markdown",
   "id": "1bbd9e0e",
   "metadata": {},
   "source": [
    "Let's test it out."
   ]
  },
  {
   "cell_type": "code",
   "execution_count": null,
   "id": "f81cc50b",
   "metadata": {},
   "outputs": [],
   "source": [
    "n = 100\n",
    "theta = [2., 2.]\n",
    "x = gamma.rvs(a = theta[0], scale = theta[1], size = n)\n",
    "\n",
    "nllk_gamma(theta, x)"
   ]
  },
  {
   "cell_type": "markdown",
   "id": "ec9b2196",
   "metadata": {},
   "source": [
    "Now let's write a function to find the MLE by minimizing the negative loglikelihood function."
   ]
  },
  {
   "cell_type": "code",
   "execution_count": null,
   "id": "3bdbf0c3",
   "metadata": {},
   "outputs": [],
   "source": [
    "def mle_gamma(x):\n",
    "    ## moment estimator as initial value\n",
    "    m = x.mean()\n",
    "    v = x.var()\n",
    "    init = np.array([m * m / v, v / m])\n",
    "    ## optimize\n",
    "    fit = minimize(\n",
    "        nllk_gamma,\n",
    "        x0  = init,\n",
    "        args = (x),\n",
    "        method = \"BFGS\")\n",
    "    mle = fit.x                         # MLE\n",
    "    se = np.sqrt(np.diag(fit.hess_inv)) # standard error\n",
    "    return mle, se"
   ]
  },
  {
   "cell_type": "markdown",
   "id": "c68cee03",
   "metadata": {},
   "source": [
    "Let's see if this works."
   ]
  },
  {
   "cell_type": "code",
   "execution_count": null,
   "id": "94635bb1",
   "metadata": {},
   "outputs": [],
   "source": [
    "mle, se = mle_gamma(x)"
   ]
  },
  {
   "cell_type": "code",
   "execution_count": null,
   "id": "399fabc2",
   "metadata": {},
   "outputs": [],
   "source": [
    "mle"
   ]
  },
  {
   "cell_type": "code",
   "execution_count": null,
   "id": "72eae830",
   "metadata": {},
   "outputs": [],
   "source": [
    "se"
   ]
  },
  {
   "cell_type": "markdown",
   "id": "a18a875c",
   "metadata": {},
   "source": [
    "Now we can design a simulation study with number of replications `nrep`, true parameter vector `theta`, and sample size `n`."
   ]
  },
  {
   "cell_type": "code",
   "execution_count": null,
   "id": "f3d931cc",
   "metadata": {},
   "outputs": [],
   "source": [
    "def mysim(nrep, theta, n):\n",
    "    mle = np.empty((nrep, len(theta)))\n",
    "    se  = np.empty((nrep, len(theta)))\n",
    "    for i in range(nrep):\n",
    "        x = gamma.rvs(a = theta[0], scale = theta[1], size = n)\n",
    "        mle[i,], se[i,] = mle_gamma(x)\n",
    "    return {'mle': mle, 'se': se}"
   ]
  },
  {
   "cell_type": "markdown",
   "id": "07584d5e",
   "metadata": {},
   "source": [
    "It works as expected:"
   ]
  },
  {
   "cell_type": "code",
   "execution_count": null,
   "id": "f57c20c5",
   "metadata": {},
   "outputs": [],
   "source": [
    "sim = mysim(5, theta, 100)"
   ]
  },
  {
   "cell_type": "code",
   "execution_count": null,
   "id": "ca8aec30",
   "metadata": {},
   "outputs": [],
   "source": [
    "sim"
   ]
  },
  {
   "cell_type": "markdown",
   "id": "bb3c5c40",
   "metadata": {},
   "source": [
    "To summarize the results of a simulation study, we investigate: 1) whether the mean of the estimates match the true parameters; and 2) whether the mean of the standard errors match the empirical standard errors."
   ]
  },
  {
   "cell_type": "code",
   "execution_count": null,
   "id": "aba190e5",
   "metadata": {},
   "outputs": [],
   "source": [
    "def sumsim(sim):\n",
    "    avg = sim['mle'].mean(axis = 0)\n",
    "    ase = sim['se'].mean(axis = 0)\n",
    "    ese = sim['mle'].std(axis = 0)\n",
    "    return [avg, ase, ese]"
   ]
  },
  {
   "cell_type": "code",
   "execution_count": null,
   "id": "475f7a3e",
   "metadata": {},
   "outputs": [],
   "source": [
    "sumsim(sim)"
   ]
  },
  {
   "cell_type": "markdown",
   "id": "4baf13b7",
   "metadata": {},
   "source": [
    "We are ready to perform a few simulation studies and summarize the results."
   ]
  },
  {
   "cell_type": "code",
   "execution_count": null,
   "id": "1d269648",
   "metadata": {},
   "outputs": [],
   "source": [
    "nrep = 1000\n",
    "sim_50 = mysim(nrep, theta, 50)\n",
    "sumsim(sim_50)"
   ]
  },
  {
   "cell_type": "code",
   "execution_count": null,
   "id": "bbee7307",
   "metadata": {},
   "outputs": [],
   "source": [
    "sim_100 = mysim(nrep, theta, 100)\n",
    "sumsim(sim_100)"
   ]
  },
  {
   "cell_type": "code",
   "execution_count": null,
   "id": "03dee107",
   "metadata": {},
   "outputs": [],
   "source": [
    "sim_200 = mysim(nrep, theta, 200)\n",
    "sumsim(sim_200)"
   ]
  },
  {
   "cell_type": "markdown",
   "id": "73ad4acc",
   "metadata": {},
   "source": [
    "The results suggest that the MLEs recover the true parameter values and that the standard errors of the MLEs mathch their empirical standard errors. The agreement improves as sample size increases."
   ]
  },
  {
   "cell_type": "code",
   "execution_count": null,
   "id": "e9e5d9fe",
   "metadata": {},
   "outputs": [],
   "source": []
  }
 ],
 "metadata": {
  "jupytext": {
   "text_representation": {
    "extension": ".md",
    "format_name": "myst",
    "format_version": 0.13,
    "jupytext_version": "1.10.3"
   }
  },
  "kernelspec": {
   "display_name": "Python 3 (ipykernel)",
   "language": "python",
   "name": "python3"
  },
  "source_map": [
   12,
   18,
   25,
   29,
   35,
   39,
   54,
   58,
   62,
   66,
   68,
   72,
   80,
   84,
   88,
   90,
   94,
   102,
   104,
   108,
   114,
   119,
   122,
   126
  ]
 },
 "nbformat": 4,
 "nbformat_minor": 5
}