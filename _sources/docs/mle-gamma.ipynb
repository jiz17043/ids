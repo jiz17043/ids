{
 "cells": [
  {
   "cell_type": "markdown",
   "id": "887f775f",
   "metadata": {},
   "source": [
    "# Gamma MLE Simulation Study\n",
    "\n",
    "First, we define the negative loglikelihood function give the gamma parameters `theta` and data vector `x`."
   ]
  },
  {
   "cell_type": "code",
   "execution_count": null,
   "id": "c662d9fd",
   "metadata": {},
   "outputs": [],
   "source": [
    "import numpy as np\n",
    "from scipy.stats import gamma\n",
    "from scipy.optimize import minimize\n",
    "\n",
    "def nllk_gamma(theta, x):\n",
    "    return(- np.sum(gamma.logpdf(x, a = theta[0], scale = theta[1])))"
   ]
  },
  {
   "cell_type": "markdown",
   "id": "f24a3486",
   "metadata": {},
   "source": [
    "Let's test it out."
   ]
  },
  {
   "cell_type": "code",
   "execution_count": null,
   "id": "17279567",
   "metadata": {},
   "outputs": [],
   "source": [
    "n = 100\n",
    "theta = [2., 2.]\n",
    "x = gamma.rvs(a = theta[0], scale = theta[1], size = n)\n",
    "\n",
    "nllk_gamma(theta, x)"
   ]
  },
  {
   "cell_type": "markdown",
   "id": "1f8caf20",
   "metadata": {},
   "source": [
    "Now let's write a function to find the MLE by minimizing the negative loglikelihood function."
   ]
  },
  {
   "cell_type": "code",
   "execution_count": null,
   "id": "38b661da",
   "metadata": {},
   "outputs": [],
   "source": [
    "def mle_gamma(x):\n",
    "    ## moment estimator as initial value\n",
    "    m = x.mean()\n",
    "    v = x.var()\n",
    "    init = np.array([m * m / v, v / m])\n",
    "    ## optimize\n",
    "    fit = minimize(\n",
    "        nllk_gamma,\n",
    "        x0  = init,\n",
    "        args = (x),\n",
    "        method = \"BFGS\")\n",
    "    mle = fit.x                         # MLE\n",
    "    se = np.sqrt(np.diag(fit.hess_inv)) # standard error\n",
    "    return mle, se"
   ]
  },
  {
   "cell_type": "markdown",
   "id": "d31d896a",
   "metadata": {},
   "source": [
    "Let's see if this works."
   ]
  },
  {
   "cell_type": "code",
   "execution_count": null,
   "id": "66a122da",
   "metadata": {},
   "outputs": [],
   "source": [
    "mle, se = mle_gamma(x)"
   ]
  },
  {
   "cell_type": "code",
   "execution_count": null,
   "id": "f75d78dd",
   "metadata": {},
   "outputs": [],
   "source": [
    "mle"
   ]
  },
  {
   "cell_type": "code",
   "execution_count": null,
   "id": "4510490c",
   "metadata": {},
   "outputs": [],
   "source": [
    "se"
   ]
  },
  {
   "cell_type": "markdown",
   "id": "16640a71",
   "metadata": {},
   "source": [
    "Now we can design a simulation study with number of replications `nrep`, true parameter vector `theta`, and sample size `n`."
   ]
  },
  {
   "cell_type": "code",
   "execution_count": null,
   "id": "756c8b3d",
   "metadata": {},
   "outputs": [],
   "source": [
    "def mysim(nrep, theta, n):\n",
    "    mle = np.empty((nrep, len(theta)))\n",
    "    se  = np.empty((nrep, len(theta)))\n",
    "    for i in range(nrep):\n",
    "        x = gamma.rvs(a = theta[0], scale = theta[1], size = n)\n",
    "        mle[i,], se[i,] = mle_gamma(x)\n",
    "    return {'mle': mle, 'se': se}"
   ]
  },
  {
   "cell_type": "markdown",
   "id": "c9279df9",
   "metadata": {},
   "source": [
    "It works as expected:"
   ]
  },
  {
   "cell_type": "code",
   "execution_count": null,
   "id": "7686dfde",
   "metadata": {},
   "outputs": [],
   "source": [
    "sim = mysim(5, theta, 100)"
   ]
  },
  {
   "cell_type": "code",
   "execution_count": null,
   "id": "a320ca75",
   "metadata": {},
   "outputs": [],
   "source": [
    "sim"
   ]
  },
  {
   "cell_type": "markdown",
   "id": "f50069ba",
   "metadata": {},
   "source": [
    "To summarize the results of a simulation study, we investigate: 1) whether the mean of the estimates match the true parameters; and 2) whether the mean of the standard errors match the empirical standard errors."
   ]
  },
  {
   "cell_type": "code",
   "execution_count": null,
   "id": "85de19b6",
   "metadata": {},
   "outputs": [],
   "source": [
    "def sumsim(sim):\n",
    "    avg = sim['mle'].mean(axis = 0)\n",
    "    ase = sim['se'].mean(axis = 0)\n",
    "    ese = sim['mle'].std(axis = 0)\n",
    "    return [avg, ase, ese]"
   ]
  },
  {
   "cell_type": "code",
   "execution_count": null,
   "id": "90dc7b33",
   "metadata": {},
   "outputs": [],
   "source": [
    "sumsim(sim)"
   ]
  },
  {
   "cell_type": "markdown",
   "id": "daa97712",
   "metadata": {},
   "source": [
    "We are ready to perform a few simulation studies and summarize the results."
   ]
  },
  {
   "cell_type": "code",
   "execution_count": null,
   "id": "b66c9c48",
   "metadata": {},
   "outputs": [],
   "source": [
    "nrep = 1000\n",
    "sim_50 = mysim(nrep, theta, 50)\n",
    "sumsim(sim_50)"
   ]
  },
  {
   "cell_type": "code",
   "execution_count": null,
   "id": "3570b55b",
   "metadata": {},
   "outputs": [],
   "source": [
    "sim_100 = mysim(nrep, theta, 100)\n",
    "sumsim(sim_100)"
   ]
  },
  {
   "cell_type": "code",
   "execution_count": null,
   "id": "39abb90d",
   "metadata": {},
   "outputs": [],
   "source": [
    "sim_200 = mysim(nrep, theta, 200)\n",
    "sumsim(sim_200)"
   ]
  },
  {
   "cell_type": "markdown",
   "id": "0e97214d",
   "metadata": {},
   "source": [
    "The results suggest that the MLEs recover the true parameter values and that the standard errors of the MLEs mathch their empirical standard errors. The agreement improves as sample size increases."
   ]
  },
  {
   "cell_type": "code",
   "execution_count": null,
   "id": "4966fb14",
   "metadata": {},
   "outputs": [],
   "source": []
  }
 ],
 "metadata": {
  "jupytext": {
   "text_representation": {
    "extension": ".md",
    "format_name": "myst",
    "format_version": 0.13,
    "jupytext_version": "1.10.3"
   }
  },
  "kernelspec": {
   "display_name": "Python 3 (ipykernel)",
   "language": "python",
   "name": "python3"
  },
  "source_map": [
   12,
   18,
   25,
   29,
   35,
   39,
   54,
   58,
   62,
   66,
   68,
   72,
   80,
   84,
   88,
   90,
   94,
   102,
   104,
   108,
   114,
   119,
   122,
   126
  ]
 },
 "nbformat": 4,
 "nbformat_minor": 5
}