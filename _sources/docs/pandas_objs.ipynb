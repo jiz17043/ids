{
 "cells": [
  {
   "cell_type": "markdown",
   "id": "a26ae675",
   "metadata": {},
   "source": [
    "# Pandas\n",
    "\n",
    "## History of Pandas\n",
    "Developer Wes McKinney started working on pandas in 2008 while at AQR\n",
    "Capital Management out of the need for a high performance, flexible tool\n",
    "to perform quantitative analysis on financial data. Before leaving AQR\n",
    "he was able to convince management to allow him to open source the library."
   ]
  },
  {
   "cell_type": "code",
   "execution_count": null,
   "id": "555934f8",
   "metadata": {},
   "outputs": [],
   "source": [
    "## Installing and Checking version of Pandas:\n",
    "# !pip3 install pandas\n",
    "\n",
    "## Loading pandas\n",
    "import pandas as pd\n",
    "\n",
    "## Loading numpy as well\n",
    "import numpy as np\n",
    "\n",
    "## Pandas Version\n",
    "pd.__version__"
   ]
  },
  {
   "cell_type": "markdown",
   "id": "9ff565dd",
   "metadata": {},
   "source": [
    "Note that an easy way to find the functions in Pandas library can\n",
    "be obtained by typing in pd.<TAB> in jupyter notebook. More detailed\n",
    "documentation, along with tutorials and other resources, can be\n",
    "found at http://pandas.pydata.org/.\n",
    "\n",
    "## Pandas Objects\n",
    "\n",
    "At a basic level, Pandas objects provide an extension to numpy array\n",
    "by identifying rows, columns by labels instead of simple indices 0, 1.\n",
    "This can recollect memories to dataframes for those who used R.\n",
    "\n",
    "At first, let us start with introducing \n",
    " - `Series`\n",
    " - `DataFrame`\n",
    " - `Index`\n",
    "\n",
    "A Pandas Series is a one-dimensional array of indexed data. It can be\n",
    "created from a list or array as follows:\n",
    "\n",
    "### Series"
   ]
  },
  {
   "cell_type": "code",
   "execution_count": null,
   "id": "b8ca8e98",
   "metadata": {},
   "outputs": [],
   "source": [
    "data = pd.Series([0.25, 0.5, 0.75, 1.0])\n",
    "data"
   ]
  },
  {
   "cell_type": "markdown",
   "id": "d477155e",
   "metadata": {},
   "source": [
    "As can be seen above, it is a numpy array but with index `0-3`"
   ]
  },
  {
   "cell_type": "code",
   "execution_count": null,
   "id": "529b1dfc",
   "metadata": {},
   "outputs": [],
   "source": [
    "data.values"
   ]
  },
  {
   "cell_type": "code",
   "execution_count": null,
   "id": "11427b9e",
   "metadata": {},
   "outputs": [],
   "source": [
    "data.index"
   ]
  },
  {
   "cell_type": "code",
   "execution_count": null,
   "id": "44937586",
   "metadata": {},
   "outputs": [],
   "source": [
    "print(f\"data value at index 1 is {data[1]}\")    ## f string in python.\n",
    "data[0:3]  "
   ]
  },
  {
   "cell_type": "code",
   "execution_count": null,
   "id": "256960fd",
   "metadata": {},
   "outputs": [],
   "source": [
    "data = pd.Series([0.25, 0.5, 0.75, 1.0],\n",
    " index=['a', 'b', 'c', 'd'])\n",
    "\n",
    "data['b']"
   ]
  },
  {
   "cell_type": "markdown",
   "id": "f43985b8",
   "metadata": {},
   "source": [
    "#### Series as Dictionary\n",
    "\n",
    "Quick to note that series may also resemble dictionary due to its index\n",
    "seemingly resembling keys in dictionary. This was clarified by creating\n",
    "a pandas series using a dictionary."
   ]
  },
  {
   "cell_type": "code",
   "execution_count": null,
   "id": "f56fabe3",
   "metadata": {},
   "outputs": [],
   "source": [
    "population_dict = {'California': 38332521,\n",
    " 'Texas': 26448193,\n",
    " 'New York': 19651127,\n",
    " 'Florida': 19552860,\n",
    " 'Illinois': 12882135}\n",
    "population = pd.Series(population_dict)\n",
    "\n",
    "print(f\"Dictionary way: {population_dict['Texas']}\")\n",
    "print(f\"PD Series way: {population['Texas']}\")"
   ]
  },
  {
   "cell_type": "markdown",
   "id": "a1418c40",
   "metadata": {},
   "source": [
    "Difference however is that, the indices can still be used to get a\n",
    "range of values from PD Series by doing slicing and so on, \n",
    "while it is not the same in a dictionary"
   ]
  },
  {
   "cell_type": "code",
   "execution_count": null,
   "id": "7c1b0776",
   "metadata": {},
   "outputs": [],
   "source": [
    "population['California':'Florida']"
   ]
  },
  {
   "cell_type": "code",
   "execution_count": null,
   "id": "c93af379",
   "metadata": {},
   "outputs": [],
   "source": [
    "try: \n",
    "    print(population_dict['California':'Florida'])\n",
    "except:\n",
    "    print(f\"Failure to do Slicing\")"
   ]
  },
  {
   "cell_type": "markdown",
   "id": "f6d91de5",
   "metadata": {},
   "source": [
    "- For a list or a numpy array, index defaults to integer sequence\n",
    "- Can also be a dictionary in which case, key becomes index\n",
    "- In all cases, it can be explicitly specified too. \n",
    "- Also, one can identify only a set of keys to be considered,\n",
    "  like a set of stocks or so on.\n",
    "  \n",
    "These above points are exemplified below:"
   ]
  },
  {
   "cell_type": "code",
   "execution_count": null,
   "id": "00cc80be",
   "metadata": {},
   "outputs": [],
   "source": [
    "## From a list\n",
    "pd.Series([2, 4, 6])"
   ]
  },
  {
   "cell_type": "code",
   "execution_count": null,
   "id": "57ddf56c",
   "metadata": {},
   "outputs": [],
   "source": [
    "## Repeating numbers when index set is longer than data\n",
    "pd.Series(5, index = [1, 2, 3])"
   ]
  },
  {
   "cell_type": "code",
   "execution_count": null,
   "id": "4abd1b80",
   "metadata": {},
   "outputs": [],
   "source": [
    "# This uses dictionary but also indexes a smaller set \n",
    "pd.Series({2:'a', 1:'b', 3:'c'}, index=[3, 2]) "
   ]
  },
  {
   "cell_type": "markdown",
   "id": "018f5a10",
   "metadata": {},
   "source": [
    "### DataFrames\n",
    "\n",
    "If a Series is an analog of a one-dimensional array with flexible indices, a DataFrame\n",
    "is an analog of a two-dimensional array with both flexible row indices and flexible\n",
    "column names. Just as you might think of a two-dimensional array as an ordered\n",
    "sequence of aligned one-dimensional columns, you can think of a DataFrame as a\n",
    "sequence of aligned Series objects. Here, by “aligned” we mean that they share the\n",
    "same index."
   ]
  },
  {
   "cell_type": "code",
   "execution_count": null,
   "id": "770a49a9",
   "metadata": {},
   "outputs": [],
   "source": [
    "area_dict = {'California': 423967, 'Texas': 695662, 'New York': 141297,\n",
    " 'Florida': 170312, 'Illinois': 149995}\n",
    "area = pd.Series(area_dict)\n",
    "\n",
    "## A dataframe is a dictionary with keys as column names and values as pd.Series\n",
    "states = pd.DataFrame({'population': population,\n",
    " 'area': area})\n",
    "\n",
    "states"
   ]
  },
  {
   "cell_type": "markdown",
   "id": "3982cda4",
   "metadata": {},
   "source": [
    "Panda dataframes can be constructed in various ways: \n",
    "\n",
    "- Using single series. \n",
    "    ```\n",
    "    pd.DataFrame(population, columns = ['population'])\n",
    "    ```\n",
    "- From a list of dicts\n",
    "    ```\n",
    "    data = [{'a':i, 'b':2*i} for i in range(3)]\n",
    "    pd.DataFrame(data)\n",
    "    ```\n",
    "-  From a dictionary of Series objects\n",
    "    This was shown above.\n",
    "- From a two-dimensional numpy array.\n",
    "    ```\n",
    "    pd.DataFrame(np.random.rand(3,2), \n",
    "    columns = ['foo', 'bar'], index = ['a', 'b', 'c'])\n",
    "    ```\n",
    "\n",
    "## Pandas Index:\n",
    "\n",
    "- Pandas index is an immutable array. It is like an array in many ways\n",
    "  but cannot be modified unlike numpy arrays."
   ]
  },
  {
   "cell_type": "code",
   "execution_count": null,
   "id": "b2e71b6e",
   "metadata": {},
   "outputs": [],
   "source": [
    "ind = pd.Index([2, 3, 5, 7, 11])\n",
    "ind"
   ]
  },
  {
   "cell_type": "code",
   "execution_count": null,
   "id": "0b8944be",
   "metadata": {},
   "outputs": [],
   "source": [
    "## Accessing index\n",
    "print(ind[1])\n",
    "print(ind[::2])  ## notice the difference between a single : and double ::\n",
    "print(ind[:2])"
   ]
  },
  {
   "cell_type": "code",
   "execution_count": null,
   "id": "6cd53d25",
   "metadata": {},
   "outputs": [],
   "source": [
    "try:\n",
    "    ind[1] = 0\n",
    "except:\n",
    "    \"Error found\""
   ]
  },
  {
   "cell_type": "code",
   "execution_count": null,
   "id": "2e24406b",
   "metadata": {},
   "outputs": [],
   "source": [
    "indA =  pd.Index([1,3, 5, 7, 9])\n",
    "indB = pd.Index([2,3, 5, 7, 11])\n",
    "\n",
    "indC = indA.intersection(indB)  #intersection\n",
    "indC"
   ]
  },
  {
   "cell_type": "code",
   "execution_count": null,
   "id": "1b7969c3",
   "metadata": {},
   "outputs": [],
   "source": [
    "## deprecated warnings\n",
    "indC = indA.union(indB)\n",
    "indC"
   ]
  },
  {
   "cell_type": "markdown",
   "id": "ea4ceedb",
   "metadata": {},
   "source": [
    "## Data Indexing and Selection:"
   ]
  },
  {
   "cell_type": "code",
   "execution_count": null,
   "id": "49bd8312",
   "metadata": {},
   "outputs": [],
   "source": [
    "data = pd.Series([0.25, 0.5, 0.75, 1.0],\n",
    "index=['a', 'b', 'c', 'd'])\n",
    "data"
   ]
  },
  {
   "cell_type": "code",
   "execution_count": null,
   "id": "9d49c6ca",
   "metadata": {},
   "outputs": [],
   "source": [
    "data['b']     ## accessing the b index location"
   ]
  },
  {
   "cell_type": "code",
   "execution_count": null,
   "id": "98d20bd4",
   "metadata": {},
   "outputs": [],
   "source": [
    "data.keys()     ## also gives the index object"
   ]
  },
  {
   "cell_type": "code",
   "execution_count": null,
   "id": "10a2acb5",
   "metadata": {},
   "outputs": [],
   "source": [
    "list(data.items())   ## gives both keys and values"
   ]
  },
  {
   "cell_type": "markdown",
   "id": "bd3d58d1",
   "metadata": {},
   "source": [
    "The following mutability of the objects is a convenient feature: under\n",
    "the hood, Pandas is making decisions about memory layout and data\n",
    "copying that might need to take place; the user generally does not\n",
    "need to worry about these issues."
   ]
  },
  {
   "cell_type": "code",
   "execution_count": null,
   "id": "0c4837a2",
   "metadata": {},
   "outputs": [],
   "source": [
    "data['e'] = 1.25\n",
    "data"
   ]
  },
  {
   "cell_type": "code",
   "execution_count": null,
   "id": "b093f9c6",
   "metadata": {},
   "outputs": [],
   "source": [
    "print(\"slicing by explicit index\")\n",
    "print(data['a':'c'])\n",
    "\n",
    "print(\"slicing by implicit integer index\")\n",
    "print(data[0:2])\n",
    "\n",
    "print(\"masking (paranthesis have a lot of importance)\")\n",
    "print(data[(data > 0.3) & (data < 0.8)])\n",
    "\n",
    "print(\"fancy indexing\")\n",
    "print(data[['a','e']])\n",
    "\n",
    "## remember when you are accessing like a list \":\" won't work"
   ]
  },
  {
   "cell_type": "markdown",
   "id": "2d620d0d",
   "metadata": {},
   "source": [
    "## Indexers, loc, iloc, ix\n",
    "\n",
    "**Note** These slicing and indexing conventions can be a source of\n",
    "confusion. For example, if your Series has an explicit integer index,\n",
    "an indexing operation such as `data[1]` will use the explicit indices,\n",
    "while a slicing operation like `data[1:3]` will use the implicit\n",
    "Python-style index."
   ]
  },
  {
   "cell_type": "code",
   "execution_count": null,
   "id": "2d73b232",
   "metadata": {},
   "outputs": [],
   "source": [
    "data = pd.Series(['a', 'b', 'c'], index=[1, 3, 5])\n",
    "data[3]"
   ]
  },
  {
   "cell_type": "code",
   "execution_count": null,
   "id": "57337a09",
   "metadata": {},
   "outputs": [],
   "source": [
    "data[1:3]"
   ]
  },
  {
   "cell_type": "code",
   "execution_count": null,
   "id": "f3c2b679",
   "metadata": {},
   "outputs": [],
   "source": [
    "## thus 'loc' always slices using explicit index\n",
    "print(data.loc[1])\n",
    "print(data.loc[1:3])\n",
    "\n",
    "# does show the value in index 3"
   ]
  },
  {
   "cell_type": "code",
   "execution_count": null,
   "id": "c7ec0231",
   "metadata": {},
   "outputs": [],
   "source": [
    "# and 'iloc' uses implicit python index\n",
    "print(data.iloc[1])\n",
    "print(data.iloc[1:3])\n",
    "\n",
    "## doesn't show the valuee in location 3"
   ]
  },
  {
   "cell_type": "markdown",
   "id": "5396d468",
   "metadata": {},
   "source": [
    "## Data Selection in Dataframe"
   ]
  },
  {
   "cell_type": "code",
   "execution_count": null,
   "id": "94c37f88",
   "metadata": {},
   "outputs": [],
   "source": [
    "area = pd.Series({'California': 423967, 'Texas': 695662,\n",
    "'New York': 141297, 'Florida': 170312,\n",
    "'Illinois': 149995})\n",
    "pop = pd.Series({'California': 38332521, 'Texas': 26448193,\n",
    "'New York': 19651127, 'Florida': 19552860,\n",
    "'Illinois': 12882135})\n",
    "data = pd.DataFrame({'area':area, 'pop':pop})\n",
    "data"
   ]
  },
  {
   "cell_type": "code",
   "execution_count": null,
   "id": "5c6695a9",
   "metadata": {},
   "outputs": [],
   "source": [
    "print(data['area'])\n",
    "print(data.area)\n",
    "\n",
    "print(data.area is data['area'])\n",
    "## wont work if area is also a special command for dataframes"
   ]
  },
  {
   "cell_type": "code",
   "execution_count": null,
   "id": "362f10ae",
   "metadata": {},
   "outputs": [],
   "source": [
    "print(data.pop is data['pop'])\n",
    "print(data.pop)"
   ]
  },
  {
   "cell_type": "code",
   "execution_count": null,
   "id": "65eafaa2",
   "metadata": {},
   "outputs": [],
   "source": [
    "data['density'] =  data['pop']/data['area']\n",
    "data"
   ]
  },
  {
   "cell_type": "markdown",
   "id": "0fe16aa2",
   "metadata": {},
   "source": [
    "## DataFrame as two-dimensional array\n",
    "\n",
    "As mentioned previously, we can also view the DataFrame as an enhanced\n",
    "twodimensional array. We can examine the raw underlying data array\n",
    "using the values attribute:"
   ]
  },
  {
   "cell_type": "code",
   "execution_count": null,
   "id": "2e2482be",
   "metadata": {},
   "outputs": [],
   "source": [
    "data.values"
   ]
  },
  {
   "cell_type": "code",
   "execution_count": null,
   "id": "5b620448",
   "metadata": {},
   "outputs": [],
   "source": [
    "data.T    ## for Transpose"
   ]
  },
  {
   "cell_type": "code",
   "execution_count": null,
   "id": "2e1a07de",
   "metadata": {},
   "outputs": [],
   "source": [
    "data.values[0]  ## accesses a row (like a dictionary)"
   ]
  },
  {
   "cell_type": "code",
   "execution_count": null,
   "id": "bd1f8187",
   "metadata": {},
   "outputs": [],
   "source": [
    "data.iloc[:3, :2]"
   ]
  },
  {
   "cell_type": "code",
   "execution_count": null,
   "id": "42d8ea62",
   "metadata": {},
   "outputs": [],
   "source": [
    "data.loc[:'Florida', :'pop']"
   ]
  },
  {
   "cell_type": "code",
   "execution_count": null,
   "id": "875a6ef3",
   "metadata": {},
   "outputs": [],
   "source": [
    "data.loc[data.density > 100, ['pop', 'density']]"
   ]
  },
  {
   "cell_type": "markdown",
   "id": "bf903530",
   "metadata": {},
   "source": [
    "## Operating on Data in Pandas\n",
    "\n",
    "Pandas inherits much of this functionality from NumPy, and the ufuncs\n",
    "that we introduced in “Computation on NumPy Arrays: Universal\n",
    "Functions”on page 50 are key to this.\n",
    "\n",
    "## Ufuncs: Index Preservation"
   ]
  },
  {
   "cell_type": "code",
   "execution_count": null,
   "id": "2f74b47f",
   "metadata": {},
   "outputs": [],
   "source": [
    "rng = np.random.RandomState(42)\n",
    "ser = pd.Series(rng.randint(0, 10, 4))\n",
    "print(ser)\n",
    "\n",
    "df = pd.DataFrame(rng.randint(0, 10, (3, 4)),\n",
    "columns=['A', 'B', 'C', 'D'])\n",
    "print(df)"
   ]
  },
  {
   "cell_type": "markdown",
   "id": "e5b05cd2",
   "metadata": {},
   "source": [
    "If we apply a NumPy ufunc on either of these objects, the result will\n",
    "be another Pandas object with the indices preserved:"
   ]
  },
  {
   "cell_type": "code",
   "execution_count": null,
   "id": "75589716",
   "metadata": {},
   "outputs": [],
   "source": [
    "np.exp(ser)"
   ]
  },
  {
   "cell_type": "code",
   "execution_count": null,
   "id": "2dfe1043",
   "metadata": {},
   "outputs": [],
   "source": [
    "np.sin(df*np.pi/4)"
   ]
  },
  {
   "cell_type": "markdown",
   "id": "68f86fa7",
   "metadata": {},
   "source": [
    "## UFuncs: Index Alignment"
   ]
  },
  {
   "cell_type": "code",
   "execution_count": null,
   "id": "9b649c5c",
   "metadata": {},
   "outputs": [],
   "source": [
    "area = pd.Series({'Alaska': 1723337, 'Texas': 695662,\n",
    "'California': 423967}, name='area')\n",
    "population = pd.Series({'California': 38332521, 'Texas': 26448193,\n",
    "'New York': 19651127}, name='population')\n",
    "\n",
    "print(population / area)\n",
    "\n",
    "print(population.divide(area, fill_value=0))"
   ]
  },
  {
   "cell_type": "markdown",
   "id": "715d665a",
   "metadata": {},
   "source": [
    "## Exercises\n",
    "\n",
    "1. Posters submitted to the 2021 UConn Sports Analytics Symposium were\n",
    "   collected at a website. After the deadline, two files were\n",
    "   generated: `ucsas2021_poster.csv` contains the poster submitter's\n",
    "   information including their names, emails, titles, and abstracts;\n",
    "   `ucsas2021_pdf.csv` contains the file name of the pdf posters. To\n",
    "   facilitate the virtual poster session, a group of UConn student\n",
    "   volunteers signed up to set up virtual webex meetings. The Google\n",
    "   spreadsheet `ucsas2021_volunteers.csv` contains a webex link for\n",
    "   each poster presenter. Write a script to process the three input\n",
    "   files to generate an output markdown file that gives a virtual\n",
    "   directory of the poster session like <https://statds.org/events/ucsas2021/poster_directory.html>."
   ]
  }
 ],
 "metadata": {
  "jupytext": {
   "text_representation": {
    "extension": ".md",
    "format_name": "myst",
    "format_version": 0.13,
    "jupytext_version": "1.10.3"
   }
  },
  "kernelspec": {
   "display_name": "Python 3 (ipykernel)",
   "language": "python",
   "name": "python3"
  },
  "source_map": [
   12,
   22,
   34,
   57,
   60,
   64,
   68,
   72,
   77,
   82,
   90,
   100,
   106,
   110,
   115,
   125,
   130,
   135,
   138,
   149,
   159,
   185,
   190,
   197,
   204,
   212,
   216,
   220,
   226,
   230,
   234,
   236,
   243,
   248,
   262,
   272,
   277,
   281,
   289,
   295,
   299,
   310,
   318,
   323,
   326,
   334,
   338,
   342,
   346,
   350,
   354,
   356,
   366,
   374,
   379,
   383,
   385,
   389,
   398
  ]
 },
 "nbformat": 4,
 "nbformat_minor": 5
}