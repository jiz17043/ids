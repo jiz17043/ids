{
 "cells": [
  {
   "cell_type": "markdown",
   "id": "930fbe9b",
   "metadata": {},
   "source": [
    "# Pandas\n",
    "\n",
    "## History of Pandas\n",
    "Developer Wes McKinney started working on pandas in 2008 while at AQR\n",
    "Capital Management out of the need for a high performance, flexible tool\n",
    "to perform quantitative analysis on financial data. Before leaving AQR\n",
    "he was able to convince management to allow him to open source the library."
   ]
  },
  {
   "cell_type": "code",
   "execution_count": null,
   "id": "2c52c03b",
   "metadata": {},
   "outputs": [],
   "source": [
    "## Installing and Checking version of Pandas:\n",
    "# !pip3 install pandas\n",
    "\n",
    "## Loading pandas\n",
    "import pandas as pd\n",
    "\n",
    "## Loading numpy as well\n",
    "import numpy as np\n",
    "\n",
    "## Pandas Version\n",
    "pd.__version__"
   ]
  },
  {
   "cell_type": "markdown",
   "id": "021b4a41",
   "metadata": {},
   "source": [
    "Note that an easy way to find the functions in Pandas library can\n",
    "be obtained by typing in pd.<TAB> in jupyter notebook. More detailed\n",
    "documentation, along with tutorials and other resources, can be\n",
    "found at http://pandas.pydata.org/.\n",
    "\n",
    "## Pandas Objects\n",
    "\n",
    "At a basic level, Pandas objects provide an extension to numpy array\n",
    "by identifying rows, columns by labels instead of simple indices 0, 1.\n",
    "This can recollect memories to dataframes for those who used R.\n",
    "\n",
    "At first, let us start with introducing \n",
    " - `Series`\n",
    " - `DataFrame`\n",
    " - `Index`\n",
    "\n",
    "A Pandas Series is a one-dimensional array of indexed data. It can be\n",
    "created from a list or array as follows:\n",
    "\n",
    "### Series"
   ]
  },
  {
   "cell_type": "code",
   "execution_count": null,
   "id": "328d6698",
   "metadata": {},
   "outputs": [],
   "source": [
    "data = pd.Series([0.25, 0.5, 0.75, 1.0])\n",
    "data"
   ]
  },
  {
   "cell_type": "markdown",
   "id": "ab4a659d",
   "metadata": {},
   "source": [
    "As can be seen above, it is a numpy array but with index `0-3`"
   ]
  },
  {
   "cell_type": "code",
   "execution_count": null,
   "id": "54d210f9",
   "metadata": {},
   "outputs": [],
   "source": [
    "data.values"
   ]
  },
  {
   "cell_type": "code",
   "execution_count": null,
   "id": "ac5b46da",
   "metadata": {},
   "outputs": [],
   "source": [
    "data.index"
   ]
  },
  {
   "cell_type": "code",
   "execution_count": null,
   "id": "740c2396",
   "metadata": {},
   "outputs": [],
   "source": [
    "print(f\"data value at index 1 is {data[1]}\")    ## f string in python.\n",
    "data[0:3]  "
   ]
  },
  {
   "cell_type": "code",
   "execution_count": null,
   "id": "6bd21409",
   "metadata": {},
   "outputs": [],
   "source": [
    "data = pd.Series([0.25, 0.5, 0.75, 1.0],\n",
    " index=['a', 'b', 'c', 'd'])\n",
    "\n",
    "data['b']"
   ]
  },
  {
   "cell_type": "markdown",
   "id": "26c549c6",
   "metadata": {},
   "source": [
    "#### Series as Dictionary\n",
    "\n",
    "Quick to note that series may also resemble dictionary due to its index\n",
    "seemingly resembling keys in dictionary. This was clarified by creating\n",
    "a pandas series using a dictionary."
   ]
  },
  {
   "cell_type": "code",
   "execution_count": null,
   "id": "2daae3e4",
   "metadata": {},
   "outputs": [],
   "source": [
    "population_dict = {'California': 38332521,\n",
    " 'Texas': 26448193,\n",
    " 'New York': 19651127,\n",
    " 'Florida': 19552860,\n",
    " 'Illinois': 12882135}\n",
    "population = pd.Series(population_dict)\n",
    "\n",
    "print(f\"Dictionary way: {population_dict['Texas']}\")\n",
    "print(f\"PD Series way: {population['Texas']}\")"
   ]
  },
  {
   "cell_type": "markdown",
   "id": "41ccc78b",
   "metadata": {},
   "source": [
    "Difference however is that, the indices can still be used to get a\n",
    "range of values from PD Series by doing slicing and so on, \n",
    "while it is not the same in a dictionary"
   ]
  },
  {
   "cell_type": "code",
   "execution_count": null,
   "id": "6539ef90",
   "metadata": {},
   "outputs": [],
   "source": [
    "population['California':'Florida']"
   ]
  },
  {
   "cell_type": "code",
   "execution_count": null,
   "id": "4af42554",
   "metadata": {},
   "outputs": [],
   "source": [
    "try: \n",
    "    print(population_dict['California':'Florida'])\n",
    "except:\n",
    "    print(f\"Failure to do Slicing\")"
   ]
  },
  {
   "cell_type": "markdown",
   "id": "db5376b5",
   "metadata": {},
   "source": [
    "- For a list or a numpy array, index defaults to integer sequence\n",
    "- Can also be a dictionary in which case, key becomes index\n",
    "- In all cases, it can be explicitly specified too. \n",
    "- Also, one can identify only a set of keys to be considered,\n",
    "  like a set of stocks or so on.\n",
    "  \n",
    "These above points are exemplified below:"
   ]
  },
  {
   "cell_type": "code",
   "execution_count": null,
   "id": "2ce6fa1d",
   "metadata": {},
   "outputs": [],
   "source": [
    "## From a list\n",
    "pd.Series([2, 4, 6])"
   ]
  },
  {
   "cell_type": "code",
   "execution_count": null,
   "id": "2c29dc89",
   "metadata": {},
   "outputs": [],
   "source": [
    "## Repeating numbers when index set is longer than data\n",
    "pd.Series(5, index = [1, 2, 3])"
   ]
  },
  {
   "cell_type": "code",
   "execution_count": null,
   "id": "c5148693",
   "metadata": {},
   "outputs": [],
   "source": [
    "# This uses dictionary but also indexes a smaller set \n",
    "pd.Series({2:'a', 1:'b', 3:'c'}, index=[3, 2]) "
   ]
  },
  {
   "cell_type": "markdown",
   "id": "95af6695",
   "metadata": {},
   "source": [
    "### DataFrames\n",
    "\n",
    "If a Series is an analog of a one-dimensional array with flexible indices, a DataFrame\n",
    "is an analog of a two-dimensional array with both flexible row indices and flexible\n",
    "column names. Just as you might think of a two-dimensional array as an ordered\n",
    "sequence of aligned one-dimensional columns, you can think of a DataFrame as a\n",
    "sequence of aligned Series objects. Here, by “aligned” we mean that they share the\n",
    "same index."
   ]
  },
  {
   "cell_type": "code",
   "execution_count": null,
   "id": "f1a0bad6",
   "metadata": {},
   "outputs": [],
   "source": [
    "area_dict = {'California': 423967, 'Texas': 695662, 'New York': 141297,\n",
    " 'Florida': 170312, 'Illinois': 149995}\n",
    "area = pd.Series(area_dict)\n",
    "\n",
    "## A dataframe is a dictionary with keys as column names and values as pd.Series\n",
    "states = pd.DataFrame({'population': population,\n",
    " 'area': area})\n",
    "\n",
    "states"
   ]
  },
  {
   "cell_type": "markdown",
   "id": "def8188a",
   "metadata": {},
   "source": [
    "Panda dataframes can be constructed in various ways: \n",
    "\n",
    "- Using single series. \n",
    "    ```\n",
    "    pd.DataFrame(population, columns = ['population'])\n",
    "    ```\n",
    "- From a list of dicts\n",
    "    ```\n",
    "    data = [{'a':i, 'b':2*i} for i in range(3)]\n",
    "    pd.DataFrame(data)\n",
    "    ```\n",
    "-  From a dictionary of Series objects\n",
    "    This was shown above.\n",
    "- From a two-dimensional numpy array.\n",
    "    ```\n",
    "    pd.DataFrame(np.random.rand(3,2), \n",
    "    columns = ['foo', 'bar'], index = ['a', 'b', 'c'])\n",
    "    ```\n",
    "\n",
    "## Pandas Index:\n",
    "\n",
    "- Pandas index is an immutable array. It is like an array in many ways\n",
    "  but cannot be modified unlike numpy arrays."
   ]
  },
  {
   "cell_type": "code",
   "execution_count": null,
   "id": "4446f7e1",
   "metadata": {},
   "outputs": [],
   "source": [
    "ind = pd.Index([2, 3, 5, 7, 11])\n",
    "ind"
   ]
  },
  {
   "cell_type": "code",
   "execution_count": null,
   "id": "c32bf403",
   "metadata": {},
   "outputs": [],
   "source": [
    "## Accessing index\n",
    "print(ind[1])\n",
    "print(ind[::2])  ## notice the difference between a single : and double ::\n",
    "print(ind[:2])"
   ]
  },
  {
   "cell_type": "code",
   "execution_count": null,
   "id": "02ba5a63",
   "metadata": {},
   "outputs": [],
   "source": [
    "try:\n",
    "    ind[1] = 0\n",
    "except:\n",
    "    \"Error found\""
   ]
  },
  {
   "cell_type": "code",
   "execution_count": null,
   "id": "e5fbcb6e",
   "metadata": {},
   "outputs": [],
   "source": [
    "indA =  pd.Index([1,3, 5, 7, 9])\n",
    "indB = pd.Index([2,3, 5, 7, 11])\n",
    "\n",
    "indC = indA.intersection(indB)  #intersection\n",
    "indC"
   ]
  },
  {
   "cell_type": "code",
   "execution_count": null,
   "id": "e4a5d030",
   "metadata": {},
   "outputs": [],
   "source": [
    "## deprecated warnings\n",
    "indC = indA.union(indB)\n",
    "indC"
   ]
  },
  {
   "cell_type": "markdown",
   "id": "beeaff1a",
   "metadata": {},
   "source": [
    "## Data Indexing and Selection:"
   ]
  },
  {
   "cell_type": "code",
   "execution_count": null,
   "id": "b3ff761b",
   "metadata": {},
   "outputs": [],
   "source": [
    "data = pd.Series([0.25, 0.5, 0.75, 1.0],\n",
    "index=['a', 'b', 'c', 'd'])\n",
    "data"
   ]
  },
  {
   "cell_type": "code",
   "execution_count": null,
   "id": "65a8f468",
   "metadata": {},
   "outputs": [],
   "source": [
    "data['b']     ## accessing the b index location"
   ]
  },
  {
   "cell_type": "code",
   "execution_count": null,
   "id": "5bb17c04",
   "metadata": {},
   "outputs": [],
   "source": [
    "data.keys()     ## also gives the index object"
   ]
  },
  {
   "cell_type": "code",
   "execution_count": null,
   "id": "be1ec518",
   "metadata": {},
   "outputs": [],
   "source": [
    "list(data.items())   ## gives both keys and values"
   ]
  },
  {
   "cell_type": "markdown",
   "id": "87e98444",
   "metadata": {},
   "source": [
    "The following mutability of the objects is a convenient feature: under\n",
    "the hood, Pandas is making decisions about memory layout and data\n",
    "copying that might need to take place; the user generally does not\n",
    "need to worry about these issues."
   ]
  },
  {
   "cell_type": "code",
   "execution_count": null,
   "id": "ee5c7861",
   "metadata": {},
   "outputs": [],
   "source": [
    "data['e'] = 1.25\n",
    "data"
   ]
  },
  {
   "cell_type": "code",
   "execution_count": null,
   "id": "69dd1bda",
   "metadata": {},
   "outputs": [],
   "source": [
    "print(\"slicing by explicit index\")\n",
    "print(data['a':'c'])\n",
    "\n",
    "print(\"slicing by implicit integer index\")\n",
    "print(data[0:2])\n",
    "\n",
    "print(\"masking (paranthesis have a lot of importance)\")\n",
    "print(data[(data > 0.3) & (data < 0.8)])\n",
    "\n",
    "print(\"fancy indexing\")\n",
    "print(data[['a','e']])\n",
    "\n",
    "## remember when you are accessing like a list \":\" won't work"
   ]
  },
  {
   "cell_type": "markdown",
   "id": "319aed15",
   "metadata": {},
   "source": [
    "## Indexers, loc, iloc, ix\n",
    "\n",
    "**Note** These slicing and indexing conventions can be a source of\n",
    "confusion. For example, if your Series has an explicit integer index,\n",
    "an indexing operation such as `data[1]` will use the explicit indices,\n",
    "while a slicing operation like `data[1:3]` will use the implicit\n",
    "Python-style index."
   ]
  },
  {
   "cell_type": "code",
   "execution_count": null,
   "id": "54d0feb0",
   "metadata": {},
   "outputs": [],
   "source": [
    "data = pd.Series(['a', 'b', 'c'], index=[1, 3, 5])\n",
    "data[3]"
   ]
  },
  {
   "cell_type": "code",
   "execution_count": null,
   "id": "612b16af",
   "metadata": {},
   "outputs": [],
   "source": [
    "data[1:3]"
   ]
  },
  {
   "cell_type": "code",
   "execution_count": null,
   "id": "4cc56750",
   "metadata": {},
   "outputs": [],
   "source": [
    "## thus 'loc' always slices using explicit index\n",
    "print(data.loc[1])\n",
    "print(data.loc[1:3])\n",
    "\n",
    "# does show the value in index 3"
   ]
  },
  {
   "cell_type": "code",
   "execution_count": null,
   "id": "54a46824",
   "metadata": {},
   "outputs": [],
   "source": [
    "# and 'iloc' uses implicit python index\n",
    "print(data.iloc[1])\n",
    "print(data.iloc[1:3])\n",
    "\n",
    "## doesn't show the valuee in location 3"
   ]
  },
  {
   "cell_type": "markdown",
   "id": "372b47c3",
   "metadata": {},
   "source": [
    "## Data Selection in Dataframe"
   ]
  },
  {
   "cell_type": "code",
   "execution_count": null,
   "id": "94bf83c9",
   "metadata": {},
   "outputs": [],
   "source": [
    "area = pd.Series({'California': 423967, 'Texas': 695662,\n",
    "'New York': 141297, 'Florida': 170312,\n",
    "'Illinois': 149995})\n",
    "pop = pd.Series({'California': 38332521, 'Texas': 26448193,\n",
    "'New York': 19651127, 'Florida': 19552860,\n",
    "'Illinois': 12882135})\n",
    "data = pd.DataFrame({'area':area, 'pop':pop})\n",
    "data"
   ]
  },
  {
   "cell_type": "code",
   "execution_count": null,
   "id": "c1088851",
   "metadata": {},
   "outputs": [],
   "source": [
    "print(data['area'])\n",
    "print(data.area)\n",
    "\n",
    "print(data.area is data['area'])\n",
    "## wont work if area is also a special command for dataframes"
   ]
  },
  {
   "cell_type": "code",
   "execution_count": null,
   "id": "6ca49b20",
   "metadata": {},
   "outputs": [],
   "source": [
    "print(data.pop is data['pop'])\n",
    "print(data.pop)"
   ]
  },
  {
   "cell_type": "code",
   "execution_count": null,
   "id": "cb5d88c4",
   "metadata": {},
   "outputs": [],
   "source": [
    "data['density'] =  data['pop']/data['area']\n",
    "data"
   ]
  },
  {
   "cell_type": "markdown",
   "id": "142cc1fe",
   "metadata": {},
   "source": [
    "## DataFrame as two-dimensional array\n",
    "\n",
    "As mentioned previously, we can also view the DataFrame as an enhanced\n",
    "twodimensional array. We can examine the raw underlying data array\n",
    "using the values attribute:"
   ]
  },
  {
   "cell_type": "code",
   "execution_count": null,
   "id": "a0186bc9",
   "metadata": {},
   "outputs": [],
   "source": [
    "data.values"
   ]
  },
  {
   "cell_type": "code",
   "execution_count": null,
   "id": "3bfe2893",
   "metadata": {},
   "outputs": [],
   "source": [
    "data.T    ## for Transpose"
   ]
  },
  {
   "cell_type": "code",
   "execution_count": null,
   "id": "ca6644fc",
   "metadata": {},
   "outputs": [],
   "source": [
    "data.values[0]  ## accesses a row (like a dictionary)"
   ]
  },
  {
   "cell_type": "code",
   "execution_count": null,
   "id": "04f0a5a2",
   "metadata": {},
   "outputs": [],
   "source": [
    "data.iloc[:3, :2]"
   ]
  },
  {
   "cell_type": "code",
   "execution_count": null,
   "id": "36e4204d",
   "metadata": {},
   "outputs": [],
   "source": [
    "data.loc[:'Florida', :'pop']"
   ]
  },
  {
   "cell_type": "code",
   "execution_count": null,
   "id": "139f5cef",
   "metadata": {},
   "outputs": [],
   "source": [
    "data.loc[data.density > 100, ['pop', 'density']]"
   ]
  },
  {
   "cell_type": "markdown",
   "id": "1b6ca046",
   "metadata": {},
   "source": [
    "## Operating on Data in Pandas\n",
    "\n",
    "Pandas inherits much of this functionality from NumPy, and the ufuncs\n",
    "that we introduced in “Computation on NumPy Arrays: Universal\n",
    "Functions”on page 50 are key to this.\n",
    "\n",
    "## Ufuncs: Index Preservation"
   ]
  },
  {
   "cell_type": "code",
   "execution_count": null,
   "id": "5aab15cf",
   "metadata": {},
   "outputs": [],
   "source": [
    "rng = np.random.RandomState(42)\n",
    "ser = pd.Series(rng.randint(0, 10, 4))\n",
    "print(ser)\n",
    "\n",
    "df = pd.DataFrame(rng.randint(0, 10, (3, 4)),\n",
    "columns=['A', 'B', 'C', 'D'])\n",
    "print(df)"
   ]
  },
  {
   "cell_type": "markdown",
   "id": "52b78509",
   "metadata": {},
   "source": [
    "If we apply a NumPy ufunc on either of these objects, the result will\n",
    "be another Pandas object with the indices preserved:"
   ]
  },
  {
   "cell_type": "code",
   "execution_count": null,
   "id": "08d2a7be",
   "metadata": {},
   "outputs": [],
   "source": [
    "np.exp(ser)"
   ]
  },
  {
   "cell_type": "code",
   "execution_count": null,
   "id": "f8747a44",
   "metadata": {},
   "outputs": [],
   "source": [
    "np.sin(df*np.pi/4)"
   ]
  },
  {
   "cell_type": "markdown",
   "id": "5dedd23a",
   "metadata": {},
   "source": [
    "## UFuncs: Index Alignment"
   ]
  },
  {
   "cell_type": "code",
   "execution_count": null,
   "id": "5737bd06",
   "metadata": {},
   "outputs": [],
   "source": [
    "area = pd.Series({'Alaska': 1723337, 'Texas': 695662,\n",
    "'California': 423967}, name='area')\n",
    "population = pd.Series({'California': 38332521, 'Texas': 26448193,\n",
    "'New York': 19651127}, name='population')\n",
    "\n",
    "print(population / area)\n",
    "\n",
    "print(population.divide(area, fill_value=0))"
   ]
  },
  {
   "cell_type": "markdown",
   "id": "a6377680",
   "metadata": {},
   "source": [
    "## Exercises\n",
    "\n",
    "1. Posters submitted to the 2021 UConn Sports Analytics Symposium were\n",
    "   collected at a website. After the deadline, two files were\n",
    "   generated: `ucsas2021_poster.csv` contains the poster submitter's\n",
    "   information including their names, emails, titles, and abstracts;\n",
    "   `ucsas2021_pdf.csv` contains the file name of the pdf posters. To\n",
    "   facilitate the virtual poster session, a group of UConn student\n",
    "   volunteers signed up to set up virtual webex meetings. The Google\n",
    "   spreadsheet `ucsas2021_volunteers.csv` contains a webex link for\n",
    "   each poster presenter. Write a script to process the three input\n",
    "   files to generate an output markdown file that gives a virtual\n",
    "   directory of the poster session like <https://statds.org/events/ucsas2021/poster_directory.html>."
   ]
  }
 ],
 "metadata": {
  "jupytext": {
   "text_representation": {
    "extension": ".md",
    "format_name": "myst",
    "format_version": 0.13,
    "jupytext_version": "1.10.3"
   }
  },
  "kernelspec": {
   "display_name": "Python 3 (ipykernel)",
   "language": "python",
   "name": "python3"
  },
  "source_map": [
   12,
   22,
   34,
   57,
   60,
   64,
   68,
   72,
   77,
   82,
   90,
   100,
   106,
   110,
   115,
   125,
   130,
   135,
   138,
   149,
   159,
   185,
   190,
   197,
   204,
   212,
   216,
   220,
   226,
   230,
   234,
   236,
   243,
   248,
   262,
   272,
   277,
   281,
   289,
   295,
   299,
   310,
   318,
   323,
   326,
   334,
   338,
   342,
   346,
   350,
   354,
   356,
   366,
   374,
   379,
   383,
   385,
   389,
   398
  ]
 },
 "nbformat": 4,
 "nbformat_minor": 5
}