{
 "cells": [
  {
   "cell_type": "markdown",
   "id": "48999057",
   "metadata": {},
   "source": [
    "# Numpy\n",
    "\n",
    "By default Python does not have a concept of Arrays. And there is no inbuilt support for multidimensional arrays.\n",
    "\n",
    "Python Numpy is a library that handles multidimensional arrays with ease. It has a great collection of functions that makes it easy while working with arrays.\n",
    "\n",
    "It provides a multidimensional array object, and an assortment of routines for fast operations on arrays, including mathematical, logical, shape manipulation, sorting, selecting, I/O, discrete Fourier transforms, basic linear algebra, basic statistical operations, random simulation and much more.\n",
    "\n",
    "NumPy gives you an enormous range of fast and efficient ways of creating arrays and manipulating numerical data inside them. While a Python list can contain different data types within a single list, all of the elements in a NumPy array should be homogeneous. The mathematical operations that are meant to be performed on arrays would be extremely inefficient if the arrays weren’t homogeneous.\n",
    "\n",
    "NumPy arrays are faster and more compact than Python lists. An array consumes less memory and is convenient to use. NumPy uses much less memory to store data and it provides a mechanism of specifying the data types. \n",
    "\n",
    "The NumPy API is used extensively in **Pandas, SciPy, Matplotlib, scikit-learn, scikit-image** and most other data science and scientific Python packages."
   ]
  },
  {
   "cell_type": "markdown",
   "id": "d878ad03",
   "metadata": {},
   "source": [
    "## Array\n",
    "\n",
    "An array is a grid of values and it contains information about the raw data, how to locate an element, and how to interpret an element. \n",
    "\n",
    "The rank of the array is the number of dimensions. The shape of the array is a tuple of integers giving the size of the array along each dimension."
   ]
  },
  {
   "cell_type": "code",
   "execution_count": null,
   "id": "3e832e22",
   "metadata": {},
   "outputs": [],
   "source": [
    "## Import the Numpy package\n",
    "\n",
    "import numpy as np"
   ]
  },
  {
   "cell_type": "code",
   "execution_count": null,
   "id": "072b6a68",
   "metadata": {},
   "outputs": [],
   "source": [
    "## Create Array\n",
    "\n",
    "x = np.array([2,4,6,8])\n",
    "x"
   ]
  },
  {
   "cell_type": "code",
   "execution_count": null,
   "id": "9c39b2e2",
   "metadata": {},
   "outputs": [],
   "source": [
    "## Creating Zeroes\n",
    "\n",
    "np.zeros(3)"
   ]
  },
  {
   "cell_type": "code",
   "execution_count": null,
   "id": "ecca2624",
   "metadata": {},
   "outputs": [],
   "source": [
    "## Creating ones\n",
    "\n",
    "np.ones(5)"
   ]
  },
  {
   "cell_type": "code",
   "execution_count": null,
   "id": "a83bebea",
   "metadata": {},
   "outputs": [],
   "source": [
    "## Creating first 5 integers\n",
    "\n",
    "np.arange(5)"
   ]
  },
  {
   "cell_type": "code",
   "execution_count": null,
   "id": "71a7aaad",
   "metadata": {},
   "outputs": [],
   "source": [
    "## Creating integers based in an interval with spacing\n",
    "\n",
    "np.arange(1, 10, 3)"
   ]
  },
  {
   "cell_type": "code",
   "execution_count": null,
   "id": "784785c1",
   "metadata": {},
   "outputs": [],
   "source": [
    "## Creating an Array in a linearspace\n",
    "\n",
    "np.linspace(0, 5, num=3)"
   ]
  },
  {
   "cell_type": "code",
   "execution_count": null,
   "id": "1d224dd2",
   "metadata": {},
   "outputs": [],
   "source": [
    "## Creating an identity matrix\n",
    "np.eye(5)"
   ]
  },
  {
   "cell_type": "code",
   "execution_count": null,
   "id": "d2c28379",
   "metadata": {},
   "outputs": [],
   "source": [
    "## Sort the array\n",
    "\n",
    "ar = np.array([7,9,2,6])\n",
    "np.sort(ar)"
   ]
  },
  {
   "cell_type": "code",
   "execution_count": null,
   "id": "e00a987d",
   "metadata": {},
   "outputs": [],
   "source": [
    "## Merge arrays\n",
    "\n",
    "x=np.array([2,4,6])\n",
    "y=np.array([8,10,11])\n",
    "np.concatenate((x,y))"
   ]
  },
  {
   "cell_type": "code",
   "execution_count": null,
   "id": "65a8ee13",
   "metadata": {},
   "outputs": [],
   "source": [
    "## Reshaping an array\n",
    "\n",
    "a = np.arange(4)\n",
    "print(a)"
   ]
  },
  {
   "cell_type": "code",
   "execution_count": null,
   "id": "b0a13e78",
   "metadata": {},
   "outputs": [],
   "source": [
    "b = a.reshape(2, 2)\n",
    "print(b)"
   ]
  },
  {
   "cell_type": "code",
   "execution_count": null,
   "id": "971fcaf1",
   "metadata": {},
   "outputs": [],
   "source": [
    "## Indexing and Slicing\n",
    "\n",
    "data = np.array([1, 5, 9, 2])\n",
    "data[1]"
   ]
  },
  {
   "cell_type": "code",
   "execution_count": null,
   "id": "8e240dfb",
   "metadata": {},
   "outputs": [],
   "source": [
    "data[0:2]"
   ]
  },
  {
   "cell_type": "code",
   "execution_count": null,
   "id": "f7296ce4",
   "metadata": {},
   "outputs": [],
   "source": [
    "data[1:]"
   ]
  },
  {
   "cell_type": "code",
   "execution_count": null,
   "id": "7ffc7cc6",
   "metadata": {},
   "outputs": [],
   "source": [
    "data[::2]"
   ]
  },
  {
   "cell_type": "code",
   "execution_count": null,
   "id": "0f005239",
   "metadata": {},
   "outputs": [],
   "source": [
    "## Reverse elements in an array\n",
    "\n",
    "data[::-1] "
   ]
  },
  {
   "cell_type": "code",
   "execution_count": null,
   "id": "2db48ee4",
   "metadata": {},
   "outputs": [],
   "source": [
    "data[2::-1]"
   ]
  },
  {
   "cell_type": "code",
   "execution_count": null,
   "id": "5ae2226e",
   "metadata": {},
   "outputs": [],
   "source": [
    "a = np.array([[2, 4], [6, 8], [10, 12]])\n",
    "print(a[a < 8])"
   ]
  },
  {
   "cell_type": "code",
   "execution_count": null,
   "id": "7b7da072",
   "metadata": {},
   "outputs": [],
   "source": [
    "greater = (a >= 6)\n",
    "print(a[greater])"
   ]
  },
  {
   "cell_type": "code",
   "execution_count": null,
   "id": "f9bba165",
   "metadata": {},
   "outputs": [],
   "source": [
    "divisible_by_4 = a[a%4==0]\n",
    "print(divisible_by_4)"
   ]
  },
  {
   "cell_type": "code",
   "execution_count": null,
   "id": "09409113",
   "metadata": {},
   "outputs": [],
   "source": [
    "range = a[(a > 2) & (a < 12)]\n",
    "print(range)"
   ]
  },
  {
   "cell_type": "code",
   "execution_count": null,
   "id": "be585c49",
   "metadata": {},
   "outputs": [],
   "source": [
    "up = (a > 6) | (a == 6)\n",
    "print(a[up])"
   ]
  },
  {
   "cell_type": "code",
   "execution_count": null,
   "id": "ecb9a3a6",
   "metadata": {},
   "outputs": [],
   "source": [
    "#Stack Arrays\n",
    "a1 = np.array([[1, 2],\n",
    "               [3, 4]])\n",
    "\n",
    "a2 = np.array([[5, 6],\n",
    "               [7, 8]])\n",
    "\n",
    "np.vstack((a1, a2))"
   ]
  },
  {
   "cell_type": "markdown",
   "id": "a4dd28e8",
   "metadata": {},
   "source": [
    "Similar to function \"rbind\" in r."
   ]
  },
  {
   "cell_type": "code",
   "execution_count": null,
   "id": "ea4e4980",
   "metadata": {},
   "outputs": [],
   "source": [
    "np.hstack((a1, a2))"
   ]
  },
  {
   "cell_type": "markdown",
   "id": "338a54c8",
   "metadata": {},
   "source": [
    "Similar to function \"cbind\" in r."
   ]
  },
  {
   "cell_type": "code",
   "execution_count": null,
   "id": "6c9523a0",
   "metadata": {},
   "outputs": [],
   "source": [
    "## Split Arrays\n",
    "\n",
    "x = np.arange(4).reshape((2, 2))\n",
    "x"
   ]
  },
  {
   "cell_type": "code",
   "execution_count": null,
   "id": "d28aaa75",
   "metadata": {},
   "outputs": [],
   "source": [
    "x1, x2 = np.vsplit(x, [1])\n",
    "print(x1)\n",
    "print(x2)"
   ]
  },
  {
   "cell_type": "code",
   "execution_count": null,
   "id": "112590ff",
   "metadata": {},
   "outputs": [],
   "source": [
    "x1, x2 = np.hsplit(x, [1])\n",
    "print(x1)\n",
    "print(x2)"
   ]
  },
  {
   "cell_type": "code",
   "execution_count": null,
   "id": "7bf3555e",
   "metadata": {},
   "outputs": [],
   "source": [
    "## Array functions\n",
    "\n",
    "data = np.array([2, 4])\n",
    "ones = np.ones(2, dtype=int)\n",
    "data + ones"
   ]
  },
  {
   "cell_type": "code",
   "execution_count": null,
   "id": "54f8541b",
   "metadata": {},
   "outputs": [],
   "source": [
    "data - ones"
   ]
  },
  {
   "cell_type": "code",
   "execution_count": null,
   "id": "3a622774",
   "metadata": {},
   "outputs": [],
   "source": [
    "data * data"
   ]
  },
  {
   "cell_type": "code",
   "execution_count": null,
   "id": "160d004b",
   "metadata": {},
   "outputs": [],
   "source": [
    "data / 3"
   ]
  },
  {
   "cell_type": "code",
   "execution_count": null,
   "id": "5af1272f",
   "metadata": {},
   "outputs": [],
   "source": [
    "data//3"
   ]
  },
  {
   "cell_type": "code",
   "execution_count": null,
   "id": "c330ccc5",
   "metadata": {},
   "outputs": [],
   "source": [
    "print(\"-data = \", -data)"
   ]
  },
  {
   "cell_type": "code",
   "execution_count": null,
   "id": "5686a7ac",
   "metadata": {},
   "outputs": [],
   "source": [
    "## Power\n",
    "\n",
    "print(\"data ** 2 = \", data ** 2)"
   ]
  },
  {
   "cell_type": "code",
   "execution_count": null,
   "id": "5e57d273",
   "metadata": {},
   "outputs": [],
   "source": [
    "## Modulus\n",
    "\n",
    "print(\"data % 4 = \", data % 4)"
   ]
  },
  {
   "cell_type": "code",
   "execution_count": null,
   "id": "3a7ac2a0",
   "metadata": {},
   "outputs": [],
   "source": [
    "## Summing an Array\n",
    "\n",
    "a = np.array([2, 2, 2, 4])\n",
    "a.sum()"
   ]
  },
  {
   "cell_type": "code",
   "execution_count": null,
   "id": "80cee7b4",
   "metadata": {},
   "outputs": [],
   "source": [
    "## Summing over rows\n",
    "\n",
    "b = np.array([[0, 1], [2, 3]])\n",
    "b.sum(axis=0)"
   ]
  },
  {
   "cell_type": "code",
   "execution_count": null,
   "id": "445afd5b",
   "metadata": {},
   "outputs": [],
   "source": [
    "## Summing over Columns\n",
    "\n",
    "b.sum(axis=1)"
   ]
  },
  {
   "cell_type": "code",
   "execution_count": null,
   "id": "599351ee",
   "metadata": {},
   "outputs": [],
   "source": [
    "## Minimum \n",
    "\n",
    "b.min()"
   ]
  },
  {
   "cell_type": "code",
   "execution_count": null,
   "id": "19cd882a",
   "metadata": {},
   "outputs": [],
   "source": [
    "## Maximum\n",
    "\n",
    "b.max()"
   ]
  },
  {
   "cell_type": "code",
   "execution_count": null,
   "id": "2252b9ec",
   "metadata": {},
   "outputs": [],
   "source": [
    "b.max(axis=0)"
   ]
  },
  {
   "cell_type": "code",
   "execution_count": null,
   "id": "697ddb68",
   "metadata": {},
   "outputs": [],
   "source": [
    "b.max(axis=1)"
   ]
  },
  {
   "cell_type": "code",
   "execution_count": null,
   "id": "5ac9c048",
   "metadata": {},
   "outputs": [],
   "source": [
    "## Absolute Values\n",
    "\n",
    "x = np.array([-2, -1, 0, 3, -4])\n",
    "np.absolute(x)"
   ]
  },
  {
   "cell_type": "code",
   "execution_count": null,
   "id": "3cd324bb",
   "metadata": {},
   "outputs": [],
   "source": [
    "## Aggregates\n",
    "\n",
    "x = np.arange(1, 5)\n",
    "np.add.reduce(x)"
   ]
  },
  {
   "cell_type": "code",
   "execution_count": null,
   "id": "7316b996",
   "metadata": {},
   "outputs": [],
   "source": [
    "np.multiply.reduce(x)"
   ]
  },
  {
   "cell_type": "code",
   "execution_count": null,
   "id": "a15bbea3",
   "metadata": {},
   "outputs": [],
   "source": [
    "np.add.accumulate(x)"
   ]
  },
  {
   "cell_type": "code",
   "execution_count": null,
   "id": "d0feba60",
   "metadata": {},
   "outputs": [],
   "source": [
    "np.multiply.accumulate(x)"
   ]
  },
  {
   "cell_type": "code",
   "execution_count": null,
   "id": "6b7c46b8",
   "metadata": {},
   "outputs": [],
   "source": [
    "np.multiply.outer(x, x)"
   ]
  },
  {
   "cell_type": "code",
   "execution_count": null,
   "id": "ab8e9c16",
   "metadata": {},
   "outputs": [],
   "source": [
    "## Random number generation\n",
    "\n",
    "rng = np.random\n",
    "rng.random(3)"
   ]
  },
  {
   "cell_type": "code",
   "execution_count": null,
   "id": "f52fb8eb",
   "metadata": {},
   "outputs": [],
   "source": [
    "## Pulling unique values\n",
    "\n",
    "a = np.array([1, 1, 2, 3, 4, 5, 2, 3, 1, 4, 8, 9])\n",
    "np.unique(a)"
   ]
  },
  {
   "cell_type": "code",
   "execution_count": null,
   "id": "0a910d4d",
   "metadata": {},
   "outputs": [],
   "source": [
    "np.unique(a, return_index=True)"
   ]
  },
  {
   "cell_type": "code",
   "execution_count": null,
   "id": "7e6c70fe",
   "metadata": {},
   "outputs": [],
   "source": [
    "np.unique(a, return_counts=True)"
   ]
  },
  {
   "cell_type": "code",
   "execution_count": null,
   "id": "79848957",
   "metadata": {},
   "outputs": [],
   "source": [
    "## Transpose of a matrix\n",
    "b"
   ]
  },
  {
   "cell_type": "code",
   "execution_count": null,
   "id": "3f7dd161",
   "metadata": {},
   "outputs": [],
   "source": [
    "np.transpose(b)"
   ]
  },
  {
   "cell_type": "code",
   "execution_count": null,
   "id": "f1aa3580",
   "metadata": {},
   "outputs": [],
   "source": [
    "## Flip array\n",
    "\n",
    "x=np.arange(6)\n",
    "x"
   ]
  },
  {
   "cell_type": "code",
   "execution_count": null,
   "id": "96eec5b7",
   "metadata": {},
   "outputs": [],
   "source": [
    "np.flip(x)"
   ]
  },
  {
   "cell_type": "code",
   "execution_count": null,
   "id": "6e650f9b",
   "metadata": {},
   "outputs": [],
   "source": [
    "y=np.array([[1, 2, 3, 4], [5, 6, 7, 8], [9, 10, 11, 12]])\n",
    "np.flip(y)"
   ]
  },
  {
   "cell_type": "code",
   "execution_count": null,
   "id": "4a69042e",
   "metadata": {},
   "outputs": [],
   "source": [
    "np.flip(y, axis=0)"
   ]
  },
  {
   "cell_type": "code",
   "execution_count": null,
   "id": "a147b07e",
   "metadata": {},
   "outputs": [],
   "source": [
    "np.flip(y, axis=1)"
   ]
  },
  {
   "cell_type": "code",
   "execution_count": null,
   "id": "d4082bc6",
   "metadata": {},
   "outputs": [],
   "source": [
    "y[1]=np.flip(y[1])\n",
    "print(y)"
   ]
  },
  {
   "cell_type": "code",
   "execution_count": null,
   "id": "b96af675",
   "metadata": {},
   "outputs": [],
   "source": [
    "y[:,1] = np.flip(y[:,1])\n",
    "print(y)"
   ]
  },
  {
   "cell_type": "code",
   "execution_count": null,
   "id": "3c4f716f",
   "metadata": {},
   "outputs": [],
   "source": [
    "## Flattening an multidimensional array\n",
    "\n",
    "y=np.array([[1, 2, 3, 4], [5, 6, 7, 8], [9, 10, 11, 12]])\n",
    "y.flatten()"
   ]
  },
  {
   "cell_type": "code",
   "execution_count": null,
   "id": "16610ee7",
   "metadata": {},
   "outputs": [],
   "source": [
    "y1 = y.flatten()\n",
    "y1[0] = 99\n",
    "print(y) "
   ]
  },
  {
   "cell_type": "code",
   "execution_count": null,
   "id": "432d868e",
   "metadata": {},
   "outputs": [],
   "source": [
    "print(y1)"
   ]
  },
  {
   "cell_type": "code",
   "execution_count": null,
   "id": "a2befe10",
   "metadata": {},
   "outputs": [],
   "source": [
    "y1 = y.ravel()\n",
    "y1[0] = 99\n",
    "print(y) "
   ]
  },
  {
   "cell_type": "code",
   "execution_count": null,
   "id": "79beccaf",
   "metadata": {},
   "outputs": [],
   "source": [
    "print(y1)"
   ]
  },
  {
   "cell_type": "code",
   "execution_count": null,
   "id": "ba8a2d4e",
   "metadata": {},
   "outputs": [],
   "source": [
    "## Save and Load\n",
    "\n",
    "np.save('data', y1)"
   ]
  },
  {
   "cell_type": "code",
   "execution_count": null,
   "id": "879255ba",
   "metadata": {},
   "outputs": [],
   "source": [
    "np.load('data.npy')"
   ]
  },
  {
   "cell_type": "code",
   "execution_count": null,
   "id": "98456375",
   "metadata": {},
   "outputs": [],
   "source": [
    "#Deleting the created file\n",
    "\n",
    "import os\n",
    "\n",
    "os.remove('data.npy')"
   ]
  },
  {
   "cell_type": "code",
   "execution_count": null,
   "id": "639ac856",
   "metadata": {},
   "outputs": [],
   "source": [
    "## Save as csv\n",
    "\n",
    "np.savetxt('new_data.csv', y1)"
   ]
  },
  {
   "cell_type": "code",
   "execution_count": null,
   "id": "d31bbd93",
   "metadata": {},
   "outputs": [],
   "source": [
    "np.loadtxt('new_data.csv')"
   ]
  },
  {
   "cell_type": "code",
   "execution_count": null,
   "id": "f3e75fda",
   "metadata": {},
   "outputs": [],
   "source": [
    "#Deleting the created file\n",
    "\n",
    "os.remove('new_data.csv')"
   ]
  },
  {
   "cell_type": "code",
   "execution_count": null,
   "id": "318eff76",
   "metadata": {},
   "outputs": [],
   "source": [
    "## Copy array\n",
    "\n",
    "y2=y1.copy()\n",
    "y2"
   ]
  },
  {
   "cell_type": "code",
   "execution_count": null,
   "id": "7285cc83",
   "metadata": {},
   "outputs": [],
   "source": [
    "## Dot product\n",
    "\n",
    "a = 2\n",
    "b = 6\n",
    "np.dot(a,b)"
   ]
  },
  {
   "cell_type": "code",
   "execution_count": null,
   "id": "62c90638",
   "metadata": {},
   "outputs": [],
   "source": [
    "A = np.array([1, 2, 3, 4])\n",
    "B = np.array([5, 6, 7, 8])\n",
    "np.dot(A, B)"
   ]
  },
  {
   "cell_type": "code",
   "execution_count": null,
   "id": "ec143889",
   "metadata": {},
   "outputs": [],
   "source": [
    "A = np.array([[1, 2], [3, 4]])\n",
    "B = np.array([[5, 6], [7, 8]])\n",
    "np.dot(A, B)"
   ]
  },
  {
   "cell_type": "code",
   "execution_count": null,
   "id": "07a2f150",
   "metadata": {},
   "outputs": [],
   "source": [
    "## Cross product\n",
    "\n",
    "A = np.array([1, 2])\n",
    "B = np.array([3, 4])\n",
    "np.cross(A, B)"
   ]
  },
  {
   "cell_type": "code",
   "execution_count": null,
   "id": "87655b72",
   "metadata": {},
   "outputs": [],
   "source": [
    "A = np.array([1, 2, 3])\n",
    "B = np.array([4, 5, 6])\n",
    "np.cross(A, B)"
   ]
  },
  {
   "cell_type": "code",
   "execution_count": null,
   "id": "f9110daf",
   "metadata": {},
   "outputs": [],
   "source": [
    "## Square root\n",
    "\n",
    "A = [4, 9, 16, 1, 25]\n",
    "np.sqrt(A)"
   ]
  },
  {
   "cell_type": "code",
   "execution_count": null,
   "id": "03a63397",
   "metadata": {},
   "outputs": [],
   "source": [
    "x = [4+1j, 9+16j]\n",
    "np.sqrt(x)"
   ]
  },
  {
   "cell_type": "code",
   "execution_count": null,
   "id": "6ae68941",
   "metadata": {},
   "outputs": [],
   "source": [
    "y = [-4, 9]\n",
    "np.sqrt(y)"
   ]
  },
  {
   "cell_type": "code",
   "execution_count": null,
   "id": "226ae8c0",
   "metadata": {},
   "outputs": [],
   "source": [
    "## Average\n",
    "\n",
    "a = np.array([1, 2, 3, 4]).reshape(2,2)\n",
    "np.average(a)"
   ]
  },
  {
   "cell_type": "code",
   "execution_count": null,
   "id": "7435cb52",
   "metadata": {},
   "outputs": [],
   "source": [
    "np.average(a, axis=0)"
   ]
  },
  {
   "cell_type": "code",
   "execution_count": null,
   "id": "e89678ac",
   "metadata": {},
   "outputs": [],
   "source": [
    "np.average(a, axis=1)"
   ]
  },
  {
   "cell_type": "markdown",
   "id": "051d918d",
   "metadata": {},
   "source": [
    "Can perform this using \"np.mean\" function too."
   ]
  },
  {
   "cell_type": "code",
   "execution_count": null,
   "id": "dd1957d2",
   "metadata": {},
   "outputs": [],
   "source": [
    "## Mean\n",
    "\n",
    "np.mean(a)"
   ]
  },
  {
   "cell_type": "code",
   "execution_count": null,
   "id": "39392dd9",
   "metadata": {},
   "outputs": [],
   "source": [
    "## Standard Deviation\n",
    "\n",
    "np.std(a)"
   ]
  },
  {
   "cell_type": "code",
   "execution_count": null,
   "id": "2c0a50c7",
   "metadata": {},
   "outputs": [],
   "source": [
    "np.std(a,axis=1)"
   ]
  },
  {
   "cell_type": "code",
   "execution_count": null,
   "id": "052f7cc2",
   "metadata": {},
   "outputs": [],
   "source": [
    "np.percentile(a, 25)"
   ]
  },
  {
   "cell_type": "code",
   "execution_count": null,
   "id": "e7dc4db0",
   "metadata": {},
   "outputs": [],
   "source": [
    "np.median(a)"
   ]
  },
  {
   "cell_type": "code",
   "execution_count": null,
   "id": "2ee8bb9e",
   "metadata": {},
   "outputs": [],
   "source": [
    "np.percentile(a, 75)"
   ]
  },
  {
   "cell_type": "code",
   "execution_count": null,
   "id": "96738a3f",
   "metadata": {},
   "outputs": [],
   "source": [
    "## Converting from array to list\n",
    "\n",
    "a.tolist()"
   ]
  },
  {
   "cell_type": "code",
   "execution_count": null,
   "id": "f6b1822e",
   "metadata": {},
   "outputs": [],
   "source": [
    "## Converting from list to array\n",
    "\n",
    "y=list([1, 2, 3, 4, 5])\n",
    "np.array(y)"
   ]
  },
  {
   "cell_type": "code",
   "execution_count": null,
   "id": "bad1d5db",
   "metadata": {},
   "outputs": [],
   "source": [
    "ar=np.array([[True,True],[False,False]])\n",
    "np.any(ar)"
   ]
  },
  {
   "cell_type": "code",
   "execution_count": null,
   "id": "fcab4434",
   "metadata": {},
   "outputs": [],
   "source": [
    "## Check elements in an array is true\n",
    "\n",
    "ar=np.array([[True,True],[True,True]])\n",
    "np.all(ar)"
   ]
  },
  {
   "cell_type": "code",
   "execution_count": null,
   "id": "58874926",
   "metadata": {},
   "outputs": [],
   "source": [
    "ar = np.array([[True,True],[False,False]])\n",
    "np.all(ar)"
   ]
  },
  {
   "cell_type": "code",
   "execution_count": null,
   "id": "8a3b2747",
   "metadata": {},
   "outputs": [],
   "source": [
    "ar = np.array([[True,True], [True,False], [True,False]])\n",
    "np.all(ar, axis=1)"
   ]
  },
  {
   "cell_type": "code",
   "execution_count": null,
   "id": "acd28385",
   "metadata": {},
   "outputs": [],
   "source": [
    "## Trignometric functions \n",
    "    \n",
    "theta = np.linspace(1, np.pi, 2)\n",
    "print(\"theta = \", theta)\n",
    "print(\"sin(theta) = \", np.sin(theta))\n",
    "print(\"cos(theta) = \", np.cos(theta))\n",
    "print(\"tan(theta) = \", np.tan(theta))"
   ]
  },
  {
   "cell_type": "code",
   "execution_count": null,
   "id": "e4cfeb2a",
   "metadata": {},
   "outputs": [],
   "source": [
    "## Inverse trignometric functions\n",
    "\n",
    "x=[-1,0]\n",
    "print(\"arcsin(x) = \", np.arcsin(x))\n",
    "print(\"arccos(x) = \", np.arccos(x))\n",
    "print(\"arctan(x) = \", np.arctan(x))"
   ]
  },
  {
   "cell_type": "code",
   "execution_count": null,
   "id": "65b1e8b5",
   "metadata": {},
   "outputs": [],
   "source": [
    "## Exponentials\n",
    "\n",
    "x = [1, 3]\n",
    "print(\"e^x =\", np.exp(x))\n",
    "print(\"2^x =\", np.exp2(x))\n",
    "print(\"4^x =\", np.power(4, x))"
   ]
  },
  {
   "cell_type": "code",
   "execution_count": null,
   "id": "c7a5b0fb",
   "metadata": {},
   "outputs": [],
   "source": [
    "## Logarithms\n",
    "\n",
    "x = [1, 2, 3]\n",
    "print(\"ln(x) =\", np.log(x))\n",
    "print(\"log2(x) =\", np.log2(x))\n",
    "print(\"log10(x) =\", np.log10(x))"
   ]
  },
  {
   "cell_type": "code",
   "execution_count": null,
   "id": "112911c4",
   "metadata": {},
   "outputs": [],
   "source": [
    "## More precision for small inputs\n",
    "\n",
    "x = [0.001, 0.01]\n",
    "print(\"exp(x) - 1 =\", np.expm1(x))\n",
    "print(\"log(1 + x) =\", np.log1p(x))"
   ]
  }
 ],
 "metadata": {
  "jupytext": {
   "formats": "ipynb,md:myst",
   "text_representation": {
    "extension": ".md",
    "format_name": "myst",
    "format_version": 0.13,
    "jupytext_version": "1.10.3"
   }
  },
  "kernelspec": {
   "display_name": "Python 3 (ipykernel)",
   "language": "python",
   "name": "python3"
  },
  "source_map": [
   13,
   29,
   37,
   43,
   50,
   56,
   62,
   68,
   74,
   80,
   85,
   92,
   100,
   107,
   112,
   119,
   123,
   127,
   131,
   137,
   141,
   146,
   151,
   156,
   161,
   166,
   175,
   179,
   181,
   185,
   192,
   198,
   204,
   212,
   216,
   220,
   224,
   228,
   232,
   238,
   244,
   251,
   258,
   264,
   270,
   276,
   280,
   284,
   291,
   298,
   302,
   306,
   310,
   314,
   321,
   328,
   332,
   336,
   341,
   345,
   352,
   356,
   361,
   365,
   369,
   374,
   379,
   386,
   392,
   396,
   402,
   406,
   412,
   416,
   424,
   430,
   434,
   440,
   447,
   455,
   461,
   467,
   475,
   481,
   488,
   493,
   498,
   505,
   509,
   511,
   515,
   521,
   527,
   531,
   535,
   539,
   543,
   549,
   556,
   561,
   568,
   573,
   578,
   588,
   597,
   606,
   615
  ]
 },
 "nbformat": 4,
 "nbformat_minor": 5
}