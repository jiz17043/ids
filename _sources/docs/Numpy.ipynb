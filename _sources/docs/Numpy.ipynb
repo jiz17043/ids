{
 "cells": [
  {
   "cell_type": "markdown",
   "id": "c69a0730",
   "metadata": {},
   "source": [
    "# Numpy\n",
    "\n",
    "By default Python does not have a concept of Arrays. And there is no inbuilt support for multidimensional arrays.\n",
    "\n",
    "Python Numpy is a library that handles multidimensional arrays with ease. It has a great collection of functions that makes it easy while working with arrays.\n",
    "\n",
    "It provides a multidimensional array object, and an assortment of routines for fast operations on arrays, including mathematical, logical, shape manipulation, sorting, selecting, I/O, discrete Fourier transforms, basic linear algebra, basic statistical operations, random simulation and much more.\n",
    "\n",
    "NumPy gives you an enormous range of fast and efficient ways of creating arrays and manipulating numerical data inside them. While a Python list can contain different data types within a single list, all of the elements in a NumPy array should be homogeneous. The mathematical operations that are meant to be performed on arrays would be extremely inefficient if the arrays weren’t homogeneous.\n",
    "\n",
    "NumPy arrays are faster and more compact than Python lists. An array consumes less memory and is convenient to use. NumPy uses much less memory to store data and it provides a mechanism of specifying the data types. \n",
    "\n",
    "The NumPy API is used extensively in **Pandas, SciPy, Matplotlib, scikit-learn, scikit-image** and most other data science and scientific Python packages."
   ]
  },
  {
   "cell_type": "markdown",
   "id": "48292c4d",
   "metadata": {},
   "source": [
    "## Array\n",
    "\n",
    "An array is a grid of values and it contains information about the raw data, how to locate an element, and how to interpret an element. \n",
    "\n",
    "The rank of the array is the number of dimensions. The shape of the array is a tuple of integers giving the size of the array along each dimension."
   ]
  },
  {
   "cell_type": "code",
   "execution_count": null,
   "id": "b057afc8",
   "metadata": {},
   "outputs": [],
   "source": [
    "## Import the Numpy package\n",
    "\n",
    "import numpy as np"
   ]
  },
  {
   "cell_type": "code",
   "execution_count": null,
   "id": "1657a1ff",
   "metadata": {},
   "outputs": [],
   "source": [
    "## Create Array\n",
    "\n",
    "x = np.array([2,4,6,8])\n",
    "x"
   ]
  },
  {
   "cell_type": "code",
   "execution_count": null,
   "id": "431402a4",
   "metadata": {},
   "outputs": [],
   "source": [
    "## Creating Zeroes\n",
    "\n",
    "np.zeros(3)"
   ]
  },
  {
   "cell_type": "code",
   "execution_count": null,
   "id": "7084b0f3",
   "metadata": {},
   "outputs": [],
   "source": [
    "## Creating ones\n",
    "\n",
    "np.ones(5)"
   ]
  },
  {
   "cell_type": "code",
   "execution_count": null,
   "id": "b235b2d1",
   "metadata": {},
   "outputs": [],
   "source": [
    "## Creating first 5 integers\n",
    "\n",
    "np.arange(5)"
   ]
  },
  {
   "cell_type": "code",
   "execution_count": null,
   "id": "80b23ec7",
   "metadata": {},
   "outputs": [],
   "source": [
    "## Creating integers based in an interval with spacing\n",
    "\n",
    "np.arange(1, 10, 3)"
   ]
  },
  {
   "cell_type": "code",
   "execution_count": null,
   "id": "4b5b9791",
   "metadata": {},
   "outputs": [],
   "source": [
    "## Creating an Array in a linearspace\n",
    "\n",
    "np.linspace(0, 5, num=3)"
   ]
  },
  {
   "cell_type": "code",
   "execution_count": null,
   "id": "e87567cb",
   "metadata": {},
   "outputs": [],
   "source": [
    "## Creating an identity matrix\n",
    "np.eye(5)"
   ]
  },
  {
   "cell_type": "code",
   "execution_count": null,
   "id": "0c00761c",
   "metadata": {},
   "outputs": [],
   "source": [
    "## Sort the array\n",
    "\n",
    "ar = np.array([7,9,2,6])\n",
    "np.sort(ar)"
   ]
  },
  {
   "cell_type": "code",
   "execution_count": null,
   "id": "609f5c01",
   "metadata": {},
   "outputs": [],
   "source": [
    "## Merge arrays\n",
    "\n",
    "x=np.array([2,4,6])\n",
    "y=np.array([8,10,11])\n",
    "np.concatenate((x,y))"
   ]
  },
  {
   "cell_type": "code",
   "execution_count": null,
   "id": "21323320",
   "metadata": {},
   "outputs": [],
   "source": [
    "## Reshaping an array\n",
    "\n",
    "a = np.arange(4)\n",
    "print(a)"
   ]
  },
  {
   "cell_type": "code",
   "execution_count": null,
   "id": "9e00219d",
   "metadata": {},
   "outputs": [],
   "source": [
    "b = a.reshape(2, 2)\n",
    "print(b)"
   ]
  },
  {
   "cell_type": "code",
   "execution_count": null,
   "id": "47d1baf2",
   "metadata": {},
   "outputs": [],
   "source": [
    "## Indexing and Slicing\n",
    "\n",
    "data = np.array([1, 5, 9, 2])\n",
    "data[1]"
   ]
  },
  {
   "cell_type": "code",
   "execution_count": null,
   "id": "92ec850b",
   "metadata": {},
   "outputs": [],
   "source": [
    "data[0:2]"
   ]
  },
  {
   "cell_type": "code",
   "execution_count": null,
   "id": "f7628bec",
   "metadata": {},
   "outputs": [],
   "source": [
    "data[1:]"
   ]
  },
  {
   "cell_type": "code",
   "execution_count": null,
   "id": "cc7c03a8",
   "metadata": {},
   "outputs": [],
   "source": [
    "data[::2]"
   ]
  },
  {
   "cell_type": "code",
   "execution_count": null,
   "id": "b7c74c8d",
   "metadata": {},
   "outputs": [],
   "source": [
    "## Reverse elements in an array\n",
    "\n",
    "data[::-1] "
   ]
  },
  {
   "cell_type": "code",
   "execution_count": null,
   "id": "fbb61e21",
   "metadata": {},
   "outputs": [],
   "source": [
    "data[2::-1]"
   ]
  },
  {
   "cell_type": "code",
   "execution_count": null,
   "id": "cdef3003",
   "metadata": {},
   "outputs": [],
   "source": [
    "a = np.array([[2, 4], [6, 8], [10, 12]])\n",
    "print(a[a < 8])"
   ]
  },
  {
   "cell_type": "code",
   "execution_count": null,
   "id": "dbe043ec",
   "metadata": {},
   "outputs": [],
   "source": [
    "greater = (a >= 6)\n",
    "print(a[greater])"
   ]
  },
  {
   "cell_type": "code",
   "execution_count": null,
   "id": "c8d81ace",
   "metadata": {},
   "outputs": [],
   "source": [
    "divisible_by_4 = a[a%4==0]\n",
    "print(divisible_by_4)"
   ]
  },
  {
   "cell_type": "code",
   "execution_count": null,
   "id": "2585f9a6",
   "metadata": {},
   "outputs": [],
   "source": [
    "range = a[(a > 2) & (a < 12)]\n",
    "print(range)"
   ]
  },
  {
   "cell_type": "code",
   "execution_count": null,
   "id": "15a3211b",
   "metadata": {},
   "outputs": [],
   "source": [
    "up = (a > 6) | (a == 6)\n",
    "print(a[up])"
   ]
  },
  {
   "cell_type": "code",
   "execution_count": null,
   "id": "931a1959",
   "metadata": {},
   "outputs": [],
   "source": [
    "#Stack Arrays\n",
    "a1 = np.array([[1, 2],\n",
    "               [3, 4]])\n",
    "\n",
    "a2 = np.array([[5, 6],\n",
    "               [7, 8]])\n",
    "\n",
    "np.vstack((a1, a2))"
   ]
  },
  {
   "cell_type": "markdown",
   "id": "fb0cb691",
   "metadata": {},
   "source": [
    "Similar to function \"rbind\" in r."
   ]
  },
  {
   "cell_type": "code",
   "execution_count": null,
   "id": "4d5cc282",
   "metadata": {},
   "outputs": [],
   "source": [
    "np.hstack((a1, a2))"
   ]
  },
  {
   "cell_type": "markdown",
   "id": "4164d648",
   "metadata": {},
   "source": [
    "Similar to function \"cbind\" in r."
   ]
  },
  {
   "cell_type": "code",
   "execution_count": null,
   "id": "3da8d7f3",
   "metadata": {},
   "outputs": [],
   "source": [
    "## Split Arrays\n",
    "\n",
    "x = np.arange(4).reshape((2, 2))\n",
    "x"
   ]
  },
  {
   "cell_type": "code",
   "execution_count": null,
   "id": "abdcccd5",
   "metadata": {},
   "outputs": [],
   "source": [
    "x1, x2 = np.vsplit(x, [1])\n",
    "print(x1)\n",
    "print(x2)"
   ]
  },
  {
   "cell_type": "code",
   "execution_count": null,
   "id": "07dbca88",
   "metadata": {},
   "outputs": [],
   "source": [
    "x1, x2 = np.hsplit(x, [1])\n",
    "print(x1)\n",
    "print(x2)"
   ]
  },
  {
   "cell_type": "code",
   "execution_count": null,
   "id": "6b601d45",
   "metadata": {},
   "outputs": [],
   "source": [
    "## Array functions\n",
    "\n",
    "data = np.array([2, 4])\n",
    "ones = np.ones(2, dtype=int)\n",
    "data + ones"
   ]
  },
  {
   "cell_type": "code",
   "execution_count": null,
   "id": "06c2e8ea",
   "metadata": {},
   "outputs": [],
   "source": [
    "data - ones"
   ]
  },
  {
   "cell_type": "code",
   "execution_count": null,
   "id": "e8a37f0a",
   "metadata": {},
   "outputs": [],
   "source": [
    "data * data"
   ]
  },
  {
   "cell_type": "code",
   "execution_count": null,
   "id": "81b61250",
   "metadata": {},
   "outputs": [],
   "source": [
    "data / 3"
   ]
  },
  {
   "cell_type": "code",
   "execution_count": null,
   "id": "0a4c96d0",
   "metadata": {},
   "outputs": [],
   "source": [
    "data//3"
   ]
  },
  {
   "cell_type": "code",
   "execution_count": null,
   "id": "48f0080c",
   "metadata": {},
   "outputs": [],
   "source": [
    "print(\"-data = \", -data)"
   ]
  },
  {
   "cell_type": "code",
   "execution_count": null,
   "id": "c6039197",
   "metadata": {},
   "outputs": [],
   "source": [
    "## Power\n",
    "\n",
    "print(\"data ** 2 = \", data ** 2)"
   ]
  },
  {
   "cell_type": "code",
   "execution_count": null,
   "id": "16881c60",
   "metadata": {},
   "outputs": [],
   "source": [
    "## Modulus\n",
    "\n",
    "print(\"data % 4 = \", data % 4)"
   ]
  },
  {
   "cell_type": "code",
   "execution_count": null,
   "id": "32ae15dd",
   "metadata": {},
   "outputs": [],
   "source": [
    "## Summing an Array\n",
    "\n",
    "a = np.array([2, 2, 2, 4])\n",
    "a.sum()"
   ]
  },
  {
   "cell_type": "code",
   "execution_count": null,
   "id": "b12b8578",
   "metadata": {},
   "outputs": [],
   "source": [
    "## Summing over rows\n",
    "\n",
    "b = np.array([[0, 1], [2, 3]])\n",
    "b.sum(axis=0)"
   ]
  },
  {
   "cell_type": "code",
   "execution_count": null,
   "id": "3ce7849a",
   "metadata": {},
   "outputs": [],
   "source": [
    "## Summing over Columns\n",
    "\n",
    "b.sum(axis=1)"
   ]
  },
  {
   "cell_type": "code",
   "execution_count": null,
   "id": "b1a0ee97",
   "metadata": {},
   "outputs": [],
   "source": [
    "## Minimum \n",
    "\n",
    "b.min()"
   ]
  },
  {
   "cell_type": "code",
   "execution_count": null,
   "id": "798477b4",
   "metadata": {},
   "outputs": [],
   "source": [
    "## Maximum\n",
    "\n",
    "b.max()"
   ]
  },
  {
   "cell_type": "code",
   "execution_count": null,
   "id": "87bb2ba2",
   "metadata": {},
   "outputs": [],
   "source": [
    "b.max(axis=0)"
   ]
  },
  {
   "cell_type": "code",
   "execution_count": null,
   "id": "bed4460f",
   "metadata": {},
   "outputs": [],
   "source": [
    "b.max(axis=1)"
   ]
  },
  {
   "cell_type": "code",
   "execution_count": null,
   "id": "2d68b531",
   "metadata": {},
   "outputs": [],
   "source": [
    "## Absolute Values\n",
    "\n",
    "x = np.array([-2, -1, 0, 3, -4])\n",
    "np.absolute(x)"
   ]
  },
  {
   "cell_type": "code",
   "execution_count": null,
   "id": "1a18e961",
   "metadata": {},
   "outputs": [],
   "source": [
    "## Aggregates\n",
    "\n",
    "x = np.arange(1, 5)\n",
    "np.add.reduce(x)"
   ]
  },
  {
   "cell_type": "code",
   "execution_count": null,
   "id": "40f27b2e",
   "metadata": {},
   "outputs": [],
   "source": [
    "np.multiply.reduce(x)"
   ]
  },
  {
   "cell_type": "code",
   "execution_count": null,
   "id": "d0d765c3",
   "metadata": {},
   "outputs": [],
   "source": [
    "np.add.accumulate(x)"
   ]
  },
  {
   "cell_type": "code",
   "execution_count": null,
   "id": "bac222a6",
   "metadata": {},
   "outputs": [],
   "source": [
    "np.multiply.accumulate(x)"
   ]
  },
  {
   "cell_type": "code",
   "execution_count": null,
   "id": "9bbd3bd3",
   "metadata": {},
   "outputs": [],
   "source": [
    "np.multiply.outer(x, x)"
   ]
  },
  {
   "cell_type": "code",
   "execution_count": null,
   "id": "90b6029b",
   "metadata": {},
   "outputs": [],
   "source": [
    "## Random number generation\n",
    "\n",
    "rng = np.random\n",
    "rng.random(3)"
   ]
  },
  {
   "cell_type": "code",
   "execution_count": null,
   "id": "7e9b2d0d",
   "metadata": {},
   "outputs": [],
   "source": [
    "## Pulling unique values\n",
    "\n",
    "a = np.array([1, 1, 2, 3, 4, 5, 2, 3, 1, 4, 8, 9])\n",
    "np.unique(a)"
   ]
  },
  {
   "cell_type": "code",
   "execution_count": null,
   "id": "300a8329",
   "metadata": {},
   "outputs": [],
   "source": [
    "np.unique(a, return_index=True)"
   ]
  },
  {
   "cell_type": "code",
   "execution_count": null,
   "id": "15205611",
   "metadata": {},
   "outputs": [],
   "source": [
    "np.unique(a, return_counts=True)"
   ]
  },
  {
   "cell_type": "code",
   "execution_count": null,
   "id": "34d57ada",
   "metadata": {},
   "outputs": [],
   "source": [
    "## Transpose of a matrix\n",
    "b"
   ]
  },
  {
   "cell_type": "code",
   "execution_count": null,
   "id": "2a79185d",
   "metadata": {},
   "outputs": [],
   "source": [
    "np.transpose(b)"
   ]
  },
  {
   "cell_type": "code",
   "execution_count": null,
   "id": "68b319ae",
   "metadata": {},
   "outputs": [],
   "source": [
    "## Flip array\n",
    "\n",
    "x=np.arange(6)\n",
    "x"
   ]
  },
  {
   "cell_type": "code",
   "execution_count": null,
   "id": "2ccb5f25",
   "metadata": {},
   "outputs": [],
   "source": [
    "np.flip(x)"
   ]
  },
  {
   "cell_type": "code",
   "execution_count": null,
   "id": "68185314",
   "metadata": {},
   "outputs": [],
   "source": [
    "y=np.array([[1, 2, 3, 4], [5, 6, 7, 8], [9, 10, 11, 12]])\n",
    "np.flip(y)"
   ]
  },
  {
   "cell_type": "code",
   "execution_count": null,
   "id": "a7b610b1",
   "metadata": {},
   "outputs": [],
   "source": [
    "np.flip(y, axis=0)"
   ]
  },
  {
   "cell_type": "code",
   "execution_count": null,
   "id": "88125d10",
   "metadata": {},
   "outputs": [],
   "source": [
    "np.flip(y, axis=1)"
   ]
  },
  {
   "cell_type": "code",
   "execution_count": null,
   "id": "82f7106e",
   "metadata": {},
   "outputs": [],
   "source": [
    "y[1]=np.flip(y[1])\n",
    "print(y)"
   ]
  },
  {
   "cell_type": "code",
   "execution_count": null,
   "id": "e134a820",
   "metadata": {},
   "outputs": [],
   "source": [
    "y[:,1] = np.flip(y[:,1])\n",
    "print(y)"
   ]
  },
  {
   "cell_type": "code",
   "execution_count": null,
   "id": "09d3e513",
   "metadata": {},
   "outputs": [],
   "source": [
    "## Flattening an multidimensional array\n",
    "\n",
    "y=np.array([[1, 2, 3, 4], [5, 6, 7, 8], [9, 10, 11, 12]])\n",
    "y.flatten()"
   ]
  },
  {
   "cell_type": "code",
   "execution_count": null,
   "id": "34d661b4",
   "metadata": {},
   "outputs": [],
   "source": [
    "y1 = y.flatten()\n",
    "y1[0] = 99\n",
    "print(y) "
   ]
  },
  {
   "cell_type": "code",
   "execution_count": null,
   "id": "7d62d863",
   "metadata": {},
   "outputs": [],
   "source": [
    "print(y1)"
   ]
  },
  {
   "cell_type": "code",
   "execution_count": null,
   "id": "83061dd3",
   "metadata": {},
   "outputs": [],
   "source": [
    "y1 = y.ravel()\n",
    "y1[0] = 99\n",
    "print(y) "
   ]
  },
  {
   "cell_type": "code",
   "execution_count": null,
   "id": "64d3ebc7",
   "metadata": {},
   "outputs": [],
   "source": [
    "print(y1)"
   ]
  },
  {
   "cell_type": "code",
   "execution_count": null,
   "id": "0a3388d3",
   "metadata": {},
   "outputs": [],
   "source": [
    "## Save and Load\n",
    "\n",
    "np.save('data', y1)"
   ]
  },
  {
   "cell_type": "code",
   "execution_count": null,
   "id": "3a571812",
   "metadata": {},
   "outputs": [],
   "source": [
    "np.load('data.npy')"
   ]
  },
  {
   "cell_type": "code",
   "execution_count": null,
   "id": "5bf8ce54",
   "metadata": {},
   "outputs": [],
   "source": [
    "#Deleting the created file\n",
    "\n",
    "import os\n",
    "\n",
    "os.remove('data.npy')"
   ]
  },
  {
   "cell_type": "code",
   "execution_count": null,
   "id": "d163cc12",
   "metadata": {},
   "outputs": [],
   "source": [
    "## Save as csv\n",
    "\n",
    "np.savetxt('new_data.csv', y1)"
   ]
  },
  {
   "cell_type": "code",
   "execution_count": null,
   "id": "f408bee1",
   "metadata": {},
   "outputs": [],
   "source": [
    "np.loadtxt('new_data.csv')"
   ]
  },
  {
   "cell_type": "code",
   "execution_count": null,
   "id": "fe467d3a",
   "metadata": {},
   "outputs": [],
   "source": [
    "#Deleting the created file\n",
    "\n",
    "os.remove('new_data.csv')"
   ]
  },
  {
   "cell_type": "code",
   "execution_count": null,
   "id": "6b04c48b",
   "metadata": {},
   "outputs": [],
   "source": [
    "## Copy array\n",
    "\n",
    "y2=y1.copy()\n",
    "y2"
   ]
  },
  {
   "cell_type": "code",
   "execution_count": null,
   "id": "a0acce9b",
   "metadata": {},
   "outputs": [],
   "source": [
    "## Dot product\n",
    "\n",
    "a = 2\n",
    "b = 6\n",
    "np.dot(a,b)"
   ]
  },
  {
   "cell_type": "code",
   "execution_count": null,
   "id": "7fdfcb23",
   "metadata": {},
   "outputs": [],
   "source": [
    "A = np.array([1, 2, 3, 4])\n",
    "B = np.array([5, 6, 7, 8])\n",
    "np.dot(A, B)"
   ]
  },
  {
   "cell_type": "code",
   "execution_count": null,
   "id": "1adad41a",
   "metadata": {},
   "outputs": [],
   "source": [
    "A = np.array([[1, 2], [3, 4]])\n",
    "B = np.array([[5, 6], [7, 8]])\n",
    "np.dot(A, B)"
   ]
  },
  {
   "cell_type": "code",
   "execution_count": null,
   "id": "f71b2fb9",
   "metadata": {},
   "outputs": [],
   "source": [
    "## Cross product\n",
    "\n",
    "A = np.array([1, 2])\n",
    "B = np.array([3, 4])\n",
    "np.cross(A, B)"
   ]
  },
  {
   "cell_type": "code",
   "execution_count": null,
   "id": "af0fb353",
   "metadata": {},
   "outputs": [],
   "source": [
    "A = np.array([1, 2, 3])\n",
    "B = np.array([4, 5, 6])\n",
    "np.cross(A, B)"
   ]
  },
  {
   "cell_type": "code",
   "execution_count": null,
   "id": "f2a20e38",
   "metadata": {},
   "outputs": [],
   "source": [
    "## Square root\n",
    "\n",
    "A = [4, 9, 16, 1, 25]\n",
    "np.sqrt(A)"
   ]
  },
  {
   "cell_type": "code",
   "execution_count": null,
   "id": "99c1e3ad",
   "metadata": {},
   "outputs": [],
   "source": [
    "x = [4+1j, 9+16j]\n",
    "np.sqrt(x)"
   ]
  },
  {
   "cell_type": "code",
   "execution_count": null,
   "id": "f9b722f8",
   "metadata": {},
   "outputs": [],
   "source": [
    "y = [-4, 9]\n",
    "np.sqrt(y)"
   ]
  },
  {
   "cell_type": "code",
   "execution_count": null,
   "id": "60dde078",
   "metadata": {},
   "outputs": [],
   "source": [
    "## Average\n",
    "\n",
    "a = np.array([1, 2, 3, 4]).reshape(2,2)\n",
    "np.average(a)"
   ]
  },
  {
   "cell_type": "code",
   "execution_count": null,
   "id": "89cb3070",
   "metadata": {},
   "outputs": [],
   "source": [
    "np.average(a, axis=0)"
   ]
  },
  {
   "cell_type": "code",
   "execution_count": null,
   "id": "78fc86d0",
   "metadata": {},
   "outputs": [],
   "source": [
    "np.average(a, axis=1)"
   ]
  },
  {
   "cell_type": "markdown",
   "id": "d0ffe0c5",
   "metadata": {},
   "source": [
    "Can perform this using \"np.mean\" function too."
   ]
  },
  {
   "cell_type": "code",
   "execution_count": null,
   "id": "d6da13d9",
   "metadata": {},
   "outputs": [],
   "source": [
    "## Mean\n",
    "\n",
    "np.mean(a)"
   ]
  },
  {
   "cell_type": "code",
   "execution_count": null,
   "id": "aef878ac",
   "metadata": {},
   "outputs": [],
   "source": [
    "## Standard Deviation\n",
    "\n",
    "np.std(a)"
   ]
  },
  {
   "cell_type": "code",
   "execution_count": null,
   "id": "520a7f09",
   "metadata": {},
   "outputs": [],
   "source": [
    "np.std(a,axis=1)"
   ]
  },
  {
   "cell_type": "code",
   "execution_count": null,
   "id": "4a5afd60",
   "metadata": {},
   "outputs": [],
   "source": [
    "np.percentile(a, 25)"
   ]
  },
  {
   "cell_type": "code",
   "execution_count": null,
   "id": "19406772",
   "metadata": {},
   "outputs": [],
   "source": [
    "np.median(a)"
   ]
  },
  {
   "cell_type": "code",
   "execution_count": null,
   "id": "ddcce40c",
   "metadata": {},
   "outputs": [],
   "source": [
    "np.percentile(a, 75)"
   ]
  },
  {
   "cell_type": "code",
   "execution_count": null,
   "id": "2c6ad81a",
   "metadata": {},
   "outputs": [],
   "source": [
    "## Converting from array to list\n",
    "\n",
    "a.tolist()"
   ]
  },
  {
   "cell_type": "code",
   "execution_count": null,
   "id": "0d6ba49b",
   "metadata": {},
   "outputs": [],
   "source": [
    "## Converting from list to array\n",
    "\n",
    "y=list([1, 2, 3, 4, 5])\n",
    "np.array(y)"
   ]
  },
  {
   "cell_type": "code",
   "execution_count": null,
   "id": "b4d6d3a4",
   "metadata": {},
   "outputs": [],
   "source": [
    "ar=np.array([[True,True],[False,False]])\n",
    "np.any(ar)"
   ]
  },
  {
   "cell_type": "code",
   "execution_count": null,
   "id": "c783f5fb",
   "metadata": {},
   "outputs": [],
   "source": [
    "## Check elements in an array is true\n",
    "\n",
    "ar=np.array([[True,True],[True,True]])\n",
    "np.all(ar)"
   ]
  },
  {
   "cell_type": "code",
   "execution_count": null,
   "id": "11d9d69e",
   "metadata": {},
   "outputs": [],
   "source": [
    "ar = np.array([[True,True],[False,False]])\n",
    "np.all(ar)"
   ]
  },
  {
   "cell_type": "code",
   "execution_count": null,
   "id": "5ea1de52",
   "metadata": {},
   "outputs": [],
   "source": [
    "ar = np.array([[True,True], [True,False], [True,False]])\n",
    "np.all(ar, axis=1)"
   ]
  },
  {
   "cell_type": "code",
   "execution_count": null,
   "id": "ae623652",
   "metadata": {},
   "outputs": [],
   "source": [
    "## Trignometric functions \n",
    "    \n",
    "theta = np.linspace(1, np.pi, 2)\n",
    "print(\"theta = \", theta)\n",
    "print(\"sin(theta) = \", np.sin(theta))\n",
    "print(\"cos(theta) = \", np.cos(theta))\n",
    "print(\"tan(theta) = \", np.tan(theta))"
   ]
  },
  {
   "cell_type": "code",
   "execution_count": null,
   "id": "5fc57e9b",
   "metadata": {},
   "outputs": [],
   "source": [
    "## Inverse trignometric functions\n",
    "\n",
    "x=[-1,0]\n",
    "print(\"arcsin(x) = \", np.arcsin(x))\n",
    "print(\"arccos(x) = \", np.arccos(x))\n",
    "print(\"arctan(x) = \", np.arctan(x))"
   ]
  },
  {
   "cell_type": "code",
   "execution_count": null,
   "id": "0390c209",
   "metadata": {},
   "outputs": [],
   "source": [
    "## Exponentials\n",
    "\n",
    "x = [1, 3]\n",
    "print(\"e^x =\", np.exp(x))\n",
    "print(\"2^x =\", np.exp2(x))\n",
    "print(\"4^x =\", np.power(4, x))"
   ]
  },
  {
   "cell_type": "code",
   "execution_count": null,
   "id": "b41000c3",
   "metadata": {},
   "outputs": [],
   "source": [
    "## Logarithms\n",
    "\n",
    "x = [1, 2, 3]\n",
    "print(\"ln(x) =\", np.log(x))\n",
    "print(\"log2(x) =\", np.log2(x))\n",
    "print(\"log10(x) =\", np.log10(x))"
   ]
  },
  {
   "cell_type": "code",
   "execution_count": null,
   "id": "0ef41f9b",
   "metadata": {},
   "outputs": [],
   "source": [
    "## More precision for small inputs\n",
    "\n",
    "x = [0.001, 0.01]\n",
    "print(\"exp(x) - 1 =\", np.expm1(x))\n",
    "print(\"log(1 + x) =\", np.log1p(x))"
   ]
  }
 ],
 "metadata": {
  "jupytext": {
   "formats": "ipynb,md:myst",
   "text_representation": {
    "extension": ".md",
    "format_name": "myst",
    "format_version": 0.13,
    "jupytext_version": "1.10.3"
   }
  },
  "kernelspec": {
   "display_name": "Python 3 (ipykernel)",
   "language": "python",
   "name": "python3"
  },
  "source_map": [
   13,
   29,
   37,
   43,
   50,
   56,
   62,
   68,
   74,
   80,
   85,
   92,
   100,
   107,
   112,
   119,
   123,
   127,
   131,
   137,
   141,
   146,
   151,
   156,
   161,
   166,
   175,
   179,
   181,
   185,
   192,
   198,
   204,
   212,
   216,
   220,
   224,
   228,
   232,
   238,
   244,
   251,
   258,
   264,
   270,
   276,
   280,
   284,
   291,
   298,
   302,
   306,
   310,
   314,
   321,
   328,
   332,
   336,
   341,
   345,
   352,
   356,
   361,
   365,
   369,
   374,
   379,
   386,
   392,
   396,
   402,
   406,
   412,
   416,
   424,
   430,
   434,
   440,
   447,
   455,
   461,
   467,
   475,
   481,
   488,
   493,
   498,
   505,
   509,
   511,
   515,
   521,
   527,
   531,
   535,
   539,
   543,
   549,
   556,
   561,
   568,
   573,
   578,
   588,
   597,
   606,
   615
  ]
 },
 "nbformat": 4,
 "nbformat_minor": 5
}